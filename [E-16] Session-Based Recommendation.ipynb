{
 "cells": [
  {
   "cell_type": "markdown",
   "id": "893de682",
   "metadata": {},
   "source": [
    "## 세션 기반 추천시스템: 다음에 볼 영화 예측\n",
    "\n",
    "### 학습 목표\n",
    "- 세션 데이터를 기반으로 유저가 다음에 클릭 또는 구매할 아이템을 예측하는 Session-Based Recommendation과 그 구현 과정을 이해한다.\n",
    "\n",
    "### 루브릭 \n",
    "- Movielens 데이터셋을 session based recommendation 관점으로 전처리하는 과정이 체계적으로 진행되었다. : **데이터셋의 면밀한 분석을 토대로 세션단위 정의 과정(길이분석, 시간분석)을 합리적으로 수행한 과정이 기술되었다.**\n",
    "- RNN 기반의 예측 모델이 정상적으로 구성되어 안정적으로 훈련이 진행되었다. : **적절한 epoch만큼의 학습이 진행되는 과정에서 train loss가 안정적으로 감소하고, validation 단계에서의 Recall, MRR이 개선되는 것이 확인된다.**\n",
    "- 세션정의, 모델구조, 하이퍼파라미터 등을 변경해서 실험하여 Recall, MRR 등의 변화추이를 관찰하였다. : **3가지 이상의 변화를 시도하고 그 실험결과를 체계적으로 분석하였다.**"
   ]
  },
  {
   "cell_type": "markdown",
   "id": "02d58119",
   "metadata": {},
   "source": [
    "## 목차\n",
    "### 1. 데이터 준비 및 전처리\n",
    "#### 1) Session length 분석\n",
    "#### 2) Session time, cleansing\n",
    "#### 3) 미니 배치 구성\n",
    "### 2. 모델 구성 및 테스트\n",
    "#### 1) 시간 전처리만 실행\n",
    "#### 2) Item len 제한\n",
    "#### 3) Session 정의 변경\n",
    "#### 4) 모델 파라미터 변경\n",
    "---"
   ]
  },
  {
   "cell_type": "markdown",
   "id": "268877fe",
   "metadata": {},
   "source": [
    "## 1. 데이터 준비 및 전처리"
   ]
  },
  {
   "cell_type": "code",
   "execution_count": 2,
   "id": "711fdd9b",
   "metadata": {},
   "outputs": [],
   "source": [
    "from pathlib import Path\n",
    "import os\n",
    "\n",
    "import numpy as np\n",
    "import pandas as pd\n",
    "import warnings\n",
    "warnings.filterwarnings('ignore')"
   ]
  },
  {
   "cell_type": "code",
   "execution_count": 3,
   "id": "eff49ae7",
   "metadata": {},
   "outputs": [
    {
     "data": {
      "text/html": [
       "<div>\n",
       "<style scoped>\n",
       "    .dataframe tbody tr th:only-of-type {\n",
       "        vertical-align: middle;\n",
       "    }\n",
       "\n",
       "    .dataframe tbody tr th {\n",
       "        vertical-align: top;\n",
       "    }\n",
       "\n",
       "    .dataframe thead th {\n",
       "        text-align: right;\n",
       "    }\n",
       "</style>\n",
       "<table border=\"1\" class=\"dataframe\">\n",
       "  <thead>\n",
       "    <tr style=\"text-align: right;\">\n",
       "      <th></th>\n",
       "      <th>UserId</th>\n",
       "      <th>ItemId</th>\n",
       "      <th>Rating</th>\n",
       "      <th>Time</th>\n",
       "    </tr>\n",
       "  </thead>\n",
       "  <tbody>\n",
       "    <tr>\n",
       "      <th>31</th>\n",
       "      <td>1</td>\n",
       "      <td>3186</td>\n",
       "      <td>4</td>\n",
       "      <td>978300019</td>\n",
       "    </tr>\n",
       "    <tr>\n",
       "      <th>22</th>\n",
       "      <td>1</td>\n",
       "      <td>1270</td>\n",
       "      <td>5</td>\n",
       "      <td>978300055</td>\n",
       "    </tr>\n",
       "    <tr>\n",
       "      <th>27</th>\n",
       "      <td>1</td>\n",
       "      <td>1721</td>\n",
       "      <td>4</td>\n",
       "      <td>978300055</td>\n",
       "    </tr>\n",
       "    <tr>\n",
       "      <th>37</th>\n",
       "      <td>1</td>\n",
       "      <td>1022</td>\n",
       "      <td>5</td>\n",
       "      <td>978300055</td>\n",
       "    </tr>\n",
       "    <tr>\n",
       "      <th>24</th>\n",
       "      <td>1</td>\n",
       "      <td>2340</td>\n",
       "      <td>3</td>\n",
       "      <td>978300103</td>\n",
       "    </tr>\n",
       "    <tr>\n",
       "      <th>...</th>\n",
       "      <td>...</td>\n",
       "      <td>...</td>\n",
       "      <td>...</td>\n",
       "      <td>...</td>\n",
       "    </tr>\n",
       "    <tr>\n",
       "      <th>1000019</th>\n",
       "      <td>6040</td>\n",
       "      <td>2917</td>\n",
       "      <td>4</td>\n",
       "      <td>997454429</td>\n",
       "    </tr>\n",
       "    <tr>\n",
       "      <th>999988</th>\n",
       "      <td>6040</td>\n",
       "      <td>1921</td>\n",
       "      <td>4</td>\n",
       "      <td>997454464</td>\n",
       "    </tr>\n",
       "    <tr>\n",
       "      <th>1000172</th>\n",
       "      <td>6040</td>\n",
       "      <td>1784</td>\n",
       "      <td>3</td>\n",
       "      <td>997454464</td>\n",
       "    </tr>\n",
       "    <tr>\n",
       "      <th>1000167</th>\n",
       "      <td>6040</td>\n",
       "      <td>161</td>\n",
       "      <td>3</td>\n",
       "      <td>997454486</td>\n",
       "    </tr>\n",
       "    <tr>\n",
       "      <th>1000042</th>\n",
       "      <td>6040</td>\n",
       "      <td>1221</td>\n",
       "      <td>4</td>\n",
       "      <td>998315055</td>\n",
       "    </tr>\n",
       "  </tbody>\n",
       "</table>\n",
       "<p>1000209 rows × 4 columns</p>\n",
       "</div>"
      ],
      "text/plain": [
       "         UserId  ItemId  Rating       Time\n",
       "31            1    3186       4  978300019\n",
       "22            1    1270       5  978300055\n",
       "27            1    1721       4  978300055\n",
       "37            1    1022       5  978300055\n",
       "24            1    2340       3  978300103\n",
       "...         ...     ...     ...        ...\n",
       "1000019    6040    2917       4  997454429\n",
       "999988     6040    1921       4  997454464\n",
       "1000172    6040    1784       3  997454464\n",
       "1000167    6040     161       3  997454486\n",
       "1000042    6040    1221       4  998315055\n",
       "\n",
       "[1000209 rows x 4 columns]"
      ]
     },
     "execution_count": 3,
     "metadata": {},
     "output_type": "execute_result"
    }
   ],
   "source": [
    "data_path = Path(os.getenv('HOME')+'/aiffel/yoochoose/data/')\n",
    "train_path = data_path / 'ratings.dat'\n",
    "\n",
    "def load_data(data_path: Path, nrows=None):\n",
    "    data = pd.read_csv(data_path, sep='::', header=None, usecols=[0, 1, 2, 3], dtype={0: np.int32, 1: np.int32, 2: np.int32}, nrows=nrows)\n",
    "    data.columns = ['UserId', 'ItemId', 'Rating', 'Time']\n",
    "    return data\n",
    "\n",
    "data = load_data(train_path, None)\n",
    "data.sort_values(['UserId', 'Time'], inplace=True)\n",
    "data"
   ]
  },
  {
   "cell_type": "markdown",
   "id": "2a7cddfd",
   "metadata": {},
   "source": [
    "### 1) Session length 분석"
   ]
  },
  {
   "cell_type": "code",
   "execution_count": 4,
   "id": "ac1a3201",
   "metadata": {},
   "outputs": [
    {
     "name": "stdout",
     "output_type": "stream",
     "text": [
      "유저 수: 6040\n",
      "영화 수: 3706\n"
     ]
    }
   ],
   "source": [
    "print('유저 수:', data['UserId'].nunique())\n",
    "print('영화 수:', data['ItemId'].nunique())"
   ]
  },
  {
   "cell_type": "code",
   "execution_count": 5,
   "id": "f63c0fb7",
   "metadata": {},
   "outputs": [
    {
     "data": {
      "text/plain": [
       "ItemId\n",
       "1       2077\n",
       "2        701\n",
       "3        478\n",
       "4        170\n",
       "5        296\n",
       "        ... \n",
       "3948     862\n",
       "3949     304\n",
       "3950      54\n",
       "3951      40\n",
       "3952     388\n",
       "Length: 3706, dtype: int64"
      ]
     },
     "execution_count": 5,
     "metadata": {},
     "output_type": "execute_result"
    }
   ],
   "source": [
    "Item_len = data.groupby('ItemId').size()\n",
    "Item_len"
   ]
  },
  {
   "cell_type": "markdown",
   "id": "c6b8ac56",
   "metadata": {},
   "source": [
    "영화가 클릭된 횟수를 Item_len에 저장"
   ]
  },
  {
   "cell_type": "code",
   "execution_count": 6,
   "id": "d413dca1",
   "metadata": {},
   "outputs": [
    {
     "name": "stdout",
     "output_type": "stream",
     "text": [
      "영화 당 클릭 수의 평균: 269.88909875876953\n",
      "영화 당 클릭 수의 최댓값: 3428\n",
      "영화 당 클릭 수의 최솟값: 1\n"
     ]
    }
   ],
   "source": [
    "print('영화 당 클릭 수의 평균:', Item_len.mean())\n",
    "print('영화 당 클릭 수의 최댓값:', Item_len.max())\n",
    "print('영화 당 클릭 수의 최솟값:', Item_len.min())"
   ]
  },
  {
   "cell_type": "code",
   "execution_count": 7,
   "id": "820bb253",
   "metadata": {},
   "outputs": [
    {
     "name": "stdout",
     "output_type": "stream",
     "text": [
      "영화 당 클릭 수 Q1: 33.0\n",
      "영화 당 클릭 수 Q2(중앙값): 123.5\n",
      "영화 당 클릭 수 Q3: 350.0\n"
     ]
    },
    {
     "data": {
      "image/png": "[encoded data removed]",
      "text/plain": [
       "<Figure size 432x288 with 1 Axes>"
      ]
     },
     "metadata": {
      "needs_background": "light"
     },
     "output_type": "display_data"
    }
   ],
   "source": [
    "import matplotlib.pyplot as plt\n",
    "\n",
    "fig, ax = plt.subplots()\n",
    "\n",
    "ax.boxplot([Item_len])\n",
    "\n",
    "print('영화 당 클릭 수 Q1:', Item_len.quantile(0.25))\n",
    "print('영화 당 클릭 수 Q2(중앙값):', Item_len.quantile(0.50))\n",
    "print('영화 당 클릭 수 Q3:', Item_len.quantile(0.75))"
   ]
  },
  {
   "cell_type": "code",
   "execution_count": 8,
   "id": "1e78e424",
   "metadata": {},
   "outputs": [
    {
     "name": "stdout",
     "output_type": "stream",
     "text": [
      "인기 영화 갯수: 296\n",
      "한번 클릭된 영화 갯수: 114\n"
     ]
    }
   ],
   "source": [
    "# upper whisker = 350 + (350-33)*1.5 = 825.5\n",
    "print('인기 영화 갯수:',Item_len[Item_len > 825.5].count())\n",
    "print('한번 클릭된 영화 갯수:',Item_len[Item_len == 1].count())"
   ]
  },
  {
   "cell_type": "markdown",
   "id": "02465511",
   "metadata": {},
   "source": [
    "영화마다 클릭된 수의 편차가 크다. 3,706편의 영화 중 대다수는 클릭 수가 적고, 약 296개, 일부의 영화만이 많은 클릭수를 보유하고 있는 인기영화라고 할 수 있다. 한번 클릭되었을 뿐인 영화는 114개로, 추천 시스템에서는 제외하는 것이 좋을 수 있다."
   ]
  },
  {
   "cell_type": "code",
   "execution_count": 9,
   "id": "c90eace4",
   "metadata": {
    "scrolled": true
   },
   "outputs": [
    {
     "data": {
      "text/plain": [
       "UserId\n",
       "1        53\n",
       "2       129\n",
       "3        51\n",
       "4        21\n",
       "5       198\n",
       "       ... \n",
       "6036    888\n",
       "6037    202\n",
       "6038     20\n",
       "6039    123\n",
       "6040    341\n",
       "Name: ItemId, Length: 6040, dtype: int64"
      ]
     },
     "execution_count": 9,
     "metadata": {},
     "output_type": "execute_result"
    }
   ],
   "source": [
    "User_len = data.groupby('UserId').count().loc[:,'ItemId']\n",
    "User_len"
   ]
  },
  {
   "cell_type": "markdown",
   "id": "288468b3",
   "metadata": {},
   "source": [
    "유저당 몇개의 영화를 보았는지  User_len 시리즈에 저장"
   ]
  },
  {
   "cell_type": "code",
   "execution_count": 10,
   "id": "c35c3c67",
   "metadata": {},
   "outputs": [
    {
     "name": "stdout",
     "output_type": "stream",
     "text": [
      "유저 당 관람한 영화 수의 평균: 165.5975165562914\n",
      "유저 당 관람한 영화 수의 중앙값: 96.0\n",
      "유저 당 관람한 영화 수의 최댓값: 2314\n",
      "유저 당 관람한 영화 수의 최솟값: 20\n"
     ]
    }
   ],
   "source": [
    "print('유저 당 관람한 영화 수의 평균:', User_len.mean())\n",
    "print('유저 당 관람한 영화 수의 중앙값:', User_len.median())\n",
    "print('유저 당 관람한 영화 수의 최댓값:', User_len.max())\n",
    "print('유저 당 관람한 영화 수의 최솟값:', User_len.min())"
   ]
  },
  {
   "cell_type": "markdown",
   "id": "08a31745",
   "metadata": {},
   "source": [
    "유저 당 관람한 영화 수의 편차가 심한 편이다.    \n",
    "Session-Based Recommendation에서는 유저가 생성한 시간 데이터를 기준으로 Session 데이터를 생성해야 한다. '**UserId'가 같고, 'Time'이 같은 데이터를 하나의 Session이라고 가정**한다. 예를 들어 data의 index 22,27,37은 'UserId'가 1이고 'Time'이 978300055로 같으므로, 같은 Session이라고 간주한다."
   ]
  },
  {
   "cell_type": "code",
   "execution_count": 11,
   "id": "f1115dfe",
   "metadata": {},
   "outputs": [
    {
     "data": {
      "text/html": [
       "<div>\n",
       "<style scoped>\n",
       "    .dataframe tbody tr th:only-of-type {\n",
       "        vertical-align: middle;\n",
       "    }\n",
       "\n",
       "    .dataframe tbody tr th {\n",
       "        vertical-align: top;\n",
       "    }\n",
       "\n",
       "    .dataframe thead th {\n",
       "        text-align: right;\n",
       "    }\n",
       "</style>\n",
       "<table border=\"1\" class=\"dataframe\">\n",
       "  <thead>\n",
       "    <tr style=\"text-align: right;\">\n",
       "      <th></th>\n",
       "      <th>UserId</th>\n",
       "      <th>ItemId</th>\n",
       "      <th>Rating</th>\n",
       "      <th>Time</th>\n",
       "    </tr>\n",
       "  </thead>\n",
       "  <tbody>\n",
       "    <tr>\n",
       "      <th>0</th>\n",
       "      <td>1</td>\n",
       "      <td>3186</td>\n",
       "      <td>4</td>\n",
       "      <td>978300019</td>\n",
       "    </tr>\n",
       "    <tr>\n",
       "      <th>1</th>\n",
       "      <td>1</td>\n",
       "      <td>1270</td>\n",
       "      <td>5</td>\n",
       "      <td>978300055</td>\n",
       "    </tr>\n",
       "    <tr>\n",
       "      <th>2</th>\n",
       "      <td>1</td>\n",
       "      <td>1721</td>\n",
       "      <td>4</td>\n",
       "      <td>978300055</td>\n",
       "    </tr>\n",
       "    <tr>\n",
       "      <th>3</th>\n",
       "      <td>1</td>\n",
       "      <td>1022</td>\n",
       "      <td>5</td>\n",
       "      <td>978300055</td>\n",
       "    </tr>\n",
       "    <tr>\n",
       "      <th>4</th>\n",
       "      <td>1</td>\n",
       "      <td>2340</td>\n",
       "      <td>3</td>\n",
       "      <td>978300103</td>\n",
       "    </tr>\n",
       "    <tr>\n",
       "      <th>...</th>\n",
       "      <td>...</td>\n",
       "      <td>...</td>\n",
       "      <td>...</td>\n",
       "      <td>...</td>\n",
       "    </tr>\n",
       "    <tr>\n",
       "      <th>1000204</th>\n",
       "      <td>6040</td>\n",
       "      <td>2917</td>\n",
       "      <td>4</td>\n",
       "      <td>997454429</td>\n",
       "    </tr>\n",
       "    <tr>\n",
       "      <th>1000205</th>\n",
       "      <td>6040</td>\n",
       "      <td>1921</td>\n",
       "      <td>4</td>\n",
       "      <td>997454464</td>\n",
       "    </tr>\n",
       "    <tr>\n",
       "      <th>1000206</th>\n",
       "      <td>6040</td>\n",
       "      <td>1784</td>\n",
       "      <td>3</td>\n",
       "      <td>997454464</td>\n",
       "    </tr>\n",
       "    <tr>\n",
       "      <th>1000207</th>\n",
       "      <td>6040</td>\n",
       "      <td>161</td>\n",
       "      <td>3</td>\n",
       "      <td>997454486</td>\n",
       "    </tr>\n",
       "    <tr>\n",
       "      <th>1000208</th>\n",
       "      <td>6040</td>\n",
       "      <td>1221</td>\n",
       "      <td>4</td>\n",
       "      <td>998315055</td>\n",
       "    </tr>\n",
       "  </tbody>\n",
       "</table>\n",
       "<p>1000209 rows × 4 columns</p>\n",
       "</div>"
      ],
      "text/plain": [
       "         UserId  ItemId  Rating       Time\n",
       "0             1    3186       4  978300019\n",
       "1             1    1270       5  978300055\n",
       "2             1    1721       4  978300055\n",
       "3             1    1022       5  978300055\n",
       "4             1    2340       3  978300103\n",
       "...         ...     ...     ...        ...\n",
       "1000204    6040    2917       4  997454429\n",
       "1000205    6040    1921       4  997454464\n",
       "1000206    6040    1784       3  997454464\n",
       "1000207    6040     161       3  997454486\n",
       "1000208    6040    1221       4  998315055\n",
       "\n",
       "[1000209 rows x 4 columns]"
      ]
     },
     "execution_count": 11,
     "metadata": {},
     "output_type": "execute_result"
    }
   ],
   "source": [
    "data.index = np.array(range(1000209))    # index 재정렬\n",
    "data"
   ]
  },
  {
   "cell_type": "code",
   "execution_count": 12,
   "id": "1d061159",
   "metadata": {},
   "outputs": [
    {
     "data": {
      "text/html": [
       "<div>\n",
       "<style scoped>\n",
       "    .dataframe tbody tr th:only-of-type {\n",
       "        vertical-align: middle;\n",
       "    }\n",
       "\n",
       "    .dataframe tbody tr th {\n",
       "        vertical-align: top;\n",
       "    }\n",
       "\n",
       "    .dataframe thead th {\n",
       "        text-align: right;\n",
       "    }\n",
       "</style>\n",
       "<table border=\"1\" class=\"dataframe\">\n",
       "  <thead>\n",
       "    <tr style=\"text-align: right;\">\n",
       "      <th></th>\n",
       "      <th>UserId</th>\n",
       "      <th>ItemId</th>\n",
       "      <th>Rating</th>\n",
       "      <th>Time</th>\n",
       "      <th>SessionId</th>\n",
       "    </tr>\n",
       "  </thead>\n",
       "  <tbody>\n",
       "    <tr>\n",
       "      <th>0</th>\n",
       "      <td>1</td>\n",
       "      <td>3186</td>\n",
       "      <td>4</td>\n",
       "      <td>978300019</td>\n",
       "      <td>0</td>\n",
       "    </tr>\n",
       "    <tr>\n",
       "      <th>1</th>\n",
       "      <td>1</td>\n",
       "      <td>1270</td>\n",
       "      <td>5</td>\n",
       "      <td>978300055</td>\n",
       "      <td>1</td>\n",
       "    </tr>\n",
       "    <tr>\n",
       "      <th>2</th>\n",
       "      <td>1</td>\n",
       "      <td>1721</td>\n",
       "      <td>4</td>\n",
       "      <td>978300055</td>\n",
       "      <td>1</td>\n",
       "    </tr>\n",
       "    <tr>\n",
       "      <th>3</th>\n",
       "      <td>1</td>\n",
       "      <td>1022</td>\n",
       "      <td>5</td>\n",
       "      <td>978300055</td>\n",
       "      <td>1</td>\n",
       "    </tr>\n",
       "    <tr>\n",
       "      <th>4</th>\n",
       "      <td>1</td>\n",
       "      <td>2340</td>\n",
       "      <td>3</td>\n",
       "      <td>978300103</td>\n",
       "      <td>2</td>\n",
       "    </tr>\n",
       "    <tr>\n",
       "      <th>...</th>\n",
       "      <td>...</td>\n",
       "      <td>...</td>\n",
       "      <td>...</td>\n",
       "      <td>...</td>\n",
       "      <td>...</td>\n",
       "    </tr>\n",
       "    <tr>\n",
       "      <th>1000204</th>\n",
       "      <td>6040</td>\n",
       "      <td>2917</td>\n",
       "      <td>4</td>\n",
       "      <td>997454429</td>\n",
       "      <td>471159</td>\n",
       "    </tr>\n",
       "    <tr>\n",
       "      <th>1000205</th>\n",
       "      <td>6040</td>\n",
       "      <td>1921</td>\n",
       "      <td>4</td>\n",
       "      <td>997454464</td>\n",
       "      <td>471160</td>\n",
       "    </tr>\n",
       "    <tr>\n",
       "      <th>1000206</th>\n",
       "      <td>6040</td>\n",
       "      <td>1784</td>\n",
       "      <td>3</td>\n",
       "      <td>997454464</td>\n",
       "      <td>471160</td>\n",
       "    </tr>\n",
       "    <tr>\n",
       "      <th>1000207</th>\n",
       "      <td>6040</td>\n",
       "      <td>161</td>\n",
       "      <td>3</td>\n",
       "      <td>997454486</td>\n",
       "      <td>471161</td>\n",
       "    </tr>\n",
       "    <tr>\n",
       "      <th>1000208</th>\n",
       "      <td>6040</td>\n",
       "      <td>1221</td>\n",
       "      <td>4</td>\n",
       "      <td>998315055</td>\n",
       "      <td>471162</td>\n",
       "    </tr>\n",
       "  </tbody>\n",
       "</table>\n",
       "<p>1000209 rows × 5 columns</p>\n",
       "</div>"
      ],
      "text/plain": [
       "         UserId  ItemId  Rating       Time  SessionId\n",
       "0             1    3186       4  978300019          0\n",
       "1             1    1270       5  978300055          1\n",
       "2             1    1721       4  978300055          1\n",
       "3             1    1022       5  978300055          1\n",
       "4             1    2340       3  978300103          2\n",
       "...         ...     ...     ...        ...        ...\n",
       "1000204    6040    2917       4  997454429     471159\n",
       "1000205    6040    1921       4  997454464     471160\n",
       "1000206    6040    1784       3  997454464     471160\n",
       "1000207    6040     161       3  997454486     471161\n",
       "1000208    6040    1221       4  998315055     471162\n",
       "\n",
       "[1000209 rows x 5 columns]"
      ]
     },
     "execution_count": 12,
     "metadata": {},
     "output_type": "execute_result"
    }
   ],
   "source": [
    "SessionId =[0]\n",
    "num = 0\n",
    "\n",
    "for i in range(1,len(data)):\n",
    "    if (data.loc[i,'UserId'] == data.loc[i-1,'UserId']) & (data.loc[i,'Time'] == data.loc[i-1,'Time']):\n",
    "        SessionId.append(num)\n",
    "    else:\n",
    "        num += 1\n",
    "        SessionId.append(num)\n",
    "        \n",
    "data.loc[:,'SessionId'] = SessionId\n",
    "data"
   ]
  },
  {
   "cell_type": "code",
   "execution_count": 13,
   "id": "58d14684",
   "metadata": {},
   "outputs": [
    {
     "data": {
      "text/plain": [
       "SessionId\n",
       "0         1\n",
       "1         3\n",
       "2         1\n",
       "3         1\n",
       "4         1\n",
       "         ..\n",
       "471158    1\n",
       "471159    1\n",
       "471160    2\n",
       "471161    1\n",
       "471162    1\n",
       "Name: ItemId, Length: 471163, dtype: int64"
      ]
     },
     "execution_count": 13,
     "metadata": {},
     "output_type": "execute_result"
    }
   ],
   "source": [
    "Session_len = data.groupby('SessionId').count().loc[:,'ItemId']\n",
    "Session_len"
   ]
  },
  {
   "cell_type": "markdown",
   "id": "187b4b45",
   "metadata": {},
   "source": [
    "세션 당 몇개의 영화를 클릭했는지  Session_len 시리즈에 저장"
   ]
  },
  {
   "cell_type": "code",
   "execution_count": 14,
   "id": "196a8a2a",
   "metadata": {},
   "outputs": [
    {
     "name": "stdout",
     "output_type": "stream",
     "text": [
      "세션 당 클릭한 영화 수의 평균: 2.1228513274599234\n",
      "세션 당 클릭한 영화 수의 최댓값: 30\n",
      "세션 당 클릭한 영화 수의 최솟값: 1\n"
     ]
    }
   ],
   "source": [
    "print('세션 당 클릭한 영화 수의 평균:', Session_len.mean())\n",
    "print('세션 당 클릭한 영화 수의 최댓값:', Session_len.max())\n",
    "print('세션 당 클릭한 영화 수의 최솟값:', Session_len.min())"
   ]
  },
  {
   "cell_type": "code",
   "execution_count": 15,
   "id": "0d0a9746",
   "metadata": {},
   "outputs": [
    {
     "name": "stdout",
     "output_type": "stream",
     "text": [
      "세션 당 클릭한 영화 수 Q1: 1.0\n",
      "세션 당 클릭한 영화 수 Q2(중앙값): 2.0\n",
      "세션 당 클릭한 영화 수 Q3: 3.0\n"
     ]
    },
    {
     "data": {
      "image/png": "[encoded data removed]",
      "text/plain": [
       "<Figure size 432x288 with 1 Axes>"
      ]
     },
     "metadata": {
      "needs_background": "light"
     },
     "output_type": "display_data"
    }
   ],
   "source": [
    "fig, ax = plt.subplots()\n",
    "\n",
    "ax.boxplot([Session_len])\n",
    "\n",
    "print('세션 당 클릭한 영화 수 Q1:', Session_len.quantile(0.25))\n",
    "print('세션 당 클릭한 영화 수 Q2(중앙값):', Session_len.quantile(0.50))\n",
    "print('세션 당 클릭한 영화 수 Q3:', Session_len.quantile(0.75))"
   ]
  },
  {
   "cell_type": "code",
   "execution_count": 16,
   "id": "e7e4312d",
   "metadata": {},
   "outputs": [],
   "source": [
    "length_count = Session_len.groupby(Session_len).size()\n",
    "length_percent_cumsum = length_count.cumsum() / length_count.sum()\n",
    "length_percent_cumsum_999 = length_percent_cumsum[length_percent_cumsum < 0.999]"
   ]
  },
  {
   "cell_type": "code",
   "execution_count": 17,
   "id": "d6c3041f",
   "metadata": {},
   "outputs": [
    {
     "data": {
      "image/png": "[encoded data removed]",
      "text/plain": [
       "<Figure size 864x720 with 1 Axes>"
      ]
     },
     "metadata": {
      "needs_background": "light"
     },
     "output_type": "display_data"
    }
   ],
   "source": [
    "import matplotlib.pyplot as plt\n",
    "\n",
    "plt.figure(figsize=(12, 10))\n",
    "plt.bar(x=length_percent_cumsum_999.index,\n",
    "        height=length_percent_cumsum_999, color='red')\n",
    "plt.xticks(length_percent_cumsum_999.index)\n",
    "plt.yticks(np.arange(0, 1.01, 0.05))\n",
    "plt.title('Cumsum Percentage Until 99.9%', size=20)\n",
    "plt.show()"
   ]
  },
  {
   "cell_type": "code",
   "execution_count": 18,
   "id": "6732facd",
   "metadata": {},
   "outputs": [
    {
     "name": "stdout",
     "output_type": "stream",
     "text": [
      "이상치 갯수: 1129\n"
     ]
    }
   ],
   "source": [
    "print('이상치 갯수:',Session_len[Session_len > 9].count())"
   ]
  },
  {
   "cell_type": "markdown",
   "id": "f68c30a1",
   "metadata": {},
   "source": [
    "세션 당 클릭한 영화 수는 절대 다수가 3개 이하 수준이다. 99.9%의 세션은 세션 당 9개 이하의 영화를 클릭했는데, 그보다 많은 세션을 이상치(비정상적인 활동)라고 가정하면 전체 471,163개 세션 중 이상치는 1,129개이다."
   ]
  },
  {
   "cell_type": "markdown",
   "id": "a5c95b08",
   "metadata": {},
   "source": [
    "### 2) Session time, cleansing"
   ]
  },
  {
   "cell_type": "code",
   "execution_count": 19,
   "id": "b2765828",
   "metadata": {},
   "outputs": [
    {
     "name": "stdout",
     "output_type": "stream",
     "text": [
      "956703932\n",
      "1046454590\n"
     ]
    }
   ],
   "source": [
    "oldest, latest = data['Time'].min(), data['Time'].max()\n",
    "print(oldest) \n",
    "print(latest)"
   ]
  },
  {
   "cell_type": "code",
   "execution_count": 20,
   "id": "087e17e0",
   "metadata": {},
   "outputs": [
    {
     "name": "stdout",
     "output_type": "stream",
     "text": [
      "2.8459746955859972\n"
     ]
    }
   ],
   "source": [
    "print((latest-oldest)/3600/24/365)"
   ]
  },
  {
   "cell_type": "markdown",
   "id": "fef4b86f",
   "metadata": {},
   "source": [
    "약 2.84년 분량의 데이터"
   ]
  },
  {
   "cell_type": "code",
   "execution_count": 21,
   "id": "b99e47e1",
   "metadata": {},
   "outputs": [
    {
     "data": {
      "text/html": [
       "<div>\n",
       "<style scoped>\n",
       "    .dataframe tbody tr th:only-of-type {\n",
       "        vertical-align: middle;\n",
       "    }\n",
       "\n",
       "    .dataframe tbody tr th {\n",
       "        vertical-align: top;\n",
       "    }\n",
       "\n",
       "    .dataframe thead th {\n",
       "        text-align: right;\n",
       "    }\n",
       "</style>\n",
       "<table border=\"1\" class=\"dataframe\">\n",
       "  <thead>\n",
       "    <tr style=\"text-align: right;\">\n",
       "      <th></th>\n",
       "      <th>UserId</th>\n",
       "      <th>ItemId</th>\n",
       "      <th>Rating</th>\n",
       "      <th>Time</th>\n",
       "      <th>SessionId</th>\n",
       "    </tr>\n",
       "  </thead>\n",
       "  <tbody>\n",
       "    <tr>\n",
       "      <th>5333</th>\n",
       "      <td>36</td>\n",
       "      <td>1387</td>\n",
       "      <td>5</td>\n",
       "      <td>1015904819</td>\n",
       "      <td>2791</td>\n",
       "    </tr>\n",
       "    <tr>\n",
       "      <th>5334</th>\n",
       "      <td>36</td>\n",
       "      <td>1201</td>\n",
       "      <td>4</td>\n",
       "      <td>1015904819</td>\n",
       "      <td>2791</td>\n",
       "    </tr>\n",
       "    <tr>\n",
       "      <th>5335</th>\n",
       "      <td>36</td>\n",
       "      <td>1291</td>\n",
       "      <td>5</td>\n",
       "      <td>1015904836</td>\n",
       "      <td>2792</td>\n",
       "    </tr>\n",
       "    <tr>\n",
       "      <th>5336</th>\n",
       "      <td>36</td>\n",
       "      <td>2167</td>\n",
       "      <td>5</td>\n",
       "      <td>1015904905</td>\n",
       "      <td>2793</td>\n",
       "    </tr>\n",
       "    <tr>\n",
       "      <th>5337</th>\n",
       "      <td>36</td>\n",
       "      <td>2951</td>\n",
       "      <td>4</td>\n",
       "      <td>1015904905</td>\n",
       "      <td>2793</td>\n",
       "    </tr>\n",
       "    <tr>\n",
       "      <th>...</th>\n",
       "      <td>...</td>\n",
       "      <td>...</td>\n",
       "      <td>...</td>\n",
       "      <td>...</td>\n",
       "      <td>...</td>\n",
       "    </tr>\n",
       "    <tr>\n",
       "      <th>992789</th>\n",
       "      <td>5996</td>\n",
       "      <td>3835</td>\n",
       "      <td>3</td>\n",
       "      <td>1020113184</td>\n",
       "      <td>468261</td>\n",
       "    </tr>\n",
       "    <tr>\n",
       "      <th>992790</th>\n",
       "      <td>5996</td>\n",
       "      <td>2422</td>\n",
       "      <td>3</td>\n",
       "      <td>1020113225</td>\n",
       "      <td>468262</td>\n",
       "    </tr>\n",
       "    <tr>\n",
       "      <th>992791</th>\n",
       "      <td>5996</td>\n",
       "      <td>168</td>\n",
       "      <td>3</td>\n",
       "      <td>1031058746</td>\n",
       "      <td>468263</td>\n",
       "    </tr>\n",
       "    <tr>\n",
       "      <th>992792</th>\n",
       "      <td>5996</td>\n",
       "      <td>339</td>\n",
       "      <td>4</td>\n",
       "      <td>1033997079</td>\n",
       "      <td>468264</td>\n",
       "    </tr>\n",
       "    <tr>\n",
       "      <th>992793</th>\n",
       "      <td>5996</td>\n",
       "      <td>3882</td>\n",
       "      <td>3</td>\n",
       "      <td>1036428955</td>\n",
       "      <td>468265</td>\n",
       "    </tr>\n",
       "  </tbody>\n",
       "</table>\n",
       "<p>21704 rows × 5 columns</p>\n",
       "</div>"
      ],
      "text/plain": [
       "        UserId  ItemId  Rating        Time  SessionId\n",
       "5333        36    1387       5  1015904819       2791\n",
       "5334        36    1201       4  1015904819       2791\n",
       "5335        36    1291       5  1015904836       2792\n",
       "5336        36    2167       5  1015904905       2793\n",
       "5337        36    2951       4  1015904905       2793\n",
       "...        ...     ...     ...         ...        ...\n",
       "992789    5996    3835       3  1020113184     468261\n",
       "992790    5996    2422       3  1020113225     468262\n",
       "992791    5996     168       3  1031058746     468263\n",
       "992792    5996     339       4  1033997079     468264\n",
       "992793    5996    3882       3  1036428955     468265\n",
       "\n",
       "[21704 rows x 5 columns]"
      ]
     },
     "execution_count": 21,
     "metadata": {},
     "output_type": "execute_result"
    }
   ],
   "source": [
    "year_ago = latest - (3600*24*365)    # 최근 일년까지\n",
    "data_year_ago = data[data['Time'] > year_ago]\n",
    "data_year_ago"
   ]
  },
  {
   "cell_type": "code",
   "execution_count": 22,
   "id": "d62c0544",
   "metadata": {},
   "outputs": [],
   "source": [
    "def cleanse_recursive(data: pd.DataFrame, shortest) -> pd.DataFrame:\n",
    "    while True:\n",
    "        before_len = len(data)\n",
    "        data = cleanse_short_session(data, shortest)\n",
    "        after_len = len(data)\n",
    "        if before_len == after_len:\n",
    "            break\n",
    "    return data\n",
    "\n",
    "\n",
    "def cleanse_short_session(data: pd.DataFrame, shortest): \n",
    "    session_len = data.groupby('SessionId').size()\n",
    "    session_use = session_len[session_len >= shortest].index\n",
    "    data = data[data['SessionId'].isin(session_use)]\n",
    "    return data"
   ]
  },
  {
   "cell_type": "code",
   "execution_count": 23,
   "id": "935ef16e",
   "metadata": {},
   "outputs": [
    {
     "data": {
      "text/html": [
       "<div>\n",
       "<style scoped>\n",
       "    .dataframe tbody tr th:only-of-type {\n",
       "        vertical-align: middle;\n",
       "    }\n",
       "\n",
       "    .dataframe tbody tr th {\n",
       "        vertical-align: top;\n",
       "    }\n",
       "\n",
       "    .dataframe thead th {\n",
       "        text-align: right;\n",
       "    }\n",
       "</style>\n",
       "<table border=\"1\" class=\"dataframe\">\n",
       "  <thead>\n",
       "    <tr style=\"text-align: right;\">\n",
       "      <th></th>\n",
       "      <th>UserId</th>\n",
       "      <th>ItemId</th>\n",
       "      <th>Rating</th>\n",
       "      <th>Time</th>\n",
       "      <th>SessionId</th>\n",
       "    </tr>\n",
       "  </thead>\n",
       "  <tbody>\n",
       "    <tr>\n",
       "      <th>5333</th>\n",
       "      <td>36</td>\n",
       "      <td>1387</td>\n",
       "      <td>5</td>\n",
       "      <td>1015904819</td>\n",
       "      <td>2791</td>\n",
       "    </tr>\n",
       "    <tr>\n",
       "      <th>5334</th>\n",
       "      <td>36</td>\n",
       "      <td>1201</td>\n",
       "      <td>4</td>\n",
       "      <td>1015904819</td>\n",
       "      <td>2791</td>\n",
       "    </tr>\n",
       "    <tr>\n",
       "      <th>5336</th>\n",
       "      <td>36</td>\n",
       "      <td>2167</td>\n",
       "      <td>5</td>\n",
       "      <td>1015904905</td>\n",
       "      <td>2793</td>\n",
       "    </tr>\n",
       "    <tr>\n",
       "      <th>5337</th>\n",
       "      <td>36</td>\n",
       "      <td>2951</td>\n",
       "      <td>4</td>\n",
       "      <td>1015904905</td>\n",
       "      <td>2793</td>\n",
       "    </tr>\n",
       "    <tr>\n",
       "      <th>5338</th>\n",
       "      <td>36</td>\n",
       "      <td>2115</td>\n",
       "      <td>5</td>\n",
       "      <td>1015904905</td>\n",
       "      <td>2793</td>\n",
       "    </tr>\n",
       "    <tr>\n",
       "      <th>...</th>\n",
       "      <td>...</td>\n",
       "      <td>...</td>\n",
       "      <td>...</td>\n",
       "      <td>...</td>\n",
       "      <td>...</td>\n",
       "    </tr>\n",
       "    <tr>\n",
       "      <th>992778</th>\n",
       "      <td>5996</td>\n",
       "      <td>2375</td>\n",
       "      <td>3</td>\n",
       "      <td>1020111221</td>\n",
       "      <td>468252</td>\n",
       "    </tr>\n",
       "    <tr>\n",
       "      <th>992779</th>\n",
       "      <td>5996</td>\n",
       "      <td>2616</td>\n",
       "      <td>3</td>\n",
       "      <td>1020111375</td>\n",
       "      <td>468253</td>\n",
       "    </tr>\n",
       "    <tr>\n",
       "      <th>992780</th>\n",
       "      <td>5996</td>\n",
       "      <td>3707</td>\n",
       "      <td>5</td>\n",
       "      <td>1020111375</td>\n",
       "      <td>468253</td>\n",
       "    </tr>\n",
       "    <tr>\n",
       "      <th>992781</th>\n",
       "      <td>5996</td>\n",
       "      <td>781</td>\n",
       "      <td>5</td>\n",
       "      <td>1020111524</td>\n",
       "      <td>468254</td>\n",
       "    </tr>\n",
       "    <tr>\n",
       "      <th>992782</th>\n",
       "      <td>5996</td>\n",
       "      <td>542</td>\n",
       "      <td>3</td>\n",
       "      <td>1020111524</td>\n",
       "      <td>468254</td>\n",
       "    </tr>\n",
       "  </tbody>\n",
       "</table>\n",
       "<p>10446 rows × 5 columns</p>\n",
       "</div>"
      ],
      "text/plain": [
       "        UserId  ItemId  Rating        Time  SessionId\n",
       "5333        36    1387       5  1015904819       2791\n",
       "5334        36    1201       4  1015904819       2791\n",
       "5336        36    2167       5  1015904905       2793\n",
       "5337        36    2951       4  1015904905       2793\n",
       "5338        36    2115       5  1015904905       2793\n",
       "...        ...     ...     ...         ...        ...\n",
       "992778    5996    2375       3  1020111221     468252\n",
       "992779    5996    2616       3  1020111375     468253\n",
       "992780    5996    3707       5  1020111375     468253\n",
       "992781    5996     781       5  1020111524     468254\n",
       "992782    5996     542       3  1020111524     468254\n",
       "\n",
       "[10446 rows x 5 columns]"
      ]
     },
     "execution_count": 23,
     "metadata": {},
     "output_type": "execute_result"
    }
   ],
   "source": [
    "data_cleanned = cleanse_recursive(data_year_ago, shortest=2)    # 세션 당 1개의 클릭 수로는 예측에 쓸 수 없음\n",
    "data_cleanned"
   ]
  },
  {
   "cell_type": "code",
   "execution_count": 24,
   "id": "897d991e",
   "metadata": {},
   "outputs": [],
   "source": [
    "def split_by_date(data: pd.DataFrame, n_days: int):\n",
    "    final_time = data['Time'].max()\n",
    "    session_last_time = data.groupby('SessionId')['Time'].max()\n",
    "    session_in_train = session_last_time[session_last_time < final_time - (3600*24*n_days)].index\n",
    "    session_in_test = session_last_time[session_last_time >= final_time - (3600*24*n_days)].index\n",
    "\n",
    "    before_date = data[data['SessionId'].isin(session_in_train)]\n",
    "    after_date = data[data['SessionId'].isin(session_in_test)]\n",
    "    after_date = after_date[after_date['ItemId'].isin(before_date['ItemId'])]\n",
    "    return before_date, after_date"
   ]
  },
  {
   "cell_type": "markdown",
   "id": "a4acb76d",
   "metadata": {},
   "source": [
    "총 1년(365일)의 데이터 중 마지막 보름(15일)씩을 train, train 직전의 보름(15일)씩을 validation set으로 분리"
   ]
  },
  {
   "cell_type": "code",
   "execution_count": 25,
   "id": "d2b27fc7",
   "metadata": {},
   "outputs": [],
   "source": [
    "tr, test = split_by_date(data_cleanned, n_days=15)\n",
    "tr, val = split_by_date(tr, n_days=15)"
   ]
  },
  {
   "cell_type": "code",
   "execution_count": 26,
   "id": "eafb31ab",
   "metadata": {},
   "outputs": [
    {
     "name": "stdout",
     "output_type": "stream",
     "text": [
      "* train Set Stats Info\n",
      "\t Events: 9654\n",
      "\t Sessions: 3489\n",
      "\t Items: 2313\n",
      "\t First Time : 1014924099\n",
      "\t Last Time : 1043799114\n",
      "\n",
      "* valid Set Stats Info\n",
      "\t Events: 439\n",
      "\t Sessions: 185\n",
      "\t Items: 374\n",
      "\t First Time : 1043869016\n",
      "\t Last Time : 1045103679\n",
      "\n",
      "* test Set Stats Info\n",
      "\t Events: 302\n",
      "\t Sessions: 118\n",
      "\t Items: 284\n",
      "\t First Time : 1045159856\n",
      "\t Last Time : 1046454548\n",
      "\n"
     ]
    }
   ],
   "source": [
    "def stats_info(data: pd.DataFrame, status: str):\n",
    "    print(f'* {status} Set Stats Info\\n'\n",
    "          f'\\t Events: {len(data)}\\n'\n",
    "          f'\\t Sessions: {data[\"SessionId\"].nunique()}\\n'\n",
    "          f'\\t Items: {data[\"ItemId\"].nunique()}\\n'\n",
    "          f'\\t First Time : {data[\"Time\"].min()}\\n'\n",
    "          f'\\t Last Time : {data[\"Time\"].max()}\\n')\n",
    "    \n",
    "stats_info(tr, 'train')\n",
    "stats_info(val, 'valid')\n",
    "stats_info(test, 'test')"
   ]
  },
  {
   "cell_type": "code",
   "execution_count": 27,
   "id": "16388e78",
   "metadata": {},
   "outputs": [],
   "source": [
    "# train set에 없는 아이템이 val, test기간에 생길 수 있으므로 train data를 기준으로 인덱싱합니다.\n",
    "id2idx = {item_id : index for index, item_id in enumerate(tr['ItemId'].unique())}\n",
    "\n",
    "def indexing(df, id2idx):\n",
    "    df['item_idx'] = df['ItemId'].map(lambda x: id2idx.get(x, -1))  # id2idx에 없는 아이템은 모르는 값(-1) 처리 해줍니다.\n",
    "    return df\n",
    "\n",
    "tr = indexing(tr, id2idx)\n",
    "val = indexing(val, id2idx)\n",
    "test = indexing(test, id2idx)"
   ]
  },
  {
   "cell_type": "code",
   "execution_count": 28,
   "id": "3fd1d724",
   "metadata": {},
   "outputs": [],
   "source": [
    "save_path = data_path / 'processed'\n",
    "save_path.mkdir(parents=True, exist_ok=True)\n",
    "\n",
    "tr.to_pickle(save_path / 'train.pkl')\n",
    "val.to_pickle(save_path / 'valid.pkl')\n",
    "test.to_pickle(save_path / 'test.pkl')"
   ]
  },
  {
   "cell_type": "markdown",
   "id": "af467fc7",
   "metadata": {},
   "source": [
    "### 3) 미니 배치 구성\n",
    "#### SessionDataset: 세션이 시작되는 인덱스와, 세션을 새로 인덱싱한 값을 지정하는 클래스\n",
    "SessionDataset.df: 데이터프레임    \n",
    "SessionDataset.click_offset: Session의 시작지점    \n",
    "SessionDataset.session_idx: Session의 인덱스"
   ]
  },
  {
   "cell_type": "code",
   "execution_count": 29,
   "id": "7fa8fa98",
   "metadata": {},
   "outputs": [],
   "source": [
    "class SessionDataset:\n",
    "    \"\"\"Credit to yhs-968/pyGRU4REC.\"\"\"\n",
    "\n",
    "    def __init__(self, data):\n",
    "        self.df = data\n",
    "        self.click_offsets = self.get_click_offsets()\n",
    "        self.session_idx = np.arange(self.df['SessionId'].nunique())\n",
    "\n",
    "    def get_click_offsets(self):\n",
    "        \"\"\"\n",
    "        Return the indexes of the first click of each session IDs,\n",
    "        \"\"\"\n",
    "        offsets = np.zeros(self.df['SessionId'].nunique() + 1, dtype=np.int32)\n",
    "        offsets[1:] = self.df.groupby('SessionId').size().cumsum()\n",
    "        return offsets"
   ]
  },
  {
   "cell_type": "code",
   "execution_count": 30,
   "id": "17885968",
   "metadata": {},
   "outputs": [
    {
     "data": {
      "text/html": [
       "<div>\n",
       "<style scoped>\n",
       "    .dataframe tbody tr th:only-of-type {\n",
       "        vertical-align: middle;\n",
       "    }\n",
       "\n",
       "    .dataframe tbody tr th {\n",
       "        vertical-align: top;\n",
       "    }\n",
       "\n",
       "    .dataframe thead th {\n",
       "        text-align: right;\n",
       "    }\n",
       "</style>\n",
       "<table border=\"1\" class=\"dataframe\">\n",
       "  <thead>\n",
       "    <tr style=\"text-align: right;\">\n",
       "      <th></th>\n",
       "      <th>UserId</th>\n",
       "      <th>ItemId</th>\n",
       "      <th>Rating</th>\n",
       "      <th>Time</th>\n",
       "      <th>SessionId</th>\n",
       "      <th>item_idx</th>\n",
       "    </tr>\n",
       "  </thead>\n",
       "  <tbody>\n",
       "    <tr>\n",
       "      <th>5333</th>\n",
       "      <td>36</td>\n",
       "      <td>1387</td>\n",
       "      <td>5</td>\n",
       "      <td>1015904819</td>\n",
       "      <td>2791</td>\n",
       "      <td>0</td>\n",
       "    </tr>\n",
       "    <tr>\n",
       "      <th>5334</th>\n",
       "      <td>36</td>\n",
       "      <td>1201</td>\n",
       "      <td>4</td>\n",
       "      <td>1015904819</td>\n",
       "      <td>2791</td>\n",
       "      <td>1</td>\n",
       "    </tr>\n",
       "    <tr>\n",
       "      <th>5336</th>\n",
       "      <td>36</td>\n",
       "      <td>2167</td>\n",
       "      <td>5</td>\n",
       "      <td>1015904905</td>\n",
       "      <td>2793</td>\n",
       "      <td>2</td>\n",
       "    </tr>\n",
       "    <tr>\n",
       "      <th>5337</th>\n",
       "      <td>36</td>\n",
       "      <td>2951</td>\n",
       "      <td>4</td>\n",
       "      <td>1015904905</td>\n",
       "      <td>2793</td>\n",
       "      <td>3</td>\n",
       "    </tr>\n",
       "    <tr>\n",
       "      <th>5338</th>\n",
       "      <td>36</td>\n",
       "      <td>2115</td>\n",
       "      <td>5</td>\n",
       "      <td>1015904905</td>\n",
       "      <td>2793</td>\n",
       "      <td>4</td>\n",
       "    </tr>\n",
       "    <tr>\n",
       "      <th>...</th>\n",
       "      <td>...</td>\n",
       "      <td>...</td>\n",
       "      <td>...</td>\n",
       "      <td>...</td>\n",
       "      <td>...</td>\n",
       "      <td>...</td>\n",
       "    </tr>\n",
       "    <tr>\n",
       "      <th>992778</th>\n",
       "      <td>5996</td>\n",
       "      <td>2375</td>\n",
       "      <td>3</td>\n",
       "      <td>1020111221</td>\n",
       "      <td>468252</td>\n",
       "      <td>508</td>\n",
       "    </tr>\n",
       "    <tr>\n",
       "      <th>992779</th>\n",
       "      <td>5996</td>\n",
       "      <td>2616</td>\n",
       "      <td>3</td>\n",
       "      <td>1020111375</td>\n",
       "      <td>468253</td>\n",
       "      <td>295</td>\n",
       "    </tr>\n",
       "    <tr>\n",
       "      <th>992780</th>\n",
       "      <td>5996</td>\n",
       "      <td>3707</td>\n",
       "      <td>5</td>\n",
       "      <td>1020111375</td>\n",
       "      <td>468253</td>\n",
       "      <td>1718</td>\n",
       "    </tr>\n",
       "    <tr>\n",
       "      <th>992781</th>\n",
       "      <td>5996</td>\n",
       "      <td>781</td>\n",
       "      <td>5</td>\n",
       "      <td>1020111524</td>\n",
       "      <td>468254</td>\n",
       "      <td>1663</td>\n",
       "    </tr>\n",
       "    <tr>\n",
       "      <th>992782</th>\n",
       "      <td>5996</td>\n",
       "      <td>542</td>\n",
       "      <td>3</td>\n",
       "      <td>1020111524</td>\n",
       "      <td>468254</td>\n",
       "      <td>1591</td>\n",
       "    </tr>\n",
       "  </tbody>\n",
       "</table>\n",
       "<p>9654 rows × 6 columns</p>\n",
       "</div>"
      ],
      "text/plain": [
       "        UserId  ItemId  Rating        Time  SessionId  item_idx\n",
       "5333        36    1387       5  1015904819       2791         0\n",
       "5334        36    1201       4  1015904819       2791         1\n",
       "5336        36    2167       5  1015904905       2793         2\n",
       "5337        36    2951       4  1015904905       2793         3\n",
       "5338        36    2115       5  1015904905       2793         4\n",
       "...        ...     ...     ...         ...        ...       ...\n",
       "992778    5996    2375       3  1020111221     468252       508\n",
       "992779    5996    2616       3  1020111375     468253       295\n",
       "992780    5996    3707       5  1020111375     468253      1718\n",
       "992781    5996     781       5  1020111524     468254      1663\n",
       "992782    5996     542       3  1020111524     468254      1591\n",
       "\n",
       "[9654 rows x 6 columns]"
      ]
     },
     "execution_count": 30,
     "metadata": {},
     "output_type": "execute_result"
    }
   ],
   "source": [
    "tr_dataset = SessionDataset(tr)\n",
    "tr_dataset.df"
   ]
  },
  {
   "cell_type": "code",
   "execution_count": 31,
   "id": "9fc1f116",
   "metadata": {},
   "outputs": [
    {
     "data": {
      "text/plain": [
       "array([   0,    2,    5, ..., 9650, 9652, 9654], dtype=int32)"
      ]
     },
     "execution_count": 31,
     "metadata": {},
     "output_type": "execute_result"
    }
   ],
   "source": [
    "tr_dataset.click_offsets"
   ]
  },
  {
   "cell_type": "code",
   "execution_count": 32,
   "id": "838a44aa",
   "metadata": {},
   "outputs": [
    {
     "data": {
      "text/plain": [
       "array([   0,    1,    2, ..., 3486, 3487, 3488])"
      ]
     },
     "execution_count": 32,
     "metadata": {},
     "output_type": "execute_result"
    }
   ],
   "source": [
    "tr_dataset.session_idx"
   ]
  },
  {
   "cell_type": "markdown",
   "id": "8ba6fc6c",
   "metadata": {},
   "source": [
    "#### SessionDataLoader: Session-Parallel mini-batch 제작"
   ]
  },
  {
   "cell_type": "code",
   "execution_count": 33,
   "id": "747b514a",
   "metadata": {},
   "outputs": [],
   "source": [
    "class SessionDataLoader:\n",
    "    \"\"\"Credit to yhs-968/pyGRU4REC.\"\"\"\n",
    "\n",
    "    def __init__(self, dataset: SessionDataset, batch_size=50):\n",
    "        self.dataset = dataset\n",
    "        self.batch_size = batch_size\n",
    "\n",
    "    def __iter__(self):\n",
    "        \"\"\" Returns the iterator for producing session-parallel training mini-batches.\n",
    "        Yields:\n",
    "            input (B,):  Item indices that will be encoded as one-hot vectors later.\n",
    "            target (B,): a Variable that stores the target item indices\n",
    "            masks: Numpy array indicating the positions of the sessions to be terminated\n",
    "        \"\"\"\n",
    "\n",
    "        start, end, mask, last_session, finished = self.initialize()\n",
    "        \"\"\"\n",
    "        start : Index Where Session Start\n",
    "        end : Index Where Session End\n",
    "        mask : indicator for the sessions to be terminated\n",
    "        \"\"\"\n",
    "\n",
    "        while not finished:\n",
    "            min_len = (end - start).min() - 1  # Shortest Length Among Sessions\n",
    "            for i in range(min_len):\n",
    "                # Build inputs & targets\n",
    "                inp = self.dataset.df['item_idx'].values[start + i]\n",
    "                target = self.dataset.df['item_idx'].values[start + i + 1]\n",
    "                yield inp, target, mask\n",
    "\n",
    "            start, end, mask, last_session, finished = self.update_status(start, end, min_len, last_session, finished)\n",
    "\n",
    "    def initialize(self):\n",
    "        first_iters = np.arange(self.batch_size)    # 첫 배치에 사용할 세션 Index를 가져옵니다.\n",
    "        last_session = self.batch_size - 1    # 마지막으로 다루고 있는 세션 Index를 저장해둡니다.\n",
    "        start = self.dataset.click_offsets[self.dataset.session_idx[first_iters]]       # data 상에서 session이 시작된 위치를 가져옵니다.\n",
    "        end = self.dataset.click_offsets[self.dataset.session_idx[first_iters] + 1]  # session이 끝난 위치 바로 다음 위치를 가져옵니다.\n",
    "        mask = np.array([])   # session의 모든 아이템을 다 돌은 경우 mask에 추가해줄 것입니다.\n",
    "        finished = False         # data를 전부 돌았는지 기록하기 위한 변수입니다.\n",
    "        return start, end, mask, last_session, finished\n",
    "\n",
    "    def update_status(self, start: np.ndarray, end: np.ndarray, min_len: int, last_session: int, finished: bool):  \n",
    "        # 다음 배치 데이터를 생성하기 위해 상태를 update합니다.\n",
    "        \n",
    "        start += min_len   # __iter__에서 min_len 만큼 for문을 돌았으므로 start를 min_len 만큼 더해줍니다.\n",
    "        mask = np.arange(self.batch_size)[(end - start) == 1]  \n",
    "        # end는 다음 세션이 시작되는 위치인데 start와 한 칸 차이난다는 것은 session이 끝났다는 뜻입니다. mask에 기록해줍니다.\n",
    "\n",
    "        for i, idx in enumerate(mask, start=1):  # mask에 추가된 세션 개수만큼 새로운 세션을 돌것입니다.\n",
    "            new_session = last_session + i  \n",
    "            if new_session > self.dataset.session_idx[-1]:  # 만약 새로운 세션이 마지막 세션 index보다 크다면 모든 학습데이터를 돈 것입니다.\n",
    "                finished = True\n",
    "                break\n",
    "            # update the next starting/ending point\n",
    "            start[idx] = self.dataset.click_offsets[self.dataset.session_idx[new_session]]     # 종료된 세션 대신 새로운 세션의 시작점을 기록합니다.\n",
    "            end[idx] = self.dataset.click_offsets[self.dataset.session_idx[new_session] + 1]\n",
    "\n",
    "        last_session += len(mask)  # 마지막 세션의 위치를 기록해둡니다.\n",
    "        return start, end, mask, last_session, finished"
   ]
  },
  {
   "cell_type": "code",
   "execution_count": 34,
   "id": "5c7bb70b",
   "metadata": {},
   "outputs": [],
   "source": [
    "tr_data_loader = SessionDataLoader(tr_dataset, batch_size=4)"
   ]
  },
  {
   "cell_type": "code",
   "execution_count": 35,
   "id": "1c9a9eda",
   "metadata": {},
   "outputs": [],
   "source": [
    "iter_ex = iter(tr_data_loader)"
   ]
  },
  {
   "cell_type": "code",
   "execution_count": 36,
   "id": "3b8778e7",
   "metadata": {},
   "outputs": [
    {
     "name": "stdout",
     "output_type": "stream",
     "text": [
      "Model Input Item Idx are : [0 2 5 7]\n",
      "Label Item Idx are :       [1 3 6 8]\n",
      "Previous Masked Input Idx are []\n"
     ]
    }
   ],
   "source": [
    "inputs, labels, mask =  next(iter_ex)\n",
    "print(f'Model Input Item Idx are : {inputs}')\n",
    "print(f'Label Item Idx are : {\"\":5} {labels}')\n",
    "print(f'Previous Masked Input Idx are {mask}')"
   ]
  },
  {
   "cell_type": "code",
   "execution_count": 37,
   "id": "ea5ade5b",
   "metadata": {},
   "outputs": [
    {
     "name": "stdout",
     "output_type": "stream",
     "text": [
      "Model Input Item Idx are : [ 9  3 11 14]\n",
      "Label Item Idx are :       [10  4 12 15]\n",
      "Previous Masked Input Idx are [0 2 3]\n"
     ]
    }
   ],
   "source": [
    "inputs, labels, mask =  next(iter_ex)\n",
    "print(f'Model Input Item Idx are : {inputs}')\n",
    "print(f'Label Item Idx are : {\"\":5} {labels}')\n",
    "print(f'Previous Masked Input Idx are {mask}')"
   ]
  },
  {
   "cell_type": "code",
   "execution_count": 38,
   "id": "27ef9576",
   "metadata": {},
   "outputs": [
    {
     "name": "stdout",
     "output_type": "stream",
     "text": [
      "Model Input Item Idx are : [16 20 12 22]\n",
      "Label Item Idx are :       [17 21 13 23]\n",
      "Previous Masked Input Idx are [0 1 3]\n"
     ]
    }
   ],
   "source": [
    "inputs, labels, mask =  next(iter_ex)\n",
    "print(f'Model Input Item Idx are : {inputs}')\n",
    "print(f'Label Item Idx are : {\"\":5} {labels}')\n",
    "print(f'Previous Masked Input Idx are {mask}')"
   ]
  },
  {
   "cell_type": "markdown",
   "id": "3f8b2d94",
   "metadata": {},
   "source": [
    "## 2. 모델 구성 및 테스트\n",
    "### 1) 시간 전처리만 실행\n",
    "첫번째로 사용할 데이터셋은 최근 1년간의 데이터를 기반으로 가장 마지막 보름간의 추천을 하도록 하는 시간 제한 외에는 크게 가공하지 않은 셋이다."
   ]
  },
  {
   "cell_type": "code",
   "execution_count": 39,
   "id": "dde259bc",
   "metadata": {},
   "outputs": [],
   "source": [
    "def mrr_k(pred, truth: int, k: int):\n",
    "    indexing = np.where(pred[:k] == truth)[0]\n",
    "    if len(indexing) > 0:\n",
    "        return 1 / (indexing[0] + 1)\n",
    "    else:\n",
    "        return 0\n",
    "\n",
    "def recall_k(pred, truth: int, k: int) -> int:\n",
    "    answer = truth in pred[:k]\n",
    "    return int(answer)"
   ]
  },
  {
   "cell_type": "code",
   "execution_count": 40,
   "id": "ab268ed7",
   "metadata": {},
   "outputs": [],
   "source": [
    "import numpy as np\n",
    "import tensorflow as tf\n",
    "from tensorflow.keras.layers import Input, Dense, Dropout, GRU\n",
    "from tensorflow.keras.losses import categorical_crossentropy\n",
    "from tensorflow.keras.models import Model\n",
    "from tensorflow.keras.optimizers import Adam\n",
    "from tensorflow.keras.utils import to_categorical\n",
    "from tqdm import tqdm"
   ]
  },
  {
   "cell_type": "code",
   "execution_count": 41,
   "id": "b38bbb63",
   "metadata": {},
   "outputs": [],
   "source": [
    "def create_model(args):\n",
    "    inputs = Input(batch_shape=(args.batch_size, 1, args.num_items))\n",
    "    gru, _ = GRU(args.hsz, stateful=True, return_state=True, name='GRU')(inputs)\n",
    "    dropout = Dropout(args.drop_rate)(gru)\n",
    "    predictions = Dense(args.num_items, activation='softmax')(dropout)\n",
    "    model = Model(inputs=inputs, outputs=[predictions])\n",
    "    model.compile(loss=categorical_crossentropy, optimizer=Adam(args.lr), metrics=['accuracy'])\n",
    "    model.summary()\n",
    "    return model"
   ]
  },
  {
   "cell_type": "code",
   "execution_count": 42,
   "id": "6748277d",
   "metadata": {},
   "outputs": [],
   "source": [
    "class Args:\n",
    "    def __init__(self, tr, val, test, batch_size, hsz, drop_rate, lr, epochs, k):\n",
    "        self.tr = tr\n",
    "        self.val = val\n",
    "        self.test = test\n",
    "        self.num_items = tr['ItemId'].nunique()\n",
    "        self.num_sessions = tr['SessionId'].nunique()\n",
    "        self.batch_size = batch_size\n",
    "        self.hsz = hsz\n",
    "        self.drop_rate = drop_rate\n",
    "        self.lr = lr\n",
    "        self.epochs = epochs\n",
    "        self.k = k"
   ]
  },
  {
   "cell_type": "code",
   "execution_count": 43,
   "id": "28b1db37",
   "metadata": {},
   "outputs": [
    {
     "name": "stdout",
     "output_type": "stream",
     "text": [
      "Model: \"model\"\n",
      "_________________________________________________________________\n",
      "Layer (type)                 Output Shape              Param #   \n",
      "=================================================================\n",
      "input_1 (InputLayer)         [(16, 1, 2313)]           0         \n",
      "_________________________________________________________________\n",
      "GRU (GRU)                    [(16, 50), (16, 50)]      354750    \n",
      "_________________________________________________________________\n",
      "dropout (Dropout)            (16, 50)                  0         \n",
      "_________________________________________________________________\n",
      "dense (Dense)                (16, 2313)                117963    \n",
      "=================================================================\n",
      "Total params: 472,713\n",
      "Trainable params: 472,713\n",
      "Non-trainable params: 0\n",
      "_________________________________________________________________\n"
     ]
    }
   ],
   "source": [
    "args = Args(tr, val, test, batch_size=16, hsz=50, drop_rate=0.1, lr=0.001, epochs=50, k=20)\n",
    "model = create_model(args)"
   ]
  },
  {
   "cell_type": "code",
   "execution_count": 44,
   "id": "619a564e",
   "metadata": {},
   "outputs": [],
   "source": [
    "# train 셋으로 학습하면서 valid 셋으로 검증합니다.\n",
    "def train_model(model, args):\n",
    "    train_dataset = SessionDataset(args.tr)\n",
    "    train_loader = SessionDataLoader(train_dataset, batch_size=args.batch_size)\n",
    "\n",
    "    for epoch in range(1, args.epochs + 1):\n",
    "        total_step = len(args.tr) - args.tr['SessionId'].nunique()\n",
    "        tr_loader = tqdm(train_loader, total=total_step // args.batch_size, desc='Train', mininterval=1)\n",
    "        for feat, target, mask in tr_loader:\n",
    "            reset_hidden_states(model, mask)  # 종료된 session은 hidden_state를 초기화합니다. 아래 메서드에서 확인해주세요.\n",
    "\n",
    "            input_ohe = to_categorical(feat, num_classes=args.num_items)\n",
    "            input_ohe = np.expand_dims(input_ohe, axis=1)\n",
    "            target_ohe = to_categorical(target, num_classes=args.num_items)\n",
    "\n",
    "            result = model.train_on_batch(input_ohe, target_ohe)\n",
    "            tr_loader.set_postfix(train_loss=result[0], accuracy = result[1])\n",
    "\n",
    "        val_recall, val_mrr = get_metrics(args.val, model, args, args.k)  # valid set에 대해 검증합니다.\n",
    "\n",
    "        print(f\"\\t - Recall@{args.k} epoch {epoch}: {val_recall:3f}\")\n",
    "        print(f\"\\t - MRR@{args.k}    epoch {epoch}: {val_mrr:3f}\\n\")\n",
    "\n",
    "\n",
    "def reset_hidden_states(model, mask):\n",
    "    gru_layer = model.get_layer(name='GRU')  # model에서 gru layer를 가져옵니다.\n",
    "    hidden_states = gru_layer.states[0].numpy()  # gru_layer의 parameter를 가져옵니다.\n",
    "    for elt in mask:  # mask된 인덱스 즉, 종료된 세션의 인덱스를 돌면서\n",
    "        hidden_states[elt, :] = 0  # parameter를 초기화 합니다.\n",
    "    gru_layer.reset_states(states=hidden_states)\n",
    "\n",
    "\n",
    "def get_metrics(data, model, args, k: int):  # valid셋과 test셋을 평가하는 코드입니다. \n",
    "                                             # train과 거의 같지만 mrr, recall을 구하는 라인이 있습니다.\n",
    "    dataset = SessionDataset(data)\n",
    "    loader = SessionDataLoader(dataset, batch_size=args.batch_size)\n",
    "    recall_list, mrr_list = [], []\n",
    "\n",
    "    total_step = len(data) - data['SessionId'].nunique()\n",
    "    for inputs, label, mask in tqdm(loader, total=total_step // args.batch_size, desc='Evaluation', mininterval=1):\n",
    "        reset_hidden_states(model, mask)\n",
    "        input_ohe = to_categorical(inputs, num_classes=args.num_items)\n",
    "        input_ohe = np.expand_dims(input_ohe, axis=1)\n",
    "\n",
    "        pred = model.predict(input_ohe, batch_size=args.batch_size)\n",
    "        pred_arg = tf.argsort(pred, direction='DESCENDING')  # softmax 값이 큰 순서대로 sorting 합니다.\n",
    "\n",
    "        length = len(inputs)\n",
    "        recall_list.extend([recall_k(pred_arg[i], label[i], k) for i in range(length)])\n",
    "        mrr_list.extend([mrr_k(pred_arg[i], label[i], k) for i in range(length)])\n",
    "\n",
    "    recall, mrr = np.mean(recall_list), np.mean(mrr_list)\n",
    "    return recall, mrr"
   ]
  },
  {
   "cell_type": "code",
   "execution_count": 45,
   "id": "9704d999",
   "metadata": {},
   "outputs": [
    {
     "name": "stderr",
     "output_type": "stream",
     "text": [
      "Train: 100%|█████████▉| 384/385 [00:24<00:00, 15.71it/s, accuracy=0, train_loss=8.1]      \n",
      "Evaluation: 100%|██████████| 15/15 [00:01<00:00,  8.67it/s]\n"
     ]
    },
    {
     "name": "stdout",
     "output_type": "stream",
     "text": [
      "\t - Recall@20 epoch 1: 0.075000\n",
      "\t - MRR@20    epoch 1: 0.014336\n",
      "\n"
     ]
    },
    {
     "name": "stderr",
     "output_type": "stream",
     "text": [
      "Train: 100%|█████████▉| 384/385 [00:03<00:00, 110.19it/s, accuracy=0, train_loss=7.93]     \n",
      "Evaluation: 100%|██████████| 15/15 [00:01<00:00, 10.15it/s]\n"
     ]
    },
    {
     "name": "stdout",
     "output_type": "stream",
     "text": [
      "\t - Recall@20 epoch 2: 0.066667\n",
      "\t - MRR@20    epoch 2: 0.011478\n",
      "\n"
     ]
    },
    {
     "name": "stderr",
     "output_type": "stream",
     "text": [
      "Train: 100%|█████████▉| 384/385 [00:03<00:00, 109.85it/s, accuracy=0, train_loss=7.64]     \n",
      "Evaluation: 100%|██████████| 15/15 [00:01<00:00,  9.76it/s]\n"
     ]
    },
    {
     "name": "stdout",
     "output_type": "stream",
     "text": [
      "\t - Recall@20 epoch 3: 0.066667\n",
      "\t - MRR@20    epoch 3: 0.010446\n",
      "\n"
     ]
    },
    {
     "name": "stderr",
     "output_type": "stream",
     "text": [
      "Train: 100%|█████████▉| 384/385 [00:03<00:00, 109.52it/s, accuracy=0, train_loss=7.42]     \n",
      "Evaluation: 100%|██████████| 15/15 [00:01<00:00,  9.93it/s]\n"
     ]
    },
    {
     "name": "stdout",
     "output_type": "stream",
     "text": [
      "\t - Recall@20 epoch 4: 0.075000\n",
      "\t - MRR@20    epoch 4: 0.019589\n",
      "\n"
     ]
    },
    {
     "name": "stderr",
     "output_type": "stream",
     "text": [
      "Train: 100%|█████████▉| 384/385 [00:03<00:00, 108.83it/s, accuracy=0, train_loss=7.21]     \n",
      "Evaluation: 100%|██████████| 15/15 [00:01<00:00,  9.89it/s]\n"
     ]
    },
    {
     "name": "stdout",
     "output_type": "stream",
     "text": [
      "\t - Recall@20 epoch 5: 0.075000\n",
      "\t - MRR@20    epoch 5: 0.023496\n",
      "\n"
     ]
    },
    {
     "name": "stderr",
     "output_type": "stream",
     "text": [
      "Train: 100%|█████████▉| 384/385 [00:03<00:00, 110.91it/s, accuracy=0, train_loss=7.03]     \n",
      "Evaluation: 100%|██████████| 15/15 [00:01<00:00,  9.82it/s]\n"
     ]
    },
    {
     "name": "stdout",
     "output_type": "stream",
     "text": [
      "\t - Recall@20 epoch 6: 0.066667\n",
      "\t - MRR@20    epoch 6: 0.020282\n",
      "\n"
     ]
    },
    {
     "name": "stderr",
     "output_type": "stream",
     "text": [
      "Train: 100%|█████████▉| 384/385 [00:03<00:00, 111.19it/s, accuracy=0, train_loss=6.77]     \n",
      "Evaluation: 100%|██████████| 15/15 [00:01<00:00, 10.28it/s]\n"
     ]
    },
    {
     "name": "stdout",
     "output_type": "stream",
     "text": [
      "\t - Recall@20 epoch 7: 0.079167\n",
      "\t - MRR@20    epoch 7: 0.022015\n",
      "\n"
     ]
    },
    {
     "name": "stderr",
     "output_type": "stream",
     "text": [
      "Train: 100%|█████████▉| 384/385 [00:03<00:00, 111.79it/s, accuracy=0.0625, train_loss=6.61]\n",
      "Evaluation: 100%|██████████| 15/15 [00:01<00:00, 10.34it/s]\n"
     ]
    },
    {
     "name": "stdout",
     "output_type": "stream",
     "text": [
      "\t - Recall@20 epoch 8: 0.079167\n",
      "\t - MRR@20    epoch 8: 0.021360\n",
      "\n"
     ]
    },
    {
     "name": "stderr",
     "output_type": "stream",
     "text": [
      "Train: 100%|█████████▉| 384/385 [00:03<00:00, 111.73it/s, accuracy=0.0625, train_loss=6.3] \n",
      "Evaluation: 100%|██████████| 15/15 [00:01<00:00, 10.26it/s]\n"
     ]
    },
    {
     "name": "stdout",
     "output_type": "stream",
     "text": [
      "\t - Recall@20 epoch 9: 0.079167\n",
      "\t - MRR@20    epoch 9: 0.023331\n",
      "\n"
     ]
    },
    {
     "name": "stderr",
     "output_type": "stream",
     "text": [
      "Train: 100%|█████████▉| 384/385 [00:03<00:00, 109.46it/s, accuracy=0.125, train_loss=6.07] \n",
      "Evaluation: 100%|██████████| 15/15 [00:01<00:00, 10.30it/s]\n"
     ]
    },
    {
     "name": "stdout",
     "output_type": "stream",
     "text": [
      "\t - Recall@20 epoch 10: 0.079167\n",
      "\t - MRR@20    epoch 10: 0.018483\n",
      "\n"
     ]
    },
    {
     "name": "stderr",
     "output_type": "stream",
     "text": [
      "Train: 100%|█████████▉| 384/385 [00:03<00:00, 110.17it/s, accuracy=0.125, train_loss=5.92] \n",
      "Evaluation: 100%|██████████| 15/15 [00:01<00:00, 10.16it/s]\n"
     ]
    },
    {
     "name": "stdout",
     "output_type": "stream",
     "text": [
      "\t - Recall@20 epoch 11: 0.087500\n",
      "\t - MRR@20    epoch 11: 0.023056\n",
      "\n"
     ]
    },
    {
     "name": "stderr",
     "output_type": "stream",
     "text": [
      "Train: 100%|█████████▉| 384/385 [00:03<00:00, 111.58it/s, accuracy=0.188, train_loss=5.65] \n",
      "Evaluation: 100%|██████████| 15/15 [00:01<00:00, 10.29it/s]\n"
     ]
    },
    {
     "name": "stdout",
     "output_type": "stream",
     "text": [
      "\t - Recall@20 epoch 12: 0.083333\n",
      "\t - MRR@20    epoch 12: 0.025575\n",
      "\n"
     ]
    },
    {
     "name": "stderr",
     "output_type": "stream",
     "text": [
      "Train: 100%|█████████▉| 384/385 [00:03<00:00, 113.62it/s, accuracy=0.188, train_loss=5.35] \n",
      "Evaluation: 100%|██████████| 15/15 [00:01<00:00, 10.05it/s]\n"
     ]
    },
    {
     "name": "stdout",
     "output_type": "stream",
     "text": [
      "\t - Recall@20 epoch 13: 0.083333\n",
      "\t - MRR@20    epoch 13: 0.027945\n",
      "\n"
     ]
    },
    {
     "name": "stderr",
     "output_type": "stream",
     "text": [
      "Train: 100%|█████████▉| 384/385 [00:03<00:00, 112.27it/s, accuracy=0.25, train_loss=5.09]  \n",
      "Evaluation: 100%|██████████| 15/15 [00:01<00:00, 10.37it/s]\n"
     ]
    },
    {
     "name": "stdout",
     "output_type": "stream",
     "text": [
      "\t - Recall@20 epoch 14: 0.087500\n",
      "\t - MRR@20    epoch 14: 0.029735\n",
      "\n"
     ]
    },
    {
     "name": "stderr",
     "output_type": "stream",
     "text": [
      "Train: 100%|█████████▉| 384/385 [00:03<00:00, 110.96it/s, accuracy=0.375, train_loss=4.84] \n",
      "Evaluation: 100%|██████████| 15/15 [00:01<00:00, 10.32it/s]\n"
     ]
    },
    {
     "name": "stdout",
     "output_type": "stream",
     "text": [
      "\t - Recall@20 epoch 15: 0.091667\n",
      "\t - MRR@20    epoch 15: 0.034518\n",
      "\n"
     ]
    },
    {
     "name": "stderr",
     "output_type": "stream",
     "text": [
      "Train: 100%|█████████▉| 384/385 [00:03<00:00, 112.02it/s, accuracy=0.375, train_loss=4.63] \n",
      "Evaluation: 100%|██████████| 15/15 [00:01<00:00, 10.31it/s]\n"
     ]
    },
    {
     "name": "stdout",
     "output_type": "stream",
     "text": [
      "\t - Recall@20 epoch 16: 0.100000\n",
      "\t - MRR@20    epoch 16: 0.040153\n",
      "\n"
     ]
    },
    {
     "name": "stderr",
     "output_type": "stream",
     "text": [
      "Train: 100%|█████████▉| 384/385 [00:03<00:00, 109.99it/s, accuracy=0.438, train_loss=4.37] \n",
      "Evaluation: 100%|██████████| 15/15 [00:01<00:00,  9.23it/s]\n"
     ]
    },
    {
     "name": "stdout",
     "output_type": "stream",
     "text": [
      "\t - Recall@20 epoch 17: 0.108333\n",
      "\t - MRR@20    epoch 17: 0.039501\n",
      "\n"
     ]
    },
    {
     "name": "stderr",
     "output_type": "stream",
     "text": [
      "Train: 100%|█████████▉| 384/385 [00:03<00:00, 110.73it/s, accuracy=0.438, train_loss=3.99] \n",
      "Evaluation: 100%|██████████| 15/15 [00:01<00:00, 10.55it/s]\n"
     ]
    },
    {
     "name": "stdout",
     "output_type": "stream",
     "text": [
      "\t - Recall@20 epoch 18: 0.104167\n",
      "\t - MRR@20    epoch 18: 0.043285\n",
      "\n"
     ]
    },
    {
     "name": "stderr",
     "output_type": "stream",
     "text": [
      "Train: 100%|█████████▉| 384/385 [00:03<00:00, 112.10it/s, accuracy=0.438, train_loss=3.65] \n",
      "Evaluation: 100%|██████████| 15/15 [00:01<00:00, 10.48it/s]\n"
     ]
    },
    {
     "name": "stdout",
     "output_type": "stream",
     "text": [
      "\t - Recall@20 epoch 19: 0.104167\n",
      "\t - MRR@20    epoch 19: 0.043790\n",
      "\n"
     ]
    },
    {
     "name": "stderr",
     "output_type": "stream",
     "text": [
      "Train: 100%|█████████▉| 384/385 [00:03<00:00, 113.62it/s, accuracy=0.5, train_loss=3.38]  \n",
      "Evaluation: 100%|██████████| 15/15 [00:01<00:00, 10.60it/s]\n"
     ]
    },
    {
     "name": "stdout",
     "output_type": "stream",
     "text": [
      "\t - Recall@20 epoch 20: 0.100000\n",
      "\t - MRR@20    epoch 20: 0.044518\n",
      "\n"
     ]
    },
    {
     "name": "stderr",
     "output_type": "stream",
     "text": [
      "Train: 100%|█████████▉| 384/385 [00:03<00:00, 112.72it/s, accuracy=0.375, train_loss=3.26]\n",
      "Evaluation: 100%|██████████| 15/15 [00:01<00:00, 10.29it/s]\n"
     ]
    },
    {
     "name": "stdout",
     "output_type": "stream",
     "text": [
      "\t - Recall@20 epoch 21: 0.100000\n",
      "\t - MRR@20    epoch 21: 0.045372\n",
      "\n"
     ]
    },
    {
     "name": "stderr",
     "output_type": "stream",
     "text": [
      "Train: 100%|█████████▉| 384/385 [00:03<00:00, 113.02it/s, accuracy=0.375, train_loss=2.94]\n",
      "Evaluation: 100%|██████████| 15/15 [00:01<00:00, 10.37it/s]\n"
     ]
    },
    {
     "name": "stdout",
     "output_type": "stream",
     "text": [
      "\t - Recall@20 epoch 22: 0.095833\n",
      "\t - MRR@20    epoch 22: 0.045959\n",
      "\n"
     ]
    },
    {
     "name": "stderr",
     "output_type": "stream",
     "text": [
      "Train: 100%|█████████▉| 384/385 [00:03<00:00, 112.98it/s, accuracy=0.5, train_loss=2.86]   \n",
      "Evaluation: 100%|██████████| 15/15 [00:01<00:00, 10.55it/s]\n"
     ]
    },
    {
     "name": "stdout",
     "output_type": "stream",
     "text": [
      "\t - Recall@20 epoch 23: 0.091667\n",
      "\t - MRR@20    epoch 23: 0.046281\n",
      "\n"
     ]
    },
    {
     "name": "stderr",
     "output_type": "stream",
     "text": [
      "Train: 100%|█████████▉| 384/385 [00:03<00:00, 111.06it/s, accuracy=0.5, train_loss=2.53]  \n",
      "Evaluation: 100%|██████████| 15/15 [00:01<00:00, 10.22it/s]\n"
     ]
    },
    {
     "name": "stdout",
     "output_type": "stream",
     "text": [
      "\t - Recall@20 epoch 24: 0.091667\n",
      "\t - MRR@20    epoch 24: 0.046900\n",
      "\n"
     ]
    },
    {
     "name": "stderr",
     "output_type": "stream",
     "text": [
      "Train: 100%|█████████▉| 384/385 [00:03<00:00, 111.96it/s, accuracy=0.5, train_loss=2.47]  \n",
      "Evaluation: 100%|██████████| 15/15 [00:01<00:00, 10.42it/s]\n"
     ]
    },
    {
     "name": "stdout",
     "output_type": "stream",
     "text": [
      "\t - Recall@20 epoch 25: 0.091667\n",
      "\t - MRR@20    epoch 25: 0.046298\n",
      "\n"
     ]
    },
    {
     "name": "stderr",
     "output_type": "stream",
     "text": [
      "Train: 100%|█████████▉| 384/385 [00:03<00:00, 112.74it/s, accuracy=0.5, train_loss=2.22]  \n",
      "Evaluation: 100%|██████████| 15/15 [00:01<00:00, 10.42it/s]\n"
     ]
    },
    {
     "name": "stdout",
     "output_type": "stream",
     "text": [
      "\t - Recall@20 epoch 26: 0.095833\n",
      "\t - MRR@20    epoch 26: 0.047801\n",
      "\n"
     ]
    },
    {
     "name": "stderr",
     "output_type": "stream",
     "text": [
      "Train: 100%|█████████▉| 384/385 [00:03<00:00, 112.26it/s, accuracy=0.688, train_loss=1.8] \n",
      "Evaluation: 100%|██████████| 15/15 [00:01<00:00, 10.37it/s]\n"
     ]
    },
    {
     "name": "stdout",
     "output_type": "stream",
     "text": [
      "\t - Recall@20 epoch 27: 0.100000\n",
      "\t - MRR@20    epoch 27: 0.048266\n",
      "\n"
     ]
    },
    {
     "name": "stderr",
     "output_type": "stream",
     "text": [
      "Train: 100%|█████████▉| 384/385 [00:03<00:00, 113.15it/s, accuracy=0.5, train_loss=1.99]   \n",
      "Evaluation: 100%|██████████| 15/15 [00:01<00:00, 10.63it/s]\n"
     ]
    },
    {
     "name": "stdout",
     "output_type": "stream",
     "text": [
      "\t - Recall@20 epoch 28: 0.108333\n",
      "\t - MRR@20    epoch 28: 0.049283\n",
      "\n"
     ]
    },
    {
     "name": "stderr",
     "output_type": "stream",
     "text": [
      "Train: 100%|█████████▉| 384/385 [00:03<00:00, 111.25it/s, accuracy=0.5, train_loss=1.73]   \n",
      "Evaluation: 100%|██████████| 15/15 [00:01<00:00, 10.26it/s]\n"
     ]
    },
    {
     "name": "stdout",
     "output_type": "stream",
     "text": [
      "\t - Recall@20 epoch 29: 0.112500\n",
      "\t - MRR@20    epoch 29: 0.048124\n",
      "\n"
     ]
    },
    {
     "name": "stderr",
     "output_type": "stream",
     "text": [
      "Train: 100%|█████████▉| 384/385 [00:03<00:00, 113.57it/s, accuracy=0.438, train_loss=1.69] \n",
      "Evaluation: 100%|██████████| 15/15 [00:01<00:00, 10.35it/s]\n"
     ]
    },
    {
     "name": "stdout",
     "output_type": "stream",
     "text": [
      "\t - Recall@20 epoch 30: 0.108333\n",
      "\t - MRR@20    epoch 30: 0.048267\n",
      "\n"
     ]
    },
    {
     "name": "stderr",
     "output_type": "stream",
     "text": [
      "Train: 100%|█████████▉| 384/385 [00:03<00:00, 109.49it/s, accuracy=0.688, train_loss=1.47] \n",
      "Evaluation: 100%|██████████| 15/15 [00:01<00:00, 10.57it/s]\n"
     ]
    },
    {
     "name": "stdout",
     "output_type": "stream",
     "text": [
      "\t - Recall@20 epoch 31: 0.108333\n",
      "\t - MRR@20    epoch 31: 0.046360\n",
      "\n"
     ]
    },
    {
     "name": "stderr",
     "output_type": "stream",
     "text": [
      "Train: 100%|█████████▉| 384/385 [00:03<00:00, 113.64it/s, accuracy=0.562, train_loss=1.47] \n",
      "Evaluation: 100%|██████████| 15/15 [00:01<00:00, 10.61it/s]\n"
     ]
    },
    {
     "name": "stdout",
     "output_type": "stream",
     "text": [
      "\t - Recall@20 epoch 32: 0.108333\n",
      "\t - MRR@20    epoch 32: 0.051958\n",
      "\n"
     ]
    },
    {
     "name": "stderr",
     "output_type": "stream",
     "text": [
      "Train: 100%|█████████▉| 384/385 [00:03<00:00, 113.98it/s, accuracy=0.562, train_loss=1.36] \n",
      "Evaluation: 100%|██████████| 15/15 [00:01<00:00, 10.55it/s]\n"
     ]
    },
    {
     "name": "stdout",
     "output_type": "stream",
     "text": [
      "\t - Recall@20 epoch 33: 0.104167\n",
      "\t - MRR@20    epoch 33: 0.051164\n",
      "\n"
     ]
    },
    {
     "name": "stderr",
     "output_type": "stream",
     "text": [
      "Train: 100%|█████████▉| 384/385 [00:03<00:00, 113.09it/s, accuracy=0.562, train_loss=1.33] \n",
      "Evaluation: 100%|██████████| 15/15 [00:01<00:00, 10.47it/s]\n"
     ]
    },
    {
     "name": "stdout",
     "output_type": "stream",
     "text": [
      "\t - Recall@20 epoch 34: 0.108333\n",
      "\t - MRR@20    epoch 34: 0.051828\n",
      "\n"
     ]
    },
    {
     "name": "stderr",
     "output_type": "stream",
     "text": [
      "Train: 100%|█████████▉| 384/385 [00:03<00:00, 111.52it/s, accuracy=0.625, train_loss=1.21] \n",
      "Evaluation: 100%|██████████| 15/15 [00:01<00:00, 10.43it/s]\n"
     ]
    },
    {
     "name": "stdout",
     "output_type": "stream",
     "text": [
      "\t - Recall@20 epoch 35: 0.104167\n",
      "\t - MRR@20    epoch 35: 0.051480\n",
      "\n"
     ]
    },
    {
     "name": "stderr",
     "output_type": "stream",
     "text": [
      "Train: 100%|█████████▉| 384/385 [00:03<00:00, 114.17it/s, accuracy=0.625, train_loss=1.26] \n",
      "Evaluation: 100%|██████████| 15/15 [00:01<00:00, 10.16it/s]\n"
     ]
    },
    {
     "name": "stdout",
     "output_type": "stream",
     "text": [
      "\t - Recall@20 epoch 36: 0.108333\n",
      "\t - MRR@20    epoch 36: 0.050156\n",
      "\n"
     ]
    },
    {
     "name": "stderr",
     "output_type": "stream",
     "text": [
      "Train: 100%|█████████▉| 384/385 [00:03<00:00, 112.63it/s, accuracy=0.562, train_loss=1.28] \n",
      "Evaluation: 100%|██████████| 15/15 [00:01<00:00, 10.25it/s]\n"
     ]
    },
    {
     "name": "stdout",
     "output_type": "stream",
     "text": [
      "\t - Recall@20 epoch 37: 0.104167\n",
      "\t - MRR@20    epoch 37: 0.050820\n",
      "\n"
     ]
    },
    {
     "name": "stderr",
     "output_type": "stream",
     "text": [
      "Train: 100%|█████████▉| 384/385 [00:03<00:00, 112.19it/s, accuracy=0.625, train_loss=1.03] \n",
      "Evaluation: 100%|██████████| 15/15 [00:01<00:00, 10.54it/s]\n"
     ]
    },
    {
     "name": "stdout",
     "output_type": "stream",
     "text": [
      "\t - Recall@20 epoch 38: 0.108333\n",
      "\t - MRR@20    epoch 38: 0.049704\n",
      "\n"
     ]
    },
    {
     "name": "stderr",
     "output_type": "stream",
     "text": [
      "Train: 100%|█████████▉| 384/385 [00:03<00:00, 112.88it/s, accuracy=0.562, train_loss=1.27] \n",
      "Evaluation: 100%|██████████| 15/15 [00:01<00:00, 10.28it/s]\n"
     ]
    },
    {
     "name": "stdout",
     "output_type": "stream",
     "text": [
      "\t - Recall@20 epoch 39: 0.104167\n",
      "\t - MRR@20    epoch 39: 0.048324\n",
      "\n"
     ]
    },
    {
     "name": "stderr",
     "output_type": "stream",
     "text": [
      "Train: 100%|█████████▉| 384/385 [00:03<00:00, 110.27it/s, accuracy=0.625, train_loss=1.07] \n",
      "Evaluation: 100%|██████████| 15/15 [00:01<00:00, 10.55it/s]\n"
     ]
    },
    {
     "name": "stdout",
     "output_type": "stream",
     "text": [
      "\t - Recall@20 epoch 40: 0.112500\n",
      "\t - MRR@20    epoch 40: 0.047415\n",
      "\n"
     ]
    },
    {
     "name": "stderr",
     "output_type": "stream",
     "text": [
      "Train: 100%|█████████▉| 384/385 [00:03<00:00, 111.14it/s, accuracy=0.562, train_loss=1.05] \n",
      "Evaluation: 100%|██████████| 15/15 [00:01<00:00,  9.75it/s]\n"
     ]
    },
    {
     "name": "stdout",
     "output_type": "stream",
     "text": [
      "\t - Recall@20 epoch 41: 0.100000\n",
      "\t - MRR@20    epoch 41: 0.047460\n",
      "\n"
     ]
    },
    {
     "name": "stderr",
     "output_type": "stream",
     "text": [
      "Train: 100%|█████████▉| 384/385 [00:03<00:00, 113.40it/s, accuracy=0.5, train_loss=1.04]   \n",
      "Evaluation: 100%|██████████| 15/15 [00:01<00:00, 10.27it/s]\n"
     ]
    },
    {
     "name": "stdout",
     "output_type": "stream",
     "text": [
      "\t - Recall@20 epoch 42: 0.100000\n",
      "\t - MRR@20    epoch 42: 0.047212\n",
      "\n"
     ]
    },
    {
     "name": "stderr",
     "output_type": "stream",
     "text": [
      "Train: 100%|█████████▉| 384/385 [00:03<00:00, 112.19it/s, accuracy=0.5, train_loss=1.11]   \n",
      "Evaluation: 100%|██████████| 15/15 [00:01<00:00,  9.92it/s]\n"
     ]
    },
    {
     "name": "stdout",
     "output_type": "stream",
     "text": [
      "\t - Recall@20 epoch 43: 0.100000\n",
      "\t - MRR@20    epoch 43: 0.046448\n",
      "\n"
     ]
    },
    {
     "name": "stderr",
     "output_type": "stream",
     "text": [
      "Train: 100%|█████████▉| 384/385 [00:03<00:00, 108.30it/s, accuracy=0.625, train_loss=0.981]\n",
      "Evaluation: 100%|██████████| 15/15 [00:01<00:00, 10.36it/s]\n"
     ]
    },
    {
     "name": "stdout",
     "output_type": "stream",
     "text": [
      "\t - Recall@20 epoch 44: 0.104167\n",
      "\t - MRR@20    epoch 44: 0.049656\n",
      "\n"
     ]
    },
    {
     "name": "stderr",
     "output_type": "stream",
     "text": [
      "Train: 100%|█████████▉| 384/385 [00:03<00:00, 111.11it/s, accuracy=0.625, train_loss=0.939]\n",
      "Evaluation: 100%|██████████| 15/15 [00:01<00:00, 10.40it/s]\n"
     ]
    },
    {
     "name": "stdout",
     "output_type": "stream",
     "text": [
      "\t - Recall@20 epoch 45: 0.104167\n",
      "\t - MRR@20    epoch 45: 0.047011\n",
      "\n"
     ]
    },
    {
     "name": "stderr",
     "output_type": "stream",
     "text": [
      "Train: 100%|█████████▉| 384/385 [00:03<00:00, 111.62it/s, accuracy=0.688, train_loss=0.844]\n",
      "Evaluation: 100%|██████████| 15/15 [00:01<00:00, 10.48it/s]\n"
     ]
    },
    {
     "name": "stdout",
     "output_type": "stream",
     "text": [
      "\t - Recall@20 epoch 46: 0.104167\n",
      "\t - MRR@20    epoch 46: 0.047168\n",
      "\n"
     ]
    },
    {
     "name": "stderr",
     "output_type": "stream",
     "text": [
      "Train: 100%|█████████▉| 384/385 [00:03<00:00, 111.73it/s, accuracy=0.562, train_loss=0.902]\n",
      "Evaluation: 100%|██████████| 15/15 [00:01<00:00, 10.30it/s]\n"
     ]
    },
    {
     "name": "stdout",
     "output_type": "stream",
     "text": [
      "\t - Recall@20 epoch 47: 0.100000\n",
      "\t - MRR@20    epoch 47: 0.047388\n",
      "\n"
     ]
    },
    {
     "name": "stderr",
     "output_type": "stream",
     "text": [
      "Train: 100%|█████████▉| 384/385 [00:03<00:00, 112.47it/s, accuracy=0.562, train_loss=0.89] \n",
      "Evaluation: 100%|██████████| 15/15 [00:01<00:00, 10.47it/s]\n"
     ]
    },
    {
     "name": "stdout",
     "output_type": "stream",
     "text": [
      "\t - Recall@20 epoch 48: 0.100000\n",
      "\t - MRR@20    epoch 48: 0.046551\n",
      "\n"
     ]
    },
    {
     "name": "stderr",
     "output_type": "stream",
     "text": [
      "Train: 100%|█████████▉| 384/385 [00:03<00:00, 112.42it/s, accuracy=0.625, train_loss=0.966]\n",
      "Evaluation: 100%|██████████| 15/15 [00:01<00:00, 10.61it/s]\n"
     ]
    },
    {
     "name": "stdout",
     "output_type": "stream",
     "text": [
      "\t - Recall@20 epoch 49: 0.100000\n",
      "\t - MRR@20    epoch 49: 0.046271\n",
      "\n"
     ]
    },
    {
     "name": "stderr",
     "output_type": "stream",
     "text": [
      "Train: 100%|█████████▉| 384/385 [00:03<00:00, 109.34it/s, accuracy=0.562, train_loss=0.84] \n",
      "Evaluation: 100%|██████████| 15/15 [00:01<00:00, 10.58it/s]"
     ]
    },
    {
     "name": "stdout",
     "output_type": "stream",
     "text": [
      "\t - Recall@20 epoch 50: 0.104167\n",
      "\t - MRR@20    epoch 50: 0.047326\n",
      "\n"
     ]
    },
    {
     "name": "stderr",
     "output_type": "stream",
     "text": [
      "\n"
     ]
    }
   ],
   "source": [
    "train_model(model, args)"
   ]
  },
  {
   "cell_type": "markdown",
   "id": "af74c415",
   "metadata": {},
   "source": [
    "Recall과 MRR이 점진적으로 오르기는 하나, train_loss가 떨어지는 것에 비해 미미하다. "
   ]
  },
  {
   "cell_type": "markdown",
   "id": "53a8a6bd",
   "metadata": {},
   "source": [
    "### 2) Item len 제한\n",
    "영화들 가운데에서는 1번만 클릭되어 다음 클릭으로 이어지지 않은 영화들도 있었다. 전처리 시 이 영화들을 제거하는 작업을 추가해본다."
   ]
  },
  {
   "cell_type": "code",
   "execution_count": 49,
   "id": "93a92a7c",
   "metadata": {
    "scrolled": true
   },
   "outputs": [],
   "source": [
    "def cleanse_recursive(data: pd.DataFrame, shortest, least_click) -> pd.DataFrame:\n",
    "    while True:\n",
    "        before_len = len(data)\n",
    "        data = cleanse_short_session(data, shortest)\n",
    "        data = cleanse_unpopular_item(data, least_click)\n",
    "        after_len = len(data)\n",
    "        if before_len == after_len:\n",
    "            break\n",
    "    return data\n",
    "\n",
    "def cleanse_unpopular_item(data: pd.DataFrame, least_click):\n",
    "    item_popular = data.groupby('ItemId').size()\n",
    "    item_use = item_popular[item_popular >= least_click].index\n",
    "    data = data[data['ItemId'].isin(item_use)]\n",
    "    return data"
   ]
  },
  {
   "cell_type": "code",
   "execution_count": 50,
   "id": "b1bc4000",
   "metadata": {},
   "outputs": [
    {
     "data": {
      "text/html": [
       "<div>\n",
       "<style scoped>\n",
       "    .dataframe tbody tr th:only-of-type {\n",
       "        vertical-align: middle;\n",
       "    }\n",
       "\n",
       "    .dataframe tbody tr th {\n",
       "        vertical-align: top;\n",
       "    }\n",
       "\n",
       "    .dataframe thead th {\n",
       "        text-align: right;\n",
       "    }\n",
       "</style>\n",
       "<table border=\"1\" class=\"dataframe\">\n",
       "  <thead>\n",
       "    <tr style=\"text-align: right;\">\n",
       "      <th></th>\n",
       "      <th>UserId</th>\n",
       "      <th>ItemId</th>\n",
       "      <th>Rating</th>\n",
       "      <th>Time</th>\n",
       "      <th>SessionId</th>\n",
       "    </tr>\n",
       "  </thead>\n",
       "  <tbody>\n",
       "    <tr>\n",
       "      <th>5333</th>\n",
       "      <td>36</td>\n",
       "      <td>1387</td>\n",
       "      <td>5</td>\n",
       "      <td>1015904819</td>\n",
       "      <td>2791</td>\n",
       "    </tr>\n",
       "    <tr>\n",
       "      <th>5334</th>\n",
       "      <td>36</td>\n",
       "      <td>1201</td>\n",
       "      <td>4</td>\n",
       "      <td>1015904819</td>\n",
       "      <td>2791</td>\n",
       "    </tr>\n",
       "    <tr>\n",
       "      <th>5336</th>\n",
       "      <td>36</td>\n",
       "      <td>2167</td>\n",
       "      <td>5</td>\n",
       "      <td>1015904905</td>\n",
       "      <td>2793</td>\n",
       "    </tr>\n",
       "    <tr>\n",
       "      <th>5337</th>\n",
       "      <td>36</td>\n",
       "      <td>2951</td>\n",
       "      <td>4</td>\n",
       "      <td>1015904905</td>\n",
       "      <td>2793</td>\n",
       "    </tr>\n",
       "    <tr>\n",
       "      <th>5338</th>\n",
       "      <td>36</td>\n",
       "      <td>2115</td>\n",
       "      <td>5</td>\n",
       "      <td>1015904905</td>\n",
       "      <td>2793</td>\n",
       "    </tr>\n",
       "    <tr>\n",
       "      <th>...</th>\n",
       "      <td>...</td>\n",
       "      <td>...</td>\n",
       "      <td>...</td>\n",
       "      <td>...</td>\n",
       "      <td>...</td>\n",
       "    </tr>\n",
       "    <tr>\n",
       "      <th>992778</th>\n",
       "      <td>5996</td>\n",
       "      <td>2375</td>\n",
       "      <td>3</td>\n",
       "      <td>1020111221</td>\n",
       "      <td>468252</td>\n",
       "    </tr>\n",
       "    <tr>\n",
       "      <th>992779</th>\n",
       "      <td>5996</td>\n",
       "      <td>2616</td>\n",
       "      <td>3</td>\n",
       "      <td>1020111375</td>\n",
       "      <td>468253</td>\n",
       "    </tr>\n",
       "    <tr>\n",
       "      <th>992780</th>\n",
       "      <td>5996</td>\n",
       "      <td>3707</td>\n",
       "      <td>5</td>\n",
       "      <td>1020111375</td>\n",
       "      <td>468253</td>\n",
       "    </tr>\n",
       "    <tr>\n",
       "      <th>992781</th>\n",
       "      <td>5996</td>\n",
       "      <td>781</td>\n",
       "      <td>5</td>\n",
       "      <td>1020111524</td>\n",
       "      <td>468254</td>\n",
       "    </tr>\n",
       "    <tr>\n",
       "      <th>992782</th>\n",
       "      <td>5996</td>\n",
       "      <td>542</td>\n",
       "      <td>3</td>\n",
       "      <td>1020111524</td>\n",
       "      <td>468254</td>\n",
       "    </tr>\n",
       "  </tbody>\n",
       "</table>\n",
       "<p>9480 rows × 5 columns</p>\n",
       "</div>"
      ],
      "text/plain": [
       "        UserId  ItemId  Rating        Time  SessionId\n",
       "5333        36    1387       5  1015904819       2791\n",
       "5334        36    1201       4  1015904819       2791\n",
       "5336        36    2167       5  1015904905       2793\n",
       "5337        36    2951       4  1015904905       2793\n",
       "5338        36    2115       5  1015904905       2793\n",
       "...        ...     ...     ...         ...        ...\n",
       "992778    5996    2375       3  1020111221     468252\n",
       "992779    5996    2616       3  1020111375     468253\n",
       "992780    5996    3707       5  1020111375     468253\n",
       "992781    5996     781       5  1020111524     468254\n",
       "992782    5996     542       3  1020111524     468254\n",
       "\n",
       "[9480 rows x 5 columns]"
      ]
     },
     "execution_count": 50,
     "metadata": {},
     "output_type": "execute_result"
    }
   ],
   "source": [
    "data_cleanned = cleanse_recursive(data_year_ago, shortest=2, least_click=2)\n",
    "data_cleanned"
   ]
  },
  {
   "cell_type": "code",
   "execution_count": 51,
   "id": "e7f706b1",
   "metadata": {},
   "outputs": [
    {
     "name": "stdout",
     "output_type": "stream",
     "text": [
      "* train Set Stats Info\n",
      "\t Events: 8571\n",
      "\t Sessions: 3119\n",
      "\t Items: 1679\n",
      "\t First Time : 1014924099\n",
      "\t Last Time : 1043606741\n",
      "\n",
      "* valid Set Stats Info\n",
      "\t Events: 603\n",
      "\t Sessions: 248\n",
      "\t Items: 499\n",
      "\t First Time : 1043779275\n",
      "\t Last Time : 1045000124\n",
      "\n",
      "* test Set Stats Info\n",
      "\t Events: 295\n",
      "\t Sessions: 111\n",
      "\t Items: 277\n",
      "\t First Time : 1045159856\n",
      "\t Last Time : 1046454548\n",
      "\n"
     ]
    }
   ],
   "source": [
    "tr, test = split_by_date(data_cleanned, n_days=15)\n",
    "tr, val = split_by_date(tr, n_days=15)\n",
    "\n",
    "stats_info(tr, 'train')\n",
    "stats_info(val, 'valid')\n",
    "stats_info(test, 'test')"
   ]
  },
  {
   "cell_type": "code",
   "execution_count": 52,
   "id": "2d6c7c56",
   "metadata": {},
   "outputs": [],
   "source": [
    "id2idx = {item_id : index for index, item_id in enumerate(tr['ItemId'].unique())}\n",
    "\n",
    "tr = indexing(tr, id2idx)\n",
    "val = indexing(val, id2idx)\n",
    "test = indexing(test, id2idx)"
   ]
  },
  {
   "cell_type": "code",
   "execution_count": 53,
   "id": "e8e34729",
   "metadata": {},
   "outputs": [],
   "source": [
    "save_path = data_path / 'processed'\n",
    "save_path.mkdir(parents=True, exist_ok=True)\n",
    "\n",
    "tr.to_pickle(save_path / 'train.pkl')\n",
    "val.to_pickle(save_path / 'valid.pkl')\n",
    "test.to_pickle(save_path / 'test.pkl')"
   ]
  },
  {
   "cell_type": "code",
   "execution_count": 54,
   "id": "f87e562a",
   "metadata": {},
   "outputs": [
    {
     "data": {
      "text/html": [
       "<div>\n",
       "<style scoped>\n",
       "    .dataframe tbody tr th:only-of-type {\n",
       "        vertical-align: middle;\n",
       "    }\n",
       "\n",
       "    .dataframe tbody tr th {\n",
       "        vertical-align: top;\n",
       "    }\n",
       "\n",
       "    .dataframe thead th {\n",
       "        text-align: right;\n",
       "    }\n",
       "</style>\n",
       "<table border=\"1\" class=\"dataframe\">\n",
       "  <thead>\n",
       "    <tr style=\"text-align: right;\">\n",
       "      <th></th>\n",
       "      <th>UserId</th>\n",
       "      <th>ItemId</th>\n",
       "      <th>Rating</th>\n",
       "      <th>Time</th>\n",
       "      <th>SessionId</th>\n",
       "      <th>item_idx</th>\n",
       "    </tr>\n",
       "  </thead>\n",
       "  <tbody>\n",
       "    <tr>\n",
       "      <th>5333</th>\n",
       "      <td>36</td>\n",
       "      <td>1387</td>\n",
       "      <td>5</td>\n",
       "      <td>1015904819</td>\n",
       "      <td>2791</td>\n",
       "      <td>0</td>\n",
       "    </tr>\n",
       "    <tr>\n",
       "      <th>5334</th>\n",
       "      <td>36</td>\n",
       "      <td>1201</td>\n",
       "      <td>4</td>\n",
       "      <td>1015904819</td>\n",
       "      <td>2791</td>\n",
       "      <td>1</td>\n",
       "    </tr>\n",
       "    <tr>\n",
       "      <th>5336</th>\n",
       "      <td>36</td>\n",
       "      <td>2167</td>\n",
       "      <td>5</td>\n",
       "      <td>1015904905</td>\n",
       "      <td>2793</td>\n",
       "      <td>2</td>\n",
       "    </tr>\n",
       "    <tr>\n",
       "      <th>5337</th>\n",
       "      <td>36</td>\n",
       "      <td>2951</td>\n",
       "      <td>4</td>\n",
       "      <td>1015904905</td>\n",
       "      <td>2793</td>\n",
       "      <td>3</td>\n",
       "    </tr>\n",
       "    <tr>\n",
       "      <th>5338</th>\n",
       "      <td>36</td>\n",
       "      <td>2115</td>\n",
       "      <td>5</td>\n",
       "      <td>1015904905</td>\n",
       "      <td>2793</td>\n",
       "      <td>4</td>\n",
       "    </tr>\n",
       "    <tr>\n",
       "      <th>...</th>\n",
       "      <td>...</td>\n",
       "      <td>...</td>\n",
       "      <td>...</td>\n",
       "      <td>...</td>\n",
       "      <td>...</td>\n",
       "      <td>...</td>\n",
       "    </tr>\n",
       "    <tr>\n",
       "      <th>992778</th>\n",
       "      <td>5996</td>\n",
       "      <td>2375</td>\n",
       "      <td>3</td>\n",
       "      <td>1020111221</td>\n",
       "      <td>468252</td>\n",
       "      <td>451</td>\n",
       "    </tr>\n",
       "    <tr>\n",
       "      <th>992779</th>\n",
       "      <td>5996</td>\n",
       "      <td>2616</td>\n",
       "      <td>3</td>\n",
       "      <td>1020111375</td>\n",
       "      <td>468253</td>\n",
       "      <td>266</td>\n",
       "    </tr>\n",
       "    <tr>\n",
       "      <th>992780</th>\n",
       "      <td>5996</td>\n",
       "      <td>3707</td>\n",
       "      <td>5</td>\n",
       "      <td>1020111375</td>\n",
       "      <td>468253</td>\n",
       "      <td>1392</td>\n",
       "    </tr>\n",
       "    <tr>\n",
       "      <th>992781</th>\n",
       "      <td>5996</td>\n",
       "      <td>781</td>\n",
       "      <td>5</td>\n",
       "      <td>1020111524</td>\n",
       "      <td>468254</td>\n",
       "      <td>1633</td>\n",
       "    </tr>\n",
       "    <tr>\n",
       "      <th>992782</th>\n",
       "      <td>5996</td>\n",
       "      <td>542</td>\n",
       "      <td>3</td>\n",
       "      <td>1020111524</td>\n",
       "      <td>468254</td>\n",
       "      <td>1313</td>\n",
       "    </tr>\n",
       "  </tbody>\n",
       "</table>\n",
       "<p>8571 rows × 6 columns</p>\n",
       "</div>"
      ],
      "text/plain": [
       "        UserId  ItemId  Rating        Time  SessionId  item_idx\n",
       "5333        36    1387       5  1015904819       2791         0\n",
       "5334        36    1201       4  1015904819       2791         1\n",
       "5336        36    2167       5  1015904905       2793         2\n",
       "5337        36    2951       4  1015904905       2793         3\n",
       "5338        36    2115       5  1015904905       2793         4\n",
       "...        ...     ...     ...         ...        ...       ...\n",
       "992778    5996    2375       3  1020111221     468252       451\n",
       "992779    5996    2616       3  1020111375     468253       266\n",
       "992780    5996    3707       5  1020111375     468253      1392\n",
       "992781    5996     781       5  1020111524     468254      1633\n",
       "992782    5996     542       3  1020111524     468254      1313\n",
       "\n",
       "[8571 rows x 6 columns]"
      ]
     },
     "execution_count": 54,
     "metadata": {},
     "output_type": "execute_result"
    }
   ],
   "source": [
    "tr_dataset = SessionDataset(tr)\n",
    "tr_dataset.df"
   ]
  },
  {
   "cell_type": "code",
   "execution_count": 55,
   "id": "bf843ff0",
   "metadata": {},
   "outputs": [
    {
     "data": {
      "text/plain": [
       "array([   0,    2,    5, ..., 8567, 8569, 8571], dtype=int32)"
      ]
     },
     "execution_count": 55,
     "metadata": {},
     "output_type": "execute_result"
    }
   ],
   "source": [
    "tr_dataset.click_offsets"
   ]
  },
  {
   "cell_type": "code",
   "execution_count": 56,
   "id": "e312a3d8",
   "metadata": {},
   "outputs": [
    {
     "data": {
      "text/plain": [
       "array([   0,    1,    2, ..., 3116, 3117, 3118])"
      ]
     },
     "execution_count": 56,
     "metadata": {},
     "output_type": "execute_result"
    }
   ],
   "source": [
    "tr_dataset.session_idx"
   ]
  },
  {
   "cell_type": "code",
   "execution_count": 57,
   "id": "a3d20943",
   "metadata": {},
   "outputs": [],
   "source": [
    "tr_data_loader = SessionDataLoader(tr_dataset, batch_size=4)\n",
    "iter_ex = iter(tr_data_loader)"
   ]
  },
  {
   "cell_type": "code",
   "execution_count": 58,
   "id": "cd2aaebe",
   "metadata": {},
   "outputs": [
    {
     "name": "stdout",
     "output_type": "stream",
     "text": [
      "Model: \"model_1\"\n",
      "_________________________________________________________________\n",
      "Layer (type)                 Output Shape              Param #   \n",
      "=================================================================\n",
      "input_2 (InputLayer)         [(16, 1, 1679)]           0         \n",
      "_________________________________________________________________\n",
      "GRU (GRU)                    [(16, 50), (16, 50)]      259650    \n",
      "_________________________________________________________________\n",
      "dropout_1 (Dropout)          (16, 50)                  0         \n",
      "_________________________________________________________________\n",
      "dense_1 (Dense)              (16, 1679)                85629     \n",
      "=================================================================\n",
      "Total params: 345,279\n",
      "Trainable params: 345,279\n",
      "Non-trainable params: 0\n",
      "_________________________________________________________________\n"
     ]
    }
   ],
   "source": [
    "args = Args(tr, val, test, batch_size=16, hsz=50, drop_rate=0.1, lr=0.001, epochs=50, k=20)\n",
    "model = create_model(args)"
   ]
  },
  {
   "cell_type": "code",
   "execution_count": 59,
   "id": "9f1233e3",
   "metadata": {},
   "outputs": [
    {
     "name": "stderr",
     "output_type": "stream",
     "text": [
      "Train: 100%|██████████| 340/340 [00:04<00:00, 78.24it/s, accuracy=0, train_loss=7.29]     \n",
      "Evaluation:  95%|█████████▌| 21/22 [00:02<00:00,  9.21it/s]\n"
     ]
    },
    {
     "name": "stdout",
     "output_type": "stream",
     "text": [
      "\t - Recall@20 epoch 1: 0.056548\n",
      "\t - MRR@20    epoch 1: 0.008993\n",
      "\n"
     ]
    },
    {
     "name": "stderr",
     "output_type": "stream",
     "text": [
      "Train: 100%|██████████| 340/340 [00:03<00:00, 110.00it/s, accuracy=0, train_loss=7.16]     \n",
      "Evaluation:  95%|█████████▌| 21/22 [00:02<00:00,  9.70it/s]\n"
     ]
    },
    {
     "name": "stdout",
     "output_type": "stream",
     "text": [
      "\t - Recall@20 epoch 2: 0.044643\n",
      "\t - MRR@20    epoch 2: 0.005597\n",
      "\n"
     ]
    },
    {
     "name": "stderr",
     "output_type": "stream",
     "text": [
      "Train: 100%|██████████| 340/340 [00:03<00:00, 108.96it/s, accuracy=0, train_loss=7.07]     \n",
      "Evaluation:  95%|█████████▌| 21/22 [00:02<00:00,  9.83it/s]\n"
     ]
    },
    {
     "name": "stdout",
     "output_type": "stream",
     "text": [
      "\t - Recall@20 epoch 3: 0.047619\n",
      "\t - MRR@20    epoch 3: 0.005655\n",
      "\n"
     ]
    },
    {
     "name": "stderr",
     "output_type": "stream",
     "text": [
      "Train: 100%|██████████| 340/340 [00:03<00:00, 111.25it/s, accuracy=0, train_loss=6.96]     \n",
      "Evaluation:  95%|█████████▌| 21/22 [00:02<00:00, 10.07it/s]\n"
     ]
    },
    {
     "name": "stdout",
     "output_type": "stream",
     "text": [
      "\t - Recall@20 epoch 4: 0.050595\n",
      "\t - MRR@20    epoch 4: 0.007221\n",
      "\n"
     ]
    },
    {
     "name": "stderr",
     "output_type": "stream",
     "text": [
      "Train: 100%|██████████| 340/340 [00:03<00:00, 111.16it/s, accuracy=0, train_loss=6.86]     \n",
      "Evaluation:  95%|█████████▌| 21/22 [00:02<00:00, 10.08it/s]\n"
     ]
    },
    {
     "name": "stdout",
     "output_type": "stream",
     "text": [
      "\t - Recall@20 epoch 5: 0.053571\n",
      "\t - MRR@20    epoch 5: 0.012077\n",
      "\n"
     ]
    },
    {
     "name": "stderr",
     "output_type": "stream",
     "text": [
      "Train: 100%|██████████| 340/340 [00:03<00:00, 111.42it/s, accuracy=0, train_loss=6.73]     \n",
      "Evaluation:  95%|█████████▌| 21/22 [00:02<00:00,  9.88it/s]\n"
     ]
    },
    {
     "name": "stdout",
     "output_type": "stream",
     "text": [
      "\t - Recall@20 epoch 6: 0.056548\n",
      "\t - MRR@20    epoch 6: 0.016701\n",
      "\n"
     ]
    },
    {
     "name": "stderr",
     "output_type": "stream",
     "text": [
      "Train: 100%|██████████| 340/340 [00:03<00:00, 110.43it/s, accuracy=0, train_loss=6.59]     \n",
      "Evaluation:  95%|█████████▌| 21/22 [00:02<00:00,  9.75it/s]\n"
     ]
    },
    {
     "name": "stdout",
     "output_type": "stream",
     "text": [
      "\t - Recall@20 epoch 7: 0.068452\n",
      "\t - MRR@20    epoch 7: 0.017096\n",
      "\n"
     ]
    },
    {
     "name": "stderr",
     "output_type": "stream",
     "text": [
      "Train: 100%|██████████| 340/340 [00:03<00:00, 112.73it/s, accuracy=0, train_loss=6.37]     \n",
      "Evaluation:  95%|█████████▌| 21/22 [00:02<00:00,  9.87it/s]\n"
     ]
    },
    {
     "name": "stdout",
     "output_type": "stream",
     "text": [
      "\t - Recall@20 epoch 8: 0.062500\n",
      "\t - MRR@20    epoch 8: 0.021795\n",
      "\n"
     ]
    },
    {
     "name": "stderr",
     "output_type": "stream",
     "text": [
      "Train: 100%|██████████| 340/340 [00:02<00:00, 114.48it/s, accuracy=0, train_loss=6.2]      \n",
      "Evaluation:  95%|█████████▌| 21/22 [00:02<00:00, 10.16it/s]\n"
     ]
    },
    {
     "name": "stdout",
     "output_type": "stream",
     "text": [
      "\t - Recall@20 epoch 9: 0.071429\n",
      "\t - MRR@20    epoch 9: 0.026181\n",
      "\n"
     ]
    },
    {
     "name": "stderr",
     "output_type": "stream",
     "text": [
      "Train: 100%|██████████| 340/340 [00:03<00:00, 112.89it/s, accuracy=0.125, train_loss=5.95] \n",
      "Evaluation:  95%|█████████▌| 21/22 [00:02<00:00, 10.29it/s]\n"
     ]
    },
    {
     "name": "stdout",
     "output_type": "stream",
     "text": [
      "\t - Recall@20 epoch 10: 0.062500\n",
      "\t - MRR@20    epoch 10: 0.029979\n",
      "\n"
     ]
    },
    {
     "name": "stderr",
     "output_type": "stream",
     "text": [
      "Train: 100%|██████████| 340/340 [00:02<00:00, 113.82it/s, accuracy=0.0625, train_loss=5.89]\n",
      "Evaluation:  95%|█████████▌| 21/22 [00:02<00:00,  9.70it/s]\n"
     ]
    },
    {
     "name": "stdout",
     "output_type": "stream",
     "text": [
      "\t - Recall@20 epoch 11: 0.071429\n",
      "\t - MRR@20    epoch 11: 0.031269\n",
      "\n"
     ]
    },
    {
     "name": "stderr",
     "output_type": "stream",
     "text": [
      "Train: 100%|██████████| 340/340 [00:02<00:00, 114.78it/s, accuracy=0.25, train_loss=5.5]   \n",
      "Evaluation:  95%|█████████▌| 21/22 [00:02<00:00, 10.28it/s]\n"
     ]
    },
    {
     "name": "stdout",
     "output_type": "stream",
     "text": [
      "\t - Recall@20 epoch 12: 0.071429\n",
      "\t - MRR@20    epoch 12: 0.030560\n",
      "\n"
     ]
    },
    {
     "name": "stderr",
     "output_type": "stream",
     "text": [
      "Train: 100%|██████████| 340/340 [00:03<00:00, 110.93it/s, accuracy=0.25, train_loss=5.33]  \n",
      "Evaluation:  95%|█████████▌| 21/22 [00:02<00:00, 10.09it/s]\n"
     ]
    },
    {
     "name": "stdout",
     "output_type": "stream",
     "text": [
      "\t - Recall@20 epoch 13: 0.068452\n",
      "\t - MRR@20    epoch 13: 0.033530\n",
      "\n"
     ]
    },
    {
     "name": "stderr",
     "output_type": "stream",
     "text": [
      "Train: 100%|██████████| 340/340 [00:03<00:00, 107.83it/s, accuracy=0.312, train_loss=5.03] \n",
      "Evaluation:  95%|█████████▌| 21/22 [00:02<00:00, 10.19it/s]\n"
     ]
    },
    {
     "name": "stdout",
     "output_type": "stream",
     "text": [
      "\t - Recall@20 epoch 14: 0.068452\n",
      "\t - MRR@20    epoch 14: 0.036334\n",
      "\n"
     ]
    },
    {
     "name": "stderr",
     "output_type": "stream",
     "text": [
      "Train: 100%|██████████| 340/340 [00:03<00:00, 112.45it/s, accuracy=0.375, train_loss=4.73] \n",
      "Evaluation:  95%|█████████▌| 21/22 [00:02<00:00, 10.01it/s]\n"
     ]
    },
    {
     "name": "stdout",
     "output_type": "stream",
     "text": [
      "\t - Recall@20 epoch 15: 0.080357\n",
      "\t - MRR@20    epoch 15: 0.038898\n",
      "\n"
     ]
    },
    {
     "name": "stderr",
     "output_type": "stream",
     "text": [
      "Train: 100%|██████████| 340/340 [00:03<00:00, 113.29it/s, accuracy=0.312, train_loss=4.47] \n",
      "Evaluation:  95%|█████████▌| 21/22 [00:02<00:00, 10.33it/s]\n"
     ]
    },
    {
     "name": "stdout",
     "output_type": "stream",
     "text": [
      "\t - Recall@20 epoch 16: 0.080357\n",
      "\t - MRR@20    epoch 16: 0.037404\n",
      "\n"
     ]
    },
    {
     "name": "stderr",
     "output_type": "stream",
     "text": [
      "Train: 100%|██████████| 340/340 [00:02<00:00, 113.61it/s, accuracy=0.312, train_loss=4.22] \n",
      "Evaluation:  95%|█████████▌| 21/22 [00:02<00:00, 10.22it/s]\n"
     ]
    },
    {
     "name": "stdout",
     "output_type": "stream",
     "text": [
      "\t - Recall@20 epoch 17: 0.077381\n",
      "\t - MRR@20    epoch 17: 0.038342\n",
      "\n"
     ]
    },
    {
     "name": "stderr",
     "output_type": "stream",
     "text": [
      "Train: 100%|██████████| 340/340 [00:03<00:00, 113.08it/s, accuracy=0.375, train_loss=4]    \n",
      "Evaluation:  95%|█████████▌| 21/22 [00:02<00:00, 10.22it/s]\n"
     ]
    },
    {
     "name": "stdout",
     "output_type": "stream",
     "text": [
      "\t - Recall@20 epoch 18: 0.086310\n",
      "\t - MRR@20    epoch 18: 0.039146\n",
      "\n"
     ]
    },
    {
     "name": "stderr",
     "output_type": "stream",
     "text": [
      "Train: 100%|██████████| 340/340 [00:03<00:00, 108.98it/s, accuracy=0.438, train_loss=3.59] \n",
      "Evaluation:  95%|█████████▌| 21/22 [00:02<00:00,  9.99it/s]\n"
     ]
    },
    {
     "name": "stdout",
     "output_type": "stream",
     "text": [
      "\t - Recall@20 epoch 19: 0.080357\n",
      "\t - MRR@20    epoch 19: 0.041970\n",
      "\n"
     ]
    },
    {
     "name": "stderr",
     "output_type": "stream",
     "text": [
      "Train: 100%|██████████| 340/340 [00:03<00:00, 109.82it/s, accuracy=0.438, train_loss=3.39] \n",
      "Evaluation:  95%|█████████▌| 21/22 [00:02<00:00,  9.83it/s]\n"
     ]
    },
    {
     "name": "stdout",
     "output_type": "stream",
     "text": [
      "\t - Recall@20 epoch 20: 0.080357\n",
      "\t - MRR@20    epoch 20: 0.045039\n",
      "\n"
     ]
    },
    {
     "name": "stderr",
     "output_type": "stream",
     "text": [
      "Train: 100%|██████████| 340/340 [00:03<00:00, 110.84it/s, accuracy=0.375, train_loss=3.33] \n",
      "Evaluation:  95%|█████████▌| 21/22 [00:02<00:00, 10.29it/s]\n"
     ]
    },
    {
     "name": "stdout",
     "output_type": "stream",
     "text": [
      "\t - Recall@20 epoch 21: 0.077381\n",
      "\t - MRR@20    epoch 21: 0.044818\n",
      "\n"
     ]
    },
    {
     "name": "stderr",
     "output_type": "stream",
     "text": [
      "Train: 100%|██████████| 340/340 [00:02<00:00, 114.12it/s, accuracy=0.438, train_loss=2.93] \n",
      "Evaluation:  95%|█████████▌| 21/22 [00:02<00:00, 10.08it/s]\n"
     ]
    },
    {
     "name": "stdout",
     "output_type": "stream",
     "text": [
      "\t - Recall@20 epoch 22: 0.080357\n",
      "\t - MRR@20    epoch 22: 0.047871\n",
      "\n"
     ]
    },
    {
     "name": "stderr",
     "output_type": "stream",
     "text": [
      "Train: 100%|██████████| 340/340 [00:03<00:00, 111.83it/s, accuracy=0.375, train_loss=2.79]\n",
      "Evaluation:  95%|█████████▌| 21/22 [00:02<00:00, 10.20it/s]\n"
     ]
    },
    {
     "name": "stdout",
     "output_type": "stream",
     "text": [
      "\t - Recall@20 epoch 23: 0.077381\n",
      "\t - MRR@20    epoch 23: 0.047689\n",
      "\n"
     ]
    },
    {
     "name": "stderr",
     "output_type": "stream",
     "text": [
      "Train: 100%|██████████| 340/340 [00:02<00:00, 113.41it/s, accuracy=0.562, train_loss=2.59]\n",
      "Evaluation:  95%|█████████▌| 21/22 [00:02<00:00, 10.18it/s]\n"
     ]
    },
    {
     "name": "stdout",
     "output_type": "stream",
     "text": [
      "\t - Recall@20 epoch 24: 0.077381\n",
      "\t - MRR@20    epoch 24: 0.047630\n",
      "\n"
     ]
    },
    {
     "name": "stderr",
     "output_type": "stream",
     "text": [
      "Train: 100%|██████████| 340/340 [00:03<00:00, 112.44it/s, accuracy=0.438, train_loss=2.33]\n",
      "Evaluation:  95%|█████████▌| 21/22 [00:02<00:00,  9.86it/s]\n"
     ]
    },
    {
     "name": "stdout",
     "output_type": "stream",
     "text": [
      "\t - Recall@20 epoch 25: 0.074405\n",
      "\t - MRR@20    epoch 25: 0.047328\n",
      "\n"
     ]
    },
    {
     "name": "stderr",
     "output_type": "stream",
     "text": [
      "Train: 100%|██████████| 340/340 [00:03<00:00, 112.84it/s, accuracy=0.625, train_loss=2.08]\n",
      "Evaluation:  95%|█████████▌| 21/22 [00:02<00:00, 10.42it/s]\n"
     ]
    },
    {
     "name": "stdout",
     "output_type": "stream",
     "text": [
      "\t - Recall@20 epoch 26: 0.074405\n",
      "\t - MRR@20    epoch 26: 0.046881\n",
      "\n"
     ]
    },
    {
     "name": "stderr",
     "output_type": "stream",
     "text": [
      "Train: 100%|██████████| 340/340 [00:03<00:00, 111.24it/s, accuracy=0.438, train_loss=2.22]\n",
      "Evaluation:  95%|█████████▌| 21/22 [00:02<00:00,  9.29it/s]\n"
     ]
    },
    {
     "name": "stdout",
     "output_type": "stream",
     "text": [
      "\t - Recall@20 epoch 27: 0.074405\n",
      "\t - MRR@20    epoch 27: 0.045377\n",
      "\n"
     ]
    },
    {
     "name": "stderr",
     "output_type": "stream",
     "text": [
      "Train: 100%|██████████| 340/340 [00:02<00:00, 113.69it/s, accuracy=0.688, train_loss=1.82] \n",
      "Evaluation:  95%|█████████▌| 21/22 [00:01<00:00, 10.54it/s]\n"
     ]
    },
    {
     "name": "stdout",
     "output_type": "stream",
     "text": [
      "\t - Recall@20 epoch 28: 0.071429\n",
      "\t - MRR@20    epoch 28: 0.045388\n",
      "\n"
     ]
    },
    {
     "name": "stderr",
     "output_type": "stream",
     "text": [
      "Train: 100%|██████████| 340/340 [00:02<00:00, 114.86it/s, accuracy=0.625, train_loss=1.7] \n",
      "Evaluation:  95%|█████████▌| 21/22 [00:02<00:00, 10.30it/s]\n"
     ]
    },
    {
     "name": "stdout",
     "output_type": "stream",
     "text": [
      "\t - Recall@20 epoch 29: 0.071429\n",
      "\t - MRR@20    epoch 29: 0.045312\n",
      "\n"
     ]
    },
    {
     "name": "stderr",
     "output_type": "stream",
     "text": [
      "Train: 100%|██████████| 340/340 [00:02<00:00, 116.20it/s, accuracy=0.375, train_loss=1.78] \n",
      "Evaluation:  95%|█████████▌| 21/22 [00:01<00:00, 10.64it/s]\n"
     ]
    },
    {
     "name": "stdout",
     "output_type": "stream",
     "text": [
      "\t - Recall@20 epoch 30: 0.077381\n",
      "\t - MRR@20    epoch 30: 0.045167\n",
      "\n"
     ]
    },
    {
     "name": "stderr",
     "output_type": "stream",
     "text": [
      "Train: 100%|██████████| 340/340 [00:02<00:00, 115.02it/s, accuracy=0.5, train_loss=1.79]   \n",
      "Evaluation:  95%|█████████▌| 21/22 [00:02<00:00, 10.01it/s]\n"
     ]
    },
    {
     "name": "stdout",
     "output_type": "stream",
     "text": [
      "\t - Recall@20 epoch 31: 0.074405\n",
      "\t - MRR@20    epoch 31: 0.043549\n",
      "\n"
     ]
    },
    {
     "name": "stderr",
     "output_type": "stream",
     "text": [
      "Train: 100%|██████████| 340/340 [00:03<00:00, 112.79it/s, accuracy=0.375, train_loss=1.59] \n",
      "Evaluation:  95%|█████████▌| 21/22 [00:01<00:00, 10.66it/s]\n"
     ]
    },
    {
     "name": "stdout",
     "output_type": "stream",
     "text": [
      "\t - Recall@20 epoch 32: 0.074405\n",
      "\t - MRR@20    epoch 32: 0.043592\n",
      "\n"
     ]
    },
    {
     "name": "stderr",
     "output_type": "stream",
     "text": [
      "Train: 100%|██████████| 340/340 [00:02<00:00, 114.10it/s, accuracy=0.5, train_loss=1.58]   \n",
      "Evaluation:  95%|█████████▌| 21/22 [00:02<00:00, 10.43it/s]\n"
     ]
    },
    {
     "name": "stdout",
     "output_type": "stream",
     "text": [
      "\t - Recall@20 epoch 33: 0.074405\n",
      "\t - MRR@20    epoch 33: 0.043615\n",
      "\n"
     ]
    },
    {
     "name": "stderr",
     "output_type": "stream",
     "text": [
      "Train: 100%|██████████| 340/340 [00:02<00:00, 114.03it/s, accuracy=0.375, train_loss=1.47] \n",
      "Evaluation:  95%|█████████▌| 21/22 [00:02<00:00, 10.17it/s]\n"
     ]
    },
    {
     "name": "stdout",
     "output_type": "stream",
     "text": [
      "\t - Recall@20 epoch 34: 0.077381\n",
      "\t - MRR@20    epoch 34: 0.042249\n",
      "\n"
     ]
    },
    {
     "name": "stderr",
     "output_type": "stream",
     "text": [
      "Train: 100%|██████████| 340/340 [00:02<00:00, 115.37it/s, accuracy=0.438, train_loss=1.46] \n",
      "Evaluation:  95%|█████████▌| 21/22 [00:02<00:00, 10.33it/s]\n"
     ]
    },
    {
     "name": "stdout",
     "output_type": "stream",
     "text": [
      "\t - Recall@20 epoch 35: 0.077381\n",
      "\t - MRR@20    epoch 35: 0.042244\n",
      "\n"
     ]
    },
    {
     "name": "stderr",
     "output_type": "stream",
     "text": [
      "Train: 100%|██████████| 340/340 [00:03<00:00, 112.95it/s, accuracy=0.375, train_loss=1.36] \n",
      "Evaluation:  95%|█████████▌| 21/22 [00:02<00:00, 10.38it/s]\n"
     ]
    },
    {
     "name": "stdout",
     "output_type": "stream",
     "text": [
      "\t - Recall@20 epoch 36: 0.074405\n",
      "\t - MRR@20    epoch 36: 0.040048\n",
      "\n"
     ]
    },
    {
     "name": "stderr",
     "output_type": "stream",
     "text": [
      "Train: 100%|██████████| 340/340 [00:02<00:00, 114.83it/s, accuracy=0.5, train_loss=1.36]   \n",
      "Evaluation:  95%|█████████▌| 21/22 [00:02<00:00, 10.01it/s]\n"
     ]
    },
    {
     "name": "stdout",
     "output_type": "stream",
     "text": [
      "\t - Recall@20 epoch 37: 0.074405\n",
      "\t - MRR@20    epoch 37: 0.042387\n",
      "\n"
     ]
    },
    {
     "name": "stderr",
     "output_type": "stream",
     "text": [
      "Train: 100%|██████████| 340/340 [00:02<00:00, 114.77it/s, accuracy=0.375, train_loss=1.35] \n",
      "Evaluation:  95%|█████████▌| 21/22 [00:02<00:00, 10.10it/s]\n"
     ]
    },
    {
     "name": "stdout",
     "output_type": "stream",
     "text": [
      "\t - Recall@20 epoch 38: 0.071429\n",
      "\t - MRR@20    epoch 38: 0.040864\n",
      "\n"
     ]
    },
    {
     "name": "stderr",
     "output_type": "stream",
     "text": [
      "Train: 100%|██████████| 340/340 [00:03<00:00, 110.77it/s, accuracy=0.562, train_loss=1.14] \n",
      "Evaluation:  95%|█████████▌| 21/22 [00:02<00:00, 10.14it/s]\n"
     ]
    },
    {
     "name": "stdout",
     "output_type": "stream",
     "text": [
      "\t - Recall@20 epoch 39: 0.074405\n",
      "\t - MRR@20    epoch 39: 0.039047\n",
      "\n"
     ]
    },
    {
     "name": "stderr",
     "output_type": "stream",
     "text": [
      "Train: 100%|██████████| 340/340 [00:02<00:00, 115.99it/s, accuracy=0.438, train_loss=1.38] \n",
      "Evaluation:  95%|█████████▌| 21/22 [00:02<00:00, 10.23it/s]\n"
     ]
    },
    {
     "name": "stdout",
     "output_type": "stream",
     "text": [
      "\t - Recall@20 epoch 40: 0.074405\n",
      "\t - MRR@20    epoch 40: 0.037468\n",
      "\n"
     ]
    },
    {
     "name": "stderr",
     "output_type": "stream",
     "text": [
      "Train: 100%|██████████| 340/340 [00:02<00:00, 115.39it/s, accuracy=0.5, train_loss=1.03]   \n",
      "Evaluation:  95%|█████████▌| 21/22 [00:02<00:00, 10.38it/s]\n"
     ]
    },
    {
     "name": "stdout",
     "output_type": "stream",
     "text": [
      "\t - Recall@20 epoch 41: 0.074405\n",
      "\t - MRR@20    epoch 41: 0.039042\n",
      "\n"
     ]
    },
    {
     "name": "stderr",
     "output_type": "stream",
     "text": [
      "Train: 100%|██████████| 340/340 [00:02<00:00, 114.15it/s, accuracy=0.5, train_loss=1.03]   \n",
      "Evaluation:  95%|█████████▌| 21/22 [00:01<00:00, 10.64it/s]\n"
     ]
    },
    {
     "name": "stdout",
     "output_type": "stream",
     "text": [
      "\t - Recall@20 epoch 42: 0.074405\n",
      "\t - MRR@20    epoch 42: 0.038237\n",
      "\n"
     ]
    },
    {
     "name": "stderr",
     "output_type": "stream",
     "text": [
      "Train: 100%|██████████| 340/340 [00:02<00:00, 113.83it/s, accuracy=0.5, train_loss=1.1]    \n",
      "Evaluation:  95%|█████████▌| 21/22 [00:02<00:00,  9.78it/s]\n"
     ]
    },
    {
     "name": "stdout",
     "output_type": "stream",
     "text": [
      "\t - Recall@20 epoch 43: 0.077381\n",
      "\t - MRR@20    epoch 43: 0.039770\n",
      "\n"
     ]
    },
    {
     "name": "stderr",
     "output_type": "stream",
     "text": [
      "Train: 100%|██████████| 340/340 [00:02<00:00, 113.53it/s, accuracy=0.625, train_loss=0.997]\n",
      "Evaluation:  95%|█████████▌| 21/22 [00:02<00:00, 10.50it/s]\n"
     ]
    },
    {
     "name": "stdout",
     "output_type": "stream",
     "text": [
      "\t - Recall@20 epoch 44: 0.077381\n",
      "\t - MRR@20    epoch 44: 0.040572\n",
      "\n"
     ]
    },
    {
     "name": "stderr",
     "output_type": "stream",
     "text": [
      "Train: 100%|██████████| 340/340 [00:02<00:00, 114.11it/s, accuracy=0.438, train_loss=1.16] \n",
      "Evaluation:  95%|█████████▌| 21/22 [00:02<00:00,  9.97it/s]\n"
     ]
    },
    {
     "name": "stdout",
     "output_type": "stream",
     "text": [
      "\t - Recall@20 epoch 45: 0.077381\n",
      "\t - MRR@20    epoch 45: 0.040080\n",
      "\n"
     ]
    },
    {
     "name": "stderr",
     "output_type": "stream",
     "text": [
      "Train: 100%|██████████| 340/340 [00:03<00:00, 112.67it/s, accuracy=0.562, train_loss=1.04] \n",
      "Evaluation:  95%|█████████▌| 21/22 [00:02<00:00, 10.42it/s]\n"
     ]
    },
    {
     "name": "stdout",
     "output_type": "stream",
     "text": [
      "\t - Recall@20 epoch 46: 0.080357\n",
      "\t - MRR@20    epoch 46: 0.039800\n",
      "\n"
     ]
    },
    {
     "name": "stderr",
     "output_type": "stream",
     "text": [
      "Train: 100%|██████████| 340/340 [00:02<00:00, 116.36it/s, accuracy=0.5, train_loss=1.07]   \n",
      "Evaluation:  95%|█████████▌| 21/22 [00:02<00:00, 10.32it/s]\n"
     ]
    },
    {
     "name": "stdout",
     "output_type": "stream",
     "text": [
      "\t - Recall@20 epoch 47: 0.080357\n",
      "\t - MRR@20    epoch 47: 0.039247\n",
      "\n"
     ]
    },
    {
     "name": "stderr",
     "output_type": "stream",
     "text": [
      "Train: 100%|██████████| 340/340 [00:02<00:00, 114.74it/s, accuracy=0.375, train_loss=1.2]  \n",
      "Evaluation:  95%|█████████▌| 21/22 [00:02<00:00, 10.06it/s]\n"
     ]
    },
    {
     "name": "stdout",
     "output_type": "stream",
     "text": [
      "\t - Recall@20 epoch 48: 0.077381\n",
      "\t - MRR@20    epoch 48: 0.035319\n",
      "\n"
     ]
    },
    {
     "name": "stderr",
     "output_type": "stream",
     "text": [
      "Train: 100%|██████████| 340/340 [00:02<00:00, 115.41it/s, accuracy=0.625, train_loss=0.939]\n",
      "Evaluation:  95%|█████████▌| 21/22 [00:02<00:00,  9.98it/s]\n"
     ]
    },
    {
     "name": "stdout",
     "output_type": "stream",
     "text": [
      "\t - Recall@20 epoch 49: 0.074405\n",
      "\t - MRR@20    epoch 49: 0.038036\n",
      "\n"
     ]
    },
    {
     "name": "stderr",
     "output_type": "stream",
     "text": [
      "Train: 100%|██████████| 340/340 [00:02<00:00, 116.53it/s, accuracy=0.438, train_loss=1.16] \n",
      "Evaluation:  95%|█████████▌| 21/22 [00:02<00:00, 10.07it/s]"
     ]
    },
    {
     "name": "stdout",
     "output_type": "stream",
     "text": [
      "\t - Recall@20 epoch 50: 0.074405\n",
      "\t - MRR@20    epoch 50: 0.038501\n",
      "\n"
     ]
    },
    {
     "name": "stderr",
     "output_type": "stream",
     "text": [
      "\n"
     ]
    }
   ],
   "source": [
    "train_model(model, args)"
   ]
  },
  {
   "cell_type": "markdown",
   "id": "220faa8e",
   "metadata": {},
   "source": [
    "Recall과 MRR 기준 모두 오히려 성능이 다소 감소하고 있다. train_loss도 잘 줄어들지 않고 있다."
   ]
  },
  {
   "cell_type": "markdown",
   "id": "9ab0305a",
   "metadata": {},
   "source": [
    "### 2) Session 재정의\n",
    "현재 SessionId는 같은 User가 1초 안에 클릭한 기록을 기준으로 하므로 영화를 고르는 시간치고는 지나치게 짧다. 한 Session의 길이를 2분(120초)라고 가정하고 SessionId를 재정의해보았다."
   ]
  },
  {
   "cell_type": "code",
   "execution_count": 78,
   "id": "73d27319",
   "metadata": {},
   "outputs": [
    {
     "data": {
      "text/html": [
       "<div>\n",
       "<style scoped>\n",
       "    .dataframe tbody tr th:only-of-type {\n",
       "        vertical-align: middle;\n",
       "    }\n",
       "\n",
       "    .dataframe tbody tr th {\n",
       "        vertical-align: top;\n",
       "    }\n",
       "\n",
       "    .dataframe thead th {\n",
       "        text-align: right;\n",
       "    }\n",
       "</style>\n",
       "<table border=\"1\" class=\"dataframe\">\n",
       "  <thead>\n",
       "    <tr style=\"text-align: right;\">\n",
       "      <th></th>\n",
       "      <th>UserId</th>\n",
       "      <th>ItemId</th>\n",
       "      <th>Rating</th>\n",
       "      <th>Time</th>\n",
       "      <th>SessionId</th>\n",
       "      <th>Time_Unit</th>\n",
       "    </tr>\n",
       "  </thead>\n",
       "  <tbody>\n",
       "    <tr>\n",
       "      <th>0</th>\n",
       "      <td>1</td>\n",
       "      <td>3186</td>\n",
       "      <td>4</td>\n",
       "      <td>978300019</td>\n",
       "      <td>0</td>\n",
       "      <td>8152500</td>\n",
       "    </tr>\n",
       "    <tr>\n",
       "      <th>1</th>\n",
       "      <td>1</td>\n",
       "      <td>1270</td>\n",
       "      <td>5</td>\n",
       "      <td>978300055</td>\n",
       "      <td>0</td>\n",
       "      <td>8152500</td>\n",
       "    </tr>\n",
       "    <tr>\n",
       "      <th>2</th>\n",
       "      <td>1</td>\n",
       "      <td>1721</td>\n",
       "      <td>4</td>\n",
       "      <td>978300055</td>\n",
       "      <td>0</td>\n",
       "      <td>8152500</td>\n",
       "    </tr>\n",
       "    <tr>\n",
       "      <th>3</th>\n",
       "      <td>1</td>\n",
       "      <td>1022</td>\n",
       "      <td>5</td>\n",
       "      <td>978300055</td>\n",
       "      <td>0</td>\n",
       "      <td>8152500</td>\n",
       "    </tr>\n",
       "    <tr>\n",
       "      <th>4</th>\n",
       "      <td>1</td>\n",
       "      <td>2340</td>\n",
       "      <td>3</td>\n",
       "      <td>978300103</td>\n",
       "      <td>0</td>\n",
       "      <td>8152500</td>\n",
       "    </tr>\n",
       "    <tr>\n",
       "      <th>...</th>\n",
       "      <td>...</td>\n",
       "      <td>...</td>\n",
       "      <td>...</td>\n",
       "      <td>...</td>\n",
       "      <td>...</td>\n",
       "      <td>...</td>\n",
       "    </tr>\n",
       "    <tr>\n",
       "      <th>1000204</th>\n",
       "      <td>6040</td>\n",
       "      <td>2917</td>\n",
       "      <td>4</td>\n",
       "      <td>997454429</td>\n",
       "      <td>183799</td>\n",
       "      <td>8312120</td>\n",
       "    </tr>\n",
       "    <tr>\n",
       "      <th>1000205</th>\n",
       "      <td>6040</td>\n",
       "      <td>1921</td>\n",
       "      <td>4</td>\n",
       "      <td>997454464</td>\n",
       "      <td>183799</td>\n",
       "      <td>8312120</td>\n",
       "    </tr>\n",
       "    <tr>\n",
       "      <th>1000206</th>\n",
       "      <td>6040</td>\n",
       "      <td>1784</td>\n",
       "      <td>3</td>\n",
       "      <td>997454464</td>\n",
       "      <td>183799</td>\n",
       "      <td>8312120</td>\n",
       "    </tr>\n",
       "    <tr>\n",
       "      <th>1000207</th>\n",
       "      <td>6040</td>\n",
       "      <td>161</td>\n",
       "      <td>3</td>\n",
       "      <td>997454486</td>\n",
       "      <td>183799</td>\n",
       "      <td>8312120</td>\n",
       "    </tr>\n",
       "    <tr>\n",
       "      <th>1000208</th>\n",
       "      <td>6040</td>\n",
       "      <td>1221</td>\n",
       "      <td>4</td>\n",
       "      <td>998315055</td>\n",
       "      <td>183800</td>\n",
       "      <td>8319292</td>\n",
       "    </tr>\n",
       "  </tbody>\n",
       "</table>\n",
       "<p>1000209 rows × 6 columns</p>\n",
       "</div>"
      ],
      "text/plain": [
       "         UserId  ItemId  Rating       Time  SessionId  Time_Unit\n",
       "0             1    3186       4  978300019          0    8152500\n",
       "1             1    1270       5  978300055          0    8152500\n",
       "2             1    1721       4  978300055          0    8152500\n",
       "3             1    1022       5  978300055          0    8152500\n",
       "4             1    2340       3  978300103          0    8152500\n",
       "...         ...     ...     ...        ...        ...        ...\n",
       "1000204    6040    2917       4  997454429     183799    8312120\n",
       "1000205    6040    1921       4  997454464     183799    8312120\n",
       "1000206    6040    1784       3  997454464     183799    8312120\n",
       "1000207    6040     161       3  997454486     183799    8312120\n",
       "1000208    6040    1221       4  998315055     183800    8319292\n",
       "\n",
       "[1000209 rows x 6 columns]"
      ]
     },
     "execution_count": 78,
     "metadata": {},
     "output_type": "execute_result"
    }
   ],
   "source": [
    "Time_Unit = data['Time'] // 120\n",
    "data.loc[:,'Time_Unit'] = Time_Unit\n",
    "data"
   ]
  },
  {
   "cell_type": "code",
   "execution_count": 79,
   "id": "a5d789e3",
   "metadata": {
    "scrolled": true
   },
   "outputs": [
    {
     "data": {
      "text/html": [
       "<div>\n",
       "<style scoped>\n",
       "    .dataframe tbody tr th:only-of-type {\n",
       "        vertical-align: middle;\n",
       "    }\n",
       "\n",
       "    .dataframe tbody tr th {\n",
       "        vertical-align: top;\n",
       "    }\n",
       "\n",
       "    .dataframe thead th {\n",
       "        text-align: right;\n",
       "    }\n",
       "</style>\n",
       "<table border=\"1\" class=\"dataframe\">\n",
       "  <thead>\n",
       "    <tr style=\"text-align: right;\">\n",
       "      <th></th>\n",
       "      <th>UserId</th>\n",
       "      <th>ItemId</th>\n",
       "      <th>Rating</th>\n",
       "      <th>Time</th>\n",
       "      <th>SessionId</th>\n",
       "      <th>Time_Unit</th>\n",
       "    </tr>\n",
       "  </thead>\n",
       "  <tbody>\n",
       "    <tr>\n",
       "      <th>0</th>\n",
       "      <td>1</td>\n",
       "      <td>3186</td>\n",
       "      <td>4</td>\n",
       "      <td>978300019</td>\n",
       "      <td>0</td>\n",
       "      <td>8152500</td>\n",
       "    </tr>\n",
       "    <tr>\n",
       "      <th>1</th>\n",
       "      <td>1</td>\n",
       "      <td>1270</td>\n",
       "      <td>5</td>\n",
       "      <td>978300055</td>\n",
       "      <td>0</td>\n",
       "      <td>8152500</td>\n",
       "    </tr>\n",
       "    <tr>\n",
       "      <th>2</th>\n",
       "      <td>1</td>\n",
       "      <td>1721</td>\n",
       "      <td>4</td>\n",
       "      <td>978300055</td>\n",
       "      <td>0</td>\n",
       "      <td>8152500</td>\n",
       "    </tr>\n",
       "    <tr>\n",
       "      <th>3</th>\n",
       "      <td>1</td>\n",
       "      <td>1022</td>\n",
       "      <td>5</td>\n",
       "      <td>978300055</td>\n",
       "      <td>0</td>\n",
       "      <td>8152500</td>\n",
       "    </tr>\n",
       "    <tr>\n",
       "      <th>4</th>\n",
       "      <td>1</td>\n",
       "      <td>2340</td>\n",
       "      <td>3</td>\n",
       "      <td>978300103</td>\n",
       "      <td>0</td>\n",
       "      <td>8152500</td>\n",
       "    </tr>\n",
       "    <tr>\n",
       "      <th>...</th>\n",
       "      <td>...</td>\n",
       "      <td>...</td>\n",
       "      <td>...</td>\n",
       "      <td>...</td>\n",
       "      <td>...</td>\n",
       "      <td>...</td>\n",
       "    </tr>\n",
       "    <tr>\n",
       "      <th>1000204</th>\n",
       "      <td>6040</td>\n",
       "      <td>2917</td>\n",
       "      <td>4</td>\n",
       "      <td>997454429</td>\n",
       "      <td>183799</td>\n",
       "      <td>8312120</td>\n",
       "    </tr>\n",
       "    <tr>\n",
       "      <th>1000205</th>\n",
       "      <td>6040</td>\n",
       "      <td>1921</td>\n",
       "      <td>4</td>\n",
       "      <td>997454464</td>\n",
       "      <td>183799</td>\n",
       "      <td>8312120</td>\n",
       "    </tr>\n",
       "    <tr>\n",
       "      <th>1000206</th>\n",
       "      <td>6040</td>\n",
       "      <td>1784</td>\n",
       "      <td>3</td>\n",
       "      <td>997454464</td>\n",
       "      <td>183799</td>\n",
       "      <td>8312120</td>\n",
       "    </tr>\n",
       "    <tr>\n",
       "      <th>1000207</th>\n",
       "      <td>6040</td>\n",
       "      <td>161</td>\n",
       "      <td>3</td>\n",
       "      <td>997454486</td>\n",
       "      <td>183799</td>\n",
       "      <td>8312120</td>\n",
       "    </tr>\n",
       "    <tr>\n",
       "      <th>1000208</th>\n",
       "      <td>6040</td>\n",
       "      <td>1221</td>\n",
       "      <td>4</td>\n",
       "      <td>998315055</td>\n",
       "      <td>183800</td>\n",
       "      <td>8319292</td>\n",
       "    </tr>\n",
       "  </tbody>\n",
       "</table>\n",
       "<p>1000209 rows × 6 columns</p>\n",
       "</div>"
      ],
      "text/plain": [
       "         UserId  ItemId  Rating       Time  SessionId  Time_Unit\n",
       "0             1    3186       4  978300019          0    8152500\n",
       "1             1    1270       5  978300055          0    8152500\n",
       "2             1    1721       4  978300055          0    8152500\n",
       "3             1    1022       5  978300055          0    8152500\n",
       "4             1    2340       3  978300103          0    8152500\n",
       "...         ...     ...     ...        ...        ...        ...\n",
       "1000204    6040    2917       4  997454429     183799    8312120\n",
       "1000205    6040    1921       4  997454464     183799    8312120\n",
       "1000206    6040    1784       3  997454464     183799    8312120\n",
       "1000207    6040     161       3  997454486     183799    8312120\n",
       "1000208    6040    1221       4  998315055     183800    8319292\n",
       "\n",
       "[1000209 rows x 6 columns]"
      ]
     },
     "execution_count": 79,
     "metadata": {},
     "output_type": "execute_result"
    }
   ],
   "source": [
    "SessionId =[0]\n",
    "num = 0\n",
    "\n",
    "for i in range(1,len(data)):\n",
    "    if (data.loc[i,'UserId'] == data.loc[i-1,'UserId']) & (data.loc[i,'Time_Unit'] == data.loc[i-1,'Time_Unit']):\n",
    "        SessionId.append(num)\n",
    "    else:\n",
    "        num += 1\n",
    "        SessionId.append(num)\n",
    "        \n",
    "data.loc[:,'SessionId'] = SessionId\n",
    "data"
   ]
  },
  {
   "cell_type": "code",
   "execution_count": 80,
   "id": "b76ba512",
   "metadata": {},
   "outputs": [
    {
     "data": {
      "text/plain": [
       "SessionId\n",
       "0         5\n",
       "1         1\n",
       "2         1\n",
       "3         2\n",
       "4         3\n",
       "         ..\n",
       "183796    3\n",
       "183797    3\n",
       "183798    3\n",
       "183799    4\n",
       "183800    1\n",
       "Name: ItemId, Length: 183801, dtype: int64"
      ]
     },
     "execution_count": 80,
     "metadata": {},
     "output_type": "execute_result"
    }
   ],
   "source": [
    "Session_len = data.groupby('SessionId').count().loc[:,'ItemId']\n",
    "Session_len"
   ]
  },
  {
   "cell_type": "code",
   "execution_count": 81,
   "id": "3b1afece",
   "metadata": {},
   "outputs": [
    {
     "name": "stdout",
     "output_type": "stream",
     "text": [
      "세션 당 클릭한 영화 수의 평균: 5.441803907486902\n",
      "세션 당 클릭한 영화 수의 최댓값: 57\n",
      "세션 당 클릭한 영화 수의 최솟값: 1\n"
     ]
    }
   ],
   "source": [
    "print('세션 당 클릭한 영화 수의 평균:', Session_len.mean())\n",
    "print('세션 당 클릭한 영화 수의 최댓값:', Session_len.max())\n",
    "print('세션 당 클릭한 영화 수의 최솟값:', Session_len.min())"
   ]
  },
  {
   "cell_type": "code",
   "execution_count": 82,
   "id": "1172484d",
   "metadata": {},
   "outputs": [
    {
     "name": "stdout",
     "output_type": "stream",
     "text": [
      "영화 당 클릭 수 Q1: 2.0\n",
      "영화 당 클릭 수 Q2(중앙값): 4.0\n",
      "영화 당 클릭 수 Q3: 8.0\n"
     ]
    },
    {
     "data": {
      "image/png": "[encoded data removed]",
      "text/plain": [
       "<Figure size 432x288 with 1 Axes>"
      ]
     },
     "metadata": {
      "needs_background": "light"
     },
     "output_type": "display_data"
    }
   ],
   "source": [
    "fig, ax = plt.subplots()\n",
    "\n",
    "ax.boxplot([Session_len])\n",
    "\n",
    "print('영화 당 클릭 수 Q1:', Session_len.quantile(0.25))\n",
    "print('영화 당 클릭 수 Q2(중앙값):', Session_len.quantile(0.50))\n",
    "print('영화 당 클릭 수 Q3:', Session_len.quantile(0.75))"
   ]
  },
  {
   "cell_type": "markdown",
   "id": "a2113c48",
   "metadata": {},
   "source": [
    "한 세션 당 클릭한 영화의 수를 SessionId로 정의했을 때, 일반적으로 4~5개의 영화를 클릭하고 많게는 20개 정도를 클릭한다."
   ]
  },
  {
   "cell_type": "code",
   "execution_count": 83,
   "id": "212e0383",
   "metadata": {},
   "outputs": [
    {
     "data": {
      "image/png": "[encoded data removed]",
      "text/plain": [
       "<Figure size 864x720 with 1 Axes>"
      ]
     },
     "metadata": {
      "needs_background": "light"
     },
     "output_type": "display_data"
    }
   ],
   "source": [
    "length_count = Session_len.groupby(Session_len).size()\n",
    "length_percent_cumsum = length_count.cumsum() / length_count.sum()\n",
    "length_percent_cumsum_999 = length_percent_cumsum[length_percent_cumsum < 0.999]\n",
    "\n",
    "plt.figure(figsize=(12, 10))\n",
    "plt.bar(x=length_percent_cumsum_999.index,\n",
    "        height=length_percent_cumsum_999, color='red')\n",
    "plt.xticks(length_percent_cumsum_999.index)\n",
    "plt.yticks(np.arange(0, 1.01, 0.05))\n",
    "plt.title('Cumsum Percentage Until 99.9%', size=20)\n",
    "plt.show()"
   ]
  },
  {
   "cell_type": "code",
   "execution_count": 84,
   "id": "2ff95f24",
   "metadata": {},
   "outputs": [
    {
     "data": {
      "text/html": [
       "<div>\n",
       "<style scoped>\n",
       "    .dataframe tbody tr th:only-of-type {\n",
       "        vertical-align: middle;\n",
       "    }\n",
       "\n",
       "    .dataframe tbody tr th {\n",
       "        vertical-align: top;\n",
       "    }\n",
       "\n",
       "    .dataframe thead th {\n",
       "        text-align: right;\n",
       "    }\n",
       "</style>\n",
       "<table border=\"1\" class=\"dataframe\">\n",
       "  <thead>\n",
       "    <tr style=\"text-align: right;\">\n",
       "      <th></th>\n",
       "      <th>UserId</th>\n",
       "      <th>ItemId</th>\n",
       "      <th>Rating</th>\n",
       "      <th>Time</th>\n",
       "      <th>SessionId</th>\n",
       "      <th>Time_Unit</th>\n",
       "    </tr>\n",
       "  </thead>\n",
       "  <tbody>\n",
       "    <tr>\n",
       "      <th>5333</th>\n",
       "      <td>36</td>\n",
       "      <td>1387</td>\n",
       "      <td>5</td>\n",
       "      <td>1015904819</td>\n",
       "      <td>968</td>\n",
       "      <td>8465873</td>\n",
       "    </tr>\n",
       "    <tr>\n",
       "      <th>5334</th>\n",
       "      <td>36</td>\n",
       "      <td>1201</td>\n",
       "      <td>4</td>\n",
       "      <td>1015904819</td>\n",
       "      <td>968</td>\n",
       "      <td>8465873</td>\n",
       "    </tr>\n",
       "    <tr>\n",
       "      <th>5335</th>\n",
       "      <td>36</td>\n",
       "      <td>1291</td>\n",
       "      <td>5</td>\n",
       "      <td>1015904836</td>\n",
       "      <td>968</td>\n",
       "      <td>8465873</td>\n",
       "    </tr>\n",
       "    <tr>\n",
       "      <th>5336</th>\n",
       "      <td>36</td>\n",
       "      <td>2167</td>\n",
       "      <td>5</td>\n",
       "      <td>1015904905</td>\n",
       "      <td>969</td>\n",
       "      <td>8465874</td>\n",
       "    </tr>\n",
       "    <tr>\n",
       "      <th>5337</th>\n",
       "      <td>36</td>\n",
       "      <td>2951</td>\n",
       "      <td>4</td>\n",
       "      <td>1015904905</td>\n",
       "      <td>969</td>\n",
       "      <td>8465874</td>\n",
       "    </tr>\n",
       "    <tr>\n",
       "      <th>...</th>\n",
       "      <td>...</td>\n",
       "      <td>...</td>\n",
       "      <td>...</td>\n",
       "      <td>...</td>\n",
       "      <td>...</td>\n",
       "      <td>...</td>\n",
       "    </tr>\n",
       "    <tr>\n",
       "      <th>992789</th>\n",
       "      <td>5996</td>\n",
       "      <td>3835</td>\n",
       "      <td>3</td>\n",
       "      <td>1020113184</td>\n",
       "      <td>182747</td>\n",
       "      <td>8500943</td>\n",
       "    </tr>\n",
       "    <tr>\n",
       "      <th>992790</th>\n",
       "      <td>5996</td>\n",
       "      <td>2422</td>\n",
       "      <td>3</td>\n",
       "      <td>1020113225</td>\n",
       "      <td>182747</td>\n",
       "      <td>8500943</td>\n",
       "    </tr>\n",
       "    <tr>\n",
       "      <th>992791</th>\n",
       "      <td>5996</td>\n",
       "      <td>168</td>\n",
       "      <td>3</td>\n",
       "      <td>1031058746</td>\n",
       "      <td>182748</td>\n",
       "      <td>8592156</td>\n",
       "    </tr>\n",
       "    <tr>\n",
       "      <th>992792</th>\n",
       "      <td>5996</td>\n",
       "      <td>339</td>\n",
       "      <td>4</td>\n",
       "      <td>1033997079</td>\n",
       "      <td>182749</td>\n",
       "      <td>8616642</td>\n",
       "    </tr>\n",
       "    <tr>\n",
       "      <th>992793</th>\n",
       "      <td>5996</td>\n",
       "      <td>3882</td>\n",
       "      <td>3</td>\n",
       "      <td>1036428955</td>\n",
       "      <td>182750</td>\n",
       "      <td>8636907</td>\n",
       "    </tr>\n",
       "  </tbody>\n",
       "</table>\n",
       "<p>21704 rows × 6 columns</p>\n",
       "</div>"
      ],
      "text/plain": [
       "        UserId  ItemId  Rating        Time  SessionId  Time_Unit\n",
       "5333        36    1387       5  1015904819        968    8465873\n",
       "5334        36    1201       4  1015904819        968    8465873\n",
       "5335        36    1291       5  1015904836        968    8465873\n",
       "5336        36    2167       5  1015904905        969    8465874\n",
       "5337        36    2951       4  1015904905        969    8465874\n",
       "...        ...     ...     ...         ...        ...        ...\n",
       "992789    5996    3835       3  1020113184     182747    8500943\n",
       "992790    5996    2422       3  1020113225     182747    8500943\n",
       "992791    5996     168       3  1031058746     182748    8592156\n",
       "992792    5996     339       4  1033997079     182749    8616642\n",
       "992793    5996    3882       3  1036428955     182750    8636907\n",
       "\n",
       "[21704 rows x 6 columns]"
      ]
     },
     "execution_count": 84,
     "metadata": {},
     "output_type": "execute_result"
    }
   ],
   "source": [
    "data_year_ago = data[data['Time'] > year_ago]\n",
    "data_year_ago"
   ]
  },
  {
   "cell_type": "code",
   "execution_count": 85,
   "id": "e5ed3426",
   "metadata": {
    "scrolled": true
   },
   "outputs": [
    {
     "data": {
      "text/html": [
       "<div>\n",
       "<style scoped>\n",
       "    .dataframe tbody tr th:only-of-type {\n",
       "        vertical-align: middle;\n",
       "    }\n",
       "\n",
       "    .dataframe tbody tr th {\n",
       "        vertical-align: top;\n",
       "    }\n",
       "\n",
       "    .dataframe thead th {\n",
       "        text-align: right;\n",
       "    }\n",
       "</style>\n",
       "<table border=\"1\" class=\"dataframe\">\n",
       "  <thead>\n",
       "    <tr style=\"text-align: right;\">\n",
       "      <th></th>\n",
       "      <th>UserId</th>\n",
       "      <th>ItemId</th>\n",
       "      <th>Rating</th>\n",
       "      <th>Time</th>\n",
       "      <th>SessionId</th>\n",
       "      <th>Time_Unit</th>\n",
       "    </tr>\n",
       "  </thead>\n",
       "  <tbody>\n",
       "    <tr>\n",
       "      <th>5333</th>\n",
       "      <td>36</td>\n",
       "      <td>1387</td>\n",
       "      <td>5</td>\n",
       "      <td>1015904819</td>\n",
       "      <td>968</td>\n",
       "      <td>8465873</td>\n",
       "    </tr>\n",
       "    <tr>\n",
       "      <th>5334</th>\n",
       "      <td>36</td>\n",
       "      <td>1201</td>\n",
       "      <td>4</td>\n",
       "      <td>1015904819</td>\n",
       "      <td>968</td>\n",
       "      <td>8465873</td>\n",
       "    </tr>\n",
       "    <tr>\n",
       "      <th>5335</th>\n",
       "      <td>36</td>\n",
       "      <td>1291</td>\n",
       "      <td>5</td>\n",
       "      <td>1015904836</td>\n",
       "      <td>968</td>\n",
       "      <td>8465873</td>\n",
       "    </tr>\n",
       "    <tr>\n",
       "      <th>5336</th>\n",
       "      <td>36</td>\n",
       "      <td>2167</td>\n",
       "      <td>5</td>\n",
       "      <td>1015904905</td>\n",
       "      <td>969</td>\n",
       "      <td>8465874</td>\n",
       "    </tr>\n",
       "    <tr>\n",
       "      <th>5337</th>\n",
       "      <td>36</td>\n",
       "      <td>2951</td>\n",
       "      <td>4</td>\n",
       "      <td>1015904905</td>\n",
       "      <td>969</td>\n",
       "      <td>8465874</td>\n",
       "    </tr>\n",
       "    <tr>\n",
       "      <th>...</th>\n",
       "      <td>...</td>\n",
       "      <td>...</td>\n",
       "      <td>...</td>\n",
       "      <td>...</td>\n",
       "      <td>...</td>\n",
       "      <td>...</td>\n",
       "    </tr>\n",
       "    <tr>\n",
       "      <th>992786</th>\n",
       "      <td>5996</td>\n",
       "      <td>3716</td>\n",
       "      <td>3</td>\n",
       "      <td>1020112230</td>\n",
       "      <td>182745</td>\n",
       "      <td>8500935</td>\n",
       "    </tr>\n",
       "    <tr>\n",
       "      <th>992787</th>\n",
       "      <td>5996</td>\n",
       "      <td>2748</td>\n",
       "      <td>1</td>\n",
       "      <td>1020112352</td>\n",
       "      <td>182746</td>\n",
       "      <td>8500936</td>\n",
       "    </tr>\n",
       "    <tr>\n",
       "      <th>992788</th>\n",
       "      <td>5996</td>\n",
       "      <td>3564</td>\n",
       "      <td>3</td>\n",
       "      <td>1020112392</td>\n",
       "      <td>182746</td>\n",
       "      <td>8500936</td>\n",
       "    </tr>\n",
       "    <tr>\n",
       "      <th>992789</th>\n",
       "      <td>5996</td>\n",
       "      <td>3835</td>\n",
       "      <td>3</td>\n",
       "      <td>1020113184</td>\n",
       "      <td>182747</td>\n",
       "      <td>8500943</td>\n",
       "    </tr>\n",
       "    <tr>\n",
       "      <th>992790</th>\n",
       "      <td>5996</td>\n",
       "      <td>2422</td>\n",
       "      <td>3</td>\n",
       "      <td>1020113225</td>\n",
       "      <td>182747</td>\n",
       "      <td>8500943</td>\n",
       "    </tr>\n",
       "  </tbody>\n",
       "</table>\n",
       "<p>16641 rows × 6 columns</p>\n",
       "</div>"
      ],
      "text/plain": [
       "        UserId  ItemId  Rating        Time  SessionId  Time_Unit\n",
       "5333        36    1387       5  1015904819        968    8465873\n",
       "5334        36    1201       4  1015904819        968    8465873\n",
       "5335        36    1291       5  1015904836        968    8465873\n",
       "5336        36    2167       5  1015904905        969    8465874\n",
       "5337        36    2951       4  1015904905        969    8465874\n",
       "...        ...     ...     ...         ...        ...        ...\n",
       "992786    5996    3716       3  1020112230     182745    8500935\n",
       "992787    5996    2748       1  1020112352     182746    8500936\n",
       "992788    5996    3564       3  1020112392     182746    8500936\n",
       "992789    5996    3835       3  1020113184     182747    8500943\n",
       "992790    5996    2422       3  1020113225     182747    8500943\n",
       "\n",
       "[16641 rows x 6 columns]"
      ]
     },
     "execution_count": 85,
     "metadata": {},
     "output_type": "execute_result"
    }
   ],
   "source": [
    "data_cleanned = cleanse_recursive(data_year_ago, shortest=2, least_click=0)     # 클릭 수가 적어도 삭제하지 않음\n",
    "data_cleanned"
   ]
  },
  {
   "cell_type": "code",
   "execution_count": 86,
   "id": "0205f6f8",
   "metadata": {},
   "outputs": [
    {
     "name": "stdout",
     "output_type": "stream",
     "text": [
      "* train Set Stats Info\n",
      "\t Events: 15409\n",
      "\t Sessions: 3761\n",
      "\t Items: 2656\n",
      "\t First Time : 1014923199\n",
      "\t Last Time : 1043799175\n",
      "\n",
      "* valid Set Stats Info\n",
      "\t Events: 734\n",
      "\t Sessions: 139\n",
      "\t Items: 585\n",
      "\t First Time : 1043823493\n",
      "\t Last Time : 1045103679\n",
      "\n",
      "* test Set Stats Info\n",
      "\t Events: 469\n",
      "\t Sessions: 121\n",
      "\t Items: 408\n",
      "\t First Time : 1045159762\n",
      "\t Last Time : 1046454590\n",
      "\n"
     ]
    }
   ],
   "source": [
    "tr, test = split_by_date(data_cleanned, n_days=15)\n",
    "tr, val = split_by_date(tr, n_days=15)\n",
    "\n",
    "stats_info(tr, 'train')\n",
    "stats_info(val, 'valid')\n",
    "stats_info(test, 'test')"
   ]
  },
  {
   "cell_type": "code",
   "execution_count": 87,
   "id": "645018b0",
   "metadata": {},
   "outputs": [],
   "source": [
    "id2idx = {item_id : index for index, item_id in enumerate(tr['ItemId'].unique())}\n",
    "\n",
    "tr = indexing(tr, id2idx)\n",
    "val = indexing(val, id2idx)\n",
    "test = indexing(test, id2idx)"
   ]
  },
  {
   "cell_type": "code",
   "execution_count": 88,
   "id": "af34183a",
   "metadata": {},
   "outputs": [],
   "source": [
    "save_path = data_path / 'processed'\n",
    "save_path.mkdir(parents=True, exist_ok=True)\n",
    "\n",
    "tr.to_pickle(save_path / 'train.pkl')\n",
    "val.to_pickle(save_path / 'valid.pkl')\n",
    "test.to_pickle(save_path / 'test.pkl')"
   ]
  },
  {
   "cell_type": "code",
   "execution_count": 89,
   "id": "35c97181",
   "metadata": {},
   "outputs": [
    {
     "data": {
      "text/html": [
       "<div>\n",
       "<style scoped>\n",
       "    .dataframe tbody tr th:only-of-type {\n",
       "        vertical-align: middle;\n",
       "    }\n",
       "\n",
       "    .dataframe tbody tr th {\n",
       "        vertical-align: top;\n",
       "    }\n",
       "\n",
       "    .dataframe thead th {\n",
       "        text-align: right;\n",
       "    }\n",
       "</style>\n",
       "<table border=\"1\" class=\"dataframe\">\n",
       "  <thead>\n",
       "    <tr style=\"text-align: right;\">\n",
       "      <th></th>\n",
       "      <th>UserId</th>\n",
       "      <th>ItemId</th>\n",
       "      <th>Rating</th>\n",
       "      <th>Time</th>\n",
       "      <th>SessionId</th>\n",
       "      <th>Time_Unit</th>\n",
       "      <th>item_idx</th>\n",
       "    </tr>\n",
       "  </thead>\n",
       "  <tbody>\n",
       "    <tr>\n",
       "      <th>5333</th>\n",
       "      <td>36</td>\n",
       "      <td>1387</td>\n",
       "      <td>5</td>\n",
       "      <td>1015904819</td>\n",
       "      <td>968</td>\n",
       "      <td>8465873</td>\n",
       "      <td>0</td>\n",
       "    </tr>\n",
       "    <tr>\n",
       "      <th>5334</th>\n",
       "      <td>36</td>\n",
       "      <td>1201</td>\n",
       "      <td>4</td>\n",
       "      <td>1015904819</td>\n",
       "      <td>968</td>\n",
       "      <td>8465873</td>\n",
       "      <td>1</td>\n",
       "    </tr>\n",
       "    <tr>\n",
       "      <th>5335</th>\n",
       "      <td>36</td>\n",
       "      <td>1291</td>\n",
       "      <td>5</td>\n",
       "      <td>1015904836</td>\n",
       "      <td>968</td>\n",
       "      <td>8465873</td>\n",
       "      <td>2</td>\n",
       "    </tr>\n",
       "    <tr>\n",
       "      <th>5336</th>\n",
       "      <td>36</td>\n",
       "      <td>2167</td>\n",
       "      <td>5</td>\n",
       "      <td>1015904905</td>\n",
       "      <td>969</td>\n",
       "      <td>8465874</td>\n",
       "      <td>3</td>\n",
       "    </tr>\n",
       "    <tr>\n",
       "      <th>5337</th>\n",
       "      <td>36</td>\n",
       "      <td>2951</td>\n",
       "      <td>4</td>\n",
       "      <td>1015904905</td>\n",
       "      <td>969</td>\n",
       "      <td>8465874</td>\n",
       "      <td>4</td>\n",
       "    </tr>\n",
       "    <tr>\n",
       "      <th>...</th>\n",
       "      <td>...</td>\n",
       "      <td>...</td>\n",
       "      <td>...</td>\n",
       "      <td>...</td>\n",
       "      <td>...</td>\n",
       "      <td>...</td>\n",
       "      <td>...</td>\n",
       "    </tr>\n",
       "    <tr>\n",
       "      <th>992786</th>\n",
       "      <td>5996</td>\n",
       "      <td>3716</td>\n",
       "      <td>3</td>\n",
       "      <td>1020112230</td>\n",
       "      <td>182745</td>\n",
       "      <td>8500935</td>\n",
       "      <td>2655</td>\n",
       "    </tr>\n",
       "    <tr>\n",
       "      <th>992787</th>\n",
       "      <td>5996</td>\n",
       "      <td>2748</td>\n",
       "      <td>1</td>\n",
       "      <td>1020112352</td>\n",
       "      <td>182746</td>\n",
       "      <td>8500936</td>\n",
       "      <td>2095</td>\n",
       "    </tr>\n",
       "    <tr>\n",
       "      <th>992788</th>\n",
       "      <td>5996</td>\n",
       "      <td>3564</td>\n",
       "      <td>3</td>\n",
       "      <td>1020112392</td>\n",
       "      <td>182746</td>\n",
       "      <td>8500936</td>\n",
       "      <td>2175</td>\n",
       "    </tr>\n",
       "    <tr>\n",
       "      <th>992789</th>\n",
       "      <td>5996</td>\n",
       "      <td>3835</td>\n",
       "      <td>3</td>\n",
       "      <td>1020113184</td>\n",
       "      <td>182747</td>\n",
       "      <td>8500943</td>\n",
       "      <td>1866</td>\n",
       "    </tr>\n",
       "    <tr>\n",
       "      <th>992790</th>\n",
       "      <td>5996</td>\n",
       "      <td>2422</td>\n",
       "      <td>3</td>\n",
       "      <td>1020113225</td>\n",
       "      <td>182747</td>\n",
       "      <td>8500943</td>\n",
       "      <td>1677</td>\n",
       "    </tr>\n",
       "  </tbody>\n",
       "</table>\n",
       "<p>15409 rows × 7 columns</p>\n",
       "</div>"
      ],
      "text/plain": [
       "        UserId  ItemId  Rating        Time  SessionId  Time_Unit  item_idx\n",
       "5333        36    1387       5  1015904819        968    8465873         0\n",
       "5334        36    1201       4  1015904819        968    8465873         1\n",
       "5335        36    1291       5  1015904836        968    8465873         2\n",
       "5336        36    2167       5  1015904905        969    8465874         3\n",
       "5337        36    2951       4  1015904905        969    8465874         4\n",
       "...        ...     ...     ...         ...        ...        ...       ...\n",
       "992786    5996    3716       3  1020112230     182745    8500935      2655\n",
       "992787    5996    2748       1  1020112352     182746    8500936      2095\n",
       "992788    5996    3564       3  1020112392     182746    8500936      2175\n",
       "992789    5996    3835       3  1020113184     182747    8500943      1866\n",
       "992790    5996    2422       3  1020113225     182747    8500943      1677\n",
       "\n",
       "[15409 rows x 7 columns]"
      ]
     },
     "execution_count": 89,
     "metadata": {},
     "output_type": "execute_result"
    }
   ],
   "source": [
    "tr_dataset = SessionDataset(tr)\n",
    "tr_dataset.df"
   ]
  },
  {
   "cell_type": "code",
   "execution_count": 90,
   "id": "0193aef5",
   "metadata": {},
   "outputs": [
    {
     "data": {
      "text/plain": [
       "array([    0,     3,    11, ..., 15405, 15407, 15409], dtype=int32)"
      ]
     },
     "execution_count": 90,
     "metadata": {},
     "output_type": "execute_result"
    }
   ],
   "source": [
    "tr_dataset.click_offsets"
   ]
  },
  {
   "cell_type": "code",
   "execution_count": 91,
   "id": "ed07fa0f",
   "metadata": {},
   "outputs": [
    {
     "data": {
      "text/plain": [
       "array([   0,    1,    2, ..., 3758, 3759, 3760])"
      ]
     },
     "execution_count": 91,
     "metadata": {},
     "output_type": "execute_result"
    }
   ],
   "source": [
    "tr_dataset.session_idx"
   ]
  },
  {
   "cell_type": "code",
   "execution_count": 92,
   "id": "702ca496",
   "metadata": {},
   "outputs": [],
   "source": [
    "tr_data_loader = SessionDataLoader(tr_dataset, batch_size=4)\n",
    "iter_ex = iter(tr_data_loader)"
   ]
  },
  {
   "cell_type": "code",
   "execution_count": 93,
   "id": "82690a44",
   "metadata": {},
   "outputs": [
    {
     "name": "stdout",
     "output_type": "stream",
     "text": [
      "Model: \"model_3\"\n",
      "_________________________________________________________________\n",
      "Layer (type)                 Output Shape              Param #   \n",
      "=================================================================\n",
      "input_4 (InputLayer)         [(16, 1, 2656)]           0         \n",
      "_________________________________________________________________\n",
      "GRU (GRU)                    [(16, 50), (16, 50)]      406200    \n",
      "_________________________________________________________________\n",
      "dropout_3 (Dropout)          (16, 50)                  0         \n",
      "_________________________________________________________________\n",
      "dense_3 (Dense)              (16, 2656)                135456    \n",
      "=================================================================\n",
      "Total params: 541,656\n",
      "Trainable params: 541,656\n",
      "Non-trainable params: 0\n",
      "_________________________________________________________________\n"
     ]
    }
   ],
   "source": [
    "args = Args(tr, val, test, batch_size=16, hsz=50, drop_rate=0.1, lr=0.001, epochs=50, k=20)\n",
    "model = create_model(args)"
   ]
  },
  {
   "cell_type": "code",
   "execution_count": 94,
   "id": "08e89e9c",
   "metadata": {},
   "outputs": [
    {
     "name": "stderr",
     "output_type": "stream",
     "text": [
      "Train: 100%|█████████▉| 727/728 [00:07<00:00, 97.15it/s, accuracy=0, train_loss=7.89]      \n",
      "Evaluation:  97%|█████████▋| 36/37 [00:03<00:00,  9.21it/s]\n"
     ]
    },
    {
     "name": "stdout",
     "output_type": "stream",
     "text": [
      "\t - Recall@20 epoch 1: 0.032986\n",
      "\t - MRR@20    epoch 1: 0.007224\n",
      "\n"
     ]
    },
    {
     "name": "stderr",
     "output_type": "stream",
     "text": [
      "Train: 100%|█████████▉| 727/728 [00:06<00:00, 111.40it/s, accuracy=0, train_loss=7.72]     \n",
      "Evaluation:  97%|█████████▋| 36/37 [00:03<00:00, 10.30it/s]\n"
     ]
    },
    {
     "name": "stdout",
     "output_type": "stream",
     "text": [
      "\t - Recall@20 epoch 2: 0.024306\n",
      "\t - MRR@20    epoch 2: 0.006557\n",
      "\n"
     ]
    },
    {
     "name": "stderr",
     "output_type": "stream",
     "text": [
      "Train: 100%|█████████▉| 727/728 [00:06<00:00, 110.19it/s, accuracy=0, train_loss=7.59]     \n",
      "Evaluation:  97%|█████████▋| 36/37 [00:03<00:00, 10.06it/s]\n"
     ]
    },
    {
     "name": "stdout",
     "output_type": "stream",
     "text": [
      "\t - Recall@20 epoch 3: 0.022569\n",
      "\t - MRR@20    epoch 3: 0.007084\n",
      "\n"
     ]
    },
    {
     "name": "stderr",
     "output_type": "stream",
     "text": [
      "Train: 100%|█████████▉| 727/728 [00:06<00:00, 110.45it/s, accuracy=0, train_loss=7.43]     \n",
      "Evaluation:  97%|█████████▋| 36/37 [00:03<00:00, 10.16it/s]\n"
     ]
    },
    {
     "name": "stdout",
     "output_type": "stream",
     "text": [
      "\t - Recall@20 epoch 4: 0.026042\n",
      "\t - MRR@20    epoch 4: 0.008120\n",
      "\n"
     ]
    },
    {
     "name": "stderr",
     "output_type": "stream",
     "text": [
      "Train: 100%|█████████▉| 727/728 [00:06<00:00, 112.87it/s, accuracy=0, train_loss=7.28]     \n",
      "Evaluation:  97%|█████████▋| 36/37 [00:03<00:00, 10.23it/s]\n"
     ]
    },
    {
     "name": "stdout",
     "output_type": "stream",
     "text": [
      "\t - Recall@20 epoch 5: 0.022569\n",
      "\t - MRR@20    epoch 5: 0.007520\n",
      "\n"
     ]
    },
    {
     "name": "stderr",
     "output_type": "stream",
     "text": [
      "Train: 100%|█████████▉| 727/728 [00:06<00:00, 111.35it/s, accuracy=0.0625, train_loss=7.1] \n",
      "Evaluation:  97%|█████████▋| 36/37 [00:03<00:00, 10.38it/s]\n"
     ]
    },
    {
     "name": "stdout",
     "output_type": "stream",
     "text": [
      "\t - Recall@20 epoch 6: 0.017361\n",
      "\t - MRR@20    epoch 6: 0.006961\n",
      "\n"
     ]
    },
    {
     "name": "stderr",
     "output_type": "stream",
     "text": [
      "Train: 100%|█████████▉| 727/728 [00:06<00:00, 111.85it/s, accuracy=0.0625, train_loss=6.87]\n",
      "Evaluation:  97%|█████████▋| 36/37 [00:03<00:00, 10.22it/s]\n"
     ]
    },
    {
     "name": "stdout",
     "output_type": "stream",
     "text": [
      "\t - Recall@20 epoch 7: 0.024306\n",
      "\t - MRR@20    epoch 7: 0.006775\n",
      "\n"
     ]
    },
    {
     "name": "stderr",
     "output_type": "stream",
     "text": [
      "Train: 100%|█████████▉| 727/728 [00:06<00:00, 111.92it/s, accuracy=0.0625, train_loss=6.83]\n",
      "Evaluation:  97%|█████████▋| 36/37 [00:03<00:00, 10.14it/s]\n"
     ]
    },
    {
     "name": "stdout",
     "output_type": "stream",
     "text": [
      "\t - Recall@20 epoch 8: 0.034722\n",
      "\t - MRR@20    epoch 8: 0.008358\n",
      "\n"
     ]
    },
    {
     "name": "stderr",
     "output_type": "stream",
     "text": [
      "Train: 100%|█████████▉| 727/728 [00:06<00:00, 112.16it/s, accuracy=0.188, train_loss=6.58] \n",
      "Evaluation:  97%|█████████▋| 36/37 [00:03<00:00, 10.17it/s]\n"
     ]
    },
    {
     "name": "stdout",
     "output_type": "stream",
     "text": [
      "\t - Recall@20 epoch 9: 0.039931\n",
      "\t - MRR@20    epoch 9: 0.010229\n",
      "\n"
     ]
    },
    {
     "name": "stderr",
     "output_type": "stream",
     "text": [
      "Train: 100%|█████████▉| 727/728 [00:06<00:00, 112.68it/s, accuracy=0.125, train_loss=6.42] \n",
      "Evaluation:  97%|█████████▋| 36/37 [00:03<00:00, 10.16it/s]\n"
     ]
    },
    {
     "name": "stdout",
     "output_type": "stream",
     "text": [
      "\t - Recall@20 epoch 10: 0.038194\n",
      "\t - MRR@20    epoch 10: 0.014303\n",
      "\n"
     ]
    },
    {
     "name": "stderr",
     "output_type": "stream",
     "text": [
      "Train: 100%|█████████▉| 727/728 [00:06<00:00, 113.11it/s, accuracy=0.188, train_loss=6.11] \n",
      "Evaluation:  97%|█████████▋| 36/37 [00:03<00:00, 10.33it/s]\n"
     ]
    },
    {
     "name": "stdout",
     "output_type": "stream",
     "text": [
      "\t - Recall@20 epoch 11: 0.041667\n",
      "\t - MRR@20    epoch 11: 0.016107\n",
      "\n"
     ]
    },
    {
     "name": "stderr",
     "output_type": "stream",
     "text": [
      "Train: 100%|█████████▉| 727/728 [00:06<00:00, 112.32it/s, accuracy=0.188, train_loss=5.8]  \n",
      "Evaluation:  97%|█████████▋| 36/37 [00:03<00:00, 10.37it/s]\n"
     ]
    },
    {
     "name": "stdout",
     "output_type": "stream",
     "text": [
      "\t - Recall@20 epoch 12: 0.050347\n",
      "\t - MRR@20    epoch 12: 0.018870\n",
      "\n"
     ]
    },
    {
     "name": "stderr",
     "output_type": "stream",
     "text": [
      "Train: 100%|█████████▉| 727/728 [00:06<00:00, 111.41it/s, accuracy=0.188, train_loss=5.48] \n",
      "Evaluation:  97%|█████████▋| 36/37 [00:03<00:00, 10.34it/s]\n"
     ]
    },
    {
     "name": "stdout",
     "output_type": "stream",
     "text": [
      "\t - Recall@20 epoch 13: 0.059028\n",
      "\t - MRR@20    epoch 13: 0.023211\n",
      "\n"
     ]
    },
    {
     "name": "stderr",
     "output_type": "stream",
     "text": [
      "Train: 100%|█████████▉| 727/728 [00:06<00:00, 112.33it/s, accuracy=0.312, train_loss=5.16] \n",
      "Evaluation:  97%|█████████▋| 36/37 [00:03<00:00, 10.40it/s]\n"
     ]
    },
    {
     "name": "stdout",
     "output_type": "stream",
     "text": [
      "\t - Recall@20 epoch 14: 0.057292\n",
      "\t - MRR@20    epoch 14: 0.024685\n",
      "\n"
     ]
    },
    {
     "name": "stderr",
     "output_type": "stream",
     "text": [
      "Train: 100%|█████████▉| 727/728 [00:06<00:00, 109.95it/s, accuracy=0.25, train_loss=4.86]  \n",
      "Evaluation:  97%|█████████▋| 36/37 [00:03<00:00, 10.31it/s]\n"
     ]
    },
    {
     "name": "stdout",
     "output_type": "stream",
     "text": [
      "\t - Recall@20 epoch 15: 0.059028\n",
      "\t - MRR@20    epoch 15: 0.027175\n",
      "\n"
     ]
    },
    {
     "name": "stderr",
     "output_type": "stream",
     "text": [
      "Train: 100%|█████████▉| 727/728 [00:06<00:00, 112.02it/s, accuracy=0.312, train_loss=4.66] \n",
      "Evaluation:  97%|█████████▋| 36/37 [00:03<00:00, 10.52it/s]\n"
     ]
    },
    {
     "name": "stdout",
     "output_type": "stream",
     "text": [
      "\t - Recall@20 epoch 16: 0.062500\n",
      "\t - MRR@20    epoch 16: 0.027411\n",
      "\n"
     ]
    },
    {
     "name": "stderr",
     "output_type": "stream",
     "text": [
      "Train: 100%|█████████▉| 727/728 [00:06<00:00, 113.97it/s, accuracy=0.25, train_loss=4.33]  \n",
      "Evaluation:  97%|█████████▋| 36/37 [00:03<00:00, 10.61it/s]\n"
     ]
    },
    {
     "name": "stdout",
     "output_type": "stream",
     "text": [
      "\t - Recall@20 epoch 17: 0.059028\n",
      "\t - MRR@20    epoch 17: 0.024640\n",
      "\n"
     ]
    },
    {
     "name": "stderr",
     "output_type": "stream",
     "text": [
      "Train: 100%|█████████▉| 727/728 [00:06<00:00, 112.36it/s, accuracy=0.375, train_loss=3.99] \n",
      "Evaluation:  97%|█████████▋| 36/37 [00:03<00:00, 10.57it/s]\n"
     ]
    },
    {
     "name": "stdout",
     "output_type": "stream",
     "text": [
      "\t - Recall@20 epoch 18: 0.060764\n",
      "\t - MRR@20    epoch 18: 0.025885\n",
      "\n"
     ]
    },
    {
     "name": "stderr",
     "output_type": "stream",
     "text": [
      "Train: 100%|█████████▉| 727/728 [00:06<00:00, 111.46it/s, accuracy=0.438, train_loss=3.61] \n",
      "Evaluation:  97%|█████████▋| 36/37 [00:03<00:00, 10.57it/s]\n"
     ]
    },
    {
     "name": "stdout",
     "output_type": "stream",
     "text": [
      "\t - Recall@20 epoch 19: 0.060764\n",
      "\t - MRR@20    epoch 19: 0.025632\n",
      "\n"
     ]
    },
    {
     "name": "stderr",
     "output_type": "stream",
     "text": [
      "Train: 100%|█████████▉| 727/728 [00:06<00:00, 111.39it/s, accuracy=0.375, train_loss=3.49] \n",
      "Evaluation:  97%|█████████▋| 36/37 [00:03<00:00, 10.02it/s]\n"
     ]
    },
    {
     "name": "stdout",
     "output_type": "stream",
     "text": [
      "\t - Recall@20 epoch 20: 0.062500\n",
      "\t - MRR@20    epoch 20: 0.025367\n",
      "\n"
     ]
    },
    {
     "name": "stderr",
     "output_type": "stream",
     "text": [
      "Train: 100%|█████████▉| 727/728 [00:06<00:00, 110.40it/s, accuracy=0.438, train_loss=3.12] \n",
      "Evaluation:  97%|█████████▋| 36/37 [00:03<00:00, 10.24it/s]\n"
     ]
    },
    {
     "name": "stdout",
     "output_type": "stream",
     "text": [
      "\t - Recall@20 epoch 21: 0.057292\n",
      "\t - MRR@20    epoch 21: 0.024781\n",
      "\n"
     ]
    },
    {
     "name": "stderr",
     "output_type": "stream",
     "text": [
      "Train: 100%|█████████▉| 727/728 [00:06<00:00, 110.34it/s, accuracy=0.562, train_loss=2.82] \n",
      "Evaluation:  97%|█████████▋| 36/37 [00:03<00:00, 10.55it/s]\n"
     ]
    },
    {
     "name": "stdout",
     "output_type": "stream",
     "text": [
      "\t - Recall@20 epoch 22: 0.055556\n",
      "\t - MRR@20    epoch 22: 0.024966\n",
      "\n"
     ]
    },
    {
     "name": "stderr",
     "output_type": "stream",
     "text": [
      "Train: 100%|█████████▉| 727/728 [00:06<00:00, 112.18it/s, accuracy=0.5, train_loss=2.87]  \n",
      "Evaluation:  97%|█████████▋| 36/37 [00:03<00:00, 10.32it/s]\n"
     ]
    },
    {
     "name": "stdout",
     "output_type": "stream",
     "text": [
      "\t - Recall@20 epoch 23: 0.057292\n",
      "\t - MRR@20    epoch 23: 0.023002\n",
      "\n"
     ]
    },
    {
     "name": "stderr",
     "output_type": "stream",
     "text": [
      "Train: 100%|█████████▉| 727/728 [00:06<00:00, 111.44it/s, accuracy=0.5, train_loss=2.44]  \n",
      "Evaluation:  97%|█████████▋| 36/37 [00:03<00:00, 10.49it/s]\n"
     ]
    },
    {
     "name": "stdout",
     "output_type": "stream",
     "text": [
      "\t - Recall@20 epoch 24: 0.060764\n",
      "\t - MRR@20    epoch 24: 0.023751\n",
      "\n"
     ]
    },
    {
     "name": "stderr",
     "output_type": "stream",
     "text": [
      "Train: 100%|█████████▉| 727/728 [00:06<00:00, 112.02it/s, accuracy=0.5, train_loss=2.23]   \n",
      "Evaluation:  97%|█████████▋| 36/37 [00:03<00:00, 10.39it/s]\n"
     ]
    },
    {
     "name": "stdout",
     "output_type": "stream",
     "text": [
      "\t - Recall@20 epoch 25: 0.057292\n",
      "\t - MRR@20    epoch 25: 0.023388\n",
      "\n"
     ]
    },
    {
     "name": "stderr",
     "output_type": "stream",
     "text": [
      "Train: 100%|█████████▉| 727/728 [00:06<00:00, 112.52it/s, accuracy=0.562, train_loss=2.05]\n",
      "Evaluation:  97%|█████████▋| 36/37 [00:03<00:00, 10.64it/s]\n"
     ]
    },
    {
     "name": "stdout",
     "output_type": "stream",
     "text": [
      "\t - Recall@20 epoch 26: 0.055556\n",
      "\t - MRR@20    epoch 26: 0.022225\n",
      "\n"
     ]
    },
    {
     "name": "stderr",
     "output_type": "stream",
     "text": [
      "Train: 100%|█████████▉| 727/728 [00:06<00:00, 110.68it/s, accuracy=0.625, train_loss=1.95] \n",
      "Evaluation:  97%|█████████▋| 36/37 [00:03<00:00, 10.04it/s]\n"
     ]
    },
    {
     "name": "stdout",
     "output_type": "stream",
     "text": [
      "\t - Recall@20 epoch 27: 0.057292\n",
      "\t - MRR@20    epoch 27: 0.022271\n",
      "\n"
     ]
    },
    {
     "name": "stderr",
     "output_type": "stream",
     "text": [
      "Train: 100%|█████████▉| 727/728 [00:06<00:00, 112.32it/s, accuracy=0.625, train_loss=1.7]  \n",
      "Evaluation:  97%|█████████▋| 36/37 [00:03<00:00, 10.38it/s]\n"
     ]
    },
    {
     "name": "stdout",
     "output_type": "stream",
     "text": [
      "\t - Recall@20 epoch 28: 0.055556\n",
      "\t - MRR@20    epoch 28: 0.021286\n",
      "\n"
     ]
    },
    {
     "name": "stderr",
     "output_type": "stream",
     "text": [
      "Train: 100%|█████████▉| 727/728 [00:06<00:00, 108.49it/s, accuracy=0.5, train_loss=1.66]   \n",
      "Evaluation:  97%|█████████▋| 36/37 [00:03<00:00, 10.43it/s]\n"
     ]
    },
    {
     "name": "stdout",
     "output_type": "stream",
     "text": [
      "\t - Recall@20 epoch 29: 0.062500\n",
      "\t - MRR@20    epoch 29: 0.023035\n",
      "\n"
     ]
    },
    {
     "name": "stderr",
     "output_type": "stream",
     "text": [
      "Train: 100%|█████████▉| 727/728 [00:06<00:00, 110.23it/s, accuracy=0.812, train_loss=1.32] \n",
      "Evaluation:  97%|█████████▋| 36/37 [00:03<00:00, 10.62it/s]\n"
     ]
    },
    {
     "name": "stdout",
     "output_type": "stream",
     "text": [
      "\t - Recall@20 epoch 30: 0.060764\n",
      "\t - MRR@20    epoch 30: 0.022132\n",
      "\n"
     ]
    },
    {
     "name": "stderr",
     "output_type": "stream",
     "text": [
      "Train: 100%|█████████▉| 727/728 [00:06<00:00, 112.91it/s, accuracy=0.688, train_loss=1.37] \n",
      "Evaluation:  97%|█████████▋| 36/37 [00:03<00:00, 10.49it/s]\n"
     ]
    },
    {
     "name": "stdout",
     "output_type": "stream",
     "text": [
      "\t - Recall@20 epoch 31: 0.059028\n",
      "\t - MRR@20    epoch 31: 0.021296\n",
      "\n"
     ]
    },
    {
     "name": "stderr",
     "output_type": "stream",
     "text": [
      "Train: 100%|█████████▉| 727/728 [00:06<00:00, 112.62it/s, accuracy=0.812, train_loss=1.22] \n",
      "Evaluation:  97%|█████████▋| 36/37 [00:03<00:00, 10.63it/s]\n"
     ]
    },
    {
     "name": "stdout",
     "output_type": "stream",
     "text": [
      "\t - Recall@20 epoch 32: 0.059028\n",
      "\t - MRR@20    epoch 32: 0.022490\n",
      "\n"
     ]
    },
    {
     "name": "stderr",
     "output_type": "stream",
     "text": [
      "Train: 100%|█████████▉| 727/728 [00:06<00:00, 112.18it/s, accuracy=0.812, train_loss=1.05] \n",
      "Evaluation:  97%|█████████▋| 36/37 [00:03<00:00, 10.27it/s]\n"
     ]
    },
    {
     "name": "stdout",
     "output_type": "stream",
     "text": [
      "\t - Recall@20 epoch 33: 0.060764\n",
      "\t - MRR@20    epoch 33: 0.022221\n",
      "\n"
     ]
    },
    {
     "name": "stderr",
     "output_type": "stream",
     "text": [
      "Train: 100%|█████████▉| 727/728 [00:06<00:00, 113.53it/s, accuracy=0.688, train_loss=1.23] \n",
      "Evaluation:  97%|█████████▋| 36/37 [00:03<00:00, 10.50it/s]\n"
     ]
    },
    {
     "name": "stdout",
     "output_type": "stream",
     "text": [
      "\t - Recall@20 epoch 34: 0.060764\n",
      "\t - MRR@20    epoch 34: 0.021620\n",
      "\n"
     ]
    },
    {
     "name": "stderr",
     "output_type": "stream",
     "text": [
      "Train: 100%|█████████▉| 727/728 [00:06<00:00, 114.18it/s, accuracy=0.75, train_loss=1.11]  \n",
      "Evaluation:  97%|█████████▋| 36/37 [00:03<00:00, 10.69it/s]\n"
     ]
    },
    {
     "name": "stdout",
     "output_type": "stream",
     "text": [
      "\t - Recall@20 epoch 35: 0.060764\n",
      "\t - MRR@20    epoch 35: 0.021275\n",
      "\n"
     ]
    },
    {
     "name": "stderr",
     "output_type": "stream",
     "text": [
      "Train: 100%|█████████▉| 727/728 [00:06<00:00, 112.82it/s, accuracy=0.812, train_loss=0.972]\n",
      "Evaluation:  97%|█████████▋| 36/37 [00:03<00:00, 10.57it/s]\n"
     ]
    },
    {
     "name": "stdout",
     "output_type": "stream",
     "text": [
      "\t - Recall@20 epoch 36: 0.060764\n",
      "\t - MRR@20    epoch 36: 0.022106\n",
      "\n"
     ]
    },
    {
     "name": "stderr",
     "output_type": "stream",
     "text": [
      "Train: 100%|█████████▉| 727/728 [00:06<00:00, 112.91it/s, accuracy=0.812, train_loss=0.981]\n",
      "Evaluation:  97%|█████████▋| 36/37 [00:03<00:00, 10.52it/s]\n"
     ]
    },
    {
     "name": "stdout",
     "output_type": "stream",
     "text": [
      "\t - Recall@20 epoch 37: 0.057292\n",
      "\t - MRR@20    epoch 37: 0.021586\n",
      "\n"
     ]
    },
    {
     "name": "stderr",
     "output_type": "stream",
     "text": [
      "Train: 100%|█████████▉| 727/728 [00:06<00:00, 112.92it/s, accuracy=0.75, train_loss=0.987] \n",
      "Evaluation:  97%|█████████▋| 36/37 [00:03<00:00, 10.57it/s]\n"
     ]
    },
    {
     "name": "stdout",
     "output_type": "stream",
     "text": [
      "\t - Recall@20 epoch 38: 0.059028\n",
      "\t - MRR@20    epoch 38: 0.023312\n",
      "\n"
     ]
    },
    {
     "name": "stderr",
     "output_type": "stream",
     "text": [
      "Train: 100%|█████████▉| 727/728 [00:06<00:00, 111.76it/s, accuracy=0.75, train_loss=0.909] \n",
      "Evaluation:  97%|█████████▋| 36/37 [00:03<00:00, 10.48it/s]\n"
     ]
    },
    {
     "name": "stdout",
     "output_type": "stream",
     "text": [
      "\t - Recall@20 epoch 39: 0.060764\n",
      "\t - MRR@20    epoch 39: 0.021751\n",
      "\n"
     ]
    },
    {
     "name": "stderr",
     "output_type": "stream",
     "text": [
      "Train: 100%|█████████▉| 727/728 [00:06<00:00, 112.80it/s, accuracy=0.75, train_loss=0.837] \n",
      "Evaluation:  97%|█████████▋| 36/37 [00:03<00:00,  9.83it/s]\n"
     ]
    },
    {
     "name": "stdout",
     "output_type": "stream",
     "text": [
      "\t - Recall@20 epoch 40: 0.059028\n",
      "\t - MRR@20    epoch 40: 0.021649\n",
      "\n"
     ]
    },
    {
     "name": "stderr",
     "output_type": "stream",
     "text": [
      "Train: 100%|█████████▉| 727/728 [00:06<00:00, 111.92it/s, accuracy=0.812, train_loss=1.04] \n",
      "Evaluation:  97%|█████████▋| 36/37 [00:03<00:00, 10.66it/s]\n"
     ]
    },
    {
     "name": "stdout",
     "output_type": "stream",
     "text": [
      "\t - Recall@20 epoch 41: 0.057292\n",
      "\t - MRR@20    epoch 41: 0.023824\n",
      "\n"
     ]
    },
    {
     "name": "stderr",
     "output_type": "stream",
     "text": [
      "Train: 100%|█████████▉| 727/728 [00:06<00:00, 112.17it/s, accuracy=0.812, train_loss=0.665]\n",
      "Evaluation:  97%|█████████▋| 36/37 [00:03<00:00, 10.52it/s]\n"
     ]
    },
    {
     "name": "stdout",
     "output_type": "stream",
     "text": [
      "\t - Recall@20 epoch 42: 0.059028\n",
      "\t - MRR@20    epoch 42: 0.023104\n",
      "\n"
     ]
    },
    {
     "name": "stderr",
     "output_type": "stream",
     "text": [
      "Train: 100%|█████████▉| 727/728 [00:06<00:00, 112.35it/s, accuracy=0.75, train_loss=0.869] \n",
      "Evaluation:  97%|█████████▋| 36/37 [00:03<00:00, 10.66it/s]\n"
     ]
    },
    {
     "name": "stdout",
     "output_type": "stream",
     "text": [
      "\t - Recall@20 epoch 43: 0.060764\n",
      "\t - MRR@20    epoch 43: 0.022556\n",
      "\n"
     ]
    },
    {
     "name": "stderr",
     "output_type": "stream",
     "text": [
      "Train: 100%|█████████▉| 727/728 [00:06<00:00, 112.72it/s, accuracy=0.75, train_loss=0.959] \n",
      "Evaluation:  97%|█████████▋| 36/37 [00:03<00:00, 10.56it/s]\n"
     ]
    },
    {
     "name": "stdout",
     "output_type": "stream",
     "text": [
      "\t - Recall@20 epoch 44: 0.062500\n",
      "\t - MRR@20    epoch 44: 0.021759\n",
      "\n"
     ]
    },
    {
     "name": "stderr",
     "output_type": "stream",
     "text": [
      "Train: 100%|█████████▉| 727/728 [00:06<00:00, 112.73it/s, accuracy=0.875, train_loss=0.786]\n",
      "Evaluation:  97%|█████████▋| 36/37 [00:03<00:00, 10.36it/s]\n"
     ]
    },
    {
     "name": "stdout",
     "output_type": "stream",
     "text": [
      "\t - Recall@20 epoch 45: 0.062500\n",
      "\t - MRR@20    epoch 45: 0.021780\n",
      "\n"
     ]
    },
    {
     "name": "stderr",
     "output_type": "stream",
     "text": [
      "Train: 100%|█████████▉| 727/728 [00:06<00:00, 111.87it/s, accuracy=0.812, train_loss=0.705]\n",
      "Evaluation:  97%|█████████▋| 36/37 [00:03<00:00, 10.59it/s]\n"
     ]
    },
    {
     "name": "stdout",
     "output_type": "stream",
     "text": [
      "\t - Recall@20 epoch 46: 0.065972\n",
      "\t - MRR@20    epoch 46: 0.020953\n",
      "\n"
     ]
    },
    {
     "name": "stderr",
     "output_type": "stream",
     "text": [
      "Train: 100%|█████████▉| 727/728 [00:06<00:00, 112.89it/s, accuracy=0.75, train_loss=0.908] \n",
      "Evaluation:  97%|█████████▋| 36/37 [00:03<00:00, 10.62it/s]\n"
     ]
    },
    {
     "name": "stdout",
     "output_type": "stream",
     "text": [
      "\t - Recall@20 epoch 47: 0.067708\n",
      "\t - MRR@20    epoch 47: 0.022609\n",
      "\n"
     ]
    },
    {
     "name": "stderr",
     "output_type": "stream",
     "text": [
      "Train: 100%|█████████▉| 727/728 [00:06<00:00, 113.79it/s, accuracy=0.812, train_loss=0.604]\n",
      "Evaluation:  97%|█████████▋| 36/37 [00:03<00:00, 10.49it/s]\n"
     ]
    },
    {
     "name": "stdout",
     "output_type": "stream",
     "text": [
      "\t - Recall@20 epoch 48: 0.062500\n",
      "\t - MRR@20    epoch 48: 0.019984\n",
      "\n"
     ]
    },
    {
     "name": "stderr",
     "output_type": "stream",
     "text": [
      "Train: 100%|█████████▉| 727/728 [00:06<00:00, 113.00it/s, accuracy=0.875, train_loss=0.673]\n",
      "Evaluation:  97%|█████████▋| 36/37 [00:03<00:00, 10.70it/s]\n"
     ]
    },
    {
     "name": "stdout",
     "output_type": "stream",
     "text": [
      "\t - Recall@20 epoch 49: 0.067708\n",
      "\t - MRR@20    epoch 49: 0.019523\n",
      "\n"
     ]
    },
    {
     "name": "stderr",
     "output_type": "stream",
     "text": [
      "Train: 100%|█████████▉| 727/728 [00:06<00:00, 111.17it/s, accuracy=0.812, train_loss=0.547]\n",
      "Evaluation:  97%|█████████▋| 36/37 [00:03<00:00, 10.42it/s]"
     ]
    },
    {
     "name": "stdout",
     "output_type": "stream",
     "text": [
      "\t - Recall@20 epoch 50: 0.069444\n",
      "\t - MRR@20    epoch 50: 0.019677\n",
      "\n"
     ]
    },
    {
     "name": "stderr",
     "output_type": "stream",
     "text": [
      "\n"
     ]
    }
   ],
   "source": [
    "train_model(model, args)"
   ]
  },
  {
   "cell_type": "markdown",
   "id": "6e4c9be5",
   "metadata": {},
   "source": [
    "Recall과 MRR 모두 1),2)에 비해 좋지 않은 성능을 보인다."
   ]
  },
  {
   "cell_type": "markdown",
   "id": "2f4b90e4",
   "metadata": {},
   "source": [
    "## 회고\n",
    "\n",
    "* 추천서비스는 CV도 NLP도 아닌 다른 분야이고 가장 모호한 분야인듯 하다. 알고 싶은 분야이지만 자꾸 벽이 느껴진다....\n",
    "* 데이터 구성에 있어 Session의 시간 길이 '1초'인 아주 짧은 단위를 만들었을 때 가장 성능이 좋았는데, 현실적으로 Session 시간 길이가 1초라는 건 다소 납득하기 어렵다. 모델 구조와 연관지어 생각해보면 Session의 시간 길이가 짧을 수록 한 Session 당 클릭한 영화의 수(Session len)가 짧아지고 그 점이 모델의 효율성을 높이는 데 기여할 것 같기도 하다. 하지만 그보다는 Session의 갯수가 약 47만개에서 약 18만개로 줄어든 탓이 더 크지 않을까 추측해본다.\n",
    "* 마찬가지로 클릭 수가 1번밖에 없는 영화의 경우도 삭제하지 않는 것이 더 나은 것으로 보아 결국 데이터량이 일정 수준 이상 존재해야 하고, 가능한 한 지우지 않는 편이 나은 게 아니었을까. 추천시스템에서의 전처리는 쉽게 추측할 수가 없어 더 어렵게 느껴진다."
   ]
  },
  {
   "cell_type": "code",
   "execution_count": null,
   "id": "e0dd36ee",
   "metadata": {},
   "outputs": [],
   "source": []
  }
 ],
 "metadata": {
  "kernelspec": {
   "display_name": "Python 3 (ipykernel)",
   "language": "python",
   "name": "python3"
  },
  "language_info": {
   "codemirror_mode": {
    "name": "ipython",
    "version": 3
   },
   "file_extension": ".py",
   "mimetype": "text/x-python",
   "name": "python",
   "nbconvert_exporter": "python",
   "pygments_lexer": "ipython3",
   "version": "3.9.7"
  }
 },
 "nbformat": 4,
 "nbformat_minor": 5
}
