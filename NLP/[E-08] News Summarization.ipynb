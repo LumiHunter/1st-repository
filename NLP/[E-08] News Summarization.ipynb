{
 "cells": [
  {
   "cell_type": "markdown",
   "id": "e3f0ea7c",
   "metadata": {},
   "source": [
    "## 뉴스 요약봇 만들기\n",
    "\n",
    "### 학습 목표\n",
    "- Extractive/Abstractive summarization 이해하기\n",
    "- 단어장 크기를 줄이는 다양한 text normalization 적용해보기\n",
    "- seq2seq의 성능을 Up시키는 Attention Mechanism 적용하기\n",
    "\n",
    "### 루브릭 \n",
    "- Abstractive 모델 구성을 위한 텍스트 전처리 단계가 체계적으로 진행되었다. : **분석단계, 정제단계, 정규화와 불용어 제거, 데이터셋 분리, 인코딩 과정이 빠짐없이 체계적으로 진행되었다.**\n",
    "- 텍스트 요약모델이 성공적으로 학습되었음을 확인하였다. : **모델학습이 안정적으로 수렴되었음을 그래프를 통해 확인하였으며, 실제 요약문과 유사한 요약문장을 얻을 수 있었다.**\n",
    "- Extractive 요약을 시도해 보고 Abstractive 요약 결과과 함께 비교해 보았다. : **두 요약 결과를 문법완성도 측면과 핵심단어 포함 측면으로 나누어 비교분석 결과를 제시하였다.**"
   ]
  },
  {
   "cell_type": "markdown",
   "id": "5a1a1522",
   "metadata": {},
   "source": [
    "## 목차\n",
    "### 1. 데이터 준비\n",
    "### 2. 데이터 전처리\n",
    "#### 1) 중복값, 결측값 제거\n",
    "#### 2) 정규화와 불용어 제거\n",
    "#### 3) 텍스트 길이 결정 및 시작/종료 토큰 추가\n",
    "#### 4) 훈련데이터와 테스트데이터 나누기\n",
    "#### 5) 정수 인코딩(토큰화)\n",
    "### 3. 모델 설계\n",
    "#### 1) 인코더 설계\n",
    "#### 2) 디코더 설계\n",
    "#### 3) 모델 정의 및 훈련\n",
    "#### 4) 인퍼런스 모델 구현\n",
    "### 4. 추상적 요약과 원문 비교\n",
    "### 5. 추출적 요약과 원문 비교\n",
    "---"
   ]
  },
  {
   "cell_type": "markdown",
   "id": "65848169",
   "metadata": {},
   "source": [
    "## 1. 데이터 준비"
   ]
  },
  {
   "cell_type": "code",
   "execution_count": 2,
   "id": "29f59680",
   "metadata": {},
   "outputs": [],
   "source": [
    "import pandas as pd\n",
    "import urllib.request\n",
    "urllib.request.urlretrieve(\"https://raw.githubusercontent.com/sunnysai12345/News_Summary/master/news_summary_more.csv\", filename=\"news_summary_more.csv\")\n",
    "data = pd.read_csv('news_summary_more.csv', encoding='iso-8859-1')"
   ]
  },
  {
   "cell_type": "code",
   "execution_count": 3,
   "id": "983bb7b3",
   "metadata": {
    "scrolled": true
   },
   "outputs": [
    {
     "data": {
      "text/html": [
       "<div>\n",
       "<style scoped>\n",
       "    .dataframe tbody tr th:only-of-type {\n",
       "        vertical-align: middle;\n",
       "    }\n",
       "\n",
       "    .dataframe tbody tr th {\n",
       "        vertical-align: top;\n",
       "    }\n",
       "\n",
       "    .dataframe thead th {\n",
       "        text-align: right;\n",
       "    }\n",
       "</style>\n",
       "<table border=\"1\" class=\"dataframe\">\n",
       "  <thead>\n",
       "    <tr style=\"text-align: right;\">\n",
       "      <th></th>\n",
       "      <th>headlines</th>\n",
       "      <th>text</th>\n",
       "    </tr>\n",
       "  </thead>\n",
       "  <tbody>\n",
       "    <tr>\n",
       "      <th>0</th>\n",
       "      <td>upGrad learner switches to career in ML &amp; Al w...</td>\n",
       "      <td>Saurav Kant, an alumnus of upGrad and IIIT-B's...</td>\n",
       "    </tr>\n",
       "    <tr>\n",
       "      <th>1</th>\n",
       "      <td>Delhi techie wins free food from Swiggy for on...</td>\n",
       "      <td>Kunal Shah's credit card bill payment platform...</td>\n",
       "    </tr>\n",
       "    <tr>\n",
       "      <th>2</th>\n",
       "      <td>New Zealand end Rohit Sharma-led India's 12-ma...</td>\n",
       "      <td>New Zealand defeated India by 8 wickets in the...</td>\n",
       "    </tr>\n",
       "    <tr>\n",
       "      <th>3</th>\n",
       "      <td>Aegon life iTerm insurance plan helps customer...</td>\n",
       "      <td>With Aegon Life iTerm Insurance plan, customer...</td>\n",
       "    </tr>\n",
       "    <tr>\n",
       "      <th>4</th>\n",
       "      <td>Have known Hirani for yrs, what if MeToo claim...</td>\n",
       "      <td>Speaking about the sexual harassment allegatio...</td>\n",
       "    </tr>\n",
       "  </tbody>\n",
       "</table>\n",
       "</div>"
      ],
      "text/plain": [
       "                                           headlines  \\\n",
       "0  upGrad learner switches to career in ML & Al w...   \n",
       "1  Delhi techie wins free food from Swiggy for on...   \n",
       "2  New Zealand end Rohit Sharma-led India's 12-ma...   \n",
       "3  Aegon life iTerm insurance plan helps customer...   \n",
       "4  Have known Hirani for yrs, what if MeToo claim...   \n",
       "\n",
       "                                                text  \n",
       "0  Saurav Kant, an alumnus of upGrad and IIIT-B's...  \n",
       "1  Kunal Shah's credit card bill payment platform...  \n",
       "2  New Zealand defeated India by 8 wickets in the...  \n",
       "3  With Aegon Life iTerm Insurance plan, customer...  \n",
       "4  Speaking about the sexual harassment allegatio...  "
      ]
     },
     "execution_count": 3,
     "metadata": {},
     "output_type": "execute_result"
    }
   ],
   "source": [
    "data.head()"
   ]
  },
  {
   "cell_type": "code",
   "execution_count": 4,
   "id": "15a30dec",
   "metadata": {},
   "outputs": [
    {
     "data": {
      "text/plain": [
       "98401"
      ]
     },
     "execution_count": 4,
     "metadata": {},
     "output_type": "execute_result"
    }
   ],
   "source": [
    "len(data)"
   ]
  },
  {
   "cell_type": "markdown",
   "id": "1a16f120",
   "metadata": {},
   "source": [
    "## 2. 데이터 전처리"
   ]
  },
  {
   "cell_type": "code",
   "execution_count": 5,
   "id": "5bf98df4",
   "metadata": {},
   "outputs": [
    {
     "name": "stderr",
     "output_type": "stream",
     "text": [
      "[nltk_data] Downloading package stopwords to /aiffel/nltk_data...\n",
      "[nltk_data]   Unzipping corpora/stopwords.zip.\n"
     ]
    }
   ],
   "source": [
    "import nltk\n",
    "nltk.download('stopwords')\n",
    "\n",
    "import numpy as np\n",
    "import os, re\n",
    "import matplotlib.pyplot as plt\n",
    "\n",
    "from nltk.corpus import stopwords    # 불용어(NLTK에서 제공하는 리스트 사용)\n",
    "from tensorflow.keras.preprocessing.text import Tokenizer\n",
    "from tensorflow.keras.preprocessing.sequence import pad_sequences"
   ]
  },
  {
   "cell_type": "markdown",
   "id": "a8d4e0b5",
   "metadata": {},
   "source": [
    "추상적 요약: 원문으로부터 내용이 요약된 새로운 문장을 생성하는  자연어 생성(Natural Language Generation, NLG)문제에 해당함.\n",
    "* seq2seq(sequence-to-sequence) 모델 이용: 두 개의 RNN 아키텍처를 사용하여 입력 시퀀스로부터 출력 시퀀스를 생성해내는 자연어 생성 모델\n",
    "  * 첫 번째 RNN(인코더): 원문을 컨텍스트 벡터(context vector)로 변환\n",
    "  * 두 번째 RNN(디코더): 컨텍스트 벡터로부터 한 단어씩을 생성, 요약 문장 도출\n",
    "  * 디코더는 시작 토큰 SOS가 입력되면 종료 토큰 EOS를 예측할 때까지 각 시점마다 단어를 생성함."
   ]
  },
  {
   "cell_type": "markdown",
   "id": "2855ff06",
   "metadata": {},
   "source": [
    "### 1) 중복값, 결측값 제거"
   ]
  },
  {
   "cell_type": "code",
   "execution_count": 6,
   "id": "00b09a24",
   "metadata": {
    "scrolled": true
   },
   "outputs": [
    {
     "data": {
      "text/plain": [
       "98262"
      ]
     },
     "execution_count": 6,
     "metadata": {},
     "output_type": "execute_result"
    }
   ],
   "source": [
    "data.drop_duplicates(subset = ['text'], inplace=True)\n",
    "data.drop_duplicates(subset = ['headlines'], inplace=True)\n",
    "len(data)"
   ]
  },
  {
   "cell_type": "code",
   "execution_count": 7,
   "id": "62d91a2d",
   "metadata": {},
   "outputs": [
    {
     "data": {
      "text/plain": [
       "headlines    0\n",
       "text         0\n",
       "dtype: int64"
      ]
     },
     "execution_count": 7,
     "metadata": {},
     "output_type": "execute_result"
    }
   ],
   "source": [
    "data.isnull().sum()"
   ]
  },
  {
   "cell_type": "markdown",
   "id": "46abba27",
   "metadata": {},
   "source": [
    "각 칼럼에서 중복된 값을 삭제하고, 결측값이 없음을 확인하였다."
   ]
  },
  {
   "cell_type": "markdown",
   "id": "e895afd0",
   "metadata": {},
   "source": [
    "### 2) 정규화와 불용어 제거\n",
    "* 인코더가 문맥 정보를 가진 컨텍스트 벡터를 학습하게 하려면 'text'는 그 의미가 명확하게 받아들여지도록 불용어가 제거되어야 한다.\n",
    "* 디코더가 문장의 시작부터 끝까지 단어를 생성하게 하려면 'headline'의 앞뒤에 시작 토큰 SOS, 종료 토큰 EOS를 붙여 학습시켜야 한다. 또한 자연스러운 문장을 출력하게 하기 위해 불용어는 제거하지 않는다."
   ]
  },
  {
   "cell_type": "code",
   "execution_count": 8,
   "id": "bb6bddad",
   "metadata": {},
   "outputs": [
    {
     "name": "stdout",
     "output_type": "stream",
     "text": [
      "정규화 사전 단어 수:  120\n"
     ]
    }
   ],
   "source": [
    "contractions = {\"ain't\": \"is not\", \"aren't\": \"are not\",\"can't\": \"cannot\", \"'cause\": \"because\", \"could've\": \"could have\", \"couldn't\": \"could not\",\n",
    "                           \"didn't\": \"did not\",  \"doesn't\": \"does not\", \"don't\": \"do not\", \"hadn't\": \"had not\", \"hasn't\": \"has not\", \"haven't\": \"have not\",\n",
    "                           \"he'd\": \"he would\",\"he'll\": \"he will\", \"he's\": \"he is\", \"how'd\": \"how did\", \"how'd'y\": \"how do you\", \"how'll\": \"how will\", \"how's\": \"how is\",\n",
    "                           \"I'd\": \"I would\", \"I'd've\": \"I would have\", \"I'll\": \"I will\", \"I'll've\": \"I will have\",\"I'm\": \"I am\", \"I've\": \"I have\", \"i'd\": \"i would\",\n",
    "                           \"i'd've\": \"i would have\", \"i'll\": \"i will\",  \"i'll've\": \"i will have\",\"i'm\": \"i am\", \"i've\": \"i have\", \"isn't\": \"is not\", \"it'd\": \"it would\",\n",
    "                           \"it'd've\": \"it would have\", \"it'll\": \"it will\", \"it'll've\": \"it will have\",\"it's\": \"it is\", \"let's\": \"let us\", \"ma'am\": \"madam\",\n",
    "                           \"mayn't\": \"may not\", \"might've\": \"might have\",\"mightn't\": \"might not\",\"mightn't've\": \"might not have\", \"must've\": \"must have\",\n",
    "                           \"mustn't\": \"must not\", \"mustn't've\": \"must not have\", \"needn't\": \"need not\", \"needn't've\": \"need not have\",\"o'clock\": \"of the clock\",\n",
    "                           \"oughtn't\": \"ought not\", \"oughtn't've\": \"ought not have\", \"shan't\": \"shall not\", \"sha'n't\": \"shall not\", \"shan't've\": \"shall not have\",\n",
    "                           \"she'd\": \"she would\", \"she'd've\": \"she would have\", \"she'll\": \"she will\", \"she'll've\": \"she will have\", \"she's\": \"she is\",\n",
    "                           \"should've\": \"should have\", \"shouldn't\": \"should not\", \"shouldn't've\": \"should not have\", \"so've\": \"so have\",\"so's\": \"so as\",\n",
    "                           \"this's\": \"this is\",\"that'd\": \"that would\", \"that'd've\": \"that would have\", \"that's\": \"that is\", \"there'd\": \"there would\",\n",
    "                           \"there'd've\": \"there would have\", \"there's\": \"there is\", \"here's\": \"here is\",\"they'd\": \"they would\", \"they'd've\": \"they would have\",\n",
    "                           \"they'll\": \"they will\", \"they'll've\": \"they will have\", \"they're\": \"they are\", \"they've\": \"they have\", \"to've\": \"to have\",\n",
    "                           \"wasn't\": \"was not\", \"we'd\": \"we would\", \"we'd've\": \"we would have\", \"we'll\": \"we will\", \"we'll've\": \"we will have\", \"we're\": \"we are\",\n",
    "                           \"we've\": \"we have\", \"weren't\": \"were not\", \"what'll\": \"what will\", \"what'll've\": \"what will have\", \"what're\": \"what are\",\n",
    "                           \"what's\": \"what is\", \"what've\": \"what have\", \"when's\": \"when is\", \"when've\": \"when have\", \"where'd\": \"where did\", \"where's\": \"where is\",\n",
    "                           \"where've\": \"where have\", \"who'll\": \"who will\", \"who'll've\": \"who will have\", \"who's\": \"who is\", \"who've\": \"who have\",\n",
    "                           \"why's\": \"why is\", \"why've\": \"why have\", \"will've\": \"will have\", \"won't\": \"will not\", \"won't've\": \"will not have\",\n",
    "                           \"would've\": \"would have\", \"wouldn't\": \"would not\", \"wouldn't've\": \"would not have\", \"y'all\": \"you all\",\n",
    "                           \"y'all'd\": \"you all would\",\"y'all'd've\": \"you all would have\",\"y'all're\": \"you all are\",\"y'all've\": \"you all have\",\n",
    "                           \"you'd\": \"you would\", \"you'd've\": \"you would have\", \"you'll\": \"you will\", \"you'll've\": \"you will have\",\n",
    "                           \"you're\": \"you are\", \"you've\": \"you have\"}\n",
    "\n",
    "print(\"정규화 사전 단어 수: \", len(contractions))"
   ]
  },
  {
   "cell_type": "code",
   "execution_count": 9,
   "id": "ba18421f",
   "metadata": {},
   "outputs": [
    {
     "name": "stdout",
     "output_type": "stream",
     "text": [
      "불용어 개수 : 179\n",
      "['i', 'me', 'my', 'myself', 'we', 'our', 'ours', 'ourselves', 'you', \"you're\", \"you've\", \"you'll\", \"you'd\", 'your', 'yours', 'yourself', 'yourselves', 'he', 'him', 'his', 'himself', 'she', \"she's\", 'her', 'hers', 'herself', 'it', \"it's\", 'its', 'itself', 'they', 'them', 'their', 'theirs', 'themselves', 'what', 'which', 'who', 'whom', 'this', 'that', \"that'll\", 'these', 'those', 'am', 'is', 'are', 'was', 'were', 'be', 'been', 'being', 'have', 'has', 'had', 'having', 'do', 'does', 'did', 'doing', 'a', 'an', 'the', 'and', 'but', 'if', 'or', 'because', 'as', 'until', 'while', 'of', 'at', 'by', 'for', 'with', 'about', 'against', 'between', 'into', 'through', 'during', 'before', 'after', 'above', 'below', 'to', 'from', 'up', 'down', 'in', 'out', 'on', 'off', 'over', 'under', 'again', 'further', 'then', 'once', 'here', 'there', 'when', 'where', 'why', 'how', 'all', 'any', 'both', 'each', 'few', 'more', 'most', 'other', 'some', 'such', 'no', 'nor', 'not', 'only', 'own', 'same', 'so', 'than', 'too', 'very', 's', 't', 'can', 'will', 'just', 'don', \"don't\", 'should', \"should've\", 'now', 'd', 'll', 'm', 'o', 're', 've', 'y', 'ain', 'aren', \"aren't\", 'couldn', \"couldn't\", 'didn', \"didn't\", 'doesn', \"doesn't\", 'hadn', \"hadn't\", 'hasn', \"hasn't\", 'haven', \"haven't\", 'isn', \"isn't\", 'ma', 'mightn', \"mightn't\", 'mustn', \"mustn't\", 'needn', \"needn't\", 'shan', \"shan't\", 'shouldn', \"shouldn't\", 'wasn', \"wasn't\", 'weren', \"weren't\", 'won', \"won't\", 'wouldn', \"wouldn't\"]\n"
     ]
    }
   ],
   "source": [
    "print('불용어 개수 :', len(stopwords.words('english')))\n",
    "print(stopwords.words('english'))"
   ]
  },
  {
   "cell_type": "markdown",
   "id": "0f29c60a",
   "metadata": {},
   "source": [
    "서로 같은 단어를 키-값으로 연결지은 딕셔너리 형태로 '정규화 사전'을 정의한다. 불용어는 NLTK에서 제공하고 있는 179개 단어로 정의한다."
   ]
  },
  {
   "cell_type": "code",
   "execution_count": 10,
   "id": "618bec27",
   "metadata": {},
   "outputs": [],
   "source": [
    "# 데이터 전처리 함수\n",
    "def preprocess_sentence(sentence, remove_stopwords=True):\n",
    "    sentence = sentence.lower().strip() # 텍스트 소문자화, 텍스트의 양 옆 공백 제거\n",
    "    sentence = re.sub(r'[\" \"]+', \" \", sentence) # 공백들은 하나의 공백으로 바꾸기\n",
    "    sentence = re.sub(\"[^a-zA-Z]\", \" \", sentence) # 영어 외 문자(숫자, 특수문자 등) 공백으로 변환    \n",
    "    sentence = ' '.join([contractions[t] if t in contractions else t for t in sentence.split(\" \")]) # 약어 정규화\n",
    "\n",
    "    # 불용어 제거 (text)\n",
    "    if remove_stopwords:\n",
    "        tokens = ' '.join(word for word in sentence.split() if not word in stopwords.words('english') if len(word) > 1)\n",
    "    # 불용어 미제거 (headlines)\n",
    "    else:\n",
    "        tokens = ' '.join(word for word in sentence.split() if len(word) > 1)\n",
    "    return tokens"
   ]
  },
  {
   "cell_type": "markdown",
   "id": "f334ca6a",
   "metadata": {},
   "source": [
    "데이터 전처리 함수를 선언한다. 이때 remove_stopwords라는 인자를 True 또는 False로 입력하여 불용어를 제거할지 하지 않을지 선택할 수 있게 한다."
   ]
  },
  {
   "cell_type": "code",
   "execution_count": 11,
   "id": "749304a8",
   "metadata": {},
   "outputs": [
    {
     "name": "stdout",
     "output_type": "stream",
     "text": [
      "['saurav kant alumnus upgrad iiit pg program machine learning artificial intelligence sr systems engineer infosys almost years work experience program upgrad degree career support helped transition data scientist tech mahindra salary hike upgrad online power learning powered lakh careers', 'kunal shah credit card bill payment platform cred gave users chance win free food swiggy one year pranav kaushik delhi techie bagged reward spending cred coins users get one cred coin per rupee bill paid used avail rewards brands like ixigo bookmyshow ubereats cult fit', 'new zealand defeated india wickets fourth odi hamilton thursday win first match five match odi series india lost international match rohit sharma captaincy consecutive victories dating back march match witnessed india getting seventh lowest total odi cricket history', 'aegon life iterm insurance plan customers enjoy tax benefits premiums paid save taxes plan provides life cover age years also customers options insure critical illnesses disability accidental death benefit rider life cover age years', 'speaking sexual harassment allegations rajkumar hirani sonam kapoor said known hirani many years true metoo movement get derailed metoo movement always believe woman case need reserve judgment added hirani accused assistant worked sanju']\n"
     ]
    }
   ],
   "source": [
    "clean_text = []\n",
    "\n",
    "for s in data['text']:\n",
    "    clean_text.append(preprocess_sentence(s, True))\n",
    "    \n",
    "print(clean_text[:5])"
   ]
  },
  {
   "cell_type": "code",
   "execution_count": 12,
   "id": "75ae932d",
   "metadata": {},
   "outputs": [
    {
     "name": "stdout",
     "output_type": "stream",
     "text": [
      "['upgrad learner switches to career in ml al with salary hike', 'delhi techie wins free food from swiggy for one year on cred', 'new zealand end rohit sharma led india match winning streak', 'aegon life iterm insurance plan helps customers save tax', 'have known hirani for yrs what if metoo claims are not true sonam']\n"
     ]
    }
   ],
   "source": [
    "clean_headlines = []\n",
    "\n",
    "for s in data['headlines']:\n",
    "    clean_headlines.append(preprocess_sentence(s, False))\n",
    "\n",
    "print(clean_headlines[:5])"
   ]
  },
  {
   "cell_type": "code",
   "execution_count": 13,
   "id": "a44a8cee",
   "metadata": {},
   "outputs": [],
   "source": [
    "data['text'] = clean_text\n",
    "data['headlines'] = clean_headlines\n",
    "\n",
    "data.replace('',np.nan, inplace=True)"
   ]
  },
  {
   "cell_type": "code",
   "execution_count": 14,
   "id": "db924257",
   "metadata": {},
   "outputs": [
    {
     "data": {
      "text/plain": [
       "headlines    0\n",
       "text         0\n",
       "dtype: int64"
      ]
     },
     "execution_count": 14,
     "metadata": {},
     "output_type": "execute_result"
    }
   ],
   "source": [
    "data.isnull().sum()"
   ]
  },
  {
   "cell_type": "markdown",
   "id": "9fb00022",
   "metadata": {},
   "source": [
    "'text'에는 불용어를 제거하고, 'headlines'에는 불용어를 제거하지 않는 차이를 두고 전처리 함수를 시행하였다. 전처리 결과 공백이 되는 텍스트는 NaN으로 대체하도록 한 다음, 결측값이 있는지 확인한다."
   ]
  },
  {
   "cell_type": "markdown",
   "id": "55087428",
   "metadata": {},
   "source": [
    "### 3) 텍스트 길이 결정 및 시작/종료 토큰 추가\n",
    "* 'text'와 'headlines'의 적절한 길이를 판단하여 통일시킨다,\n",
    "* 정해진 길이보다 길면 제외시키고, 짧으면 패딩을 붙인다. 입력 데이터의 대다수를 포함할 수 있는 길이로 정하되 최대 길이를 너무 길게 설정할 경우 짧은 시퀀스는 지나치게 많은 패딩을 가지게 되므로 텍스트 길이 분포를 보아 적절히 조정해야 한다.\n",
    "* 'headlines' 텍스트의 앞뒤에는 시작/종료 토큰을 추가한 다음 패딩을 붙인다."
   ]
  },
  {
   "cell_type": "code",
   "execution_count": 15,
   "id": "ebf70395",
   "metadata": {},
   "outputs": [
    {
     "name": "stdout",
     "output_type": "stream",
     "text": [
      "텍스트 길이 최소값: 1\n",
      "텍스트 길이 최대값: 60\n",
      "텍스트 길이 평균: 35.2580855264497\n",
      "텍스트 길이 중앙값: 35.0\n",
      "텍스트 길이 표준편차: 3.803198572430849 \n",
      "\n",
      "헤드라인 길이 최소값: 1\n",
      "헤드라인 길이 최대값: 16\n",
      "헤드라인 길이 평균: 9.264364657751726\n",
      "헤드라인 길이 중앙값: 9.0\n",
      "헤드라인 길이 표준편차: 1.361915062137804\n"
     ]
    }
   ],
   "source": [
    "text_len = [len(s.split()) for s in data['text']]\n",
    "headlines_len = [len(s.split()) for s in data['headlines']]\n",
    "\n",
    "print('텍스트 길이 최소값:', np.min(text_len))\n",
    "print('텍스트 길이 최대값:', np.max(text_len))\n",
    "print('텍스트 길이 평균:', np.mean(text_len))\n",
    "print('텍스트 길이 중앙값:', np.median(text_len))\n",
    "print('텍스트 길이 표준편차:', np.std(text_len),'\\n')\n",
    "\n",
    "print('헤드라인 길이 최소값:', np.min(headlines_len))\n",
    "print('헤드라인 길이 최대값:', np.max(headlines_len))\n",
    "print('헤드라인 길이 평균:', np.mean(headlines_len))\n",
    "print('헤드라인 길이 중앙값:', np.median(headlines_len))\n",
    "print('헤드라인 길이 표준편차:', np.std(headlines_len))"
   ]
  },
  {
   "cell_type": "code",
   "execution_count": 16,
   "id": "80b25512",
   "metadata": {
    "scrolled": true
   },
   "outputs": [
    {
     "data": {
      "image/png": "[encoded data removed]",
      "text/plain": [
       "<Figure size 432x288 with 2 Axes>"
      ]
     },
     "metadata": {
      "needs_background": "light"
     },
     "output_type": "display_data"
    }
   ],
   "source": [
    "plt.subplot(1,2,1)\n",
    "plt.boxplot(text_len)\n",
    "plt.title('Text')\n",
    "\n",
    "plt.subplot(1,2,2)\n",
    "plt.boxplot(headlines_len)\n",
    "plt.title('Headline')\n",
    "\n",
    "plt.tight_layout()\n",
    "plt.show()"
   ]
  },
  {
   "cell_type": "code",
   "execution_count": 17,
   "id": "c5a916e3",
   "metadata": {},
   "outputs": [
    {
     "data": {
      "image/png": "[encoded data removed]",
      "text/plain": [
       "<Figure size 432x288 with 1 Axes>"
      ]
     },
     "metadata": {
      "needs_background": "light"
     },
     "output_type": "display_data"
    },
    {
     "data": {
      "image/png": "[encoded data removed]",
      "text/plain": [
       "<Figure size 432x288 with 1 Axes>"
      ]
     },
     "metadata": {
      "needs_background": "light"
     },
     "output_type": "display_data"
    }
   ],
   "source": [
    "plt.title('Text')\n",
    "plt.hist(text_len, bins = 40)\n",
    "plt.xlabel('length of samples')\n",
    "plt.ylabel('number of samples')\n",
    "plt.show()\n",
    "\n",
    "plt.title('Healine')\n",
    "plt.hist(headlines_len, bins = 40)\n",
    "plt.xlabel('length of samples')\n",
    "plt.ylabel('number of samples')\n",
    "plt.show()"
   ]
  },
  {
   "cell_type": "code",
   "execution_count": 18,
   "id": "d4461495",
   "metadata": {},
   "outputs": [],
   "source": [
    "def below_threshold_len(max_len, nested_list):\n",
    "  cnt = 0\n",
    "  for s in nested_list:\n",
    "    if(len(s.split()) <= max_len):\n",
    "        cnt = cnt + 1\n",
    "  print('전체 샘플 중 길이가 %s 이하인 샘플의 비율: %s'%(max_len, (cnt / len(nested_list))))"
   ]
  },
  {
   "cell_type": "code",
   "execution_count": 19,
   "id": "6a8f867e",
   "metadata": {},
   "outputs": [],
   "source": [
    "def under_threshold_len(min_len, nested_list):\n",
    "  cnt = 0\n",
    "  for s in nested_list:\n",
    "    if(len(s.split()) >= min_len):\n",
    "        cnt = cnt + 1\n",
    "  print('전체 샘플 중 길이가 %s 이상인 샘플의 비율: %s'%(min_len, (cnt / len(nested_list))))"
   ]
  },
  {
   "cell_type": "code",
   "execution_count": 20,
   "id": "3cb950fd",
   "metadata": {},
   "outputs": [
    {
     "name": "stdout",
     "output_type": "stream",
     "text": [
      "전체 샘플 중 길이가 45 이하인 샘플의 비율: 0.9964584478231666\n",
      "전체 샘플 중 길이가 20 이상인 샘플의 비율: 0.9999592925037145\n"
     ]
    }
   ],
   "source": [
    "text_max_len = 45\n",
    "text_min_len = 20\n",
    "\n",
    "below_threshold_len(text_max_len, data['text'])\n",
    "under_threshold_len(text_min_len, data['text'])"
   ]
  },
  {
   "cell_type": "code",
   "execution_count": 21,
   "id": "2817d46e",
   "metadata": {},
   "outputs": [
    {
     "name": "stdout",
     "output_type": "stream",
     "text": [
      "전체 샘플 중 길이가 12 이하인 샘플의 비율: 0.9910036433209175\n"
     ]
    }
   ],
   "source": [
    "headline_max_len = 12\n",
    "below_threshold_len(headline_max_len, data['headlines'])"
   ]
  },
  {
   "cell_type": "code",
   "execution_count": 22,
   "id": "6573015c",
   "metadata": {},
   "outputs": [
    {
     "name": "stdout",
     "output_type": "stream",
     "text": [
      "전체 샘플수 : 97024\n"
     ]
    }
   ],
   "source": [
    "data = data[data['text'].apply(lambda x: (len(x.split()) <= text_max_len) and (len(x.split()) > text_min_len))]\n",
    "data = data[data['headlines'].apply(lambda x: len(x.split()) <= headline_max_len)]\n",
    "print('전체 샘플수 :', len(data))"
   ]
  },
  {
   "cell_type": "markdown",
   "id": "da514efe",
   "metadata": {},
   "source": [
    "'text'는 길이가 20 이상 45이하, 'headlines'는 길이가 12이하인 텍스트만 남기고 제거하였다. ('text'는 뉴스 기사글인 이상 지나치게 짧은 글은 오류일 가능성이 높아 제외했다.)"
   ]
  },
  {
   "cell_type": "code",
   "execution_count": 23,
   "id": "80acacdc",
   "metadata": {
    "scrolled": false
   },
   "outputs": [
    {
     "data": {
      "text/html": [
       "<div>\n",
       "<style scoped>\n",
       "    .dataframe tbody tr th:only-of-type {\n",
       "        vertical-align: middle;\n",
       "    }\n",
       "\n",
       "    .dataframe tbody tr th {\n",
       "        vertical-align: top;\n",
       "    }\n",
       "\n",
       "    .dataframe thead th {\n",
       "        text-align: right;\n",
       "    }\n",
       "</style>\n",
       "<table border=\"1\" class=\"dataframe\">\n",
       "  <thead>\n",
       "    <tr style=\"text-align: right;\">\n",
       "      <th></th>\n",
       "      <th>headlines</th>\n",
       "      <th>text</th>\n",
       "      <th>decoder_input</th>\n",
       "      <th>decoder_target</th>\n",
       "    </tr>\n",
       "  </thead>\n",
       "  <tbody>\n",
       "    <tr>\n",
       "      <th>0</th>\n",
       "      <td>upgrad learner switches to career in ml al wit...</td>\n",
       "      <td>saurav kant alumnus upgrad iiit pg program mac...</td>\n",
       "      <td>sostoken upgrad learner switches to career in ...</td>\n",
       "      <td>upgrad learner switches to career in ml al wit...</td>\n",
       "    </tr>\n",
       "    <tr>\n",
       "      <th>1</th>\n",
       "      <td>delhi techie wins free food from swiggy for on...</td>\n",
       "      <td>kunal shah credit card bill payment platform c...</td>\n",
       "      <td>sostoken delhi techie wins free food from swig...</td>\n",
       "      <td>delhi techie wins free food from swiggy for on...</td>\n",
       "    </tr>\n",
       "    <tr>\n",
       "      <th>2</th>\n",
       "      <td>new zealand end rohit sharma led india match w...</td>\n",
       "      <td>new zealand defeated india wickets fourth odi ...</td>\n",
       "      <td>sostoken new zealand end rohit sharma led indi...</td>\n",
       "      <td>new zealand end rohit sharma led india match w...</td>\n",
       "    </tr>\n",
       "    <tr>\n",
       "      <th>3</th>\n",
       "      <td>aegon life iterm insurance plan helps customer...</td>\n",
       "      <td>aegon life iterm insurance plan customers enjo...</td>\n",
       "      <td>sostoken aegon life iterm insurance plan helps...</td>\n",
       "      <td>aegon life iterm insurance plan helps customer...</td>\n",
       "    </tr>\n",
       "    <tr>\n",
       "      <th>5</th>\n",
       "      <td>rahat fateh ali khan denies getting notice for...</td>\n",
       "      <td>pakistani singer rahat fateh ali khan denied r...</td>\n",
       "      <td>sostoken rahat fateh ali khan denies getting n...</td>\n",
       "      <td>rahat fateh ali khan denies getting notice for...</td>\n",
       "    </tr>\n",
       "  </tbody>\n",
       "</table>\n",
       "</div>"
      ],
      "text/plain": [
       "                                           headlines  \\\n",
       "0  upgrad learner switches to career in ml al wit...   \n",
       "1  delhi techie wins free food from swiggy for on...   \n",
       "2  new zealand end rohit sharma led india match w...   \n",
       "3  aegon life iterm insurance plan helps customer...   \n",
       "5  rahat fateh ali khan denies getting notice for...   \n",
       "\n",
       "                                                text  \\\n",
       "0  saurav kant alumnus upgrad iiit pg program mac...   \n",
       "1  kunal shah credit card bill payment platform c...   \n",
       "2  new zealand defeated india wickets fourth odi ...   \n",
       "3  aegon life iterm insurance plan customers enjo...   \n",
       "5  pakistani singer rahat fateh ali khan denied r...   \n",
       "\n",
       "                                       decoder_input  \\\n",
       "0  sostoken upgrad learner switches to career in ...   \n",
       "1  sostoken delhi techie wins free food from swig...   \n",
       "2  sostoken new zealand end rohit sharma led indi...   \n",
       "3  sostoken aegon life iterm insurance plan helps...   \n",
       "5  sostoken rahat fateh ali khan denies getting n...   \n",
       "\n",
       "                                      decoder_target  \n",
       "0  upgrad learner switches to career in ml al wit...  \n",
       "1  delhi techie wins free food from swiggy for on...  \n",
       "2  new zealand end rohit sharma led india match w...  \n",
       "3  aegon life iterm insurance plan helps customer...  \n",
       "5  rahat fateh ali khan denies getting notice for...  "
      ]
     },
     "execution_count": 23,
     "metadata": {},
     "output_type": "execute_result"
    }
   ],
   "source": [
    "data['decoder_input'] = data['headlines'].apply(lambda x : 'sostoken '+ x)\n",
    "data['decoder_target'] = data['headlines'].apply(lambda x : x + ' eostoken')\n",
    "data.head()"
   ]
  },
  {
   "cell_type": "markdown",
   "id": "dad9e4a9",
   "metadata": {},
   "source": [
    "디코더가 단어 예측을 위해 학습할 'headlines'는 시작 토큰 SOS가 붙은 input 데이터, 종료 토큰 EOS가 붙은 target 데이터로 구분한다. "
   ]
  },
  {
   "cell_type": "markdown",
   "id": "2406f150",
   "metadata": {},
   "source": [
    "### 4) 훈련데이터와 테스트데이터 나누기"
   ]
  },
  {
   "cell_type": "code",
   "execution_count": 24,
   "id": "b51b167a",
   "metadata": {},
   "outputs": [],
   "source": [
    "encoder_input = np.array(data['text'])\n",
    "decoder_input = np.array(data['decoder_input']) \n",
    "decoder_target = np.array(data['decoder_target'])"
   ]
  },
  {
   "cell_type": "code",
   "execution_count": 25,
   "id": "f3f0da3d",
   "metadata": {},
   "outputs": [],
   "source": [
    "indices = np.arange(encoder_input.shape[0])\n",
    "np.random.shuffle(indices)\n",
    "\n",
    "encoder_input = encoder_input[indices]\n",
    "decoder_input = decoder_input[indices]\n",
    "decoder_targer = decoder_target[indices]"
   ]
  },
  {
   "cell_type": "code",
   "execution_count": 26,
   "id": "3b5b2a99",
   "metadata": {},
   "outputs": [
    {
     "name": "stdout",
     "output_type": "stream",
     "text": [
      "테스트 데이터의 수: 19404\n"
     ]
    }
   ],
   "source": [
    "n_of_val = int(len(encoder_input)*0.2)\n",
    "print('테스트 데이터의 수:', n_of_val)"
   ]
  },
  {
   "cell_type": "code",
   "execution_count": 27,
   "id": "4ac13bb3",
   "metadata": {},
   "outputs": [
    {
     "name": "stdout",
     "output_type": "stream",
     "text": [
      "훈련 데이터의 개수 : 77620\n",
      "훈련 레이블의 개수 : 77620\n",
      "테스트 데이터의 개수 : 19404\n",
      "테스트 레이블의 개수 : 19404\n"
     ]
    }
   ],
   "source": [
    "encoder_input_train = encoder_input[:-n_of_val]\n",
    "decoder_input_train = decoder_input[:-n_of_val]\n",
    "decoder_target_train = decoder_target[:-n_of_val]\n",
    "\n",
    "encoder_input_test = encoder_input[-n_of_val:]\n",
    "decoder_input_test = decoder_input[-n_of_val:]\n",
    "decoder_target_test = decoder_target[-n_of_val:]\n",
    "\n",
    "print('훈련 데이터의 개수 :', len(encoder_input_train))\n",
    "print('훈련 레이블의 개수 :', len(decoder_input_train))\n",
    "print('테스트 데이터의 개수 :', len(encoder_input_test))\n",
    "print('테스트 레이블의 개수 :', len(decoder_input_test))"
   ]
  },
  {
   "cell_type": "markdown",
   "id": "40059c23",
   "metadata": {},
   "source": [
    "'test', 'decoder_input', 'decoder_target' 데이터를 섞은 다음 그의 20%를 테스트 데이터로 분리한다."
   ]
  },
  {
   "cell_type": "markdown",
   "id": "1cd37f34",
   "metadata": {},
   "source": [
    "### 5) 정수 인코딩(토큰화)"
   ]
  },
  {
   "cell_type": "code",
   "execution_count": 28,
   "id": "a68410d7",
   "metadata": {},
   "outputs": [],
   "source": [
    "src_tokenizer = Tokenizer()\n",
    "src_tokenizer.fit_on_texts(encoder_input_train)"
   ]
  },
  {
   "cell_type": "markdown",
   "id": "c75febcf",
   "metadata": {},
   "source": [
    "훈련데이터 중, 기사 원문에 해당하는 'encoder_input_train'을 이용해 단어별 정수를 부여한 src_tokenizer를 선언한다."
   ]
  },
  {
   "cell_type": "code",
   "execution_count": 29,
   "id": "c9e05688",
   "metadata": {},
   "outputs": [
    {
     "name": "stdout",
     "output_type": "stream",
     "text": [
      "단어 집합(vocabulary)의 크기: 69765\n",
      "등장 빈도가 6번 이하인 희귀 단어의 수: 47669\n",
      "단어 집합에서 희귀 단어를 제외시킬 경우의 단어 집합의 크기: 22096\n",
      "단어 집합에서 희귀 단어의 비율: 68.32795814520175\n",
      "전체 등장 빈도에서 희귀 단어 등장 빈도 비율: 3.5587783528592367\n"
     ]
    }
   ],
   "source": [
    "threshold = 7\n",
    "total_cnt = len(src_tokenizer.word_index)\n",
    "rare_cnt = 0\n",
    "total_freq = 0\n",
    "rare_freq = 0\n",
    "\n",
    "for key, value in src_tokenizer.word_counts.items():\n",
    "    total_freq = total_freq + value\n",
    "    \n",
    "    if(value < threshold):\n",
    "        rare_cnt = rare_cnt + 1\n",
    "        rare_freq = rare_freq + value\n",
    "        \n",
    "print('단어 집합(vocabulary)의 크기:', total_cnt)\n",
    "print('등장 빈도가 %s번 이하인 희귀 단어의 수: %s'%(threshold - 1, rare_cnt))\n",
    "print('단어 집합에서 희귀 단어를 제외시킬 경우의 단어 집합의 크기: %s'%(total_cnt - rare_cnt))\n",
    "print(\"단어 집합에서 희귀 단어의 비율:\", (rare_cnt / total_cnt)*100)\n",
    "print(\"전체 등장 빈도에서 희귀 단어 등장 빈도 비율:\", (rare_freq / total_freq)*100)"
   ]
  },
  {
   "cell_type": "markdown",
   "id": "b2b63d51",
   "metadata": {},
   "source": [
    "* tokenizer.word_index: 단어(키)-부여된 정수(값) dictionary\n",
    "* tokenizer.word_counts: 단어(키)-단어가 등장한 횟수(값) orderedDict(아이템들의 입력 순서를 기억하는 dictionary 클래스)"
   ]
  },
  {
   "cell_type": "code",
   "execution_count": 30,
   "id": "05e4fce9",
   "metadata": {},
   "outputs": [],
   "source": [
    "src_vocab = 22000\n",
    "src_tokenizer = Tokenizer(num_words=src_vocab)\n",
    "src_tokenizer.fit_on_texts(encoder_input_train)"
   ]
  },
  {
   "cell_type": "code",
   "execution_count": 31,
   "id": "5b0608fe",
   "metadata": {},
   "outputs": [],
   "source": [
    "encoder_input_train = src_tokenizer.texts_to_sequences(encoder_input_train)\n",
    "encoder_input_test = src_tokenizer.texts_to_sequences(encoder_input_test)"
   ]
  },
  {
   "cell_type": "markdown",
   "id": "35806242",
   "metadata": {},
   "source": [
    "단어 집합 내에서 등장 빈도가 지나치게 적은 단어들은 제외하여, 단어 집합의 크기를 22000으로 줄여 src_tokenizer를 다시 생성한 다음, 'encoder_input_train'과 'encoder_input_test'(기사 원문)를 모두 정수 시퀀스로 바꾼다.\n",
    "* tokenizer.texts_to_sequences(문자열 배열): 문자열들을 모두 tokenizer 내부의 단어 사전에 맞추어 정수로 변환(정수 인코딩)"
   ]
  },
  {
   "cell_type": "code",
   "execution_count": 32,
   "id": "dfe6a104",
   "metadata": {},
   "outputs": [],
   "source": [
    "tar_tokenizer = Tokenizer()\n",
    "tar_tokenizer.fit_on_texts(decoder_input_train)"
   ]
  },
  {
   "cell_type": "markdown",
   "id": "18136558",
   "metadata": {},
   "source": [
    "훈련데이터 중 요약문에 해당하는 'headlines' 중 'decoder_input_train'을 이용해 단어별 정수를 부여한 tar_tokenizer를 선언하고, 같은 과정을 반복한다. 단, 'decoder_input_train'에는 시작 토큰이, 'decoder_target_train'에는 종료 토큰이 존재하므로 tar_tokenizer가 시작/종료 토큰을 인식할 수 있도록 두 배열을 모두 학습해야 한다."
   ]
  },
  {
   "cell_type": "code",
   "execution_count": 33,
   "id": "3427fd0e",
   "metadata": {},
   "outputs": [
    {
     "name": "stdout",
     "output_type": "stream",
     "text": [
      "단어 집합(vocabulary)의 크기: 30013\n",
      "등장 빈도가 4번 이하인 희귀 단어의 수: 18532\n",
      "단어 집합에서 희귀 단어를 제외시킬 경우의 단어 집합의 크기: 11481\n",
      "단어 집합에서 희귀 단어의 비율: 61.74657648352381\n",
      "전체 등장 빈도에서 희귀 단어 등장 빈도 비율: 4.0067095415776235\n"
     ]
    }
   ],
   "source": [
    "threshold = 5\n",
    "total_cnt = len(tar_tokenizer.word_index)\n",
    "rare_cnt = 0\n",
    "total_freq = 0\n",
    "rare_freq = 0\n",
    "\n",
    "for key, value in tar_tokenizer.word_counts.items():\n",
    "    total_freq = total_freq + value\n",
    "    \n",
    "    if (value < threshold):\n",
    "        rare_cnt = rare_cnt + 1\n",
    "        rare_freq = rare_freq + value\n",
    "        \n",
    "print('단어 집합(vocabulary)의 크기:', total_cnt)\n",
    "print('등장 빈도가 %s번 이하인 희귀 단어의 수: %s'%(threshold - 1, rare_cnt))\n",
    "print('단어 집합에서 희귀 단어를 제외시킬 경우의 단어 집합의 크기: %s'%(total_cnt - rare_cnt))\n",
    "print('단어 집합에서 희귀 단어의 비율:', (rare_cnt / total_cnt)*100)\n",
    "print('전체 등장 빈도에서 희귀 단어 등장 빈도 비율:', (rare_freq / total_freq)*100)"
   ]
  },
  {
   "cell_type": "code",
   "execution_count": 34,
   "id": "1901db9b",
   "metadata": {},
   "outputs": [],
   "source": [
    "tar_vocab = 11000\n",
    "tar_tokenizer = Tokenizer(num_words = tar_vocab)\n",
    "tar_tokenizer.fit_on_texts(decoder_input_train)\n",
    "tar_tokenizer.fit_on_texts(decoder_target_train)"
   ]
  },
  {
   "cell_type": "code",
   "execution_count": 35,
   "id": "c9b3abe4",
   "metadata": {},
   "outputs": [],
   "source": [
    "decoder_input_train = tar_tokenizer.texts_to_sequences(decoder_input_train)\n",
    "decoder_target_train = tar_tokenizer.texts_to_sequences(decoder_target_train)\n",
    "decoder_input_test = tar_tokenizer.texts_to_sequences(decoder_input_test)\n",
    "decoder_target_test = tar_tokenizer.texts_to_sequences(decoder_target_test)"
   ]
  },
  {
   "cell_type": "code",
   "execution_count": 36,
   "id": "6bf655a2",
   "metadata": {},
   "outputs": [
    {
     "name": "stdout",
     "output_type": "stream",
     "text": [
      "삭제할 (원문) 훈련 데이터의 개수 : 0\n",
      "삭제할 (원문) 테스트 데이터의 개수 : 0\n",
      "삭제할 (요약문) 훈련 데이터의 개수 : 0\n",
      "삭제할 (요약문) 테스트 데이터의 개수 : 0\n"
     ]
    }
   ],
   "source": [
    "drop_train1 = [index for index, sentence in enumerate(encoder_input_train) if len(sentence) == 1]\n",
    "drop_test1 = [index for index, sentence in enumerate(encoder_input_test) if len(sentence) == 1]\n",
    "drop_train2 = [index for index, sentence in enumerate(decoder_input_train) if len(sentence) == 1]\n",
    "drop_test2 = [index for index, sentence in enumerate(decoder_input_test) if len(sentence) == 1]\n",
    "\n",
    "print('삭제할 (원문) 훈련 데이터의 개수 :', len(drop_train1))\n",
    "print('삭제할 (원문) 테스트 데이터의 개수 :', len(drop_test1))\n",
    "print('삭제할 (요약문) 훈련 데이터의 개수 :', len(drop_train2))\n",
    "print('삭제할 (요약문) 테스트 데이터의 개수 :', len(drop_test2))"
   ]
  },
  {
   "cell_type": "markdown",
   "id": "7b3c4a5f",
   "metadata": {},
   "source": [
    "빈도수가 낮은 단어가 삭제되었으므로 빈도수가 낮은 단어만으로 구성되었던 텍스트는 시작 또는 종료 토큰만 남아 길이가 1인 빈 텍스트가 되었을 수 있고, 이는 삭제시켜야 한다. 원문과 요약문 모두 빈 텍스트는 없음을 확인했다."
   ]
  },
  {
   "cell_type": "code",
   "execution_count": 37,
   "id": "ee6313a5",
   "metadata": {},
   "outputs": [],
   "source": [
    "text_max_len = 45\n",
    "headline_max_len = 12\n",
    "\n",
    "# 인코더 훈련용-기사 원문\n",
    "encoder_input_train = pad_sequences(encoder_input_train, maxlen=text_max_len, padding='post')\n",
    "\n",
    "# 인코더 테스트용-기사 원문\n",
    "encoder_input_test = pad_sequences(encoder_input_test, maxlen=text_max_len, padding='post')\n",
    "\n",
    "# 디코더 훈련용-요약문\n",
    "decoder_input_train = pad_sequences(decoder_input_train, maxlen=headline_max_len, padding='post')\n",
    "decoder_target_train = pad_sequences(decoder_target_train, maxlen=headline_max_len, padding='post')\n",
    "\n",
    "# 디코더 테스트용-요약문\n",
    "decoder_input_test = pad_sequences(decoder_input_test, maxlen=headline_max_len, padding='post')\n",
    "decoder_target_test = pad_sequences(decoder_target_test, maxlen=headline_max_len, padding='post')"
   ]
  },
  {
   "cell_type": "markdown",
   "id": "ff7c3b8c",
   "metadata": {},
   "source": [
    "기사 원문은 문장 최대 길이 45, 요약문(headlines)은 문장 최대 길이 12로, 그보다 길이가 짧은 문장은 패딩으로 채워 길이를 맞춘다."
   ]
  },
  {
   "cell_type": "markdown",
   "id": "43836633",
   "metadata": {},
   "source": [
    "## 3. 모델 설계"
   ]
  },
  {
   "cell_type": "markdown",
   "id": "f6b34baa",
   "metadata": {},
   "source": [
    "### 1) 인코더 설계"
   ]
  },
  {
   "cell_type": "code",
   "execution_count": 38,
   "id": "1e932c24",
   "metadata": {
    "scrolled": true
   },
   "outputs": [
    {
     "name": "stdout",
     "output_type": "stream",
     "text": [
      "WARNING:tensorflow:Layer lstm will not use cuDNN kernels since it doesn't meet the criteria. It will use a generic GPU kernel as fallback when running on GPU.\n",
      "WARNING:tensorflow:Layer lstm_1 will not use cuDNN kernels since it doesn't meet the criteria. It will use a generic GPU kernel as fallback when running on GPU.\n",
      "WARNING:tensorflow:Layer lstm_2 will not use cuDNN kernels since it doesn't meet the criteria. It will use a generic GPU kernel as fallback when running on GPU.\n"
     ]
    }
   ],
   "source": [
    "from tensorflow.keras.layers import Input, LSTM, Embedding, Dense, Concatenate, TimeDistributed\n",
    "from tensorflow.keras.models import Model\n",
    "from tensorflow.keras.callbacks import EarlyStopping, ModelCheckpoint\n",
    "\n",
    "src_vocab = 22000    # 어휘 사전의 크기\n",
    "embedding_dim = 128    # 워드 벡터의 차원수(단어들의 인덱스를 워드 벡터로 추상화)\n",
    "hidden_size = 512    # 단어 간의 연관성(맥락)을 파악하기 위한 LSTM의 수용력(뉴런의 개수, 레이어 깊이)\n",
    "\n",
    "# 입력 레이어\n",
    "encoder_inputs = Input(shape=(text_max_len,))\n",
    "\n",
    "# 임베딩 레이어\n",
    "enc_emb = Embedding(src_vocab, embedding_dim)(encoder_inputs)\n",
    "\n",
    "# 첫번째 LSTM 레이어\n",
    "encoder_lstm1 = LSTM(hidden_size, return_sequences=True, return_state=True ,dropout = 0.4, recurrent_dropout = 0.4)\n",
    "encoder_output1, state_h1, state_c1 = encoder_lstm1(enc_emb)\n",
    "\n",
    "# 두번째 LSTM 레이어\n",
    "encoder_lstm2 = LSTM(hidden_size, return_sequences=True, return_state=True, dropout=0.4, recurrent_dropout=0.4)\n",
    "encoder_output2, state_h2, state_c2 = encoder_lstm2(encoder_output1)\n",
    "\n",
    "# 세번째 LSTM 레이어\n",
    "encoder_lstm3 = LSTM(hidden_size, return_state=True, return_sequences=True, dropout=0.4, recurrent_dropout=0.4)\n",
    "encoder_outputs, state_h, state_c= encoder_lstm3(encoder_output2)"
   ]
  },
  {
   "cell_type": "markdown",
   "id": "0209b67f",
   "metadata": {},
   "source": [
    "### 2) 디코더 설계"
   ]
  },
  {
   "cell_type": "code",
   "execution_count": 39,
   "id": "0fd5ee1a",
   "metadata": {},
   "outputs": [
    {
     "name": "stdout",
     "output_type": "stream",
     "text": [
      "WARNING:tensorflow:Layer lstm_3 will not use cuDNN kernels since it doesn't meet the criteria. It will use a generic GPU kernel as fallback when running on GPU.\n"
     ]
    }
   ],
   "source": [
    "from tensorflow.keras.layers import AdditiveAttention\n",
    "\n",
    "# 입력 레이어\n",
    "decoder_inputs = Input(shape=(None,))\n",
    "\n",
    "# 임베딩 레이어\n",
    "dec_emb_layer = Embedding(tar_vocab, embedding_dim)\n",
    "dec_emb = dec_emb_layer(decoder_inputs)\n",
    "\n",
    "# LSTM 레이어\n",
    "decoder_lstm = LSTM(hidden_size, return_sequences=True, return_state=True, dropout=0.4, recurrent_dropout=0.2)\n",
    "decoder_outputs, _, _ = decoder_lstm(dec_emb, initial_state=[state_h, state_c])\n",
    "\n",
    "# 어텐션 레이어\n",
    "attn_layer = AdditiveAttention(name='attention_layer')\n",
    "attn_out = attn_layer([decoder_outputs, encoder_outputs])\n",
    "decoder_concat_input = Concatenate(axis=-1, name='concat_layer')([decoder_outputs, attn_out])\n",
    "\n",
    "# 출력 레이어\n",
    "decoder_softmax_layer = Dense(tar_vocab, activation='softmax')\n",
    "decoder_softmax_outputs = decoder_softmax_layer(decoder_concat_input) "
   ]
  },
  {
   "cell_type": "markdown",
   "id": "5f3bd768",
   "metadata": {},
   "source": [
    "어텐션 레이어:인코더와 디코더의 모든 time step의 hidden state를 어텐션 층에 전달하고 결과를 리턴\n",
    "어텐션 결과와 디코더의 hidden state들을 연결"
   ]
  },
  {
   "cell_type": "markdown",
   "id": "4c54aece",
   "metadata": {},
   "source": [
    "### 3) 모델 정의 및 훈련"
   ]
  },
  {
   "cell_type": "code",
   "execution_count": 40,
   "id": "3782bdb2",
   "metadata": {},
   "outputs": [
    {
     "name": "stdout",
     "output_type": "stream",
     "text": [
      "Model: \"model\"\n",
      "__________________________________________________________________________________________________\n",
      "Layer (type)                    Output Shape         Param #     Connected to                     \n",
      "==================================================================================================\n",
      "input_1 (InputLayer)            [(None, 45)]         0                                            \n",
      "__________________________________________________________________________________________________\n",
      "embedding (Embedding)           (None, 45, 128)      2816000     input_1[0][0]                    \n",
      "__________________________________________________________________________________________________\n",
      "lstm (LSTM)                     [(None, 45, 512), (N 1312768     embedding[0][0]                  \n",
      "__________________________________________________________________________________________________\n",
      "input_2 (InputLayer)            [(None, None)]       0                                            \n",
      "__________________________________________________________________________________________________\n",
      "lstm_1 (LSTM)                   [(None, 45, 512), (N 2099200     lstm[0][0]                       \n",
      "__________________________________________________________________________________________________\n",
      "embedding_1 (Embedding)         (None, None, 128)    1408000     input_2[0][0]                    \n",
      "__________________________________________________________________________________________________\n",
      "lstm_2 (LSTM)                   [(None, 45, 512), (N 2099200     lstm_1[0][0]                     \n",
      "__________________________________________________________________________________________________\n",
      "lstm_3 (LSTM)                   [(None, None, 512),  1312768     embedding_1[0][0]                \n",
      "                                                                 lstm_2[0][1]                     \n",
      "                                                                 lstm_2[0][2]                     \n",
      "__________________________________________________________________________________________________\n",
      "attention_layer (AdditiveAttent (None, None, 512)    512         lstm_3[0][0]                     \n",
      "                                                                 lstm_2[0][0]                     \n",
      "__________________________________________________________________________________________________\n",
      "concat_layer (Concatenate)      (None, None, 1024)   0           lstm_3[0][0]                     \n",
      "                                                                 attention_layer[0][0]            \n",
      "__________________________________________________________________________________________________\n",
      "dense (Dense)                   (None, None, 11000)  11275000    concat_layer[0][0]               \n",
      "==================================================================================================\n",
      "Total params: 22,323,448\n",
      "Trainable params: 22,323,448\n",
      "Non-trainable params: 0\n",
      "__________________________________________________________________________________________________\n"
     ]
    }
   ],
   "source": [
    "model = Model([encoder_inputs, decoder_inputs], decoder_softmax_outputs)\n",
    "model.summary()"
   ]
  },
  {
   "cell_type": "code",
   "execution_count": 41,
   "id": "cb95874a",
   "metadata": {},
   "outputs": [
    {
     "name": "stdout",
     "output_type": "stream",
     "text": [
      "Epoch 1/50\n",
      "304/304 [==============================] - 231s 726ms/step - loss: 6.0307 - val_loss: 5.7725\n",
      "Epoch 2/50\n",
      "304/304 [==============================] - 222s 730ms/step - loss: 5.9085 - val_loss: 5.7594\n",
      "Epoch 3/50\n",
      "304/304 [==============================] - 221s 728ms/step - loss: 5.8857 - val_loss: 5.7536\n",
      "Epoch 4/50\n",
      "304/304 [==============================] - 221s 727ms/step - loss: 5.8674 - val_loss: 5.7563\n",
      "Epoch 5/50\n",
      "304/304 [==============================] - 223s 733ms/step - loss: 5.8492 - val_loss: 5.8180\n",
      "Restoring model weights from the end of the best epoch.\n",
      "Epoch 00005: early stopping\n"
     ]
    }
   ],
   "source": [
    "model.compile(optimizer='rmsprop', loss='sparse_categorical_crossentropy')\n",
    "es = EarlyStopping(monitor='val_loss', mode = 'min', patience=2, verbose=1, restore_best_weights=True)\n",
    "\n",
    "history = model.fit(x=[encoder_input_train, decoder_input_train], y=decoder_target_train, \n",
    "                    validation_data=([encoder_input_test, decoder_input_test], decoder_target_test), \n",
    "                    batch_size=256, callbacks=[es], epochs=50)"
   ]
  },
  {
   "cell_type": "code",
   "execution_count": 42,
   "id": "c24996d4",
   "metadata": {},
   "outputs": [
    {
     "data": {
      "image/png": "[encoded data removed]",
      "text/plain": [
       "<Figure size 432x288 with 1 Axes>"
      ]
     },
     "metadata": {
      "needs_background": "light"
     },
     "output_type": "display_data"
    }
   ],
   "source": [
    "plt.plot(history.history['loss'], label='train')\n",
    "plt.plot(history.history['val_loss'], label='test')\n",
    "plt.legend()\n",
    "plt.show()"
   ]
  },
  {
   "cell_type": "markdown",
   "id": "c1b11630",
   "metadata": {},
   "source": [
    "### 4) 인퍼런스 모델 구현\n",
    "* 학습된 모델(트레이닝 모델)을 이용해 실제 문장을 생성하는 모델(인퍼런스 모델)을 구현해야 한다.\n",
    "* 트레이닝 모델이 '정답 문장'(target)을 모델 자신의 출력과 비교해가며 학습을 진행하는 반면, 인퍼런스 모델은 정답이 없으므로 문장을 완성할 때까지 디코더가 반복 구조로 동작하는 구조로 별도로 구현되어야 한다."
   ]
  },
  {
   "cell_type": "code",
   "execution_count": 43,
   "id": "08175b75",
   "metadata": {},
   "outputs": [],
   "source": [
    "# 원문 단어 사전\n",
    "src_word_to_index = src_tokenizer.word_index \n",
    "src_index_to_word = src_tokenizer.index_word \n",
    "\n",
    "# 요약문 단어 사전\n",
    "tar_word_to_index = tar_tokenizer.word_index \n",
    "tar_index_to_word = tar_tokenizer.index_word"
   ]
  },
  {
   "cell_type": "code",
   "execution_count": 44,
   "id": "9159b777",
   "metadata": {},
   "outputs": [],
   "source": [
    "# 인코더 \n",
    "encoder_model = Model(inputs=encoder_inputs, outputs=[encoder_outputs, state_h, state_c])\n",
    "\n",
    "# 디코더\n",
    "# 이전 시점의 상태들을 저장하는 텐서\n",
    "decoder_state_input_h = Input(shape=(hidden_size,))\n",
    "decoder_state_input_c = Input(shape=(hidden_size,))\n",
    "\n",
    "dec_emb2 = dec_emb_layer(decoder_inputs)\n",
    "\n",
    "# 문장의 다음 단어를 예측하기 위해서 초기 상태(initial_state)를 이전 시점의 상태로 사용. 이는 뒤의 함수 decode_sequence()에 구현\n",
    "# 훈련 과정에서와 달리 LSTM의 리턴하는 은닉 상태와 셀 상태인 state_h와 state_c를 버리지 않음.\n",
    "\n",
    "decoder_outputs2, state_h2, state_c2 = decoder_lstm(dec_emb2, initial_state=[decoder_state_input_h, decoder_state_input_c])\n",
    "\n",
    "# 어텐션 함수\n",
    "decoder_hidden_state_input = Input(shape=(text_max_len, hidden_size))\n",
    "attn_out_inf = attn_layer([decoder_outputs2, decoder_hidden_state_input])\n",
    "decoder_inf_concat = Concatenate(axis=-1, name='concat')([decoder_outputs2, attn_out_inf])\n",
    "\n",
    "# 디코더의 출력층\n",
    "decoder_outputs2 = decoder_softmax_layer(decoder_inf_concat) \n",
    "\n",
    "# 최종 디코더 모델\n",
    "decoder_model = Model([decoder_inputs] + [decoder_hidden_state_input, decoder_state_input_h, decoder_state_input_c], \n",
    "                      [decoder_outputs2] + [state_h2, state_c2])\n"
   ]
  },
  {
   "cell_type": "markdown",
   "id": "e643a401",
   "metadata": {},
   "source": [
    "## 4. 추상적 요약과 원문 비교"
   ]
  },
  {
   "cell_type": "code",
   "execution_count": 45,
   "id": "35af7077",
   "metadata": {},
   "outputs": [],
   "source": [
    "# 예측한 단어 시퀀스를 완성하는 함수\n",
    "def decode_sequence(input_seq):\n",
    "    # 입력으로부터 인코더의 상태를 얻음\n",
    "    e_out, e_h, e_c = encoder_model.predict(input_seq)\n",
    "\n",
    "     # <SOS>에 해당하는 토큰 생성\n",
    "    target_seq = np.zeros((1,1))\n",
    "    target_seq[0, 0] = tar_word_to_index['sostoken']\n",
    "\n",
    "    stop_condition = False\n",
    "    decoded_sentence = ''\n",
    "    while not stop_condition: # stop_condition이 True가 될 때까지 루프 반복\n",
    "\n",
    "        output_tokens, h, c = decoder_model.predict([target_seq] + [e_out, e_h, e_c], )\n",
    "        sampled_token_index = np.argmax(output_tokens[0, -1, :])\n",
    "        sampled_token = tar_index_to_word[sampled_token_index]\n",
    "\n",
    "        if (sampled_token!='eostoken'):\n",
    "            decoded_sentence += ' '+sampled_token\n",
    "\n",
    "        #  <eos>에 도달하거나 최대 길이를 넘으면 중단.\n",
    "        if (sampled_token == 'eostoken'  or len(decoded_sentence.split()) >= (headline_max_len-1)):\n",
    "            stop_condition = True\n",
    "\n",
    "        # 길이가 1인 타겟 시퀀스를 업데이트\n",
    "        target_seq = np.zeros((1,1))\n",
    "        target_seq[0, 0] = sampled_token_index\n",
    "\n",
    "        # 상태를 업데이트 합니다.\n",
    "        e_h, e_c = h, c\n",
    "\n",
    "    return decoded_sentence"
   ]
  },
  {
   "cell_type": "code",
   "execution_count": 46,
   "id": "aadad527",
   "metadata": {},
   "outputs": [],
   "source": [
    "# 원문의 정수 시퀀스를 텍스트 시퀀스로 변환\n",
    "def seq2text(input_seq):\n",
    "    temp=''\n",
    "    for i in input_seq:\n",
    "        if (i!=0):\n",
    "            temp = temp + src_index_to_word[i]+' '\n",
    "    return temp\n",
    "\n",
    "# 요약문의 정수 시퀀스를 텍스트 시퀀스로 변환\n",
    "def seq2summary(input_seq):\n",
    "    temp=''\n",
    "    for i in input_seq:\n",
    "        if ((i!=0 and i!=tar_word_to_index['sostoken']) and i!=tar_word_to_index['eostoken']):\n",
    "            temp = temp + tar_index_to_word[i] + ' '\n",
    "    return temp"
   ]
  },
  {
   "cell_type": "code",
   "execution_count": 47,
   "id": "03e028b7",
   "metadata": {
    "scrolled": true
   },
   "outputs": [
    {
     "name": "stdout",
     "output_type": "stream",
     "text": [
      "원문 : former us president barack obama said friday president donald trump symptom cause division polarisation us also said trump politicians years added normal urged people vote november elections \n",
      "실제 요약 : trump the not cause of division in us obama \n",
      "예측 요약 :  india to to to to in in\n",
      "\n",
      "\n",
      "원문 : bihar police allegedly gave alcohol two daily wage workers carrying woman semi body bamboo pole post mortem workers initially refused carry body due foul smell emanating agreed police offered alcohol consuming alcohol punishable offence attracting year jail term bihar \n",
      "실제 요약 : police offer workers alcohol to carry dead body in dry bihar \n",
      "예측 요약 :  india to to to to in\n",
      "\n",
      "\n",
      "원문 : lyricist javed akhtar said whether masjid mandir church gurudwara prayers disturb anybody javed said asked singer sonu nigam comments demanding ban loudspeakers religious sermons earlier sonu tweeted muslim woken azaan called forced religiousness \n",
      "실제 요약 : prayers shouldn disturb anybody javed on sonu azaan row \n",
      "예측 요약 :  india to to to to in in\n",
      "\n",
      "\n",
      "원문 : akshay kumar starrer pad man released today scores high content well emotions wrote bollywood hungama akshay delivers film india needed period wrote hindustan times times india wrote makes important film needs watched film rated bollywood hungama ht toi \n",
      "실제 요약 : akshay kumar starrer pad man hits the theatres \n",
      "예측 요약 :  india to to to to in in\n",
      "\n",
      "\n",
      "원문 : main runway mumbai chhatrapati shivaji international airport remain closed pm pm saturday upgrade instrument landing system runway helps guiding aircraft runway low visibility situations like dense fog heavy rainfall flight schedule likely interrupted upgrade complete \n",
      "실제 요약 : mumbai airport to remain closed for hours on may \n",
      "예측 요약 :  india to to to to in in\n",
      "\n",
      "\n",
      "원문 : new currency note might available market previously reported date august according reports reserve bank india rbi reportedly final stages introducing currency note also earlier reported note available atms bank branches \n",
      "실제 요약 : currency note to be available before aug reports \n",
      "예측 요약 :  india to to to to in in\n",
      "\n",
      "\n",
      "원문 : speaking indian team batting unit captain virat kohli said able anything totals batsmen must step collectively say individually whether someone needs batting unit definitely put better performance kohli added \n",
      "실제 요약 : bowlers can do much with totals that we are scoring kohli \n",
      "예측 요약 :  india to to to to in in\n",
      "\n",
      "\n",
      "원문 : indian railways planning introduce self propelled made india luxury trains expected reduce travellers time around two trains called train train designed chennai factory run speed kmph train expected manufactured june \n",
      "실제 요약 : made in india luxury trains to reduce travel time by \n",
      "예측 요약 :  india to to to to in in\n",
      "\n",
      "\n",
      "원문 : lok sabha speaker sumitra mahajan wednesday accepted confidence motion pm narendra modi led government first time mahajan said discussions regarding motion led tdp take place friday tdp filed motion centre denial give special category status andhra pradesh promised general elections \n",
      "실제 요약 : ls speaker accepts no trust motion against modi govt for st time \n",
      "예측 요약 :  india to to to to to in\n",
      "\n",
      "\n",
      "원문 : us president donald trump nominee supreme court brett kavanaugh accused sexual misconduct three women sworn saturday amid protests us senate backed nomination votes closest nomination vote since year old appointed life denied sexual misconduct allegations \n",
      "실제 요약 : kavanaugh sworn in as us sc judge amid sexual assault allegations \n",
      "예측 요약 :  india to to to to in in\n",
      "\n",
      "\n"
     ]
    }
   ],
   "source": [
    "for i in range(20,30):\n",
    "    print(\"원문 :\", seq2text(encoder_input_test[i]))\n",
    "    print(\"실제 요약 :\", seq2summary(decoder_input_test[i]))\n",
    "    print(\"예측 요약 :\", decode_sequence(encoder_input_test[i].reshape(1, text_max_len)))\n",
    "    print(\"\\n\")"
   ]
  },
  {
   "cell_type": "code",
   "execution_count": 48,
   "id": "df656cd2",
   "metadata": {
    "scrolled": false
   },
   "outputs": [
    {
     "name": "stdout",
     "output_type": "stream",
     "text": [
      "1 : said\n",
      "2 : india\n",
      "3 : year\n",
      "4 : added\n",
      "5 : us\n",
      "6 : also\n",
      "7 : first\n",
      "8 : government\n",
      "9 : police\n",
      "10 : people\n"
     ]
    }
   ],
   "source": [
    "# src_tokenizer 내부 단어장 인덱스와 단어 확인\n",
    "\n",
    "for idx in src_tokenizer.index_word:\n",
    "    print(idx, \":\", src_tokenizer.index_word[idx])\n",
    "\n",
    "    if idx >= 10: break"
   ]
  },
  {
   "cell_type": "code",
   "execution_count": 49,
   "id": "49669785",
   "metadata": {
    "scrolled": false
   },
   "outputs": [
    {
     "name": "stdout",
     "output_type": "stream",
     "text": [
      "1 : sostoken\n",
      "2 : eostoken\n",
      "3 : to\n",
      "4 : in\n",
      "5 : for\n",
      "6 : of\n",
      "7 : on\n",
      "8 : india\n",
      "9 : with\n",
      "10 : after\n"
     ]
    }
   ],
   "source": [
    "# tar_tokenizer 내부 단어장 인덱스와 단어 확인\n",
    "\n",
    "for idx in tar_tokenizer.index_word:\n",
    "    print(idx, \":\", tar_tokenizer.index_word[idx])\n",
    "\n",
    "    if idx >= 10: break"
   ]
  },
  {
   "cell_type": "markdown",
   "id": "51894004",
   "metadata": {},
   "source": [
    "맥락과 아무 상관없는 단어들을 나열하고 있다. tokenizer 내부 단어장을 확인했을 때 빈도수가 높았던 india, to, in을 나열하는 것으로 보아 원문의 맥락을 파악하기보다는 가능성 높은 단어들을 적당히 나열하고 있는 것 같다.\n",
    "\n",
    "앞서 확인한 validation loss도 약 5.75에서 떨어지지 않았다. 노드 실습에서보다 loss가 약 두배 이상 발생하였는데, 데이터의 양과 단어의 수 등이 실습에서보다 훨씬 많았기 때문에 모델 설계도 이를 포괄할 수 있게끔 더 큰 모델로 설계될 필요가 있는듯 보인다."
   ]
  },
  {
   "cell_type": "code",
   "execution_count": 50,
   "id": "77494a1c",
   "metadata": {},
   "outputs": [
    {
     "name": "stdout",
     "output_type": "stream",
     "text": [
      "WARNING:tensorflow:Layer lstm_4 will not use cuDNN kernels since it doesn't meet the criteria. It will use a generic GPU kernel as fallback when running on GPU.\n",
      "WARNING:tensorflow:Layer lstm_5 will not use cuDNN kernels since it doesn't meet the criteria. It will use a generic GPU kernel as fallback when running on GPU.\n",
      "WARNING:tensorflow:Layer lstm_6 will not use cuDNN kernels since it doesn't meet the criteria. It will use a generic GPU kernel as fallback when running on GPU.\n",
      "WARNING:tensorflow:Layer lstm_7 will not use cuDNN kernels since it doesn't meet the criteria. It will use a generic GPU kernel as fallback when running on GPU.\n",
      "WARNING:tensorflow:Layer lstm_8 will not use cuDNN kernels since it doesn't meet the criteria. It will use a generic GPU kernel as fallback when running on GPU.\n",
      "WARNING:tensorflow:Layer lstm_9 will not use cuDNN kernels since it doesn't meet the criteria. It will use a generic GPU kernel as fallback when running on GPU.\n"
     ]
    }
   ],
   "source": [
    "src_vocab = 22000    # 어휘 사전의 크기\n",
    "embedding_dim = 256    # 워드 벡터의 차원수(단어들의 인덱스를 워드 벡터로 추상화)\n",
    "hidden_size = 512    # 단어 간의 연관성(맥락)을 파악하기 위한 LSTM의 수용력(뉴런의 개수, 레이어 깊이)\n",
    "\n",
    "# 입력 레이어\n",
    "encoder_inputs = Input(shape=(text_max_len,))\n",
    "\n",
    "# 임베딩 레이어\n",
    "enc_emb = Embedding(src_vocab, embedding_dim)(encoder_inputs)\n",
    "\n",
    "# 첫번째 LSTM 레이어\n",
    "encoder_lstm1 = LSTM(hidden_size, return_sequences=True, return_state=True ,dropout = 0.2, recurrent_dropout = 0.2)\n",
    "encoder_output1, state_h1, state_c1 = encoder_lstm1(enc_emb)\n",
    "\n",
    "# 두번째 LSTM 레이어\n",
    "encoder_lstm2 = LSTM(hidden_size, return_sequences=True, return_state=True, dropout=0.2, recurrent_dropout=0.2)\n",
    "encoder_output2, state_h2, state_c2 = encoder_lstm2(encoder_output1)\n",
    "\n",
    "# 세번째 LSTM 레이어\n",
    "encoder_lstm3 = LSTM(hidden_size, return_state=True, return_sequences=True, dropout=0.2, recurrent_dropout=0.2)\n",
    "encoder_output3, state_h3, state_c3= encoder_lstm3(encoder_output2)\n",
    "\n",
    "# 네번째 LSTM 레이어\n",
    "encoder_lstm4 = LSTM(hidden_size, return_state=True, return_sequences=True, dropout=0.2, recurrent_dropout=0.2)\n",
    "encoder_output4, state_h4, state_c4= encoder_lstm4(encoder_output3)\n",
    "\n",
    "# 다섯번째 LSTM 레이어\n",
    "encoder_lstm5 = LSTM(hidden_size, return_state=True, return_sequences=True, dropout=0.2, recurrent_dropout=0.2)\n",
    "encoder_outputs, state_h, state_c= encoder_lstm5(encoder_output4)\n",
    "\n",
    "\n",
    "# 입력 레이어\n",
    "decoder_inputs = Input(shape=(None,))\n",
    "\n",
    "# 임베딩 레이어\n",
    "dec_emb_layer = Embedding(tar_vocab, embedding_dim)\n",
    "dec_emb = dec_emb_layer(decoder_inputs)\n",
    "\n",
    "# LSTM 레이어\n",
    "decoder_lstm = LSTM(hidden_size, return_sequences=True, return_state=True, dropout=0.2, recurrent_dropout=0.2)\n",
    "decoder_outputs, _, _ = decoder_lstm(dec_emb, initial_state=[state_h, state_c])\n",
    "\n",
    "# 어텐션 레이어\n",
    "attn_layer = AdditiveAttention(name='attention_layer')\n",
    "attn_out = attn_layer([decoder_outputs, encoder_outputs])\n",
    "decoder_concat_input = Concatenate(axis=-1, name='concat_layer')([decoder_outputs, attn_out])\n",
    "\n",
    "# 출력 레이어\n",
    "decoder_softmax_layer = Dense(tar_vocab, activation='softmax')\n",
    "decoder_softmax_outputs = decoder_softmax_layer(decoder_concat_input) "
   ]
  },
  {
   "cell_type": "code",
   "execution_count": 51,
   "id": "30e34377",
   "metadata": {
    "scrolled": true
   },
   "outputs": [
    {
     "name": "stdout",
     "output_type": "stream",
     "text": [
      "Model: \"model_3\"\n",
      "__________________________________________________________________________________________________\n",
      "Layer (type)                    Output Shape         Param #     Connected to                     \n",
      "==================================================================================================\n",
      "input_6 (InputLayer)            [(None, 45)]         0                                            \n",
      "__________________________________________________________________________________________________\n",
      "embedding_2 (Embedding)         (None, 45, 256)      5632000     input_6[0][0]                    \n",
      "__________________________________________________________________________________________________\n",
      "lstm_4 (LSTM)                   [(None, 45, 512), (N 1574912     embedding_2[0][0]                \n",
      "__________________________________________________________________________________________________\n",
      "lstm_5 (LSTM)                   [(None, 45, 512), (N 2099200     lstm_4[0][0]                     \n",
      "__________________________________________________________________________________________________\n",
      "lstm_6 (LSTM)                   [(None, 45, 512), (N 2099200     lstm_5[0][0]                     \n",
      "__________________________________________________________________________________________________\n",
      "input_7 (InputLayer)            [(None, None)]       0                                            \n",
      "__________________________________________________________________________________________________\n",
      "lstm_7 (LSTM)                   [(None, 45, 512), (N 2099200     lstm_6[0][0]                     \n",
      "__________________________________________________________________________________________________\n",
      "embedding_3 (Embedding)         (None, None, 256)    2816000     input_7[0][0]                    \n",
      "__________________________________________________________________________________________________\n",
      "lstm_8 (LSTM)                   [(None, 45, 512), (N 2099200     lstm_7[0][0]                     \n",
      "__________________________________________________________________________________________________\n",
      "lstm_9 (LSTM)                   [(None, None, 512),  1574912     embedding_3[0][0]                \n",
      "                                                                 lstm_8[0][1]                     \n",
      "                                                                 lstm_8[0][2]                     \n",
      "__________________________________________________________________________________________________\n",
      "attention_layer (AdditiveAttent (None, None, 512)    512         lstm_9[0][0]                     \n",
      "                                                                 lstm_8[0][0]                     \n",
      "__________________________________________________________________________________________________\n",
      "concat_layer (Concatenate)      (None, None, 1024)   0           lstm_9[0][0]                     \n",
      "                                                                 attention_layer[0][0]            \n",
      "__________________________________________________________________________________________________\n",
      "dense_1 (Dense)                 (None, None, 11000)  11275000    concat_layer[0][0]               \n",
      "==================================================================================================\n",
      "Total params: 31,270,136\n",
      "Trainable params: 31,270,136\n",
      "Non-trainable params: 0\n",
      "__________________________________________________________________________________________________\n"
     ]
    }
   ],
   "source": [
    "model = Model([encoder_inputs, decoder_inputs], decoder_softmax_outputs)\n",
    "model.summary()"
   ]
  },
  {
   "cell_type": "markdown",
   "id": "a1dec748",
   "metadata": {},
   "source": [
    "**워드 벡터의 차원수를 256으로 늘리고, 인코더의 LSTM 레이어를 5개로 늘려 더욱 깊은 구조**를 가질 수 있게 했다. 파라미터 수가 22,323,448개에서 31,270,136개로 늘었다."
   ]
  },
  {
   "cell_type": "code",
   "execution_count": 52,
   "id": "973fcd43",
   "metadata": {},
   "outputs": [
    {
     "name": "stdout",
     "output_type": "stream",
     "text": [
      "Epoch 1/50\n",
      "304/304 [==============================] - 356s 1s/step - loss: 6.0338 - val_loss: 5.7916\n",
      "Epoch 2/50\n",
      "304/304 [==============================] - 345s 1s/step - loss: 5.8841 - val_loss: 5.7519\n",
      "Epoch 4/50\n",
      "304/304 [==============================] - 341s 1s/step - loss: 5.8632 - val_loss: 5.7599\n",
      "Restoring model weights from the end of the best epoch.\n",
      "Epoch 00004: early stopping\n"
     ]
    }
   ],
   "source": [
    "model.compile(optimizer='rmsprop', loss='sparse_categorical_crossentropy')\n",
    "es = EarlyStopping(monitor='val_loss', mode = 'min', patience=2, verbose=1, restore_best_weights=True)\n",
    "\n",
    "history = model.fit(x=[encoder_input_train, decoder_input_train], y=decoder_target_train, \n",
    "                    validation_data=([encoder_input_test, decoder_input_test], decoder_target_test), \n",
    "                    batch_size=256, callbacks=[es], epochs=50)"
   ]
  },
  {
   "cell_type": "code",
   "execution_count": 53,
   "id": "573e2f33",
   "metadata": {},
   "outputs": [
    {
     "data": {
      "image/png": "[encoded data removed]",
      "text/plain": [
       "<Figure size 432x288 with 1 Axes>"
      ]
     },
     "metadata": {
      "needs_background": "light"
     },
     "output_type": "display_data"
    }
   ],
   "source": [
    "plt.plot(history.history['loss'], label='train')\n",
    "plt.plot(history.history['val_loss'], label='test')\n",
    "plt.legend()\n",
    "plt.show()"
   ]
  },
  {
   "cell_type": "code",
   "execution_count": 54,
   "id": "19cdb18d",
   "metadata": {
    "scrolled": false
   },
   "outputs": [
    {
     "name": "stdout",
     "output_type": "stream",
     "text": [
      "원문 : indian cab hailing startup ola lost fourth billion overall funds raised investors since inception compete american counterpart uber according bloomberg counter rival ola spent nearly crore around million financial year ended march notably ola uber backed japanese conglomerate softbank \n",
      "실제 요약 : ola lost th of billion funding to counter uber report \n",
      "예측 요약 :  india to to to to in in\n",
      "\n",
      "\n",
      "원문 : american civil rights activist martin luther king jr sent anonymous letter federal bureau investigation encouraging commit suicide letter aimed nobel laureate claiming intimate knowledge sex life martin luther led non violent struggle equal civil rights african americans us \n",
      "실제 요약 : fbi once sent letter to martin him for suicide \n",
      "예측 요약 :  india to to to to in in\n",
      "\n",
      "\n",
      "원문 : american tennis player sloane stephens winner us open women singles title ranked six weeks ago due long injury stephens came us open unseeded became second unseeded us open women champion open era title stephens rise th position monday world rankings \n",
      "실제 요약 : us open champion was ranked six weeks ago \n",
      "예측 요약 :  india to to to to in in\n",
      "\n",
      "\n",
      "원문 : former australian wicketkeeper batsman adam gilchrist said england women wicketkeeper sarah taylor best wicketkeeper world moment across men women cricket pretty bold statement lot fine around added gilchrist hailed taylor social media days ago stumping south africa women \n",
      "실제 요약 : taylor best wicketkeeper in the world adam gilchrist \n",
      "예측 요약 :  india to to to to to in\n",
      "\n",
      "\n",
      "원문 : former dravida kazhagam dmk corporator arrested repeatedly kicked woman inside beauty salon tamil nadu suspended party membership incident happened may video surfaced online seen thrashing woman three others try stop \n",
      "실제 요약 : ex dmk corporator held for repeatedly kicking woman in salon \n",
      "예측 요약 :  india to to to to to in\n",
      "\n",
      "\n",
      "원문 : delhi replaced gujarat top state investment potential index list states union territories prepared economic think tank tamil nadu moved four spots nd gujarat fell two spots rank rd assam jharkhand bihar ranked among least favourable states investment \n",
      "실제 요약 : delhi pips gujarat to top investment potential index \n",
      "예측 요약 :  india to to to to in\n",
      "\n",
      "\n",
      "원문 : delhi government would starting workshops parents class students appearing board examinations government schools november workshops would aimed creating right kind environment students homes full fledged roll programme expected begin january \n",
      "실제 요약 : delhi to start for class students parents \n",
      "예측 요약 :  india to to to to in in\n",
      "\n",
      "\n",
      "원문 : declaring practice triple talaq unconstitutional ordering ban supreme court said islamic nations discontinue practice india talaq instant divorce arbitrary allows muslim man break marriage triple talaq basic tenets islam five judge sc bench said \n",
      "실제 요약 : if islamic nations can why can we sc on triple talaq ban \n",
      "예측 요약 :  india to to to to to in\n",
      "\n",
      "\n",
      "원문 : electric car startup faraday future accused china evergrande health trying scrap billion stake sale deal made previous backer season smart evergrande claimed startup ceo jia yueting seeking deprive season smart shareholder rights prevent financial plans faraday future spent initial million investment july filings revealed \n",
      "실제 요약 : faraday future ceo trying to scrap deal post spending mn \n",
      "예측 요약 :  india to to to to to in\n",
      "\n",
      "\n",
      "원문 : austin waugh son world cup winning australian captain steve waugh included australia squad world cup year old slammed runs eight national championships matches last season australian side led jason second youngest cricketer sachin tendulkar score first class ton england \n",
      "실제 요약 : wc winning captain steve waugh son in aus wc squad \n",
      "예측 요약 :  india to to to to in in\n",
      "\n",
      "\n"
     ]
    }
   ],
   "source": [
    "for i in range(10):\n",
    "    print(\"원문 :\", seq2text(encoder_input_test[i]))\n",
    "    print(\"실제 요약 :\", seq2summary(decoder_input_test[i]))\n",
    "    print(\"예측 요약 :\", decode_sequence(encoder_input_test[i].reshape(1, text_max_len)))\n",
    "    print(\"\\n\")"
   ]
  },
  {
   "cell_type": "markdown",
   "id": "a4402271",
   "metadata": {},
   "source": [
    "loss에도 요약 결과에도 거의 차이를 보이지 않는다. **인코더의 깊이를 깊게 만드는 것은 해결책이 되지 않았다.**  [단어 생성 이력을 이용한 시퀀스-투-시퀀스 요약의\n",
    "어휘 반복 문제 해결](https://www.koreascience.or.kr/article/CFKO201832073078591.pdf) 논문에 의하면 seq2seq의 성능을 높이기 위하여 디코더가 단어를 생성할 때 인코더의 어느 부분에 집중해야할지를 계산하여 단어 생성 시 추가 정보를 주는 주의집중(attention) 기법이 성능 향상에 도움을 주었으나, 어텐션 기법은 입력문서의 한 부분에 집중되어 어휘 반복 문제를 야기하기도 한다고 지적하고 있다. "
   ]
  },
  {
   "cell_type": "code",
   "execution_count": 55,
   "id": "2930aa84",
   "metadata": {},
   "outputs": [
    {
     "name": "stdout",
     "output_type": "stream",
     "text": [
      "WARNING:tensorflow:Layer lstm_10 will not use cuDNN kernels since it doesn't meet the criteria. It will use a generic GPU kernel as fallback when running on GPU.\n",
      "WARNING:tensorflow:Layer lstm_11 will not use cuDNN kernels since it doesn't meet the criteria. It will use a generic GPU kernel as fallback when running on GPU.\n",
      "WARNING:tensorflow:Layer lstm_12 will not use cuDNN kernels since it doesn't meet the criteria. It will use a generic GPU kernel as fallback when running on GPU.\n",
      "WARNING:tensorflow:Layer lstm_13 will not use cuDNN kernels since it doesn't meet the criteria. It will use a generic GPU kernel as fallback when running on GPU.\n",
      "WARNING:tensorflow:Layer lstm_14 will not use cuDNN kernels since it doesn't meet the criteria. It will use a generic GPU kernel as fallback when running on GPU.\n"
     ]
    }
   ],
   "source": [
    "src_vocab = 22000    # 어휘 사전의 크기\n",
    "embedding_dim = 256    # 워드 벡터의 차원수(단어들의 인덱스를 워드 벡터로 추상화)\n",
    "hidden_size = 512    # 단어 간의 연관성(맥락)을 파악하기 위한 LSTM의 수용력(뉴런의 개수, 레이어 깊이)\n",
    "\n",
    "# 입력 레이어\n",
    "encoder_inputs = Input(shape=(text_max_len,))\n",
    "\n",
    "# 임베딩 레이어\n",
    "enc_emb = Embedding(src_vocab, embedding_dim)(encoder_inputs)\n",
    "\n",
    "# 첫번째 LSTM 레이어\n",
    "encoder_lstm1 = LSTM(hidden_size, return_sequences=True, return_state=True ,dropout = 0.2, recurrent_dropout = 0.2)\n",
    "encoder_output1, state_h1, state_c1 = encoder_lstm1(enc_emb)\n",
    "\n",
    "# 두번째 LSTM 레이어\n",
    "encoder_lstm2 = LSTM(hidden_size, return_sequences=True, return_state=True, dropout=0.2, recurrent_dropout=0.2)\n",
    "encoder_output2, state_h2, state_c2 = encoder_lstm2(encoder_output1)\n",
    "\n",
    "# 세번째 LSTM 레이어\n",
    "encoder_lstm3 = LSTM(hidden_size, return_state=True, return_sequences=True, dropout=0.2, recurrent_dropout=0.2)\n",
    "encoder_output3, state_h3, state_c3= encoder_lstm3(encoder_output2)\n",
    "\n",
    "# 네번째 LSTM 레이어\n",
    "encoder_lstm4 = LSTM(hidden_size, return_state=True, return_sequences=True, dropout=0.2, recurrent_dropout=0.2)\n",
    "encoder_outputs, state_h, state_c= encoder_lstm4(encoder_output3)\n",
    "\n",
    "\n",
    "# 입력 레이어\n",
    "decoder_inputs = Input(shape=(None,))\n",
    "\n",
    "# 임베딩 레이어\n",
    "dec_emb_layer = Embedding(tar_vocab, embedding_dim)\n",
    "dec_emb = dec_emb_layer(decoder_inputs)\n",
    "\n",
    "# LSTM 레이어\n",
    "decoder_lstm = LSTM(hidden_size, return_sequences=True, return_state=True, dropout=0.2, recurrent_dropout=0.2)\n",
    "decoder_outputs, _, _ = decoder_lstm(dec_emb, initial_state=[state_h, state_c])\n",
    "\n",
    "# 출력 레이어\n",
    "decoder_softmax_layer = Dense(tar_vocab, activation='softmax')\n",
    "decoder_softmax_outputs = decoder_softmax_layer(decoder_outputs) "
   ]
  },
  {
   "cell_type": "code",
   "execution_count": 56,
   "id": "d552d10d",
   "metadata": {},
   "outputs": [
    {
     "name": "stdout",
     "output_type": "stream",
     "text": [
      "Model: \"model_4\"\n",
      "__________________________________________________________________________________________________\n",
      "Layer (type)                    Output Shape         Param #     Connected to                     \n",
      "==================================================================================================\n",
      "input_8 (InputLayer)            [(None, 45)]         0                                            \n",
      "__________________________________________________________________________________________________\n",
      "embedding_4 (Embedding)         (None, 45, 256)      5632000     input_8[0][0]                    \n",
      "__________________________________________________________________________________________________\n",
      "lstm_10 (LSTM)                  [(None, 45, 512), (N 1574912     embedding_4[0][0]                \n",
      "__________________________________________________________________________________________________\n",
      "lstm_11 (LSTM)                  [(None, 45, 512), (N 2099200     lstm_10[0][0]                    \n",
      "__________________________________________________________________________________________________\n",
      "input_9 (InputLayer)            [(None, None)]       0                                            \n",
      "__________________________________________________________________________________________________\n",
      "lstm_12 (LSTM)                  [(None, 45, 512), (N 2099200     lstm_11[0][0]                    \n",
      "__________________________________________________________________________________________________\n",
      "embedding_5 (Embedding)         (None, None, 256)    2816000     input_9[0][0]                    \n",
      "__________________________________________________________________________________________________\n",
      "lstm_13 (LSTM)                  [(None, 45, 512), (N 2099200     lstm_12[0][0]                    \n",
      "__________________________________________________________________________________________________\n",
      "lstm_14 (LSTM)                  [(None, None, 512),  1574912     embedding_5[0][0]                \n",
      "                                                                 lstm_13[0][1]                    \n",
      "                                                                 lstm_13[0][2]                    \n",
      "__________________________________________________________________________________________________\n",
      "dense_2 (Dense)                 (None, None, 11000)  5643000     lstm_14[0][0]                    \n",
      "==================================================================================================\n",
      "Total params: 23,538,424\n",
      "Trainable params: 23,538,424\n",
      "Non-trainable params: 0\n",
      "__________________________________________________________________________________________________\n"
     ]
    }
   ],
   "source": [
    "model = Model([encoder_inputs, decoder_inputs], decoder_softmax_outputs)\n",
    "model.summary()"
   ]
  },
  {
   "cell_type": "code",
   "execution_count": 57,
   "id": "9891f22b",
   "metadata": {},
   "outputs": [
    {
     "name": "stdout",
     "output_type": "stream",
     "text": [
      "Epoch 1/50\n",
      "304/304 [==============================] - 277s 876ms/step - loss: 6.0426 - val_loss: 5.7613\n",
      "Epoch 2/50\n",
      "304/304 [==============================] - 264s 869ms/step - loss: 5.9056 - val_loss: 5.7572\n",
      "Epoch 3/50\n",
      "304/304 [==============================] - 261s 860ms/step - loss: 5.8998 - val_loss: 5.7500\n",
      "Epoch 4/50\n",
      "304/304 [==============================] - 261s 859ms/step - loss: 5.8723 - val_loss: 5.7679\n",
      "Epoch 5/50\n",
      "304/304 [==============================] - 262s 863ms/step - loss: 5.8549 - val_loss: 5.7695\n",
      "Restoring model weights from the end of the best epoch.\n",
      "Epoch 00005: early stopping\n"
     ]
    }
   ],
   "source": [
    "model.compile(optimizer='rmsprop', loss='sparse_categorical_crossentropy')\n",
    "es = EarlyStopping(monitor='val_loss', mode = 'min', patience=2, verbose=1, restore_best_weights=True)\n",
    "\n",
    "history = model.fit(x=[encoder_input_train, decoder_input_train], y=decoder_target_train, \n",
    "                    validation_data=([encoder_input_test, decoder_input_test], decoder_target_test), \n",
    "                    batch_size=256, callbacks=[es], epochs=50)"
   ]
  },
  {
   "cell_type": "code",
   "execution_count": 58,
   "id": "8b8833d2",
   "metadata": {},
   "outputs": [
    {
     "data": {
      "image/png": "[encoded data removed]",
      "text/plain": [
       "<Figure size 432x288 with 1 Axes>"
      ]
     },
     "metadata": {
      "needs_background": "light"
     },
     "output_type": "display_data"
    }
   ],
   "source": [
    "plt.plot(history.history['loss'], label='train')\n",
    "plt.plot(history.history['val_loss'], label='test')\n",
    "plt.legend()\n",
    "plt.show()"
   ]
  },
  {
   "cell_type": "code",
   "execution_count": 59,
   "id": "56b394b9",
   "metadata": {},
   "outputs": [
    {
     "name": "stdout",
     "output_type": "stream",
     "text": [
      "원문 : former us president barack obama said friday president donald trump symptom cause division polarisation us also said trump politicians years added normal urged people vote november elections \n",
      "실제 요약 : trump the not cause of division in us obama \n",
      "예측 요약 :  india to to to to in in\n",
      "\n",
      "\n",
      "원문 : bihar police allegedly gave alcohol two daily wage workers carrying woman semi body bamboo pole post mortem workers initially refused carry body due foul smell emanating agreed police offered alcohol consuming alcohol punishable offence attracting year jail term bihar \n",
      "실제 요약 : police offer workers alcohol to carry dead body in dry bihar \n",
      "예측 요약 :  india to to to to in\n",
      "\n",
      "\n",
      "원문 : lyricist javed akhtar said whether masjid mandir church gurudwara prayers disturb anybody javed said asked singer sonu nigam comments demanding ban loudspeakers religious sermons earlier sonu tweeted muslim woken azaan called forced religiousness \n",
      "실제 요약 : prayers shouldn disturb anybody javed on sonu azaan row \n",
      "예측 요약 :  india to to to to in in\n",
      "\n",
      "\n",
      "원문 : akshay kumar starrer pad man released today scores high content well emotions wrote bollywood hungama akshay delivers film india needed period wrote hindustan times times india wrote makes important film needs watched film rated bollywood hungama ht toi \n",
      "실제 요약 : akshay kumar starrer pad man hits the theatres \n",
      "예측 요약 :  india to to to to in in\n",
      "\n",
      "\n",
      "원문 : main runway mumbai chhatrapati shivaji international airport remain closed pm pm saturday upgrade instrument landing system runway helps guiding aircraft runway low visibility situations like dense fog heavy rainfall flight schedule likely interrupted upgrade complete \n",
      "실제 요약 : mumbai airport to remain closed for hours on may \n",
      "예측 요약 :  india to to to to in in\n",
      "\n",
      "\n",
      "원문 : new currency note might available market previously reported date august according reports reserve bank india rbi reportedly final stages introducing currency note also earlier reported note available atms bank branches \n",
      "실제 요약 : currency note to be available before aug reports \n",
      "예측 요약 :  india to to to to in in\n",
      "\n",
      "\n",
      "원문 : speaking indian team batting unit captain virat kohli said able anything totals batsmen must step collectively say individually whether someone needs batting unit definitely put better performance kohli added \n",
      "실제 요약 : bowlers can do much with totals that we are scoring kohli \n",
      "예측 요약 :  india to to to to in in\n",
      "\n",
      "\n",
      "원문 : indian railways planning introduce self propelled made india luxury trains expected reduce travellers time around two trains called train train designed chennai factory run speed kmph train expected manufactured june \n",
      "실제 요약 : made in india luxury trains to reduce travel time by \n",
      "예측 요약 :  india to to to to in in\n",
      "\n",
      "\n",
      "원문 : lok sabha speaker sumitra mahajan wednesday accepted confidence motion pm narendra modi led government first time mahajan said discussions regarding motion led tdp take place friday tdp filed motion centre denial give special category status andhra pradesh promised general elections \n",
      "실제 요약 : ls speaker accepts no trust motion against modi govt for st time \n",
      "예측 요약 :  india to to to to to in\n",
      "\n",
      "\n",
      "원문 : us president donald trump nominee supreme court brett kavanaugh accused sexual misconduct three women sworn saturday amid protests us senate backed nomination votes closest nomination vote since year old appointed life denied sexual misconduct allegations \n",
      "실제 요약 : kavanaugh sworn in as us sc judge amid sexual assault allegations \n",
      "예측 요약 :  india to to to to in in\n",
      "\n",
      "\n"
     ]
    }
   ],
   "source": [
    "for i in range(20,30):\n",
    "    print(\"원문 :\", seq2text(encoder_input_test[i]))\n",
    "    print(\"실제 요약 :\", seq2summary(decoder_input_test[i]))\n",
    "    print(\"예측 요약 :\", decode_sequence(encoder_input_test[i].reshape(1, text_max_len)))\n",
    "    print(\"\\n\")"
   ]
  },
  {
   "cell_type": "markdown",
   "id": "0f47735d",
   "metadata": {},
   "source": [
    "논문에서 지적한 대로 어휘 반복 현상이 어텐션 기법에 의한 것인지 알아보기 위해 **디코더에서 어텐션 레이어를 제외하고 시도해 보았다.** (실습에 비해 많아진 데이터 양을 고려해 인코더의 LSTM 레이어는 4개로 늘렸다.) 해결되지 않았다. 논문에서는 제시한 해결책은 요약글이 어느정도 완성되었으나 중간에 특정 단어가 반복되는 현상이 나타날 때 적용가능한 해결책을 제시하였지만, 처음부터 입력된 문장과 상관없이 같은 단어만 출력되는 문제는 모델의 문제보다는 오류사항으로 보인다.."
   ]
  },
  {
   "cell_type": "markdown",
   "id": "7115861d",
   "metadata": {},
   "source": [
    "## 5. 추출적 요약과 원문 비교\n",
    "핵심문장을 판별하는 문장 분류(Text Classification) 문제에 해당함.\n",
    "* 패키지 Summa에서 제공하는 모듈 summarize()를 이용"
   ]
  },
  {
   "cell_type": "code",
   "execution_count": 60,
   "id": "4186c1c0",
   "metadata": {},
   "outputs": [],
   "source": [
    "import requests\n",
    "from summa.summarizer import summarize"
   ]
  },
  {
   "cell_type": "code",
   "execution_count": 61,
   "id": "de7050f1",
   "metadata": {},
   "outputs": [
    {
     "name": "stdout",
     "output_type": "stream",
     "text": [
      "upGrad learner switches to career in ML & Al with 90% salary hike\n",
      "upGrad's Online Power Learning has powered 3 lakh+ careers.\n",
      "====================================\n",
      "Delhi techie wins free food from Swiggy for one year on CRED\n",
      "Users get one CRED coin per rupee of bill paid, which can be used to avail rewards from brands like Ixigo, BookMyShow, UberEats, Cult.Fit and more.\n",
      "====================================\n",
      "New Zealand end Rohit Sharma-led India's 12-match winning streak\n",
      "The match witnessed India getting all out for 92, their seventh lowest total in ODI cricket history.\n",
      "====================================\n",
      "Aegon life iTerm insurance plan helps customers save tax\n",
      "Also, customers have options to insure against Critical Illnesses, Disability and Accidental Death Benefit Rider with a life cover up to the age of 80 years.\n",
      "====================================\n",
      "Have known Hirani for yrs, what if MeToo claims are not true: Sonam\n",
      "Speaking about the sexual harassment allegations against Rajkumar Hirani, Sonam Kapoor said, \"I've known Hirani for many years...What if it's not true, the [#MeToo] movement will get derailed.\" \"In the #MeToo movement, I always believe a woman.\n",
      "====================================\n",
      "Rahat Fateh Ali Khan denies getting notice for smuggling currency\n",
      "Pakistani singer Rahat Fateh Ali Khan has denied receiving any notice from the Enforcement Directorate over allegedly smuggling foreign currency out of India.\n",
      "====================================\n",
      "India get all out for 92, their lowest ODI total in New Zealand\n",
      "India's previous lowest ODI total in New Zealand was 108.\n",
      "====================================\n",
      "Govt directs Alok Verma to join work 1 day before his retirement\n",
      "Weeks after ex-CBI Director Alok Verma told the Department of Personnel and Training to consider him retired, the Home Ministry asked him to join work on the last day of his fixed tenure as Director on Thursday.\n",
      "====================================\n",
      "Called PM Modi 'sir' 10 times to satisfy his ego: Andhra CM\n",
      "Andhra Pradesh CM N Chandrababu Naidu has said, \"When I met then US President Bill Clinton, I addressed him as Mr Clinton, not as 'sir'.\n",
      "====================================\n",
      "Cong wins Ramgarh bypoll in Rajasthan, takes total to 100 seats\n",
      "Congress candidate Shafia Zubair won the Ramgarh Assembly seat in Rajasthan, by defeating BJP's Sukhwant Singh with a margin of 12,228 votes in the bypoll.\n",
      "====================================\n"
     ]
    }
   ],
   "source": [
    "data = pd.read_csv('news_summary_more.csv', encoding='iso-8859-1')\n",
    "\n",
    "for i in range(10):\n",
    "    print(data['headlines'][i])\n",
    "    print(summarize(data['text'][i], ratio=0.5))\n",
    "    print(\"====================================\")"
   ]
  },
  {
   "cell_type": "markdown",
   "id": "b4bc47b9",
   "metadata": {},
   "source": [
    "본문의 길이가 평균 35단어 수준으로 그리 길지 않으므로 summarize의 ratio 인자를 너무 작게 입력할 경우 문장을 아예 골라내지 못하는 경우가 있어 0.5로 설정하였다. 실제 요약문(headline)과 그리 일치하는 것으로 보이지는 않는다. 새로 쓰는 뉴스 기사의 헤드라인과 단순 특정 문장을 골라내는 것에는 차이가 있을 수 밖에 없고, 해당 데이터와 같이 본문 자체가 짧은 경우 ratio 또는 words 인자를 조절하며 문장을 고르게끔 하면 거의 본문 그대로를 옮기는 것과 마찬가지이기 때문에, 추출적 요약은 본문 길이가 아주 길 경우에 유용한 방법이 된다고 여겨진다."
   ]
  },
  {
   "cell_type": "markdown",
   "id": "a51e8078",
   "metadata": {},
   "source": [
    "## 회고\n",
    "\n",
    "- 처음으로 멀쩡한 결과물 내기를 중도 포기했다..  무슨 수를 써야 loss를 더 떨어뜨릴 수 있는지, loss가 일정 수준 이상으로 떨어지면 적절한 문장이 나오기는 하는지 의문이 든다.....\n",
    "- 인코더, 디코더, 인퍼런스 모델까지 어느 지점에서 문제가 발생한 것인지 짐작하기 어렵다. 어떤 입력이 들어오든 계속 같은 단어만 추정하고 있다는 점에서 인코더의 문제인지, 아니면 디코더가 적절한 다음 단어를 추정하지 못하고 있는 건지, 학습 결과를 이용해 단어를 생성해야 하는 인퍼런스 모델이 학습 결과를 전혀 쓰지 못하고 있을 뿐인지...... "
   ]
  },
  {
   "cell_type": "code",
   "execution_count": null,
   "id": "d25aff30",
   "metadata": {},
   "outputs": [],
   "source": []
  }
 ],
 "metadata": {
  "kernelspec": {
   "display_name": "Python 3 (ipykernel)",
   "language": "python",
   "name": "python3"
  },
  "language_info": {
   "codemirror_mode": {
    "name": "ipython",
    "version": 3
   },
   "file_extension": ".py",
   "mimetype": "text/x-python",
   "name": "python",
   "nbconvert_exporter": "python",
   "pygments_lexer": "ipython3",
   "version": "3.9.7"
  }
 },
 "nbformat": 4,
 "nbformat_minor": 5
}
