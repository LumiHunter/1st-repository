{
 "cells": [
  {
   "cell_type": "markdown",
   "id": "52d7709c",
   "metadata": {},
   "source": [
    "## 네이버 영화리뷰 감성분석\n",
    "\n",
    "### 학습 목표\n",
    "- 텍스트 데이터를 머신러닝 입출력용 수치데이터로 변환하는 과정을 이해한다.\n",
    "- RNN의 특징을 이해하고 Sequantial한 데이터를 다루는 방법을 이해한다.\n",
    "- 1-D CNN으로도 텍스트를 처리할 수 있음을 이해한다.\n",
    "- IMDB와 네이버 영화리뷰 데이터셋을 이용한 영화리뷰 감성 분류 실습을 진행한다.\n",
    "\n",
    "### 루브릭 \n",
    "- 다양한 방법으로 Test Classification 테스크를 성공적으로 구현하였다: **3가지 이상의 모델이 성공적으로 시도됨**\n",
    "- gensim을 활용하여 자체학습된 혹은 사전학습된 임베딩 레이어를 분석하였다: **gensim의 유사단어 찾기를 활용하여 자체학습한 임베딩과 사전학습 임베딩을 적절히 분석함**\n",
    "- 한국어 Word2Vec을 활용하여 가시적인 성능향상을 달성했다.: **네이버 영화리뷰 데이터 감성분석 정확도를 85% 이상 달성함**"
   ]
  },
  {
   "cell_type": "markdown",
   "id": "b5592288",
   "metadata": {},
   "source": [
    "## 목차\n",
    "### 1. 데이터 준비와 텍스트 인덱스화\n",
    "### 2. 모델 구성을 위한 데이터 가공\n",
    "### 3. 모델 및 validation set 구성\n",
    "### 4. 모델 훈련과 Loss, Accuracy 분석\n",
    "### 5. 학습된 Embedding 레이어 분석\n",
    "### 6. 한국어 Word2Vec 임베딩 활용하여 성능 개선\n",
    "---"
   ]
  },
  {
   "cell_type": "markdown",
   "id": "2607a5cb",
   "metadata": {},
   "source": [
    "## 1. 데이터 준비와 텍스트 인덱스화"
   ]
  },
  {
   "cell_type": "code",
   "execution_count": 1,
   "id": "141edca6",
   "metadata": {},
   "outputs": [
    {
     "data": {
      "text/html": [
       "<div>\n",
       "<style scoped>\n",
       "    .dataframe tbody tr th:only-of-type {\n",
       "        vertical-align: middle;\n",
       "    }\n",
       "\n",
       "    .dataframe tbody tr th {\n",
       "        vertical-align: top;\n",
       "    }\n",
       "\n",
       "    .dataframe thead th {\n",
       "        text-align: right;\n",
       "    }\n",
       "</style>\n",
       "<table border=\"1\" class=\"dataframe\">\n",
       "  <thead>\n",
       "    <tr style=\"text-align: right;\">\n",
       "      <th></th>\n",
       "      <th>id</th>\n",
       "      <th>document</th>\n",
       "      <th>label</th>\n",
       "    </tr>\n",
       "  </thead>\n",
       "  <tbody>\n",
       "    <tr>\n",
       "      <th>0</th>\n",
       "      <td>9976970</td>\n",
       "      <td>아 더빙.. 진짜 짜증나네요 목소리</td>\n",
       "      <td>0</td>\n",
       "    </tr>\n",
       "    <tr>\n",
       "      <th>1</th>\n",
       "      <td>3819312</td>\n",
       "      <td>흠...포스터보고 초딩영화줄....오버연기조차 가볍지 않구나</td>\n",
       "      <td>1</td>\n",
       "    </tr>\n",
       "    <tr>\n",
       "      <th>2</th>\n",
       "      <td>10265843</td>\n",
       "      <td>너무재밓었다그래서보는것을추천한다</td>\n",
       "      <td>0</td>\n",
       "    </tr>\n",
       "    <tr>\n",
       "      <th>3</th>\n",
       "      <td>9045019</td>\n",
       "      <td>교도소 이야기구먼 ..솔직히 재미는 없다..평점 조정</td>\n",
       "      <td>0</td>\n",
       "    </tr>\n",
       "    <tr>\n",
       "      <th>4</th>\n",
       "      <td>6483659</td>\n",
       "      <td>사이몬페그의 익살스런 연기가 돋보였던 영화!스파이더맨에서 늙어보이기만 했던 커스틴 ...</td>\n",
       "      <td>1</td>\n",
       "    </tr>\n",
       "  </tbody>\n",
       "</table>\n",
       "</div>"
      ],
      "text/plain": [
       "         id                                           document  label\n",
       "0   9976970                                아 더빙.. 진짜 짜증나네요 목소리      0\n",
       "1   3819312                  흠...포스터보고 초딩영화줄....오버연기조차 가볍지 않구나      1\n",
       "2  10265843                                  너무재밓었다그래서보는것을추천한다      0\n",
       "3   9045019                      교도소 이야기구먼 ..솔직히 재미는 없다..평점 조정      0\n",
       "4   6483659  사이몬페그의 익살스런 연기가 돋보였던 영화!스파이더맨에서 늙어보이기만 했던 커스틴 ...      1"
      ]
     },
     "execution_count": 1,
     "metadata": {},
     "output_type": "execute_result"
    }
   ],
   "source": [
    "import pandas as pd\n",
    "\n",
    "train_data = pd.read_table('~/aiffel/sentiment_classification/data/ratings_train.txt')\n",
    "test_data = pd.read_table('~/aiffel/sentiment_classification/data/ratings_test.txt')\n",
    "\n",
    "train_data.head()"
   ]
  },
  {
   "cell_type": "code",
   "execution_count": 2,
   "id": "d842ad4d",
   "metadata": {},
   "outputs": [
    {
     "name": "stdout",
     "output_type": "stream",
     "text": [
      "150000\n",
      "50000\n"
     ]
    }
   ],
   "source": [
    "print(len(train_data))\n",
    "print(len(test_data))"
   ]
  },
  {
   "cell_type": "code",
   "execution_count": 3,
   "id": "f634f908",
   "metadata": {},
   "outputs": [
    {
     "name": "stdout",
     "output_type": "stream",
     "text": [
      "146182\n",
      "49157\n"
     ]
    }
   ],
   "source": [
    "train_data.drop_duplicates(subset = ['document'], inplace = True)\n",
    "train_data = train_data.dropna(how = 'any') \n",
    "test_data.drop_duplicates(subset=['document'], inplace=True)\n",
    "test_data = test_data.dropna(how = 'any')\n",
    "\n",
    "print(len(train_data))\n",
    "print(len(test_data))"
   ]
  },
  {
   "cell_type": "markdown",
   "id": "9620e6de",
   "metadata": {},
   "source": [
    "train 15만개, test 5만개 총 20만개의 영화 리뷰를 긍정 1, 부정 0으로 라벨링한 데이터를 로드한다. 중복데이터를 제거하고, 결측값을 삭제하여 train 146182개, test 49157개가 남았다.\n",
    "\n",
    "* drop_duplicates()는 DataFrame에서 중복값을 제거한다.\n",
    "  * subset: 중복을 찾을 column 지정 (default: all columns)\n",
    "  * keep: 중복값들 중 어떤 값을 남겨둘지 결정{'first', 'last', False:모두 지움},  (default 'first')\n",
    "  * inplace: 중복 제거를 DataFrame에 반영할지 결정{True:반영, False:반영하지 않고 copy를 반환} (default False)\n",
    "\n",
    "* dropna()는 DataFrame에서 결측값을 제거한다.\n",
    "  * axis: 결측값을 row에서 찾을 지 column에서 찾을 지 결정{0: row 1: column} (default 0)\n",
    "  * how: 결측값 제거 기준 결정{'any': 결측이 하나라도 있을 시 삭제, 'all': 모든 값이 결측값일 때 삭제} (default 'any')"
   ]
  },
  {
   "cell_type": "code",
   "execution_count": 4,
   "id": "b5b95026",
   "metadata": {},
   "outputs": [],
   "source": [
    "from konlpy.tag import Mecab\n",
    "\n",
    "tokenizer = Mecab()\n",
    "stopwords = ['의','가','이','은','들','는','좀','잘','걍','과','도','를','으로','자','에','와','한','하다']"
   ]
  },
  {
   "cell_type": "markdown",
   "id": "71212a82",
   "metadata": {},
   "source": [
    "오픈소스 형태소 분석기들을 파이썬 환경에서 사용할 수 있도록 한 한국어 자연어 처리 패키지 [KoNLPy](http://konlpy.org/en/latest)에서 형태소 분석기 Mecab을 import하고 tokenizer로 정의한다. \n",
    "\n",
    "또한 불용어(stopwords)를 정의한다. 주로 한국어 조사들을 불용어로 지정하는데, 문장에 나타나는 빈도가 너무 높아 목적에 맞는 주요한 단어를 찾는데에 방해가 되기 때문이다."
   ]
  },
  {
   "cell_type": "code",
   "execution_count": 5,
   "id": "ad5ba9e0",
   "metadata": {},
   "outputs": [],
   "source": [
    "import numpy as np\n",
    "from collections import Counter\n",
    "\n",
    "def load_data(train_data, test_data, num_words):\n",
    "    X_train = []\n",
    "    for sentence in train_data['document']:\n",
    "        temp_X = tokenizer.morphs(sentence)    # 문장을 토큰화\n",
    "        temp_X = [word for word in temp_X if not word in stopwords]    # 토큰화 된 단어 중 불용어가 아닌 것만 tmp_X 리스트에 담음\n",
    "        X_train.append(temp_X) \n",
    "        \n",
    "    X_test = []\n",
    "    for sentence in test_data['document']:\n",
    "        temp_X = tokenizer.morphs(sentence)\n",
    "        temp_X = [word for word in temp_X if not word in stopwords]\n",
    "        X_test.append(temp_X)\n",
    "    \n",
    "    words = np.concatenate(X_train).tolist()   \n",
    "    counter = Counter(words)   \n",
    "    counter = counter.most_common(num_words-4)  \n",
    "    vocab = ['', '', '', ''] + [key for key, _ in counter]  \n",
    "    word_to_index = {word:index for index, word in enumerate(vocab)}\n",
    "    word_to_index[\"<PAD>\"] = 0\n",
    "    word_to_index[\"<BOS>\"] = 1\n",
    "    word_to_index[\"<UNK>\"] = 2  # unknown\n",
    "    word_to_index[\"<UNUSED>\"] = 3\n",
    "\n",
    "\n",
    "    def wordlist_to_indexlist(wordlist): \n",
    "        return [word_to_index[word] if word in word_to_index else word_to_index['<UNK>'] for word in wordlist]\n",
    "        \n",
    "    X_train = list(map(wordlist_to_indexlist, X_train))\n",
    "    X_test = list(map(wordlist_to_indexlist, X_test))\n",
    "        \n",
    "    return X_train, np.array(list(train_data['label'])), X_test, np.array(list(test_data['label'])), word_to_index"
   ]
  },
  {
   "cell_type": "markdown",
   "id": "549bca48",
   "metadata": {},
   "source": [
    "train, test 데이터와 저장할 단어의 수를 입력받아 텍스트를 토큰화한 다음, 불용어를 제거하여 word_to_index 딕셔너리를 구성, 데이터를 숫자 인덱스로 변환하는 함수를 선언한다. 함수의 각 구성에서 수행하는 작업은 다음과 같다.\n",
    "\n",
    "---\n",
    "**1. 문장을 토큰화하고 그 중 불용어가 아닌 단어만 골라 temp_X 리스트에 담고, 문장의 단어주머니인 temp_X를 X_train 리스트에 담는다.(이중 리스트) 같은 과정을 X_test에서도 수행한다.** \n",
    "```python\n",
    "    X_train = []\n",
    "    for sentence in train_data['document']:\n",
    "        temp_X = tokenizer.morphs(sentence)\n",
    "        temp_X = [word for word in temp_X if not word in stopwords]\n",
    "        X_train.append(temp_X) \n",
    "```\n",
    "   \n",
    "**2. X_train에서 저장한 모든 단어들을 words 리스트에 담고, 자주 나온 단어들을 단어 사전에 추가 한다.** \n",
    "```python\n",
    "    words = np.concatenate(X_train).tolist()\n",
    "    counter = Counter(words)\n",
    "    counter = counter.most_common(num_words-4)\n",
    "    vocab = ['', '', '', ''] + [key for key, _ in counter]\n",
    "    word_to_index = {word:index for index, word in enumerate(vocab)} \n",
    "```\n",
    "* np.concatenate는 Numpy 배열들을 하나로 합친다. X_train에 담긴 리스트들을 하나로 합친 배열을 tolist() 함수를 통해 리스트로 변경한다.\n",
    "* Counter(a)는 입력받은 리스트 a에서 요소들의 갯수를 세어 {단어:갯수} 딕셔너리로 반환한다.\n",
    "  * Counter(a).most)common(n): a의 요소들 중 최빈값 n개만 골라 (단어, 갯수) 튜플로 반환한다.\n",
    "* vocab 리스트에 \\<PAD\\>, \\<BOS\\>, \\<UNK\\>, \\<UNUSED\\>가 들어갈 4개의 공백을 두고 가장 자주 나온 단어 num_words-4개를 저장한 다음, word_to_index에 {단어:인덱스} 딕셔너리로 저장한다.\n",
    "\n",
    "**3. X_train과 X_test에 저장된 단어 리스트들을 인덱스 리스트들로 변경한다.** \n",
    "```python\n",
    "def wordlist_to_indexlist(wordlist): \n",
    "    return [word_to_index[word] if word in word_to_index else word_to_index['<UNK>'] for word in wordlist]\n",
    "        \n",
    "X_train = list(map(wordlist_to_indexlist, X_train))\n",
    "```\n",
    "* 입력받은 wordlist에 들어있는 단어가 'word_to_index' 딕셔너리에 들어있다면 그 인덱스를, 그렇지 않으면 '\\<UNK\\>'의 인덱스를 반환하는 함수 wordlist_to_indexlist 함수를 내부함수로 선언한다.\n",
    "* map 함수를 통해 X_train에 들어있는 모든 단어 주머니들에 대해 wordlist_to_indexlist 함수를 적용한다.\n",
    "\n",
    "---"
   ]
  },
  {
   "cell_type": "code",
   "execution_count": 6,
   "id": "ba3b80a4",
   "metadata": {},
   "outputs": [],
   "source": [
    "X_train, y_train, X_test, y_test, word_to_index = load_data(train_data, test_data, num_words = 12000) \n",
    "index_to_word = {index:word for word, index in word_to_index.items()}"
   ]
  },
  {
   "cell_type": "markdown",
   "id": "991011d0",
   "metadata": {},
   "source": [
    "함수 load_data를 통해 12000개 단어로 이루어진 word_to_index 딕셔너리를 정의하여 X_train과 X_test의 문장들을 모두 숫자 벡터로 변환하였고, 불러온 word_to_index에서 index_to_word 딕셔너리를 정의한다."
   ]
  },
  {
   "cell_type": "code",
   "execution_count": 7,
   "id": "519e6b92",
   "metadata": {},
   "outputs": [],
   "source": [
    "# 문장 1개를 단어 인덱스 리스트(벡터)로 encode하는 함수\n",
    "def get_encoded_sentence(sentence, word_to_index):\n",
    "    return [word_to_index['<BOS>']] + [word_to_index[word] \n",
    "                                       if word in word_to_index else word_to_index['<UNK>'] \n",
    "                                       for word in sentence.split()]\n",
    "\n",
    "# 여러 개의 문장 리스트를 한꺼번에 단어 인덱스 리스트(벡터)로 encode하는 함수\n",
    "def get_encoded_sentences(sentences, word_to_index):\n",
    "    return [get_encoded_sentence(sentence, word_to_index) for sentence in sentences]\n",
    "\n",
    "# 숫자 벡터 1개를 문장으로 decode하는 함수\n",
    "def get_decoded_sentence(encoded_sentence, index_to_word):\n",
    "    return ' '.join(index_to_word[index] \n",
    "                    if index in index_to_word else '<UNK>' for index in encoded_sentence)    \n",
    "\n",
    "# 여러 개의 숫자 벡터를 한꺼번에 문장으로 decode하는 함수\n",
    "def get_decoded_sentences(encoded_sentences, index_to_word):\n",
    "    return [get_decoded_sentence(encoded_sentences, index_to_word) for encoded_sentence in encoded_sentences]"
   ]
  },
  {
   "cell_type": "code",
   "execution_count": 8,
   "id": "50de04f4",
   "metadata": {},
   "outputs": [
    {
     "name": "stdout",
     "output_type": "stream",
     "text": [
      "[32, 74, 919, 4, 4, 39, 228, 20, 33, 748] \n",
      " 아 더 빙 . . 진짜 짜증 나 네요 목소리 \n",
      " 0\n",
      "[1028, 4, 11, 519, 549, 687, 5, 120, 4, 70, 1639, 52, 925, 1006, 15, 44, 391] \n",
      " 흠 . .. 포스터 보고 초딩 영화 줄 . ... 오버 연기 조차 가볍 지 않 구나 \n",
      " 1\n",
      "[24, 205, 2] \n",
      " 너무 재 <UNK> \n",
      " 0\n",
      "[8409, 158, 3925, 4, 4, 298, 94, 17, 6, 4, 4, 58, 3479] \n",
      " 교도소 이야기 구먼 . . 솔직히 재미 없 다 . . 평점 조정 \n",
      " 0\n",
      "[2, 8894, 1108, 52, 2832, 60, 5, 14, 2758, 41, 1188, 35, 351, 42, 22, 40, 60, 2, 2, 427, 3102, 1766, 6] \n",
      " <UNK> 익살 스런 연기 돋보였 던 영화 ! 스파이더맨 에서 늙 어 보이 기 만 했 던 <UNK> <UNK> 너무나 이뻐 보였 다 \n",
      " 1\n",
      "[675, 2, 2, 131, 420, 185, 1547, 712, 65, 1694, 715, 53, 375, 192, 271, 5, 4, 69, 4, 11, 2179, 122, 750, 4] \n",
      " 막 <UNK> <UNK> 3 세 부터 초등 학교 1 학년 생 인 8 살 용 영화 . ㅋㅋㅋ . .. 별반 개 아까움 . \n",
      " 0\n",
      "[253, 381, 9, 384, 2012, 55, 15, 817, 6, 4] \n",
      " 원작 긴장감 을 제대로 살려 내 지 못했 다 . \n",
      " 0\n",
      "[232, 1450, 144, 6, 425, 756, 10855, 2, 52, 1532, 290, 99, 250, 4, 4, 28, 855, 29, 353, 652, 540, 509, 583, 6, 3318, 4, 8895, 22, 1460, 1460, 4, 4, 71, 304, 17, 6, 52, 104, 8, 77, 22, 2, 43] \n",
      " 별 반개 아깝 다 욕 나온다 이응경 <UNK> 연기 생활 몇 년 인지 . . 정말 발 로 해도 그것 보단 낫 겟 다 납치 . 감금 만 반복 반복 . . 드라마 가족 없 다 연기 못 하 사람 만 <UNK> 네 \n",
      " 0\n",
      "[128, 17, 23, 94, 16, 290, 27, 48, 5] \n",
      " 액션 없 는데 재미 있 몇 안 되 영화 \n",
      " 1\n",
      "[63, 656, 58, 240, 760, 18, 574, 89, 10063, 4, 4, 1482, 637, 736, 81, 22, 24, 2, 16, 20, 18] \n",
      " 왜 케 평점 낮 건데 ? 꽤 볼 만한데 . . 헐리우드 식 화려 함 만 너무 <UNK> 있 나 ? \n",
      " 1\n"
     ]
    }
   ],
   "source": [
    "for i in range(10):\n",
    "    print(X_train[i], '\\n', get_decoded_sentence(X_train[i], index_to_word), '\\n', y_train[i])"
   ]
  },
  {
   "cell_type": "markdown",
   "id": "17a2e72e",
   "metadata": {},
   "source": [
    "두 딕셔너리를 이용하여 문장을 숫자 벡터로 encode하는 함수와 숫자 벡터를 문장으로 decode 하는 함수를 선언하였다. 문장의 인덱스화가 잘 되었는지 데이터의 일부분을 호출해 확인한다. word_to_index가 저장하는 최대 단어수가 제한되어 있어, 일부 단어들은 인덱스 과정에서 소실되었다.('\\<UNK\\>'로 대체됨)"
   ]
  },
  {
   "cell_type": "markdown",
   "id": "91048985",
   "metadata": {},
   "source": [
    "## 2. 모델 구성을 위한 데이터 가공"
   ]
  },
  {
   "cell_type": "code",
   "execution_count": 9,
   "id": "80c96e54",
   "metadata": {},
   "outputs": [
    {
     "name": "stdout",
     "output_type": "stream",
     "text": [
      "문장 단어 수 평균 :  15.96940191154864\n",
      "문장 단어 수 중앙값 :  12.0\n",
      "문장 단어 수 최대 :  116\n",
      "문장 단어 수 표준편차 :  12.843571191092\n"
     ]
    }
   ],
   "source": [
    "total_data_text = X_train + X_test\n",
    "\n",
    "num_tokens = [len(tokens) for tokens in total_data_text]\n",
    "num_tokens = np.array(num_tokens)\n",
    "\n",
    "print('문장 단어 수 평균 : ', np.mean(num_tokens))\n",
    "print('문장 단어 수 중앙값 : ', np.median(num_tokens))\n",
    "print('문장 단어 수 최대 : ', np.max(num_tokens))\n",
    "print('문장 단어 수 표준편차 : ', np.std(num_tokens))"
   ]
  },
  {
   "cell_type": "markdown",
   "id": "495cef2a",
   "metadata": {},
   "source": [
    "숫자로 endocing된 train과 test 문장들이 각각 토큰을 몇개 가지고 있는지 각 문장을 tokens로 불러와 len(tokens)로 토큰수를 나타내어 num_tokens에 리스트로 저장한 다음 np.array로 변경한다.\n",
    "\n",
    "np.array num_tokens에 numpy의 메서드 mean, max, std를 적용하여 보유한 문장들의 단어 수 평균, 중앙값, 최대, 표준편차를 계산한다. 평균과 중앙값이 큰 차이가 나지 않는 것으로 보아 116개의 단어로 이루어진 최대 길이 문장과 같은 outlier가 많지 않음을 추측할 수 있다."
   ]
  },
  {
   "cell_type": "code",
   "execution_count": 10,
   "id": "eec322f2",
   "metadata": {},
   "outputs": [
    {
     "data": {
      "image/png": "[encoded data removed]",
      "text/plain": [
       "<Figure size 432x288 with 1 Axes>"
      ]
     },
     "metadata": {
      "needs_background": "light"
     },
     "output_type": "display_data"
    }
   ],
   "source": [
    "import matplotlib.pyplot as plt\n",
    "%matplotlib inline\n",
    "\n",
    "plt.hist([len(tokens) for tokens in total_data_text], bins=50)\n",
    "plt.xlabel('length of sentences')\n",
    "plt.ylabel('number of sentences')\n",
    "plt.show()"
   ]
  },
  {
   "cell_type": "code",
   "execution_count": 11,
   "id": "2784f831",
   "metadata": {},
   "outputs": [
    {
     "name": "stdout",
     "output_type": "stream",
     "text": [
      "최대 문장 길이 :  50\n",
      "전체 문장의 0.957432975493885%가 최대 문장 길이 이내에 포함 \n"
     ]
    }
   ],
   "source": [
    "maxlen = 50\n",
    "print('최대 문장 길이 : ', maxlen)\n",
    "print('전체 문장의 {}%가 최대 문장 길이 이내에 포함 '.format(np.sum(num_tokens < maxlen) / len(num_tokens)))"
   ]
  },
  {
   "cell_type": "markdown",
   "id": "4e7ad375",
   "metadata": {},
   "source": [
    "문장의 길이 분포를 시각화해 보고, 대부분의 문장을 모두 포괄할 수 있는 최대 문장 길이를 50으로 지정하였다."
   ]
  },
  {
   "cell_type": "code",
   "execution_count": 12,
   "id": "26e871c0",
   "metadata": {},
   "outputs": [
    {
     "name": "stdout",
     "output_type": "stream",
     "text": [
      "(146182, 50)\n",
      "(49157, 50)\n"
     ]
    }
   ],
   "source": [
    "import tensorflow as tf\n",
    "\n",
    "X_train_pad = tf.keras.preprocessing.sequence.pad_sequences(X_train, value=word_to_index[\"<PAD>\"], padding='pre', maxlen=maxlen)\n",
    "\n",
    "X_test_pad = tf.keras.preprocessing.sequence.pad_sequences(X_test, value=word_to_index[\"<PAD>\"], padding='pre', maxlen=maxlen)\n",
    "\n",
    "print(X_train_pad.shape)\n",
    "print(X_test_pad.shape)"
   ]
  },
  {
   "cell_type": "markdown",
   "id": "a2266849",
   "metadata": {},
   "source": [
    "최대 문장 길이보다 짧은 문장에 padding을 시행하여 길이를 맞춰준다. 입력데이터가 순차적으로 처리되는 RNN 모델을 고려해 pre-padding을 시행한다."
   ]
  },
  {
   "cell_type": "markdown",
   "id": "a9a62402",
   "metadata": {},
   "source": [
    "### 3) 모델 구성 및 validation set 구성"
   ]
  },
  {
   "cell_type": "code",
   "execution_count": 13,
   "id": "b9329326",
   "metadata": {},
   "outputs": [
    {
     "name": "stdout",
     "output_type": "stream",
     "text": [
      "Model: \"sequential\"\n",
      "_________________________________________________________________\n",
      "Layer (type)                 Output Shape              Param #   \n",
      "=================================================================\n",
      "embedding (Embedding)        (None, None, 16)          192000    \n",
      "_________________________________________________________________\n",
      "lstm (LSTM)                  (None, 8)                 800       \n",
      "_________________________________________________________________\n",
      "dense (Dense)                (None, 8)                 72        \n",
      "_________________________________________________________________\n",
      "dense_1 (Dense)              (None, 1)                 9         \n",
      "=================================================================\n",
      "Total params: 192,881\n",
      "Trainable params: 192,881\n",
      "Non-trainable params: 0\n",
      "_________________________________________________________________\n"
     ]
    }
   ],
   "source": [
    "# RNN(LSTM) 모델\n",
    "\n",
    "vocab_size = 12000    # 어휘 사전의 크기\n",
    "word_vector_dim = 16    # 단어 벡터의 차원수(모든 모델에 동일하게 적용)\n",
    "\n",
    "model_RNN = tf.keras.Sequential()\n",
    "model_RNN.add(tf.keras.layers.Embedding(vocab_size, word_vector_dim, input_shape = (None,)))\n",
    "model_RNN.add(tf.keras.layers.LSTM(8))    \n",
    "model_RNN.add(tf.keras.layers.Dense(8, activation = 'relu'))    \n",
    "model_RNN.add(tf.keras.layers.Dense(1, activation = 'sigmoid')) \n",
    "\n",
    "model_RNN.summary()"
   ]
  },
  {
   "cell_type": "code",
   "execution_count": 14,
   "id": "78c899ca",
   "metadata": {},
   "outputs": [
    {
     "name": "stdout",
     "output_type": "stream",
     "text": [
      "Model: \"sequential_1\"\n",
      "_________________________________________________________________\n",
      "Layer (type)                 Output Shape              Param #   \n",
      "=================================================================\n",
      "embedding_1 (Embedding)      (None, None, 16)          192000    \n",
      "_________________________________________________________________\n",
      "conv1d (Conv1D)              (None, None, 16)          1808      \n",
      "_________________________________________________________________\n",
      "max_pooling1d (MaxPooling1D) (None, None, 16)          0         \n",
      "_________________________________________________________________\n",
      "conv1d_1 (Conv1D)            (None, None, 16)          1808      \n",
      "_________________________________________________________________\n",
      "global_max_pooling1d (Global (None, 16)                0         \n",
      "_________________________________________________________________\n",
      "dense_2 (Dense)              (None, 8)                 136       \n",
      "_________________________________________________________________\n",
      "dense_3 (Dense)              (None, 1)                 9         \n",
      "=================================================================\n",
      "Total params: 195,761\n",
      "Trainable params: 195,761\n",
      "Non-trainable params: 0\n",
      "_________________________________________________________________\n"
     ]
    }
   ],
   "source": [
    "# CNN 모델\n",
    "\n",
    "model_CNN = tf.keras.Sequential()\n",
    "model_CNN.add(tf.keras.layers.Embedding(vocab_size, word_vector_dim, input_shape=(None,)))\n",
    "model_CNN.add(tf.keras.layers.Conv1D(16, 7, activation='relu'))\n",
    "model_CNN.add(tf.keras.layers.MaxPooling1D(5))\n",
    "model_CNN.add(tf.keras.layers.Conv1D(16, 7, activation='relu'))\n",
    "model_CNN.add(tf.keras.layers.GlobalMaxPooling1D())\n",
    "model_CNN.add(tf.keras.layers.Dense(8, activation='relu'))\n",
    "model_CNN.add(tf.keras.layers.Dense(1, activation='sigmoid'))\n",
    "\n",
    "model_CNN.summary()"
   ]
  },
  {
   "cell_type": "code",
   "execution_count": 15,
   "id": "adcc6187",
   "metadata": {},
   "outputs": [
    {
     "name": "stdout",
     "output_type": "stream",
     "text": [
      "Model: \"sequential_2\"\n",
      "_________________________________________________________________\n",
      "Layer (type)                 Output Shape              Param #   \n",
      "=================================================================\n",
      "embedding_2 (Embedding)      (None, None, 16)          192000    \n",
      "_________________________________________________________________\n",
      "global_max_pooling1d_1 (Glob (None, 16)                0         \n",
      "_________________________________________________________________\n",
      "dense_4 (Dense)              (None, 8)                 136       \n",
      "_________________________________________________________________\n",
      "dense_5 (Dense)              (None, 1)                 9         \n",
      "=================================================================\n",
      "Total params: 192,145\n",
      "Trainable params: 192,145\n",
      "Non-trainable params: 0\n",
      "_________________________________________________________________\n"
     ]
    }
   ],
   "source": [
    "# 1-Layer CNN 모델\n",
    "\n",
    "model_CNN_simple = tf.keras.Sequential()\n",
    "model_CNN_simple.add(tf.keras.layers.Embedding(vocab_size, word_vector_dim, input_shape=(None,)))\n",
    "model_CNN_simple.add(tf.keras.layers.GlobalMaxPooling1D())\n",
    "model_CNN_simple.add(tf.keras.layers.Dense(8, activation='relu'))\n",
    "model_CNN_simple.add(tf.keras.layers.Dense(1, activation='sigmoid'))  # 최종 출력은 긍정/부정을 나타내는 1dim 입니다.\n",
    "\n",
    "model_CNN_simple.summary()"
   ]
  },
  {
   "cell_type": "markdown",
   "id": "b6140146",
   "metadata": {},
   "source": [
    "RNN, CNN, 1-layer CNN을 각각 구성하였다. 모든 모델은 입력받은 어휘량(vocab_size)이 같고, 단어를 벡터화 했을 때의 차원수(word_vector_dim) 또한 같다. 그러므로 첫번째 레이어인 embedding 레이어가 모두 같다. \n",
    "\n",
    "딥러닝으로 문장 데이터를 학습할 때, 단어의 의미를 나타내는 벡터를 훈련 가능한 파라미터로 사용하기 위해 이러한 의미 벡터 파라미터를 구현한 레이어가 필요하게 되는데 이것이 embedding 레이어의 역할이다. 즉, 세 모델에게 단어의 의미 파라미터는 모두 같다.\n",
    "\n",
    "각 모델의 차이점:\n",
    "* RNN: 시간의 흐름에 따라 새롭게 들어오는 입력에 따라 변하는 현재 상태를 묘사하는 state machine으로 설계된 모델이다. 이전 시점에 나온 단어나 문장이 다음, 그 다음 단어나 문장에 영향을 주는 텍스트 데이터에 적합한 딥러닝 모델로 알려져있다.\n",
    "* CNN: 문장 전체를 한꺼번에 한 방향으로 길이 7짜리 필터로 스캐닝 하면서 7단어 이내에서 발견되는 특징을 추출하여 그것으로 문장을 분류한다. RNN 계열보다 병렬처리가 효율적이기 때문에 학습 속도에 이점이 있다.\n",
    "* 1-layer CNN: CNN 모델에서 GlobalMaxPooling1D() 레이어 하나만 사용하는 방법으로, 전체 문장 중에서 단 하나의 가장 중요한 단어만 피처로 추출하여 문장의 긍정/부정을 평가하는 방식이다. 영화 리뷰의 문장 길이는 길지 않은 편이므로, 빠른 분류에 효율적으로 사용할 수 있다."
   ]
  },
  {
   "cell_type": "code",
   "execution_count": 16,
   "id": "b95f4736",
   "metadata": {},
   "outputs": [
    {
     "name": "stdout",
     "output_type": "stream",
     "text": [
      "(109637, 50)\n",
      "(109637,)\n"
     ]
    }
   ],
   "source": [
    "val = int(len(X_train_pad)*0.25)\n",
    "\n",
    "X_val = X_train_pad[:val]   \n",
    "y_val = y_train[:val]\n",
    "\n",
    "# validation set을 제외한 나머지\n",
    "partial_X_train = X_train_pad[val:]  \n",
    "partial_y_train = y_train[val:]\n",
    "\n",
    "print(partial_X_train.shape)\n",
    "print(partial_y_train.shape)"
   ]
  },
  {
   "cell_type": "markdown",
   "id": "5aad07bc",
   "metadata": {},
   "source": [
    "X_train의 25%만큼을 validation set으로 분할한다.(일반적으로 train set의 20~30%를 validation set으로 삼고, train:test 비율 또한 3(75%):1(25%)이므로)"
   ]
  },
  {
   "cell_type": "markdown",
   "id": "039f4bca",
   "metadata": {},
   "source": [
    "## 4. 모델 훈련과 Loss, Accuracy 분석"
   ]
  },
  {
   "cell_type": "code",
   "execution_count": 17,
   "id": "f52b4580",
   "metadata": {},
   "outputs": [],
   "source": [
    "def model_learning(model, epochs):\n",
    "\n",
    "    model.compile(optimizer='adam',loss='binary_crossentropy',metrics=['accuracy'])\n",
    "    model_history = model.fit(partial_X_train, partial_y_train, epochs=epochs, \n",
    "                            batch_size=512, validation_data=(X_val, y_val), verbose=1)\n",
    "    results = model.evaluate(X_test_pad,  y_test, verbose=2)\n",
    "    print(results)\n",
    "    \n",
    "    history_dict = model_history.history\n",
    "    \n",
    "    fig = plt.figure()\n",
    "    ax1 = fig.add_subplot(1,2,1)\n",
    "    ax2 = fig.add_subplot(1,2,2)\n",
    "    \n",
    "    acc = history_dict['accuracy']\n",
    "    val_acc = history_dict['val_accuracy']\n",
    "    loss = history_dict['loss']\n",
    "    val_loss = history_dict['val_loss']\n",
    "\n",
    "    epochs = range(1, len(acc) + 1)\n",
    "\n",
    "    ax1.plot(epochs, loss, 'bo', label='Training loss')\n",
    "    ax1.plot(epochs, val_loss, 'b', label='Validation loss')\n",
    "    ax1.set_title('Training and validation loss')\n",
    "    ax1.set_xlabel('Epochs')\n",
    "    ax1.set_ylabel('Loss')\n",
    "    ax1.legend()\n",
    "    \n",
    "    ax2.plot(epochs, acc, 'bo', label='Training acc')\n",
    "    ax2.plot(epochs, val_acc, 'b', label='Validation acc')\n",
    "    ax2.set_title('Training and validation accuracy')\n",
    "    ax2.set_xlabel('Epochs')\n",
    "    ax2.set_ylabel('Accuracy')\n",
    "    ax2.legend()\n",
    "\n",
    "    plt.show()"
   ]
  },
  {
   "cell_type": "markdown",
   "id": "ed9fc88f",
   "metadata": {},
   "source": [
    "모델과 epochs를 입력받으면 모델이 학습을 진행하여 test 데이터에 대한 accuracy를 계산하고, history_dict에 epoch 당 accuracy와 loss를 계산하여 저장 후 시각화하는 함수를 선언하였다."
   ]
  },
  {
   "cell_type": "code",
   "execution_count": 18,
   "id": "f5f94e77",
   "metadata": {},
   "outputs": [
    {
     "name": "stdout",
     "output_type": "stream",
     "text": [
      "Epoch 1/10\n",
      "215/215 [==============================] - 5s 9ms/step - loss: 0.5141 - accuracy: 0.7740 - val_loss: 0.3781 - val_accuracy: 0.8426\n",
      "Epoch 2/10\n",
      "215/215 [==============================] - 1s 6ms/step - loss: 0.3420 - accuracy: 0.8588 - val_loss: 0.3465 - val_accuracy: 0.8516\n",
      "Epoch 3/10\n",
      "215/215 [==============================] - 1s 6ms/step - loss: 0.3076 - accuracy: 0.8741 - val_loss: 0.3434 - val_accuracy: 0.8535\n",
      "Epoch 4/10\n",
      "215/215 [==============================] - 1s 6ms/step - loss: 0.2899 - accuracy: 0.8830 - val_loss: 0.3488 - val_accuracy: 0.8528\n",
      "Epoch 5/10\n",
      "215/215 [==============================] - 1s 6ms/step - loss: 0.2774 - accuracy: 0.8886 - val_loss: 0.3555 - val_accuracy: 0.8511\n",
      "Epoch 6/10\n",
      "215/215 [==============================] - 1s 6ms/step - loss: 0.2643 - accuracy: 0.8949 - val_loss: 0.3595 - val_accuracy: 0.8497\n",
      "Epoch 7/10\n",
      "215/215 [==============================] - 1s 6ms/step - loss: 0.2534 - accuracy: 0.8997 - val_loss: 0.3724 - val_accuracy: 0.8462\n",
      "Epoch 8/10\n",
      "215/215 [==============================] - 1s 6ms/step - loss: 0.2432 - accuracy: 0.9042 - val_loss: 0.3776 - val_accuracy: 0.8474\n",
      "Epoch 9/10\n",
      "215/215 [==============================] - 1s 6ms/step - loss: 0.2335 - accuracy: 0.9078 - val_loss: 0.3983 - val_accuracy: 0.8456\n",
      "Epoch 10/10\n",
      "215/215 [==============================] - 1s 6ms/step - loss: 0.2238 - accuracy: 0.9128 - val_loss: 0.3969 - val_accuracy: 0.8450\n",
      "1537/1537 - 3s - loss: 0.4054 - accuracy: 0.8428\n",
      "[0.4053500294685364, 0.8427894115447998]\n"
     ]
    },
    {
     "data": {
      "image/png": "[encoded data removed]",
      "text/plain": [
       "<Figure size 432x288 with 2 Axes>"
      ]
     },
     "metadata": {
      "needs_background": "light"
     },
     "output_type": "display_data"
    }
   ],
   "source": [
    "model_learning(model_RNN, 10)"
   ]
  },
  {
   "cell_type": "code",
   "execution_count": 19,
   "id": "3c7eb1d9",
   "metadata": {},
   "outputs": [
    {
     "name": "stdout",
     "output_type": "stream",
     "text": [
      "Epoch 1/10\n",
      "215/215 [==============================] - 3s 6ms/step - loss: 0.5949 - accuracy: 0.6680 - val_loss: 0.4738 - val_accuracy: 0.7587\n",
      "Epoch 2/10\n",
      "215/215 [==============================] - 1s 5ms/step - loss: 0.4455 - accuracy: 0.7805 - val_loss: 0.4579 - val_accuracy: 0.7652\n",
      "Epoch 3/10\n",
      "215/215 [==============================] - 1s 5ms/step - loss: 0.4125 - accuracy: 0.7996 - val_loss: 0.4654 - val_accuracy: 0.7653\n",
      "Epoch 4/10\n",
      "215/215 [==============================] - 1s 5ms/step - loss: 0.3886 - accuracy: 0.8121 - val_loss: 0.4646 - val_accuracy: 0.7707\n",
      "Epoch 5/10\n",
      "215/215 [==============================] - 1s 5ms/step - loss: 0.3640 - accuracy: 0.8257 - val_loss: 0.4738 - val_accuracy: 0.7686\n",
      "Epoch 6/10\n",
      "215/215 [==============================] - 1s 5ms/step - loss: 0.3361 - accuracy: 0.8422 - val_loss: 0.4944 - val_accuracy: 0.7648\n",
      "Epoch 7/10\n",
      "215/215 [==============================] - 1s 5ms/step - loss: 0.3076 - accuracy: 0.8561 - val_loss: 0.5152 - val_accuracy: 0.7631\n",
      "Epoch 8/10\n",
      "215/215 [==============================] - 1s 5ms/step - loss: 0.2785 - accuracy: 0.8707 - val_loss: 0.5508 - val_accuracy: 0.7582\n",
      "Epoch 9/10\n",
      "215/215 [==============================] - 1s 5ms/step - loss: 0.2530 - accuracy: 0.8826 - val_loss: 0.5843 - val_accuracy: 0.7538\n",
      "Epoch 10/10\n",
      "215/215 [==============================] - 1s 5ms/step - loss: 0.2298 - accuracy: 0.8910 - val_loss: 0.6396 - val_accuracy: 0.7530\n",
      "1537/1537 - 2s - loss: 0.6409 - accuracy: 0.7530\n",
      "[0.6408920884132385, 0.752995491027832]\n"
     ]
    },
    {
     "data": {
      "image/png": "[encoded data removed]",
      "text/plain": [
       "<Figure size 432x288 with 2 Axes>"
      ]
     },
     "metadata": {
      "needs_background": "light"
     },
     "output_type": "display_data"
    }
   ],
   "source": [
    "model_learning(model_CNN, 10)"
   ]
  },
  {
   "cell_type": "code",
   "execution_count": 20,
   "id": "b7cb3d4d",
   "metadata": {
    "scrolled": true
   },
   "outputs": [
    {
     "name": "stdout",
     "output_type": "stream",
     "text": [
      "Epoch 1/10\n",
      "215/215 [==============================] - 1s 4ms/step - loss: 0.6173 - accuracy: 0.7157 - val_loss: 0.4885 - val_accuracy: 0.8029\n",
      "Epoch 2/10\n",
      "215/215 [==============================] - 1s 4ms/step - loss: 0.4114 - accuracy: 0.8254 - val_loss: 0.3788 - val_accuracy: 0.8340\n",
      "Epoch 3/10\n",
      "215/215 [==============================] - 1s 4ms/step - loss: 0.3458 - accuracy: 0.8529 - val_loss: 0.3604 - val_accuracy: 0.8421\n",
      "Epoch 4/10\n",
      "215/215 [==============================] - 1s 4ms/step - loss: 0.3155 - accuracy: 0.8682 - val_loss: 0.3563 - val_accuracy: 0.8448\n",
      "Epoch 5/10\n",
      "215/215 [==============================] - 1s 4ms/step - loss: 0.2938 - accuracy: 0.8781 - val_loss: 0.3570 - val_accuracy: 0.8447\n",
      "Epoch 6/10\n",
      "215/215 [==============================] - 1s 4ms/step - loss: 0.2760 - accuracy: 0.8873 - val_loss: 0.3616 - val_accuracy: 0.8450\n",
      "Epoch 7/10\n",
      "215/215 [==============================] - 1s 3ms/step - loss: 0.2614 - accuracy: 0.8949 - val_loss: 0.3678 - val_accuracy: 0.8435\n",
      "Epoch 8/10\n",
      "215/215 [==============================] - 1s 4ms/step - loss: 0.2482 - accuracy: 0.9016 - val_loss: 0.3755 - val_accuracy: 0.8426\n",
      "Epoch 9/10\n",
      "215/215 [==============================] - 1s 4ms/step - loss: 0.2364 - accuracy: 0.9063 - val_loss: 0.3840 - val_accuracy: 0.8418\n",
      "Epoch 10/10\n",
      "215/215 [==============================] - 1s 4ms/step - loss: 0.2261 - accuracy: 0.9117 - val_loss: 0.3930 - val_accuracy: 0.8397\n",
      "1537/1537 - 2s - loss: 0.4036 - accuracy: 0.8375\n",
      "[0.40362483263015747, 0.8374798893928528]\n"
     ]
    },
    {
     "data": {
      "image/png": "[encoded data removed]",
      "text/plain": [
       "<Figure size 432x288 with 2 Axes>"
      ]
     },
     "metadata": {
      "needs_background": "light"
     },
     "output_type": "display_data"
    }
   ],
   "source": [
    "model_learning(model_CNN_simple, 10)"
   ]
  },
  {
   "cell_type": "markdown",
   "id": "242daa01",
   "metadata": {},
   "source": [
    "세가지 모델 중 RNN 모델이 가장 높은 accuracy(**0.8428**)를 보였다. 모든 모델이 2번째 epoch 이후 validation loss와 train loss의 차이가 벌어지고 있어 epoch의 수를 줄일 필요가 있다."
   ]
  },
  {
   "cell_type": "markdown",
   "id": "3ea92c32",
   "metadata": {},
   "source": [
    "## 5. 학습된 Embedding 레이어 분석"
   ]
  },
  {
   "cell_type": "code",
   "execution_count": 21,
   "id": "aa54683b",
   "metadata": {},
   "outputs": [
    {
     "name": "stdout",
     "output_type": "stream",
     "text": [
      "(12000, 16)\n"
     ]
    }
   ],
   "source": [
    "embedding_layer = model_RNN.layers[0]\n",
    "weights = embedding_layer.get_weights()[0]\n",
    "print(weights.shape)"
   ]
  },
  {
   "cell_type": "code",
   "execution_count": 22,
   "id": "c9557584",
   "metadata": {},
   "outputs": [],
   "source": [
    "import os\n",
    "\n",
    "word2vec_file_path = os.getenv('HOME')+'/aiffel/sentiment_classification/data/word2vec.txt'\n",
    "f = open(word2vec_file_path, 'w')\n",
    "f.write('{} {}\\n'.format(vocab_size-4, word_vector_dim))\n",
    " \n",
    "vectors = model_RNN.get_weights()[0]\n",
    "for i in range(4,vocab_size):\n",
    "    f.write('{} {}\\n'.format(index_to_word[i], ' '.join(map(str, list(vectors[i, :])))))\n",
    "f.close()"
   ]
  },
  {
   "cell_type": "markdown",
   "id": "cdf866f6",
   "metadata": {},
   "source": [
    "앞서 사용한 모든 모델은 같은 embedding 레이어를 썼다. 해당 레이어가 단어를 번역한 벡터를 word2vec.txt 파일에 기록해둔다."
   ]
  },
  {
   "cell_type": "code",
   "execution_count": 23,
   "id": "e483d4d0",
   "metadata": {},
   "outputs": [
    {
     "data": {
      "text/plain": [
       "array([ 0.07988749,  0.02130235,  0.06713093,  0.08106474, -0.09838212,\n",
       "       -0.1103124 , -0.06056758, -0.08893662,  0.12444653, -0.05734354,\n",
       "       -0.06831525,  0.14671439,  0.04683202, -0.06370616,  0.03606167,\n",
       "        0.01228169], dtype=float32)"
      ]
     },
     "execution_count": 23,
     "metadata": {},
     "output_type": "execute_result"
    }
   ],
   "source": [
    "from gensim.models.keyedvectors import Word2VecKeyedVectors\n",
    "\n",
    "word_vectors = Word2VecKeyedVectors.load_word2vec_format(word2vec_file_path, binary=False)\n",
    "vector = word_vectors['사랑']\n",
    "vector"
   ]
  },
  {
   "cell_type": "code",
   "execution_count": 24,
   "id": "045577c0",
   "metadata": {},
   "outputs": [
    {
     "data": {
      "text/plain": [
       "[('돌아보', 0.9589885473251343),\n",
       " ('케이온', 0.9577083587646484),\n",
       " ('반해', 0.9528346061706543),\n",
       " ('정혜', 0.9495851397514343),\n",
       " ('이루어지', 0.9491547346115112),\n",
       " ('반드시', 0.944381594657898),\n",
       " ('일품', 0.943852961063385),\n",
       " ('리슨', 0.9423803091049194),\n",
       " ('장인', 0.941343367099762),\n",
       " ('군사', 0.9406837224960327)]"
      ]
     },
     "execution_count": 24,
     "metadata": {},
     "output_type": "execute_result"
    }
   ],
   "source": [
    "word_vectors.similar_by_word(\"사랑\")"
   ]
  },
  {
   "cell_type": "markdown",
   "id": "a7ef184a",
   "metadata": {},
   "source": [
    "gensim에서 제공하는 패키지를 이용해, 임베딩 레이어가 번역한 word vector를 읽어 '사랑'의 유의어를 호출했다. 의미적 유사도가 높다고 보기 어렵다."
   ]
  },
  {
   "cell_type": "markdown",
   "id": "fe9f2a4b",
   "metadata": {},
   "source": [
    "## 6. 한국어 Word2Vec 임베딩 활용하여 성능 개선"
   ]
  },
  {
   "cell_type": "code",
   "execution_count": 25,
   "id": "62adb062",
   "metadata": {},
   "outputs": [],
   "source": [
    "corpus = []\n",
    "\n",
    "for sentence in train_data['document']:\n",
    "    corpus.append(sentence) \n",
    "for sentence in test_data['document']:\n",
    "    corpus.append(sentence)"
   ]
  },
  {
   "cell_type": "code",
   "execution_count": 26,
   "id": "a9c63064",
   "metadata": {},
   "outputs": [],
   "source": [
    "tokenized_corpus = []\n",
    "\n",
    "for sentence in corpus:\n",
    "    temp_X = tokenizer.morphs(sentence) \n",
    "    tokenized_corpus.append(temp_X)"
   ]
  },
  {
   "cell_type": "code",
   "execution_count": 27,
   "id": "064df5b5",
   "metadata": {},
   "outputs": [],
   "source": [
    "from gensim.models import Word2Vec\n",
    "Word2vec = Word2Vec(sentences = tokenized_corpus, vector_size = 100, window = 2, min_count=5, workers=4, sg=1)"
   ]
  },
  {
   "cell_type": "markdown",
   "id": "5fbfe95c",
   "metadata": {},
   "source": [
    "gensim word2vec는 단어마다 차례대로 인덱싱을 하여 벡터화 하지 않고, 유사한 단어들을 비슷한 방향과 힘의 벡터를 갖도록 단어를 벡터화 시켜주는 방법 중 하나이다. \n",
    "  * sentence: 단어 벡터를 만들 문장. (train과 test 문장들을 토큰화하여 입력하였다.)\n",
    "  * vector_size: 단어 벡터의 차원 수\n",
    "  * window: 주변 단어. (한 단어 주변의 앞뒤 2개까지를 고려한다.)\n",
    "  * min_count: 최소 출현 빈도\n",
    "  * workers: CPU 또는 GPU 코어의 수\n",
    "  * sg: CBOW(Continuous Bag of Words) 또는 Skip-gram 방법 선택{0: CBOW 1: Skip-gram} \n",
    "\n",
    "코드 및 파라미터 설명 참조: [ratsgo's blog](https://ratsgo.github.io/natural%20language%20processing/2017/03/08/word2vec/), [딥 러닝을 이용한 자연어 처리 입문](https://wikidocs.net/50739)"
   ]
  },
  {
   "cell_type": "code",
   "execution_count": 38,
   "id": "e31dd121",
   "metadata": {},
   "outputs": [
    {
     "data": {
      "text/plain": [
       "gensim.models.word2vec.Word2Vec"
      ]
     },
     "execution_count": 38,
     "metadata": {},
     "output_type": "execute_result"
    }
   ],
   "source": [
    "type(Word2vec)"
   ]
  },
  {
   "cell_type": "code",
   "execution_count": 29,
   "id": "27ad85ce",
   "metadata": {},
   "outputs": [
    {
     "data": {
      "text/plain": [
       "gensim.models.keyedvectors.KeyedVectors"
      ]
     },
     "execution_count": 29,
     "metadata": {},
     "output_type": "execute_result"
    }
   ],
   "source": [
    "type(Word2vec.wv)"
   ]
  },
  {
   "cell_type": "code",
   "execution_count": 39,
   "id": "69c61797",
   "metadata": {},
   "outputs": [
    {
     "data": {
      "text/plain": [
       "numpy.ndarray"
      ]
     },
     "execution_count": 39,
     "metadata": {},
     "output_type": "execute_result"
    }
   ],
   "source": [
    "type(Word2vec.wv.vectors)"
   ]
  },
  {
   "cell_type": "code",
   "execution_count": 28,
   "id": "54c6be78",
   "metadata": {},
   "outputs": [
    {
     "data": {
      "text/plain": [
       "(18965, 100)"
      ]
     },
     "execution_count": 28,
     "metadata": {},
     "output_type": "execute_result"
    }
   ],
   "source": [
    "Word2vec.wv.vectors.shape"
   ]
  },
  {
   "cell_type": "code",
   "execution_count": 30,
   "id": "cdc6fac4",
   "metadata": {},
   "outputs": [
    {
     "data": {
      "text/plain": [
       "[('이별', 0.6545360684394836),\n",
       " ('우정', 0.6495128870010376),\n",
       " ('고통', 0.6480737328529358),\n",
       " ('그리움', 0.6421448588371277),\n",
       " ('존경', 0.6403327584266663),\n",
       " ('일탈', 0.636834442615509),\n",
       " ('소망', 0.6292785406112671),\n",
       " ('성장', 0.6263066530227661),\n",
       " ('순수', 0.623364269733429),\n",
       " ('젊음', 0.6194230914115906)]"
      ]
     },
     "execution_count": 30,
     "metadata": {},
     "output_type": "execute_result"
    }
   ],
   "source": [
    "Word2vec.wv.most_similar('사랑')"
   ]
  },
  {
   "cell_type": "markdown",
   "id": "74b69a48",
   "metadata": {},
   "source": [
    "Word2vec 자체는 단어의 유사성을 이용해 단어를 벡터화시키는 '모델'이며, 단어와 생성된 벡터가 키(단어):값(벡터) 형식으로 구성되어 있는 객체는 Word2vec.wv 이다. 이를 통해 '사랑'의 유의어를 호출하면 연관된 단어들이 나타나는 것을 확인 할 수 있다."
   ]
  },
  {
   "cell_type": "code",
   "execution_count": 31,
   "id": "25b99878",
   "metadata": {},
   "outputs": [],
   "source": [
    "vocab_size = 18965 \n",
    "word_vector_dim = 100\n",
    "embedding_matrix = np.random.rand(vocab_size, word_vector_dim)\n",
    "\n",
    "def get_vector(word):\n",
    "    if word in Word2vec.wv:\n",
    "        return Word2vec.wv[word]\n",
    "    else:\n",
    "        return None\n",
    "\n",
    "for word, i in word_to_index.items():\n",
    "    temp = get_vector(word)\n",
    "    if temp is not None:\n",
    "        embedding_matrix[i] = temp"
   ]
  },
  {
   "cell_type": "markdown",
   "id": "5b1f3783",
   "metadata": {},
   "source": [
    "Word2vec를 embedding 레이어에 적용하기 위해 (단어의 수 × 단어의 차원 수) 행렬 embedding_matrix를 생성한다.\n",
    "\n",
    "코드 참조: [Dev log: 삶은 확률의 구름](https://ebbnflow.tistory.com/153)"
   ]
  },
  {
   "cell_type": "code",
   "execution_count": 32,
   "id": "4a559463",
   "metadata": {},
   "outputs": [
    {
     "name": "stdout",
     "output_type": "stream",
     "text": [
      "Model: \"sequential_3\"\n",
      "_________________________________________________________________\n",
      "Layer (type)                 Output Shape              Param #   \n",
      "=================================================================\n",
      "embedding_3 (Embedding)      (None, 50, 100)           1896500   \n",
      "_________________________________________________________________\n",
      "lstm_1 (LSTM)                (None, 8)                 3488      \n",
      "_________________________________________________________________\n",
      "dense_6 (Dense)              (None, 8)                 72        \n",
      "_________________________________________________________________\n",
      "dense_7 (Dense)              (None, 1)                 9         \n",
      "=================================================================\n",
      "Total params: 1,900,069\n",
      "Trainable params: 1,900,069\n",
      "Non-trainable params: 0\n",
      "_________________________________________________________________\n"
     ]
    }
   ],
   "source": [
    "from tensorflow.keras.initializers import Constant\n",
    "\n",
    "\n",
    "model_RNN_new = tf.keras.Sequential()\n",
    "model_RNN_new.add(tf.keras.layers.Embedding(vocab_size, word_vector_dim, embeddings_initializer=Constant(embedding_matrix), \n",
    "                                            input_length=maxlen, trainable=True))\n",
    "model_RNN_new.add(tf.keras.layers.LSTM(8))    \n",
    "model_RNN_new.add(tf.keras.layers.Dense(8, activation = 'relu'))    \n",
    "model_RNN_new.add(tf.keras.layers.Dense(1, activation = 'sigmoid')) \n",
    "\n",
    "model_RNN_new.summary()"
   ]
  },
  {
   "cell_type": "code",
   "execution_count": 33,
   "id": "b735ae28",
   "metadata": {},
   "outputs": [
    {
     "name": "stdout",
     "output_type": "stream",
     "text": [
      "Epoch 1/3\n",
      "215/215 [==============================] - 3s 9ms/step - loss: 0.4553 - accuracy: 0.7961 - val_loss: 0.3602 - val_accuracy: 0.8463\n",
      "Epoch 2/3\n",
      "215/215 [==============================] - 2s 7ms/step - loss: 0.3354 - accuracy: 0.8581 - val_loss: 0.3380 - val_accuracy: 0.8547\n",
      "Epoch 3/3\n",
      "215/215 [==============================] - 2s 7ms/step - loss: 0.3031 - accuracy: 0.8747 - val_loss: 0.3375 - val_accuracy: 0.8565\n",
      "1537/1537 - 3s - loss: 0.3452 - accuracy: 0.8507\n",
      "[0.3451993465423584, 0.8507232069969177]\n"
     ]
    },
    {
     "data": {
      "image/png": "[encoded data removed]",
      "text/plain": [
       "<Figure size 432x288 with 2 Axes>"
      ]
     },
     "metadata": {
      "needs_background": "light"
     },
     "output_type": "display_data"
    }
   ],
   "source": [
    "model_learning(model_RNN_new, 3)"
   ]
  },
  {
   "cell_type": "code",
   "execution_count": 34,
   "id": "c6d3a486",
   "metadata": {},
   "outputs": [
    {
     "name": "stdout",
     "output_type": "stream",
     "text": [
      "Model: \"sequential_4\"\n",
      "_________________________________________________________________\n",
      "Layer (type)                 Output Shape              Param #   \n",
      "=================================================================\n",
      "embedding_4 (Embedding)      (None, 50, 100)           1896500   \n",
      "_________________________________________________________________\n",
      "conv1d_2 (Conv1D)            (None, 44, 16)            11216     \n",
      "_________________________________________________________________\n",
      "max_pooling1d_1 (MaxPooling1 (None, 8, 16)             0         \n",
      "_________________________________________________________________\n",
      "conv1d_3 (Conv1D)            (None, 2, 16)             1808      \n",
      "_________________________________________________________________\n",
      "global_max_pooling1d_2 (Glob (None, 16)                0         \n",
      "_________________________________________________________________\n",
      "dense_8 (Dense)              (None, 8)                 136       \n",
      "_________________________________________________________________\n",
      "dense_9 (Dense)              (None, 1)                 9         \n",
      "=================================================================\n",
      "Total params: 1,909,669\n",
      "Trainable params: 1,909,669\n",
      "Non-trainable params: 0\n",
      "_________________________________________________________________\n"
     ]
    }
   ],
   "source": [
    "model_CNN_new = tf.keras.Sequential()\n",
    "model_CNN_new.add(tf.keras.layers.Embedding(vocab_size, word_vector_dim, embeddings_initializer=Constant(embedding_matrix), \n",
    "                                            input_length=maxlen, trainable=True)) \n",
    "model_CNN_new.add(tf.keras.layers.Conv1D(16, 7, activation='relu'))\n",
    "model_CNN_new.add(tf.keras.layers.MaxPooling1D(5))\n",
    "model_CNN_new.add(tf.keras.layers.Conv1D(16, 7, activation='relu'))\n",
    "model_CNN_new.add(tf.keras.layers.GlobalMaxPooling1D())\n",
    "model_CNN_new.add(tf.keras.layers.Dense(8, activation='relu'))\n",
    "model_CNN_new.add(tf.keras.layers.Dense(1, activation='sigmoid'))\n",
    "\n",
    "\n",
    "model_CNN_new.summary()"
   ]
  },
  {
   "cell_type": "code",
   "execution_count": 35,
   "id": "f6cc00bf",
   "metadata": {},
   "outputs": [
    {
     "name": "stdout",
     "output_type": "stream",
     "text": [
      "Epoch 1/3\n",
      "215/215 [==============================] - 2s 7ms/step - loss: 0.5637 - accuracy: 0.6838 - val_loss: 0.4741 - val_accuracy: 0.7621\n",
      "Epoch 2/3\n",
      "215/215 [==============================] - 1s 6ms/step - loss: 0.4506 - accuracy: 0.7754 - val_loss: 0.4695 - val_accuracy: 0.7598\n",
      "Epoch 3/3\n",
      "215/215 [==============================] - 1s 6ms/step - loss: 0.4184 - accuracy: 0.7959 - val_loss: 0.4525 - val_accuracy: 0.7731\n",
      "1537/1537 - 3s - loss: 0.4577 - accuracy: 0.7704\n",
      "[0.4576529860496521, 0.7703683972358704]\n"
     ]
    },
    {
     "data": {
      "image/png": "[encoded data removed]",
      "text/plain": [
       "<Figure size 432x288 with 2 Axes>"
      ]
     },
     "metadata": {
      "needs_background": "light"
     },
     "output_type": "display_data"
    }
   ],
   "source": [
    "model_learning(model_CNN_new, 3)"
   ]
  },
  {
   "cell_type": "code",
   "execution_count": 36,
   "id": "8ba455e4",
   "metadata": {},
   "outputs": [
    {
     "name": "stdout",
     "output_type": "stream",
     "text": [
      "Model: \"sequential_5\"\n",
      "_________________________________________________________________\n",
      "Layer (type)                 Output Shape              Param #   \n",
      "=================================================================\n",
      "embedding_5 (Embedding)      (None, 50, 100)           1896500   \n",
      "_________________________________________________________________\n",
      "global_max_pooling1d_3 (Glob (None, 100)               0         \n",
      "_________________________________________________________________\n",
      "dense_10 (Dense)             (None, 8)                 808       \n",
      "_________________________________________________________________\n",
      "dense_11 (Dense)             (None, 1)                 9         \n",
      "=================================================================\n",
      "Total params: 1,897,317\n",
      "Trainable params: 1,897,317\n",
      "Non-trainable params: 0\n",
      "_________________________________________________________________\n"
     ]
    }
   ],
   "source": [
    "model_CNN_simple_new = tf.keras.Sequential()\n",
    "model_CNN_simple_new.add(tf.keras.layers.Embedding(vocab_size, word_vector_dim, embeddings_initializer=Constant(embedding_matrix),\n",
    "                                                   input_length=maxlen, trainable=True))\n",
    "model_CNN_simple_new.add(tf.keras.layers.GlobalMaxPooling1D())\n",
    "model_CNN_simple_new.add(tf.keras.layers.Dense(8, activation='relu'))\n",
    "model_CNN_simple_new.add(tf.keras.layers.Dense(1, activation='sigmoid'))\n",
    "\n",
    "model_CNN_simple_new.summary()"
   ]
  },
  {
   "cell_type": "code",
   "execution_count": 37,
   "id": "e1d0cb82",
   "metadata": {},
   "outputs": [
    {
     "name": "stdout",
     "output_type": "stream",
     "text": [
      "Epoch 1/3\n",
      "215/215 [==============================] - 1s 5ms/step - loss: 0.6192 - accuracy: 0.6837 - val_loss: 0.5137 - val_accuracy: 0.7720\n",
      "Epoch 2/3\n",
      "215/215 [==============================] - 1s 4ms/step - loss: 0.4497 - accuracy: 0.7979 - val_loss: 0.4088 - val_accuracy: 0.8143\n",
      "Epoch 3/3\n",
      "215/215 [==============================] - 1s 4ms/step - loss: 0.3895 - accuracy: 0.8261 - val_loss: 0.3812 - val_accuracy: 0.8268\n",
      "1537/1537 - 2s - loss: 0.3883 - accuracy: 0.8261\n",
      "[0.3883158266544342, 0.8261488676071167]\n"
     ]
    },
    {
     "data": {
      "image/png": "[encoded data removed]",
      "text/plain": [
       "<Figure size 432x288 with 2 Axes>"
      ]
     },
     "metadata": {
      "needs_background": "light"
     },
     "output_type": "display_data"
    }
   ],
   "source": [
    "model_learning(model_CNN_simple_new, 3)"
   ]
  },
  {
   "cell_type": "markdown",
   "id": "ccdef3ce",
   "metadata": {},
   "source": [
    "앞서 만들었던 세가지 모델의 embedding 레이어를 모두 변경하고 epochs를 3회로 줄여 학습을 진행한 결과, RNN 모델과 CNN 모델 accuracy에 조금의 향상이 있었다.(0.8428->**0.8507** / 0.7530->0.7704) 1-layer CNN 모델의 accuracy는 오히려 떨어졌다.(0.8375->0.8261) '전체 문장 중에서 단 하나의 가장 중요한 단어만 피처로 추출하여 문장의 긍정/부정을 평가하는 방식'으로 동작하는 1-layer CNN에 유사한 단어들을 통해 단어를 의미 벡터화하는 Word2vec embedding 레이어는 적합하지 않았음을 알 수 있다."
   ]
  },
  {
   "cell_type": "markdown",
   "id": "f3022573",
   "metadata": {},
   "source": [
    "## 회고\n",
    "\n",
    "- 세가지 모델 모두 비교적 높은 accuracy를 보였으나, Word2vec를 이용해 embedding 레이어를 개선하기 전과 후의 차이가 크지 않아, 루브릭 평가 기준인 85%는 넘겼지만 90% 이상으로 더 크게 개선하기 위해서는 어떤 방법을 시행해야 할지 고민이 된다. \n",
    "- 프로젝트 전 노드의 내용과 프로젝트 진행 경험을 비교해 유추하자면, 처음 텍스트를 인덱스화 할 때 설정한 단어의 수, 패딩 시에 결정하는 문장 길이에 모델의 성능이 크게 영향을 받는 것으로 보인다.\n",
    "- 단어를 의미 벡터로 환원하여 모델이 학습할 수 있도록 변환하는 방식은 매우 흥미롭다. 단어가 벡터라면, 어떤 문장이 문장은 벡터들끼리의 합으로 정의될 수 있는지 상세한 개념이 궁금하다.\n",
    "- 처음 embedding 레이어에는 벡터의 차원수를 16으로 제한했고, Word2vec를 이용했을 때는 차원을 100으로 늘렸다. 단어 벡터의 차원수가 높아지면 모델의 성능이 항상 더 좋아지는 지 아래 코드로 시험해본 결과, 차원수가 16이었을 때와 크게 다르지 않음을 확인 할 수 있다. 단어 벡터의 차원수가 높아지는 것이 꼭 모델이 단어를 잘 '이해'하는 것을 담보하지 않는다면, Word2vec에서 차원을 늘려야 했던 이유가 무엇이고, 더 적절한 차원수는 어떻게 찾을 수 있을지 궁금하다."
   ]
  },
  {
   "cell_type": "code",
   "execution_count": 40,
   "id": "6b00069f",
   "metadata": {},
   "outputs": [
    {
     "name": "stdout",
     "output_type": "stream",
     "text": [
      "Model: \"sequential_6\"\n",
      "_________________________________________________________________\n",
      "Layer (type)                 Output Shape              Param #   \n",
      "=================================================================\n",
      "embedding_6 (Embedding)      (None, None, 100)         1200000   \n",
      "_________________________________________________________________\n",
      "lstm_2 (LSTM)                (None, 8)                 3488      \n",
      "_________________________________________________________________\n",
      "dense_12 (Dense)             (None, 8)                 72        \n",
      "_________________________________________________________________\n",
      "dense_13 (Dense)             (None, 1)                 9         \n",
      "=================================================================\n",
      "Total params: 1,203,569\n",
      "Trainable params: 1,203,569\n",
      "Non-trainable params: 0\n",
      "_________________________________________________________________\n"
     ]
    }
   ],
   "source": [
    "vocab_size = 12000   \n",
    "word_vector_dim = 100\n",
    "\n",
    "model_RNN_100 = tf.keras.Sequential()\n",
    "model_RNN_100.add(tf.keras.layers.Embedding(vocab_size, word_vector_dim, input_shape = (None,)))\n",
    "model_RNN_100.add(tf.keras.layers.LSTM(8))    \n",
    "model_RNN_100.add(tf.keras.layers.Dense(8, activation = 'relu'))    \n",
    "model_RNN_100.add(tf.keras.layers.Dense(1, activation = 'sigmoid')) \n",
    "\n",
    "model_RNN_100.summary()"
   ]
  },
  {
   "cell_type": "code",
   "execution_count": 41,
   "id": "380f1125",
   "metadata": {},
   "outputs": [
    {
     "name": "stdout",
     "output_type": "stream",
     "text": [
      "Epoch 1/10\n",
      "215/215 [==============================] - 3s 9ms/step - loss: 0.4552 - accuracy: 0.8031 - val_loss: 0.3536 - val_accuracy: 0.8483\n",
      "Epoch 2/10\n",
      "215/215 [==============================] - 1s 7ms/step - loss: 0.3244 - accuracy: 0.8652 - val_loss: 0.3480 - val_accuracy: 0.8507\n",
      "Epoch 3/10\n",
      "215/215 [==============================] - 1s 7ms/step - loss: 0.2937 - accuracy: 0.8793 - val_loss: 0.3454 - val_accuracy: 0.8518\n",
      "Epoch 4/10\n",
      "215/215 [==============================] - 1s 7ms/step - loss: 0.2719 - accuracy: 0.8905 - val_loss: 0.3446 - val_accuracy: 0.8529\n",
      "Epoch 5/10\n",
      "215/215 [==============================] - 1s 7ms/step - loss: 0.2514 - accuracy: 0.8997 - val_loss: 0.3531 - val_accuracy: 0.8522\n",
      "Epoch 6/10\n",
      "215/215 [==============================] - 1s 7ms/step - loss: 0.2311 - accuracy: 0.9090 - val_loss: 0.3615 - val_accuracy: 0.8528\n",
      "Epoch 7/10\n",
      "215/215 [==============================] - 1s 7ms/step - loss: 0.2126 - accuracy: 0.9181 - val_loss: 0.3783 - val_accuracy: 0.8512\n",
      "Epoch 8/10\n",
      "215/215 [==============================] - 1s 7ms/step - loss: 0.1961 - accuracy: 0.9249 - val_loss: 0.3925 - val_accuracy: 0.8510\n",
      "Epoch 9/10\n",
      "215/215 [==============================] - 1s 7ms/step - loss: 0.1805 - accuracy: 0.9315 - val_loss: 0.4125 - val_accuracy: 0.8481\n",
      "Epoch 10/10\n",
      "215/215 [==============================] - 1s 7ms/step - loss: 0.1646 - accuracy: 0.9380 - val_loss: 0.4367 - val_accuracy: 0.8465\n",
      "1537/1537 - 3s - loss: 0.4413 - accuracy: 0.8427\n",
      "[0.44130808115005493, 0.842748761177063]\n"
     ]
    },
    {
     "data": {
      "image/png": "[encoded data removed]",
      "text/plain": [
       "<Figure size 432x288 with 2 Axes>"
      ]
     },
     "metadata": {
      "needs_background": "light"
     },
     "output_type": "display_data"
    }
   ],
   "source": [
    "model_learning(model_RNN_100, 10)"
   ]
  },
  {
   "cell_type": "code",
   "execution_count": null,
   "id": "491ca685",
   "metadata": {},
   "outputs": [],
   "source": []
  }
 ],
 "metadata": {
  "kernelspec": {
   "display_name": "Python 3 (ipykernel)",
   "language": "python",
   "name": "python3"
  },
  "language_info": {
   "codemirror_mode": {
    "name": "ipython",
    "version": 3
   },
   "file_extension": ".py",
   "mimetype": "text/x-python",
   "name": "python",
   "nbconvert_exporter": "python",
   "pygments_lexer": "ipython3",
   "version": "3.9.7"
  }
 },
 "nbformat": 4,
 "nbformat_minor": 5
}
