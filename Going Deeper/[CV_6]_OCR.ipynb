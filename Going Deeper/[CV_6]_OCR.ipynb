{
  "nbformat": 4,
  "nbformat_minor": 0,
  "metadata": {
    "colab": {
      "name": "[CV-6] OCR.ipynb",
      "provenance": []
    },
    "kernelspec": {
      "name": "python3",
      "display_name": "Python 3"
    },
    "language_info": {
      "name": "python"
    }
  },
  "cells": [
    {
      "cell_type": "markdown",
      "source": [
        "## OCR 모델 만들기\n",
        "\n",
        "### 학습 목표\n",
        "- Text Recognition 모델을 직접 구현해 봅니다.\n",
        "- Text Recognition 모델 학습을 진행해 봅니다.\n",
        "- Text Detection 모델과 연결하여 전체 OCR 시스템을 구현합니다.\n",
        "\n",
        "### 루브릭 \n",
        "-  Text recognition을 위해 특화된 데이터셋 구성이 체계적으로 진행되었다. : **텍스트 이미지 리사이징, ctc loss 측정을 위한 라벨 인코딩, 배치처리 등이 적절히 수행되었다.**\n",
        "- CRNN 기반의 recognition 모델의 학습이 정상적으로 진행되었다. : **학습결과 loss가 안정적으로 감소하고 대부분의 문자인식 추론 결과가 정확하다.**\n",
        "-  keras-ocr detector와 CRNN recognizer를 엮어 원본 이미지 입력으로부터 text가 출력되는 OCR이 End-to-End로 구성되었다. : **샘플 이미지를 원본으로 받아 OCR 수행 결과를 리턴하는 1개의 함수가 만들어졌다.**"
      ],
      "metadata": {
        "id": "XMRzmFNyX1NX"
      }
    },
    {
      "cell_type": "markdown",
      "source": [
        ""
      ],
      "metadata": {
        "id": "LDOOkuZrX0K4"
      }
    }
  ]
}