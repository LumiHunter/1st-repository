{
 "cells": [
  {
   "cell_type": "markdown",
   "id": "335c7cb4",
   "metadata": {},
   "source": [
    "## 트랜스포머로 만드는 대화형 챗봇\n",
    "\n",
    "### 학습 목표\n",
    "- 트랜스포머의 인코더 디코더 구조 이해하기\n",
    "- 내부 단어 토크나이저 사용하기\n",
    "- 셀프 어텐션 이해하기\n",
    "- 한국어에도 적용해보기\n",
    "\n",
    "### 루브릭 \n",
    "-  한국어 전처리를 통해 학습 데이터셋을 구축하였다. : **공백과 특수문자 처리, 토크나이징, 병렬데이터 구축의 과정이 적절히 진행되었다.**\n",
    "- 트랜스포머 모델을 구현하여 한국어 챗봇 모델 학습을 정상적으로 진행하였다. : **구현한 트랜스포머 모델이 한국어 병렬 데이터 학습 시 안정적으로 수렴하였다.**\n",
    "- 한국어 입력문장에 대해 한국어로 답변하는 함수를 구현하였다. : **한국어 입력문장에 그럴듯한 한국어로 답변을 리턴하였다.**"
   ]
  },
  {
   "cell_type": "markdown",
   "id": "afe53efe",
   "metadata": {},
   "source": [
    "## 목차\n",
    "### 1. 한국어 데이터 수집 및 전처리\n",
    "#### 1) 데이터 로드\n",
    "#### 2) 전처리 및 정수 인코딩\n",
    "#### 3) 입력 데이터셋 구성\n",
    "### 2. 모델 구성\n",
    "#### 1) 포지셔널 인코딩, 멀티 헤드 어텐션, 마스킹\n",
    "#### 2) 인코더/디코더/트랜스포머 함수 구현\n",
    "#### 3) 손실함수/학습률 지정\n",
    "### 3. 모델 평가\n",
    "#### 1) 모델 생성 및 컴파일, 훈련\n",
    "#### 2) 문장 테스트\n",
    "---"
   ]
  },
  {
   "cell_type": "markdown",
   "id": "9e25cc12",
   "metadata": {},
   "source": [
    "## 1. 한국어 데이터 수집 및 전처리\n",
    "### 1) 데이터 로드"
   ]
  },
  {
   "cell_type": "code",
   "execution_count": 10,
   "id": "96aafb77",
   "metadata": {},
   "outputs": [],
   "source": [
    "import tensorflow as tf\n",
    "import tensorflow_datasets as tfds\n",
    "import os\n",
    "import re\n",
    "import numpy as np\n",
    "import matplotlib.pyplot as plt\n",
    "import pandas as pd"
   ]
  },
  {
   "cell_type": "code",
   "execution_count": 11,
   "id": "0cd5e09e",
   "metadata": {},
   "outputs": [
    {
     "data": {
      "text/html": [
       "<div>\n",
       "<style scoped>\n",
       "    .dataframe tbody tr th:only-of-type {\n",
       "        vertical-align: middle;\n",
       "    }\n",
       "\n",
       "    .dataframe tbody tr th {\n",
       "        vertical-align: top;\n",
       "    }\n",
       "\n",
       "    .dataframe thead th {\n",
       "        text-align: right;\n",
       "    }\n",
       "</style>\n",
       "<table border=\"1\" class=\"dataframe\">\n",
       "  <thead>\n",
       "    <tr style=\"text-align: right;\">\n",
       "      <th></th>\n",
       "      <th>Q</th>\n",
       "      <th>A</th>\n",
       "      <th>label</th>\n",
       "    </tr>\n",
       "  </thead>\n",
       "  <tbody>\n",
       "    <tr>\n",
       "      <th>0</th>\n",
       "      <td>12시 땡!</td>\n",
       "      <td>하루가 또 가네요.</td>\n",
       "      <td>0</td>\n",
       "    </tr>\n",
       "    <tr>\n",
       "      <th>1</th>\n",
       "      <td>1지망 학교 떨어졌어</td>\n",
       "      <td>위로해 드립니다.</td>\n",
       "      <td>0</td>\n",
       "    </tr>\n",
       "    <tr>\n",
       "      <th>2</th>\n",
       "      <td>3박4일 놀러가고 싶다</td>\n",
       "      <td>여행은 언제나 좋죠.</td>\n",
       "      <td>0</td>\n",
       "    </tr>\n",
       "    <tr>\n",
       "      <th>3</th>\n",
       "      <td>3박4일 정도 놀러가고 싶다</td>\n",
       "      <td>여행은 언제나 좋죠.</td>\n",
       "      <td>0</td>\n",
       "    </tr>\n",
       "    <tr>\n",
       "      <th>4</th>\n",
       "      <td>PPL 심하네</td>\n",
       "      <td>눈살이 찌푸려지죠.</td>\n",
       "      <td>0</td>\n",
       "    </tr>\n",
       "  </tbody>\n",
       "</table>\n",
       "</div>"
      ],
      "text/plain": [
       "                 Q            A  label\n",
       "0           12시 땡!   하루가 또 가네요.      0\n",
       "1      1지망 학교 떨어졌어    위로해 드립니다.      0\n",
       "2     3박4일 놀러가고 싶다  여행은 언제나 좋죠.      0\n",
       "3  3박4일 정도 놀러가고 싶다  여행은 언제나 좋죠.      0\n",
       "4          PPL 심하네   눈살이 찌푸려지죠.      0"
      ]
     },
     "execution_count": 11,
     "metadata": {},
     "output_type": "execute_result"
    }
   ],
   "source": [
    "path_to_dataset = os.getenv('HOME')+'/data'\n",
    "path_to_conversations = os.path.join(path_to_dataset, 'ChatbotData .csv')\n",
    "conversations = pd.read_csv(path_to_conversations)\n",
    "conversations.head()"
   ]
  },
  {
   "cell_type": "code",
   "execution_count": 12,
   "id": "b567b447",
   "metadata": {},
   "outputs": [
    {
     "data": {
      "text/plain": [
       "Q        0\n",
       "A        0\n",
       "label    0\n",
       "dtype: int64"
      ]
     },
     "execution_count": 12,
     "metadata": {},
     "output_type": "execute_result"
    }
   ],
   "source": [
    "# 결측값 확인\n",
    "conversations.isnull().sum()"
   ]
  },
  {
   "cell_type": "code",
   "execution_count": 13,
   "id": "ccf4a51b",
   "metadata": {},
   "outputs": [
    {
     "data": {
      "text/plain": [
       "11823"
      ]
     },
     "execution_count": 13,
     "metadata": {},
     "output_type": "execute_result"
    }
   ],
   "source": [
    "# 문장 갯수 확인\n",
    "len(conversations)"
   ]
  },
  {
   "cell_type": "code",
   "execution_count": 14,
   "id": "07a30500",
   "metadata": {},
   "outputs": [],
   "source": [
    "questions = conversations['Q']\n",
    "answers = conversations['A']"
   ]
  },
  {
   "cell_type": "code",
   "execution_count": 15,
   "id": "feac697a",
   "metadata": {},
   "outputs": [
    {
     "name": "stdout",
     "output_type": "stream",
     "text": [
      "20번째 질문: 가스비 너무 많이 나왔다.\n",
      "20번째 답변: 다음 달에는 더 절약해봐요.\n"
     ]
    }
   ],
   "source": [
    "print('20번째 질문: {}'.format(questions[19]))\n",
    "print('20번째 답변: {}'.format(answers[19]))"
   ]
  },
  {
   "cell_type": "markdown",
   "id": "47c73da3",
   "metadata": {},
   "source": [
    "챗봇을 구성하기 위한 데이터셋은 질문-답변의 쌍으로 이루어진 병렬 데이터로 구성되어야 한다. 불러온 데이터셋에는 질문-답변의 쌍이 총 11823개가 존재하고, 각각의 질문과 답변은 같은 index로 짝지어져있다. 질문과 답변을 각각 'questions'와 'answers'로 저장한다."
   ]
  },
  {
   "cell_type": "markdown",
   "id": "4f68ffab",
   "metadata": {},
   "source": [
    "### 2) 전처리 및 정수 인코딩"
   ]
  },
  {
   "cell_type": "code",
   "execution_count": 16,
   "id": "87e5de8d",
   "metadata": {},
   "outputs": [],
   "source": [
    "# 전처리 함수\n",
    "def preprocess_sentence(sentence):\n",
    "    sentence = re.sub(r\"[^가-힣0-9?.!,]+\", \" \", sentence)    # (가-힣, 0-9, \".\", \"?\", \"!\", \",\")를 제외한 모든 문자를 공백으로 대체\n",
    "    sentence = re.sub(r\"([?.!,])\", r\" \\1 \", sentence)    # 단어와 구두점(\"?\",\".\",\"!\",\",\") 사이에 공백 두기(토큰화에 방해가 되지 않도록)\n",
    "    sentence = re.sub(r'[\" \"]+', \" \", sentence)    # 공백이 여러번 반복되면 한번으로 줄임\n",
    "    sentence = sentence.strip()    # 문장 양옆의 공백 제거\n",
    "    return sentence"
   ]
  },
  {
   "cell_type": "code",
   "execution_count": 17,
   "id": "83dd0e85",
   "metadata": {},
   "outputs": [],
   "source": [
    "Q, A = [], []\n",
    "\n",
    "for i in range(len(conversations)):\n",
    "    a = preprocess_sentence(questions[i])\n",
    "    Q.append(a)\n",
    "    b = preprocess_sentence(answers[i])\n",
    "    A.append(b)"
   ]
  },
  {
   "cell_type": "code",
   "execution_count": 49,
   "id": "b9f2951e",
   "metadata": {
    "scrolled": true
   },
   "outputs": [
    {
     "name": "stdout",
     "output_type": "stream",
     "text": [
      "20번째 전처리 된 질문: 가스비 너무 많이 나왔다 .\n",
      "20번째 전처리 된 답변: 다음 달에는 더 절약해봐요 .\n"
     ]
    }
   ],
   "source": [
    "print('20번째 전처리 된 질문: {}'.format(Q[19]))\n",
    "print('20번째 전처리 된 답변: {}'.format(A[19]))"
   ]
  },
  {
   "cell_type": "markdown",
   "id": "e0f9aa57",
   "metadata": {},
   "source": [
    "한글, 숫자, 구두점(. , ! ?)을 제외한 모든 문자를 공백으로 처리하고, 구두점과 단어가 한꺼번에 같은 단어로 인식되지 않도록 사이에 공백을 입력하는 등의 전처리를 수행한다."
   ]
  },
  {
   "cell_type": "code",
   "execution_count": 18,
   "id": "ad7c24b8",
   "metadata": {},
   "outputs": [],
   "source": [
    "import tensorflow_datasets as tfds\n",
    "\n",
    "# 질문과 답변 데이터셋에 대해서 Vocabulary 생성.\n",
    "tokenizer = tfds.deprecated.text.SubwordTextEncoder.build_from_corpus(Q + A, target_vocab_size=2**13)"
   ]
  },
  {
   "cell_type": "code",
   "execution_count": 19,
   "id": "f2e99349",
   "metadata": {},
   "outputs": [
    {
     "name": "stdout",
     "output_type": "stream",
     "text": [
      "START_TOKEN의 번호 : [8156]\n",
      "END_TOKEN의 번호 : [8157]\n",
      "단어장의 크기: 8158\n"
     ]
    }
   ],
   "source": [
    "START_TOKEN, END_TOKEN = [tokenizer.vocab_size], [tokenizer.vocab_size + 1]    # 시작과 종료 토큰에 고유한 정수 부여\n",
    "print('START_TOKEN의 번호 :' ,[tokenizer.vocab_size])\n",
    "print('END_TOKEN의 번호 :' ,[tokenizer.vocab_size + 1])\n",
    "\n",
    "VOCAB_SIZE = tokenizer.vocab_size + 2    # 시작 토큰과 종료 토큰이 추가된만큼 +2를 하여 단어장의 크기를 산정\n",
    "print('단어장의 크기:' ,VOCAB_SIZE)"
   ]
  },
  {
   "cell_type": "code",
   "execution_count": 20,
   "id": "c92d8732",
   "metadata": {},
   "outputs": [
    {
     "name": "stdout",
     "output_type": "stream",
     "text": [
      "정수 인코딩 후의 20번째 질문 샘플: [5756, 612, 6, 19, 3106, 55, 1]\n",
      "정수 인코딩 후의 20번째 답변 샘플: [2354, 7499, 7, 6262, 97, 1]\n"
     ]
    }
   ],
   "source": [
    "print('정수 인코딩 후의 20번째 질문 샘플: {}'.format(tokenizer.encode(Q[19])))\n",
    "print('정수 인코딩 후의 20번째 답변 샘플: {}'.format(tokenizer.encode(A[19])))"
   ]
  },
  {
   "cell_type": "code",
   "execution_count": 50,
   "id": "a5ed0b26",
   "metadata": {},
   "outputs": [
    {
     "name": "stdout",
     "output_type": "stream",
     "text": [
      "가스 비  너무  많이  나왔 다  .\n"
     ]
    }
   ],
   "source": [
    "print(tokenizer.decode([5756]), tokenizer.decode([612]), tokenizer.decode([6]), tokenizer.decode([19]), tokenizer.decode([3106]), tokenizer.decode([55]), tokenizer.decode([1]))"
   ]
  },
  {
   "cell_type": "code",
   "execution_count": 51,
   "id": "1ac9ded2",
   "metadata": {
    "scrolled": true
   },
   "outputs": [
    {
     "name": "stdout",
     "output_type": "stream",
     "text": [
      "다음  달에는  더  절약해 봐요  .\n"
     ]
    }
   ],
   "source": [
    "print(tokenizer.decode([2354]), tokenizer.decode([7499]), tokenizer.decode([7]), tokenizer.decode([6262]), tokenizer.decode([97]), tokenizer.decode([1]))"
   ]
  },
  {
   "cell_type": "markdown",
   "id": "d56d7f00",
   "metadata": {},
   "source": [
    "토크나이저로 한국어 형태소 분석기가 아닌 내부 단어 토크나이저 SubwordTextEncoder를 사용했을 때, 조사 분리가 엄밀하지는 않으나('달에는'은 '달'과 '에는' 두 단어로 나눠져야 의미 단위대로 단어를 분리했다고 할 수 있다) '가스비'를 '가스', '비'로 분리하는 등, 띄어쓰기하지 않은 단어도 부분적으로 의미 단위를 구분하고 있는 것을 알 수 있다."
   ]
  },
  {
   "cell_type": "code",
   "execution_count": 21,
   "id": "7ee000fe",
   "metadata": {},
   "outputs": [
    {
     "name": "stdout",
     "output_type": "stream",
     "text": [
      "질문 길이 최소값: 1\n",
      "질문 길이 최대값: 16\n",
      "질문 길이 평균: 3.9371563900871185\n",
      "질문 길이 중앙값: 4.0\n",
      "답변 길이 최소값: 1\n",
      "답변 길이 최대값: 24\n",
      "답변 길이 평균: 4.715300685105303\n",
      "답변 길이 중앙값: 4.0\n"
     ]
    },
    {
     "data": {
      "image/png": "[encoded data removed]",
      "text/plain": [
       "<Figure size 432x288 with 1 Axes>"
      ]
     },
     "metadata": {
      "needs_background": "light"
     },
     "output_type": "display_data"
    },
    {
     "data": {
      "image/png": "[encoded data removed]",
      "text/plain": [
       "<Figure size 432x288 with 1 Axes>"
      ]
     },
     "metadata": {
      "needs_background": "light"
     },
     "output_type": "display_data"
    }
   ],
   "source": [
    "Q_len = [len(s.split()) for s in Q]\n",
    "A_len = [len(s.split()) for s in A]\n",
    "\n",
    "print('질문 길이 최소값:', np.min(Q_len))\n",
    "print('질문 길이 최대값:', np.max(Q_len))\n",
    "print('질문 길이 평균:', np.mean(Q_len))\n",
    "print('질문 길이 중앙값:', np.median(Q_len))\n",
    "\n",
    "print('답변 길이 최소값:', np.min(A_len))\n",
    "print('답변 길이 최대값:', np.max(A_len))\n",
    "print('답변 길이 평균:', np.mean(A_len))\n",
    "print('답변 길이 중앙값:', np.median(A_len))\n",
    "\n",
    "plt.title('Questions')\n",
    "plt.hist(Q_len, bins = 40)\n",
    "plt.xlabel('length of samples')\n",
    "plt.ylabel('number of samples')\n",
    "plt.show()\n",
    "\n",
    "plt.title('Answers')\n",
    "plt.hist(A_len, bins = 40)\n",
    "plt.xlabel('length of samples')\n",
    "plt.ylabel('number of samples')\n",
    "plt.show()"
   ]
  },
  {
   "cell_type": "code",
   "execution_count": 22,
   "id": "842015a9",
   "metadata": {},
   "outputs": [],
   "source": [
    "def below_threshold_len(MAX_LENGTH, nested_list):\n",
    "    cnt = 0\n",
    "    for s in nested_list:\n",
    "        if(len(s.split()) <= MAX_LENGTH):\n",
    "            cnt = cnt + 1\n",
    "    print('전체 샘플 중 길이가 %s 이하인 샘플의 비율: %s'%(MAX_LENGTH, (cnt / len(nested_list))))"
   ]
  },
  {
   "cell_type": "code",
   "execution_count": 23,
   "id": "0ea206c9",
   "metadata": {},
   "outputs": [
    {
     "name": "stdout",
     "output_type": "stream",
     "text": [
      "전체 샘플 중 길이가 15 이하인 샘플의 비율: 0.9999154190983676\n",
      "전체 샘플 중 길이가 15 이하인 샘플의 비율: 0.9990696100820434\n"
     ]
    }
   ],
   "source": [
    "MAX_LENGTH = 15\n",
    "\n",
    "below_threshold_len(MAX_LENGTH, Q)\n",
    "below_threshold_len(MAX_LENGTH, A)"
   ]
  },
  {
   "cell_type": "markdown",
   "id": "3df5fcf8",
   "metadata": {},
   "source": [
    "일반적으로 3~4단어 수준의 짧은 질문과 대답 데이터가 대부분을 차지한다. 최대 길이를 15단어로 지정하면 대다수의 데이터를 모두 포괄한다."
   ]
  },
  {
   "cell_type": "code",
   "execution_count": 24,
   "id": "ea75533b",
   "metadata": {},
   "outputs": [],
   "source": [
    "# 정수 인코딩, 최대 길이를 초과하는 샘플 제거, 패딩\n",
    "def tokenize_and_filter(inputs, outputs):\n",
    "    tokenized_inputs, tokenized_outputs = [], []\n",
    "    \n",
    "    for (sentence1, sentence2) in zip(inputs, outputs):\n",
    "    # 정수 인코딩 과정에서 시작 토큰과 종료 토큰을 추가\n",
    "        sentence1 = START_TOKEN + tokenizer.encode(sentence1) + END_TOKEN\n",
    "        sentence2 = START_TOKEN + tokenizer.encode(sentence2) + END_TOKEN\n",
    "\n",
    "    # 시작, 종료 토큰을 고려해 최대 길이 MAX_LENGTH+2 이하인 경우에만 데이터셋으로 허용\n",
    "        if len(sentence1) <= (MAX_LENGTH+2) and len(sentence2) <= (MAX_LENGTH+2):\n",
    "            tokenized_inputs.append(sentence1)\n",
    "            tokenized_outputs.append(sentence2)\n",
    "        \n",
    "    # 최대 길이 MAX_LENGTH+2로 모든 데이터셋을 패딩\n",
    "    tokenized_inputs = tf.keras.preprocessing.sequence.pad_sequences(tokenized_inputs, maxlen=(MAX_LENGTH+2), padding='post')\n",
    "    tokenized_outputs = tf.keras.preprocessing.sequence.pad_sequences(tokenized_outputs, maxlen=(MAX_LENGTH+2), padding='post')\n",
    "    \n",
    "    return tokenized_inputs, tokenized_outputs"
   ]
  },
  {
   "cell_type": "code",
   "execution_count": 25,
   "id": "13d0867b",
   "metadata": {},
   "outputs": [
    {
     "name": "stdout",
     "output_type": "stream",
     "text": [
      "단어장의 크기 : 8158\n",
      "필터링 후의 질문 샘플 개수: 11722\n",
      "필터링 후의 답변 샘플 개수: 11722\n"
     ]
    }
   ],
   "source": [
    "questions, answers = tokenize_and_filter(Q, A)\n",
    "print('단어장의 크기 :',(VOCAB_SIZE))\n",
    "print('필터링 후의 질문 샘플 개수: {}'.format(len(questions)))\n",
    "print('필터링 후의 답변 샘플 개수: {}'.format(len(answers)))"
   ]
  },
  {
   "cell_type": "markdown",
   "id": "d83acb09",
   "metadata": {},
   "source": [
    "### 3) 입력 데이터셋 구성\n",
    "tf.data.Dataset은 대량의 데이터를 잠재적으로 큰 요소 집합으로 표현할 수 있는 API이다. 인코더와 디코더의 학습에 알맞게끔 일일이 입력 데이터를 지정해주기보다, tf.data.Dataset을 통해 입력 파이프라인을 구축해두면 훈련 프로세스의 속도가 빨라진다. \n",
    "\n",
    "인코더와 디코더의 입력으로 사용되어야 하는 질문과 답변의 쌍을 tf.data.Dataset의 입력으로 넣어준다. 이때 훈련데이터를 랜덤하게 섞기 위해, BUFFER SIZE는 전체 데이터 11722건을 모두 포괄할 수 있는 숫자로 지정해야 한다.[참고](https://helloyjam.github.io/tensorflow/buffer-size-in-shuffle/)"
   ]
  },
  {
   "cell_type": "code",
   "execution_count": 26,
   "id": "f09bbe83",
   "metadata": {},
   "outputs": [],
   "source": [
    "BATCH_SIZE = 64\n",
    "BUFFER_SIZE = 12000\n",
    "\n",
    "dataset = tf.data.Dataset.from_tensor_slices((\n",
    "    {\n",
    "        'inputs': questions,\n",
    "        'dec_inputs': answers[:, :-1]    # 디코더의 inputs은 questions에 대응되는 target인 answers\n",
    "    },\n",
    "    {\n",
    "        'outputs': answers[:, 1:]    # inputs을 받은 다음의 결과 예측을 학습해야 하므로 outputs로 START_TOKEN이 제거된 answers 받음\n",
    "    },\n",
    "))\n",
    "\n",
    "dataset = dataset.cache()\n",
    "dataset = dataset.shuffle(BUFFER_SIZE)\n",
    "dataset = dataset.batch(BATCH_SIZE)\n",
    "dataset = dataset.prefetch(tf.data.experimental.AUTOTUNE)"
   ]
  },
  {
   "cell_type": "markdown",
   "id": "10055b4b",
   "metadata": {},
   "source": [
    "인코더는 입력받은 텍스트의 의미를 해석해야 하므로, 입력값(inputs)을 'questions'로 지정한다.\n",
    "\n",
    "반면 디코더가 학습을 진행하기 위해서는 일종의 '모범답안'에 해당하는, 'answers'를 입력값(dec_inputs)과 출력값(outputs)으로 받아야 한다.    \n",
    "즉, questions에 대응되는 타겟에 해당하는 'answers'를 입력으로 받되 디코더가 다음 단어를 예측해갈 수 있도록 마지막 단어를 제외하여 answer[:,:-1]를 입력값(dec_inputs)으로 지정하고, 시작 토큰 'START_TOKEN'을 제외한 answer[:,1:]를 출력값(outputs)으로 지정한다.\n",
    "\n",
    "이와 같은 '교사 강요' 학습 방법으로, 잘못된 예측으로 인해 디코더 학습이 비효율적으로 진행되는 것을 예방한다."
   ]
  },
  {
   "cell_type": "markdown",
   "id": "e5c3e49f",
   "metadata": {},
   "source": [
    "## 2. 모델 구성\n",
    "### 1) 포지셔널 인코딩, 멀티 헤드 어텐션, 마스킹\n",
    "* 포지셔널 인코딩 레이어: 문장의 모든 단어를 한꺼번에 입력으로 받는 트랜스포머가 단어의 순서를 알 수 있도록 임베딩 벡터에 위치 정보를 더해주기 위해 지정하는 레이어이다. 포지셔널 인코딩의 벡터값은 아래와 같이 짝수 인덱스에는 sine, 홀수 인덱스에는 cosine 함수로 정의된다.\n",
    "  * $PE_{(pos,2i)} = sin(pos / 10000^{2i/d_{model}})$ \n",
    "  * $PE_{(pos,2i+1)} = cos(pos / 10000^{2i/d_{model}})$   \n",
    "* 이때 $pos$는 입력 문장에서의 임베딩 벡터의 위치, $i$는 임베딩 벡터 내의 차원의 인덱스, $d_{model}$은 임베딩 벡터의 차원을 의미한다.    \n",
    "* 포지셔널 인코딩 레이어 = (문장의 최대 길이 × 임베딩 벡터의 차원수($d_{model}$)) 행렬과 같다."
   ]
  },
  {
   "cell_type": "code",
   "execution_count": 27,
   "id": "c7b5d717",
   "metadata": {},
   "outputs": [],
   "source": [
    "# 포지셔널 인코딩 레이어\n",
    "class PositionalEncoding(tf.keras.layers.Layer):\n",
    "    def __init__(self, position, d_model):\n",
    "        super(PositionalEncoding, self).__init__()\n",
    "        self.pos_encoding = self.positional_encoding(position, d_model)\n",
    "        \n",
    "    def get_angles(self, position, i, d_model):\n",
    "        angles = 1 / tf.pow(10000, (2 * (i // 2)) / tf.cast(d_model, tf.float32))\n",
    "        return position * angles\n",
    "    \n",
    "    def positional_encoding(self, position, d_model):\n",
    "        angle_rads = self.get_angles(position=tf.range(position, dtype=tf.float32)[:, tf.newaxis], \n",
    "                                     i=tf.range(d_model, dtype=tf.float32)[tf.newaxis, :], d_model=d_model)\n",
    "\n",
    "        # 배열의 짝수 인덱스에는 sin 함수 적용\n",
    "        sines = tf.math.sin(angle_rads[:, 0::2])\n",
    "        # 배열의 홀수 인덱스에는 cosine 함수 적용\n",
    "        cosines = tf.math.cos(angle_rads[:, 1::2])\n",
    "    \n",
    "        # sin과 cosine이 교차되도록 재배열\n",
    "        pos_encoding = tf.stack([sines, cosines], axis=0)\n",
    "        pos_encoding = tf.transpose(pos_encoding,[1, 2, 0]) \n",
    "        pos_encoding = tf.reshape(pos_encoding, [position, d_model])\n",
    "        pos_encoding = pos_encoding[tf.newaxis, ...]\n",
    "        return tf.cast(pos_encoding, tf.float32)\n",
    "    \n",
    "    def call(self, inputs):\n",
    "        return inputs + self.pos_encoding[:, :tf.shape(inputs)[1], :]"
   ]
  },
  {
   "cell_type": "markdown",
   "id": "19117bba",
   "metadata": {},
   "source": [
    "트랜스포머에는 크게 3종류의 어텐션이 사용된다.\n",
    "* 인코더 셀프 어텐션: **인코더의 입력으로 들어간 문장 내 단어들**의 유사도 구하기\n",
    "* 디코더 셀프 어텐션: 단어를 1개씩 생성하는 **디코더가 이미 생성한 앞 단어들**과의 유사도 구하기\n",
    "* 인코더-디코더 어텐션: 디코더의 예측가 더 정확히 예측하게 하기 위해, **인코더에 입력된 단어들과 디코더가 생성한 단어들**의 유사도 구하기    \n",
    "\n",
    "\n",
    "* 스케일드 닷 프로덕트 어텐션: 단어간의 유사도를 구하는 방법으로, 벡터의 내적값을 계산한 후 특정 숫자로 나누어 스케일링을 시행한 것\n",
    "* 유사도($\\dfrac{QK^T}{\\sqrt{d_k}}$)를 소프트맥스 함수에 대입하여 0과 1사이의 값으로 Normalize한 다음, 문장 행렬 $V$와 곱하면 어텐션 값을 얻는다.    \n",
    "$Attention(Q, K, V) = softmax(\\dfrac{QK^T}{\\sqrt{d_k}})V$\n"
   ]
  },
  {
   "cell_type": "code",
   "execution_count": 28,
   "id": "ca1b34e5",
   "metadata": {},
   "outputs": [],
   "source": [
    "# 스케일드 닷 프로덕트 어텐션 함수\n",
    "def scaled_dot_product_attention(query, key, value, mask):\n",
    "    # Q와 K의 닷 프로덕트\n",
    "    matmul_qk = tf.matmul(query, key, transpose_b=True)\n",
    "\n",
    "    # Q와 K의 닷 프로덕트 결과 정규화\n",
    "    depth = tf.cast(tf.shape(key)[-1], tf.float32)\n",
    "    logits = matmul_qk / tf.math.sqrt(depth)\n",
    "\n",
    "    # 패딩에 마스크 추가\n",
    "    if mask is not None:\n",
    "        logits += (mask * -1e9)\n",
    "\n",
    "    # softmax적용\n",
    "    attention_weights = tf.nn.softmax(logits, axis=-1)\n",
    "\n",
    "    # 최종 어텐션은 가중치와 V의 닷 프로덕트\n",
    "    output = tf.matmul(attention_weights, value)\n",
    "    return output"
   ]
  },
  {
   "cell_type": "markdown",
   "id": "5d5661a2",
   "metadata": {},
   "source": [
    "* 멀티-헤드 어텐션: num_heads만큼 입력 문장 행렬을 쪼개서 어텐션을 수행한 다음 그 값 행렬을 하나로 concatenate함으로써, 각각 다른 관점에서 수행한 어텐션이 도출한 서로 다른 결과를 합하는 것. 한번씩만 어텐션을 수행했을 때 놓칠 수도 있었던 정보를 얻을 수 있다."
   ]
  },
  {
   "cell_type": "code",
   "execution_count": 29,
   "id": "a783c478",
   "metadata": {},
   "outputs": [],
   "source": [
    "# 멀티 헤드 어텐션: 스케일드 닷 프로덕트 어텐션 함수 호출\n",
    "class MultiHeadAttention(tf.keras.layers.Layer):\n",
    "\n",
    "    def __init__(self, d_model, num_heads, name=\"multi_head_attention\"):\n",
    "        super(MultiHeadAttention, self).__init__(name=name)\n",
    "        self.num_heads = num_heads\n",
    "        self.d_model = d_model\n",
    "        \n",
    "        assert d_model % self.num_heads == 0\n",
    "\n",
    "        self.depth = d_model // self.num_heads\n",
    "\n",
    "        self.query_dense = tf.keras.layers.Dense(units=d_model)\n",
    "        self.key_dense = tf.keras.layers.Dense(units=d_model)\n",
    "        self.value_dense = tf.keras.layers.Dense(units=d_model)\n",
    "\n",
    "        self.dense = tf.keras.layers.Dense(units=d_model)\n",
    "\n",
    "    def split_heads(self, inputs, batch_size):\n",
    "        inputs = tf.reshape(inputs, shape=(batch_size, -1, self.num_heads, self.depth))\n",
    "        return tf.transpose(inputs, perm=[0, 2, 1, 3])\n",
    "\n",
    "    def call(self, inputs):\n",
    "        query, key, value, mask = inputs['query'], inputs['key'], inputs['value'], inputs['mask']\n",
    "        batch_size = tf.shape(query)[0]\n",
    "\n",
    "        # Q, K, V에 각각 Dense를 적용합니다\n",
    "        query = self.query_dense(query)\n",
    "        key = self.key_dense(key)\n",
    "        value = self.value_dense(value)\n",
    "\n",
    "        # 병렬 연산을 위한 머리를 여러 개 만듭니다\n",
    "        query = self.split_heads(query, batch_size)\n",
    "        key = self.split_heads(key, batch_size)\n",
    "        value = self.split_heads(value, batch_size)\n",
    "\n",
    "        # 스케일드 닷 프로덕트 어텐션 함수\n",
    "        scaled_attention = scaled_dot_product_attention(query, key, value, mask)\n",
    "        scaled_attention = tf.transpose(scaled_attention, perm=[0, 2, 1, 3])\n",
    "\n",
    "        # 어텐션 연산 후에 각 결과를 다시 연결(concatenate)합니다\n",
    "        concat_attention = tf.reshape(scaled_attention, (batch_size, -1, self.d_model))\n",
    "\n",
    "        # 최종 결과에도 Dense를 한 번 더 적용합니다\n",
    "        outputs = self.dense(concat_attention)\n",
    "\n",
    "        return outputs"
   ]
  },
  {
   "cell_type": "markdown",
   "id": "7c39b519",
   "metadata": {},
   "source": [
    "* 마스킹(Masking): 특정 값을 가려 실제 연산에 방해가 되지 않도록 하는 기법\n",
    "\n",
    "  - 패딩 마스킹(Padding Masking): 숫자가 0인 패딩을 참조하지 않기\n",
    "  - 룩 어헤드 마스킹(Look-ahead masking): 이전 단어들로부터 다음 단어를 예측하도록 하기 위해 다음 단어 가리기"
   ]
  },
  {
   "cell_type": "code",
   "execution_count": 30,
   "id": "81267eb0",
   "metadata": {},
   "outputs": [],
   "source": [
    "# 패딩 마스킹\n",
    "def create_padding_mask(x):\n",
    "    mask = tf.cast(tf.math.equal(x, 0), tf.float32)\n",
    "    # (batch_size, 1, 1, sequence length)\n",
    "    return mask[:, tf.newaxis, tf.newaxis, :]"
   ]
  },
  {
   "cell_type": "code",
   "execution_count": 31,
   "id": "ea01e676",
   "metadata": {},
   "outputs": [],
   "source": [
    "# 룩 어헤드 마스킹+패딩 마스킹\n",
    "def create_look_ahead_mask(x):\n",
    "    seq_len = tf.shape(x)[1]\n",
    "    look_ahead_mask = 1 - tf.linalg.band_part(tf.ones((seq_len, seq_len)), -1, 0)\n",
    "    padding_mask = create_padding_mask(x)\n",
    "    return tf.maximum(look_ahead_mask, padding_mask)"
   ]
  },
  {
   "cell_type": "markdown",
   "id": "52131476",
   "metadata": {},
   "source": [
    "### 2) 인코더/디코더/트랜스포머 함수 구현\n",
    "인코더와 디코더는 둘 다 임베딩 층과 포지셔널 인코딩을 연결하고, 인코더/디코더 층을 쌓아 만든다.    \n",
    "인코더 층은 '셀프 어텐션'과 '피드 포워드 신경망'이라는 2개의 서브 레이어로 구성된다."
   ]
  },
  {
   "cell_type": "code",
   "execution_count": 32,
   "id": "029b4080",
   "metadata": {},
   "outputs": [],
   "source": [
    "# 인코더 하나의 레이어를 함수로 구현\n",
    "# 이 하나의 레이어 안에는 두 개의 서브 레이어가 존재\n",
    "def encoder_layer(units, d_model, num_heads, dropout, name=\"encoder_layer\"):\n",
    "    inputs = tf.keras.Input(shape=(None, d_model), name=\"inputs\")\n",
    "    padding_mask = tf.keras.Input(shape=(1, 1, None), name=\"padding_mask\")\n",
    "\n",
    "    # 첫 번째 서브 레이어 : 멀티 헤드 어텐션 수행 (셀프 어텐션)\n",
    "    attention = MultiHeadAttention(d_model, num_heads, name=\"attention\")({\n",
    "        'query': inputs, \n",
    "        'key': inputs, \n",
    "        'value': inputs, \n",
    "        'mask': padding_mask\n",
    "    })\n",
    "\n",
    "    # 어텐션의 결과는 Dropout과 Layer Normalization이라는 훈련을 돕는 테크닉을 수행\n",
    "    attention = tf.keras.layers.Dropout(rate=dropout)(attention)\n",
    "    attention = tf.keras.layers.LayerNormalization(epsilon=1e-6)(inputs + attention)\n",
    "\n",
    "    # 두 번째 서브 레이어 : 2개의 완전연결층\n",
    "    outputs = tf.keras.layers.Dense(units=units, activation='relu')(attention)\n",
    "    outputs = tf.keras.layers.Dense(units=d_model)(outputs)\n",
    "\n",
    "    # 완전연결층의 결과는 Dropout과 LayerNormalization이라는 훈련을 돕는 테크닉을 수행\n",
    "    outputs = tf.keras.layers.Dropout(rate=dropout)(outputs)\n",
    "    outputs = tf.keras.layers.LayerNormalization(epsilon=1e-6)(attention + outputs)\n",
    "\n",
    "    return tf.keras.Model(inputs=[inputs, padding_mask], outputs=outputs, name=name)"
   ]
  },
  {
   "cell_type": "code",
   "execution_count": 33,
   "id": "128e733a",
   "metadata": {},
   "outputs": [],
   "source": [
    "def encoder(vocab_size,\n",
    "            num_layers,\n",
    "            units,\n",
    "            d_model,\n",
    "            num_heads,\n",
    "            dropout,\n",
    "            name=\"encoder\"):\n",
    "    \n",
    "    inputs = tf.keras.Input(shape=(None,), name=\"inputs\")\n",
    "\n",
    "    # 패딩 마스크 사용\n",
    "    padding_mask = tf.keras.Input(shape=(1, 1, None), name=\"padding_mask\")\n",
    "\n",
    "    # 임베딩 레이어\n",
    "    embeddings = tf.keras.layers.Embedding(vocab_size, d_model)(inputs)\n",
    "    embeddings *= tf.math.sqrt(tf.cast(d_model, tf.float32))\n",
    "    \n",
    "    # 포지셔널 인코딩\n",
    "    embeddings = PositionalEncoding(vocab_size, d_model)(embeddings)\n",
    "    \n",
    "    outputs = tf.keras.layers.Dropout(rate=dropout)(embeddings)\n",
    "\n",
    "    # num_layers만큼 인코더의 층 쌓아올리기\n",
    "    for i in range(num_layers):\n",
    "        outputs = encoder_layer(\n",
    "            units=units,\n",
    "            d_model=d_model,\n",
    "            num_heads=num_heads,\n",
    "            dropout=dropout,\n",
    "            name=\"encoder_layer_{}\".format(i),\n",
    "        )([outputs, padding_mask])\n",
    "\n",
    "    return tf.keras.Model(inputs=[inputs, padding_mask], outputs=outputs, name=name)"
   ]
  },
  {
   "cell_type": "markdown",
   "id": "b1d8ad3e",
   "metadata": {},
   "source": [
    "디코더 층은 '셀프 어텐션', '인코더-디코더 어텐션', '피드 포워드 신경망'이라는 3개의 서브 레이어로 구성된다. 인코더-디코더 어텐션의 Query는 디코더의 벡터, Key와 Value가 인코더의 벡터이다."
   ]
  },
  {
   "cell_type": "code",
   "execution_count": 34,
   "id": "cd804124",
   "metadata": {},
   "outputs": [],
   "source": [
    "# 디코더 하나의 레이어를 함수로 구현.\n",
    "# 이 하나의 레이어 안에는 세 개의 서브 레이어가 존재합니다.\n",
    "def decoder_layer(units, d_model, num_heads, dropout, name=\"decoder_layer\"):\n",
    "    inputs = tf.keras.Input(shape=(None, d_model), name=\"inputs\")\n",
    "    enc_outputs = tf.keras.Input(shape=(None, d_model), name=\"encoder_outputs\")\n",
    "    look_ahead_mask = tf.keras.Input(shape=(1, None, None), name=\"look_ahead_mask\")\n",
    "    padding_mask = tf.keras.Input(shape=(1, 1, None), name='padding_mask')\n",
    "\n",
    "    # 첫 번째 서브 레이어 : 멀티 헤드 어텐션 수행 (셀프 어텐션)\n",
    "    attention1 = MultiHeadAttention(d_model, num_heads, name=\"attention_1\")(inputs={\n",
    "        'query': inputs,\n",
    "        'key': inputs,\n",
    "        'value': inputs,\n",
    "        'mask': look_ahead_mask\n",
    "    })\n",
    "\n",
    "    # 멀티 헤드 어텐션의 결과는 LayerNormalization이라는 훈련을 돕는 테크닉을 수행\n",
    "    attention1 = tf.keras.layers.LayerNormalization(epsilon=1e-6)(attention1 + inputs)\n",
    "\n",
    "    # 두 번째 서브 레이어 : 마스크드 멀티 헤드 어텐션 수행 (인코더-디코더 어텐션)\n",
    "    attention2 = MultiHeadAttention(d_model, num_heads, name=\"attention_2\")(inputs={\n",
    "        'query': attention1,\n",
    "        'key': enc_outputs,\n",
    "        'value': enc_outputs,\n",
    "        'mask': padding_mask\n",
    "    })\n",
    "\n",
    "    # 마스크드 멀티 헤드 어텐션의 결과는\n",
    "    # Dropout과 LayerNormalization이라는 훈련을 돕는 테크닉을 수행\n",
    "    attention2 = tf.keras.layers.Dropout(rate=dropout)(attention2)\n",
    "    attention2 = tf.keras.layers.LayerNormalization(epsilon=1e-6)(attention2 + attention1)\n",
    "\n",
    "    # 세 번째 서브 레이어 : 2개의 완전연결층\n",
    "    outputs = tf.keras.layers.Dense(units=units, activation='relu')(attention2)\n",
    "    outputs = tf.keras.layers.Dense(units=d_model)(outputs)\n",
    "\n",
    "    # 완전연결층의 결과는 Dropout과 LayerNormalization 수행\n",
    "    outputs = tf.keras.layers.Dropout(rate=dropout)(outputs)\n",
    "    outputs = tf.keras.layers.LayerNormalization(epsilon=1e-6)(outputs + attention2)\n",
    "\n",
    "    return tf.keras.Model(inputs=[inputs, enc_outputs, look_ahead_mask, padding_mask], outputs=outputs, name=name)"
   ]
  },
  {
   "cell_type": "code",
   "execution_count": 35,
   "id": "e83b7bf1",
   "metadata": {},
   "outputs": [],
   "source": [
    "def decoder(vocab_size,\n",
    "            num_layers,\n",
    "            units,\n",
    "            d_model,\n",
    "            num_heads,\n",
    "            dropout,\n",
    "            name='decoder'):\n",
    "    inputs = tf.keras.Input(shape=(None,), name='inputs')\n",
    "    enc_outputs = tf.keras.Input(shape=(None, d_model), name='encoder_outputs')\n",
    "    look_ahead_mask = tf.keras.Input(shape=(1, None, None), name='look_ahead_mask')\n",
    "\n",
    "    # 패딩 마스크\n",
    "    padding_mask = tf.keras.Input(shape=(1, 1, None), name='padding_mask')\n",
    "  \n",
    "    # 임베딩 레이어\n",
    "    embeddings = tf.keras.layers.Embedding(vocab_size, d_model)(inputs)\n",
    "    embeddings *= tf.math.sqrt(tf.cast(d_model, tf.float32))\n",
    "\n",
    "    # 포지셔널 인코딩\n",
    "    embeddings = PositionalEncoding(vocab_size, d_model)(embeddings)\n",
    "\n",
    "    # Dropout이라는 훈련을 돕는 테크닉을 수행\n",
    "    outputs = tf.keras.layers.Dropout(rate=dropout)(embeddings)\n",
    "\n",
    "    for i in range(num_layers):\n",
    "        outputs = decoder_layer(\n",
    "            units=units,\n",
    "            d_model=d_model,\n",
    "            num_heads=num_heads,\n",
    "            dropout=dropout,\n",
    "            name='decoder_layer_{}'.format(i),\n",
    "        )(inputs=[outputs, enc_outputs, look_ahead_mask, padding_mask])\n",
    "\n",
    "    return tf.keras.Model(inputs=[inputs, enc_outputs, look_ahead_mask, padding_mask], outputs=outputs, name=name)"
   ]
  },
  {
   "cell_type": "code",
   "execution_count": 36,
   "id": "5c3554da",
   "metadata": {},
   "outputs": [],
   "source": [
    "def transformer(vocab_size,\n",
    "                num_layers,\n",
    "                units,\n",
    "                d_model,\n",
    "                num_heads,\n",
    "                dropout,\n",
    "                name=\"transformer\"):\n",
    "    inputs = tf.keras.Input(shape=(None,), name=\"inputs\")\n",
    "    dec_inputs = tf.keras.Input(shape=(None,), name=\"dec_inputs\")\n",
    "\n",
    "    # 인코더에서 패딩을 위한 마스크\n",
    "    enc_padding_mask = tf.keras.layers.Lambda(create_padding_mask, output_shape=(1, 1, None), name='enc_padding_mask')(inputs)\n",
    "\n",
    "    # 디코더에서 미래의 토큰을 마스크 하기 위해서 사용합니다.\n",
    "    # 내부적으로 패딩 마스크도 포함되어져 있습니다.\n",
    "    look_ahead_mask = tf.keras.layers.Lambda(create_look_ahead_mask, output_shape=(1, None, None), name='look_ahead_mask')(dec_inputs)\n",
    "\n",
    "    # 두 번째 어텐션 블록에서 인코더의 벡터들을 마스킹\n",
    "    # 디코더에서 패딩을 위한 마스크\n",
    "    dec_padding_mask = tf.keras.layers.Lambda(create_padding_mask, output_shape=(1, 1, None), name='dec_padding_mask')(inputs)\n",
    "\n",
    "    # 인코더\n",
    "    enc_outputs = encoder(vocab_size=vocab_size,\n",
    "                          num_layers=num_layers,\n",
    "                          units=units,\n",
    "                          d_model=d_model,\n",
    "                          num_heads=num_heads,\n",
    "                          dropout=dropout,\n",
    "                         )(inputs=[inputs, enc_padding_mask])\n",
    "\n",
    "    # 디코더\n",
    "    dec_outputs = decoder(vocab_size=vocab_size,\n",
    "                          num_layers=num_layers,\n",
    "                          units=units,\n",
    "                          d_model=d_model,\n",
    "                          num_heads=num_heads,\n",
    "                          dropout=dropout,\n",
    "                         )(inputs=[dec_inputs, enc_outputs, look_ahead_mask, dec_padding_mask])\n",
    "\n",
    "    # 완전연결층\n",
    "    outputs = tf.keras.layers.Dense(units=vocab_size, name=\"outputs\")(dec_outputs)\n",
    "\n",
    "    return tf.keras.Model(inputs=[inputs, dec_inputs], outputs=outputs, name=name)"
   ]
  },
  {
   "cell_type": "markdown",
   "id": "316c970e",
   "metadata": {},
   "source": [
    "### 3) 손실함수/학습률 지정"
   ]
  },
  {
   "cell_type": "code",
   "execution_count": 37,
   "id": "16e237c2",
   "metadata": {},
   "outputs": [],
   "source": [
    "def loss_function(y_true, y_pred):\n",
    "    y_true = tf.reshape(y_true, shape=(-1, MAX_LENGTH + 1))\n",
    "    \n",
    "    loss = tf.keras.losses.SparseCategoricalCrossentropy(from_logits=True, reduction='none')(y_true, y_pred)\n",
    "    \n",
    "    mask = tf.cast(tf.not_equal(y_true, 0), tf.float32)\n",
    "    loss = tf.multiply(loss, mask)\n",
    "\n",
    "    return tf.reduce_mean(loss)"
   ]
  },
  {
   "cell_type": "code",
   "execution_count": 38,
   "id": "286c8143",
   "metadata": {},
   "outputs": [],
   "source": [
    "# 커스텀 된 학습률:모델학습 초기에 learning rate를 높였다가, 서서히 낮추어가는 기법\n",
    "class CustomSchedule(tf.keras.optimizers.schedules.LearningRateSchedule):\n",
    "\n",
    "    def __init__(self, d_model, warmup_steps=4000):\n",
    "        super(CustomSchedule, self).__init__()\n",
    "        \n",
    "        self.d_model = d_model\n",
    "        self.d_model = tf.cast(self.d_model, tf.float32)\n",
    "        \n",
    "        self.warmup_steps = warmup_steps\n",
    "\n",
    "    def __call__(self, step):\n",
    "        arg1 = tf.math.rsqrt(step)\n",
    "        arg2 = step * (self.warmup_steps**-1.5)\n",
    "        \n",
    "        return tf.math.rsqrt(self.d_model) * tf.math.minimum(arg1, arg2)"
   ]
  },
  {
   "cell_type": "markdown",
   "id": "524f1193",
   "metadata": {},
   "source": [
    "## 3. 모델 평가\n",
    "### 1) 모델 생성 및 컴파일, 훈련"
   ]
  },
  {
   "cell_type": "code",
   "execution_count": 39,
   "id": "e64d4a23",
   "metadata": {
    "scrolled": true
   },
   "outputs": [
    {
     "name": "stdout",
     "output_type": "stream",
     "text": [
      "Model: \"transformer\"\n",
      "__________________________________________________________________________________________________\n",
      "Layer (type)                    Output Shape         Param #     Connected to                     \n",
      "==================================================================================================\n",
      "inputs (InputLayer)             [(None, None)]       0                                            \n",
      "__________________________________________________________________________________________________\n",
      "dec_inputs (InputLayer)         [(None, None)]       0                                            \n",
      "__________________________________________________________________________________________________\n",
      "enc_padding_mask (Lambda)       (None, 1, 1, None)   0           inputs[0][0]                     \n",
      "__________________________________________________________________________________________________\n",
      "encoder (Functional)            (None, None, 1024)   18859008    inputs[0][0]                     \n",
      "                                                                 enc_padding_mask[0][0]           \n",
      "__________________________________________________________________________________________________\n",
      "look_ahead_mask (Lambda)        (None, 1, None, None 0           dec_inputs[0][0]                 \n",
      "__________________________________________________________________________________________________\n",
      "dec_padding_mask (Lambda)       (None, 1, 1, None)   0           inputs[0][0]                     \n",
      "__________________________________________________________________________________________________\n",
      "decoder (Functional)            (None, None, 1024)   27259904    dec_inputs[0][0]                 \n",
      "                                                                 encoder[0][0]                    \n",
      "                                                                 look_ahead_mask[0][0]            \n",
      "                                                                 dec_padding_mask[0][0]           \n",
      "__________________________________________________________________________________________________\n",
      "outputs (Dense)                 (None, None, 8158)   8361950     decoder[0][0]                    \n",
      "==================================================================================================\n",
      "Total params: 54,480,862\n",
      "Trainable params: 54,480,862\n",
      "Non-trainable params: 0\n",
      "__________________________________________________________________________________________________\n"
     ]
    }
   ],
   "source": [
    "tf.keras.backend.clear_session()\n",
    "\n",
    "# 하이퍼파라미터\n",
    "NUM_LAYERS = 2 # 인코더와 디코더의 층의 개수\n",
    "D_MODEL = 1024 # 인코더와 디코더 내부의 입, 출력의 고정 차원\n",
    "NUM_HEADS = 8 # 멀티 헤드 어텐션에서의 헤드 수 \n",
    "UNITS = 512 # 피드 포워드 신경망의 은닉층의 크기\n",
    "DROPOUT = 0.1 # 드롭아웃의 비율\n",
    "\n",
    "model = transformer(vocab_size=VOCAB_SIZE,\n",
    "                    num_layers=NUM_LAYERS,\n",
    "                    units=UNITS,\n",
    "                    d_model=D_MODEL,\n",
    "                    num_heads=NUM_HEADS,\n",
    "                    dropout=DROPOUT)\n",
    "\n",
    "model.summary()"
   ]
  },
  {
   "cell_type": "code",
   "execution_count": 40,
   "id": "964067cd",
   "metadata": {},
   "outputs": [],
   "source": [
    "learning_rate = CustomSchedule(D_MODEL)\n",
    "\n",
    "optimizer = tf.keras.optimizers.Adam(learning_rate, beta_1=0.9, beta_2=0.98, epsilon=1e-9)\n",
    "\n",
    "def accuracy(y_true, y_pred):\n",
    "    y_true = tf.reshape(y_true, shape=(-1, MAX_LENGTH + 1))\n",
    "    return tf.keras.metrics.sparse_categorical_accuracy(y_true, y_pred)\n",
    "\n",
    "model.compile(optimizer=optimizer, loss=loss_function, metrics=[accuracy])"
   ]
  },
  {
   "cell_type": "code",
   "execution_count": 41,
   "id": "4982ebe4",
   "metadata": {},
   "outputs": [
    {
     "name": "stdout",
     "output_type": "stream",
     "text": [
      "Epoch 1/50\n",
      "184/184 [==============================] - 27s 113ms/step - loss: 3.0176 - accuracy: 0.0894\n",
      "Epoch 2/50\n",
      "184/184 [==============================] - 20s 111ms/step - loss: 2.4242 - accuracy: 0.1240\n",
      "Epoch 3/50\n",
      "184/184 [==============================] - 20s 109ms/step - loss: 2.2390 - accuracy: 0.1337\n",
      "Epoch 4/50\n",
      "184/184 [==============================] - 20s 109ms/step - loss: 2.0518 - accuracy: 0.1439\n",
      "Epoch 5/50\n",
      "184/184 [==============================] - 20s 111ms/step - loss: 1.8245 - accuracy: 0.1616\n",
      "Epoch 6/50\n",
      "184/184 [==============================] - 20s 111ms/step - loss: 1.5649 - accuracy: 0.1895\n",
      "Epoch 7/50\n",
      "184/184 [==============================] - 20s 110ms/step - loss: 1.2802 - accuracy: 0.2246\n",
      "Epoch 8/50\n",
      "184/184 [==============================] - 20s 110ms/step - loss: 0.9910 - accuracy: 0.2653\n",
      "Epoch 9/50\n",
      "184/184 [==============================] - 20s 110ms/step - loss: 0.7176 - accuracy: 0.3083\n",
      "Epoch 10/50\n",
      "184/184 [==============================] - 20s 110ms/step - loss: 0.4821 - accuracy: 0.3467\n",
      "Epoch 11/50\n",
      "184/184 [==============================] - 20s 110ms/step - loss: 0.2997 - accuracy: 0.3775\n",
      "Epoch 12/50\n",
      "184/184 [==============================] - 20s 110ms/step - loss: 0.1797 - accuracy: 0.3971\n",
      "Epoch 13/50\n",
      "184/184 [==============================] - 20s 110ms/step - loss: 0.1124 - accuracy: 0.4059\n",
      "Epoch 14/50\n",
      "184/184 [==============================] - 20s 110ms/step - loss: 0.0883 - accuracy: 0.4071\n",
      "Epoch 15/50\n",
      "184/184 [==============================] - 20s 110ms/step - loss: 0.0810 - accuracy: 0.4069\n",
      "Epoch 16/50\n",
      "184/184 [==============================] - 20s 110ms/step - loss: 0.0752 - accuracy: 0.4069\n",
      "Epoch 17/50\n",
      "184/184 [==============================] - 20s 110ms/step - loss: 0.0767 - accuracy: 0.4056\n",
      "Epoch 18/50\n",
      "184/184 [==============================] - 20s 110ms/step - loss: 0.0773 - accuracy: 0.4049\n",
      "Epoch 19/50\n",
      "184/184 [==============================] - 20s 110ms/step - loss: 0.0795 - accuracy: 0.4043\n",
      "Epoch 20/50\n",
      "184/184 [==============================] - 20s 110ms/step - loss: 0.0834 - accuracy: 0.4027\n",
      "Epoch 21/50\n",
      "184/184 [==============================] - 20s 110ms/step - loss: 0.0858 - accuracy: 0.4019\n",
      "Epoch 22/50\n",
      "184/184 [==============================] - 20s 110ms/step - loss: 0.0887 - accuracy: 0.4007\n",
      "Epoch 23/50\n",
      "184/184 [==============================] - 20s 110ms/step - loss: 0.0870 - accuracy: 0.4013\n",
      "Epoch 24/50\n",
      "184/184 [==============================] - 20s 110ms/step - loss: 0.0784 - accuracy: 0.4027\n",
      "Epoch 25/50\n",
      "184/184 [==============================] - 20s 110ms/step - loss: 0.0720 - accuracy: 0.4044\n",
      "Epoch 26/50\n",
      "184/184 [==============================] - 20s 110ms/step - loss: 0.0673 - accuracy: 0.4052\n",
      "Epoch 27/50\n",
      "184/184 [==============================] - 20s 110ms/step - loss: 0.0622 - accuracy: 0.4068\n",
      "Epoch 28/50\n",
      "184/184 [==============================] - 20s 110ms/step - loss: 0.0567 - accuracy: 0.4078\n",
      "Epoch 29/50\n",
      "184/184 [==============================] - 20s 110ms/step - loss: 0.0534 - accuracy: 0.4090\n",
      "Epoch 30/50\n",
      "184/184 [==============================] - 20s 110ms/step - loss: 0.0511 - accuracy: 0.4094\n",
      "Epoch 31/50\n",
      "184/184 [==============================] - 20s 110ms/step - loss: 0.0480 - accuracy: 0.4102\n",
      "Epoch 32/50\n",
      "184/184 [==============================] - 20s 110ms/step - loss: 0.0445 - accuracy: 0.4112\n",
      "Epoch 33/50\n",
      "184/184 [==============================] - 20s 110ms/step - loss: 0.0403 - accuracy: 0.4121\n",
      "Epoch 34/50\n",
      "184/184 [==============================] - 20s 110ms/step - loss: 0.0389 - accuracy: 0.4126\n",
      "Epoch 35/50\n",
      "184/184 [==============================] - 20s 110ms/step - loss: 0.0373 - accuracy: 0.4134\n",
      "Epoch 36/50\n",
      "184/184 [==============================] - 20s 110ms/step - loss: 0.0351 - accuracy: 0.4136\n",
      "Epoch 37/50\n",
      "184/184 [==============================] - 20s 110ms/step - loss: 0.0334 - accuracy: 0.4140\n",
      "Epoch 38/50\n",
      "184/184 [==============================] - 20s 110ms/step - loss: 0.0330 - accuracy: 0.4141\n",
      "Epoch 39/50\n",
      "184/184 [==============================] - 20s 110ms/step - loss: 0.0292 - accuracy: 0.4150\n",
      "Epoch 40/50\n",
      "184/184 [==============================] - 20s 109ms/step - loss: 0.0291 - accuracy: 0.4151\n",
      "Epoch 41/50\n",
      "184/184 [==============================] - 20s 110ms/step - loss: 0.0273 - accuracy: 0.4153\n",
      "Epoch 42/50\n",
      "184/184 [==============================] - 20s 110ms/step - loss: 0.0280 - accuracy: 0.4156\n",
      "Epoch 43/50\n",
      "184/184 [==============================] - 20s 110ms/step - loss: 0.0257 - accuracy: 0.4156\n",
      "Epoch 44/50\n",
      "184/184 [==============================] - 20s 110ms/step - loss: 0.0246 - accuracy: 0.4161\n",
      "Epoch 45/50\n",
      "184/184 [==============================] - 20s 110ms/step - loss: 0.0240 - accuracy: 0.4162\n",
      "Epoch 46/50\n",
      "184/184 [==============================] - 20s 110ms/step - loss: 0.0224 - accuracy: 0.4166\n",
      "Epoch 47/50\n",
      "184/184 [==============================] - 20s 110ms/step - loss: 0.0208 - accuracy: 0.4170\n",
      "Epoch 48/50\n",
      "184/184 [==============================] - 20s 110ms/step - loss: 0.0211 - accuracy: 0.4170\n",
      "Epoch 49/50\n",
      "184/184 [==============================] - 20s 110ms/step - loss: 0.0202 - accuracy: 0.4171\n",
      "Epoch 50/50\n",
      "184/184 [==============================] - 20s 110ms/step - loss: 0.0200 - accuracy: 0.4172\n"
     ]
    },
    {
     "data": {
      "text/plain": [
       "<keras.callbacks.History at 0x7f26d04ba1c0>"
      ]
     },
     "execution_count": 41,
     "metadata": {},
     "output_type": "execute_result"
    }
   ],
   "source": [
    "EPOCHS = 50\n",
    "model.fit(dataset, epochs=EPOCHS, verbose=1)"
   ]
  },
  {
   "cell_type": "markdown",
   "id": "7368cf6f",
   "metadata": {},
   "source": [
    "### 2) 문장 테스트"
   ]
  },
  {
   "cell_type": "code",
   "execution_count": 42,
   "id": "36fa2d34",
   "metadata": {},
   "outputs": [],
   "source": [
    "def decoder_inference(sentence):\n",
    "    sentence = preprocess_sentence(sentence)\n",
    "\n",
    "    # 입력된 문장을 정수 인코딩 후, 시작 토큰과 종료 토큰을 앞뒤로 추가.\n",
    "    sentence = tf.expand_dims(START_TOKEN + tokenizer.encode(sentence) + END_TOKEN, axis=0)\n",
    "\n",
    "    # 디코더의 현재까지의 예측한 출력 시퀀스가 지속적으로 저장되는 변수.\n",
    "    # 처음에는 예측한 내용이 없음으로 시작 토큰만 별도 저장\n",
    "    output_sequence = tf.expand_dims(START_TOKEN, 0)\n",
    "\n",
    "    # 디코더의 인퍼런스 단계\n",
    "    for i in range(MAX_LENGTH):\n",
    "    # 디코더는 최대 MAX_LENGTH의 길이만큼 다음 단어 예측을 반복합니다.\n",
    "        predictions = model(inputs=[sentence, output_sequence], training=False)\n",
    "        predictions = predictions[:, -1:, :]\n",
    "\n",
    "        # 현재 예측한 단어의 정수\n",
    "        predicted_id = tf.cast(tf.argmax(predictions, axis=-1), tf.int32)\n",
    "\n",
    "        # 만약 현재 예측한 단어가 종료 토큰이라면 for문을 종료\n",
    "        if tf.equal(predicted_id, END_TOKEN[0]):\n",
    "            break\n",
    "\n",
    "        # 예측한 단어들은 지속적으로 output_sequence에 추가됩니다.\n",
    "        # 이 output_sequence는 다시 디코더의 입력이 됩니다.\n",
    "        output_sequence = tf.concat([output_sequence, predicted_id], axis=-1)\n",
    "\n",
    "    return tf.squeeze(output_sequence, axis=0)"
   ]
  },
  {
   "cell_type": "code",
   "execution_count": 43,
   "id": "865b621e",
   "metadata": {},
   "outputs": [],
   "source": [
    "def sentence_generation(sentence):\n",
    "    # 입력 문장에 대해서 디코더를 동작 시켜 예측된 정수 시퀀스를 리턴받습니다.\n",
    "    prediction = decoder_inference(sentence)\n",
    "\n",
    "    # 정수 시퀀스를 다시 텍스트 시퀀스로 변환합니다.\n",
    "    predicted_sentence = tokenizer.decode([i for i in prediction if i < tokenizer.vocab_size])\n",
    "\n",
    "    print('입력 : {}'.format(sentence))\n",
    "    print('출력 : {}'.format(predicted_sentence))\n",
    "\n",
    "    return predicted_sentence"
   ]
  },
  {
   "cell_type": "code",
   "execution_count": 45,
   "id": "3a8b6107",
   "metadata": {},
   "outputs": [
    {
     "name": "stdout",
     "output_type": "stream",
     "text": [
      "입력 : 오늘 날씨 어때?\n",
      "출력 : 날씨 어플에 물어보세요 .\n"
     ]
    },
    {
     "data": {
      "text/plain": [
       "'날씨 어플에 물어보세요 .'"
      ]
     },
     "execution_count": 45,
     "metadata": {},
     "output_type": "execute_result"
    }
   ],
   "source": [
    "sentence_generation('오늘 날씨 어때?')"
   ]
  },
  {
   "cell_type": "code",
   "execution_count": 46,
   "id": "3d3dcbd8",
   "metadata": {},
   "outputs": [
    {
     "name": "stdout",
     "output_type": "stream",
     "text": [
      "입력 : 심심해.\n",
      "출력 : 친구들과 연락해보세요 .\n"
     ]
    },
    {
     "data": {
      "text/plain": [
       "'친구들과 연락해보세요 .'"
      ]
     },
     "execution_count": 46,
     "metadata": {},
     "output_type": "execute_result"
    }
   ],
   "source": [
    "sentence_generation('심심해.')"
   ]
  },
  {
   "cell_type": "code",
   "execution_count": 48,
   "id": "df7eccef",
   "metadata": {},
   "outputs": [
    {
     "name": "stdout",
     "output_type": "stream",
     "text": [
      "입력 : 너는 지금 뭐해?\n",
      "출력 : 실내 데이트요 .\n"
     ]
    },
    {
     "data": {
      "text/plain": [
       "'실내 데이트요 .'"
      ]
     },
     "execution_count": 48,
     "metadata": {},
     "output_type": "execute_result"
    }
   ],
   "source": [
    "sentence_generation('너는 지금 뭐해?')"
   ]
  },
  {
   "cell_type": "markdown",
   "id": "6ea6bf8d",
   "metadata": {},
   "source": [
    "## 후기\n",
    "\n",
    "* 하이퍼파라미터 중 D_MODEL만을 늘려가며 자연스러운 응답이 나오는지 테스트해보았다. 256에서도 크게 어색하지는 않았지만, (\"오늘 날씨 어때?\" -> \"나가기 어려울 것 같아요.\") 현재 1024에서 가장 자연스러웠다. 단어의 임베딩 차원이 깊어질 수록 어느 정도는 자연스러운 의미 해석과 문장 생성이 가능해지는 듯 하다.\n",
    "* accuracy는 40% 수준에서 더이상 오르지 않는데, 여기서의 accuracy가 모델이 생성한 문장과 정답('answers')이 유사한 정도라면, 사용자의 질문에 유연하게 답해야 하는 챗봇의 accuracy는 너무 높아서도 곤란할 것 같다. 여기서 accuracy가 정확히 무엇을 의미하는 지, 어느 정도 수준을 목표로 하는 것이 적절할 지 궁금하다. \n",
    "* 모델의 개념을 충분히 이해하기, 그것을 구현하기라는 두가지 과제가 있다면, 구현 부분에 있어서 많이 부족함을 느꼈다. 논문을 통해 모델을 구현해보고 개선해보기까지가 최종 목표라면, 코딩 훈련에 많은 보강이 필요하지 않을까 싶다... ~손으로 개념을 쓰면 알아서 코딩해주면 안될까...~"
   ]
  },
  {
   "cell_type": "code",
   "execution_count": null,
   "id": "b8a82c30",
   "metadata": {},
   "outputs": [],
   "source": []
  }
 ],
 "metadata": {
  "kernelspec": {
   "display_name": "Python 3 (ipykernel)",
   "language": "python",
   "name": "python3"
  },
  "language_info": {
   "codemirror_mode": {
    "name": "ipython",
    "version": 3
   },
   "file_extension": ".py",
   "mimetype": "text/x-python",
   "name": "python",
   "nbconvert_exporter": "python",
   "pygments_lexer": "ipython3",
   "version": "3.9.7"
  }
 },
 "nbformat": 4,
 "nbformat_minor": 5
}
