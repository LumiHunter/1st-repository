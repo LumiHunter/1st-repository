{
 "cells": [
  {
   "cell_type": "markdown",
   "id": "125a3597",
   "metadata": {},
   "source": [
    "## 추천시스템\n",
    "\n",
    "### 학습 목표\n",
    "- 추천 시스템의 개념과 목적을 이해한다.\n",
    "- Implicit 라이브러리를 활용하여 Matrix Factorization(이하 MF) 기반의 추천 모델을 만들어 본다.\n",
    "- 추천 시스템이 자주 사용되는 데이터 구조인 CSR Matrix을 익힌다.\n",
    "- 유저의 행위 데이터 중 Explicit data와 Implicit data의 차이점을 익힌다.\n",
    "\n",
    "### 루브릭 \n",
    "-  CSR matrix가 정상적으로 만들어졌다. : **사용자와 아이템 개수를 바탕으로 정확한 사이즈로 만들었다.**\n",
    "- MF 모델이 정상적으로 훈련되어 그럴듯한 추천이 이루어졌다. : **사용자와 아이템 벡터 내적수치가 의미있게 형성되었다.**\n",
    "- 비슷한 영화 찾기와 유저에게 추천하기의 과정이 정상적으로 진행되었다. : **MF모델이 예측한 유저 선호도 및 아이템간 유사도, 기여도가 의미있게 측정되었다.**"
   ]
  },
  {
   "cell_type": "markdown",
   "id": "e6d9a484",
   "metadata": {},
   "source": [
    "## 목차\n",
    "### 1. 데이터 준비와 전처리\n",
    "#### 1) 데이터 로드\n",
    "#### 2) 데이터 분석\n",
    "#### 3) 내가 좋아하는 영화 추가 및 indexing\n",
    "### 2. 모델 구성\n",
    "#### 1) CSR matrix\n",
    "#### 2) Alternating Least Squares 모델\n",
    "### 3. 모델 평가\n",
    "#### 1) 좋아하는 영화와 비슷한 영화\n",
    "#### 2) 내가 좋아할 만한 영화\n",
    "---"
   ]
  },
  {
   "cell_type": "markdown",
   "id": "0c7c71cf",
   "metadata": {},
   "source": [
    "## 1. 데이터 준비와 전처리\n",
    "### 1) 데이터 로드"
   ]
  },
  {
   "cell_type": "code",
   "execution_count": 1,
   "id": "699f83cb",
   "metadata": {},
   "outputs": [
    {
     "data": {
      "text/html": [
       "<div>\n",
       "<style scoped>\n",
       "    .dataframe tbody tr th:only-of-type {\n",
       "        vertical-align: middle;\n",
       "    }\n",
       "\n",
       "    .dataframe tbody tr th {\n",
       "        vertical-align: top;\n",
       "    }\n",
       "\n",
       "    .dataframe thead th {\n",
       "        text-align: right;\n",
       "    }\n",
       "</style>\n",
       "<table border=\"1\" class=\"dataframe\">\n",
       "  <thead>\n",
       "    <tr style=\"text-align: right;\">\n",
       "      <th></th>\n",
       "      <th>user_id</th>\n",
       "      <th>movie_id</th>\n",
       "      <th>ratings</th>\n",
       "      <th>timestamp</th>\n",
       "    </tr>\n",
       "  </thead>\n",
       "  <tbody>\n",
       "    <tr>\n",
       "      <th>0</th>\n",
       "      <td>1</td>\n",
       "      <td>1193</td>\n",
       "      <td>5</td>\n",
       "      <td>978300760</td>\n",
       "    </tr>\n",
       "    <tr>\n",
       "      <th>1</th>\n",
       "      <td>1</td>\n",
       "      <td>661</td>\n",
       "      <td>3</td>\n",
       "      <td>978302109</td>\n",
       "    </tr>\n",
       "    <tr>\n",
       "      <th>2</th>\n",
       "      <td>1</td>\n",
       "      <td>914</td>\n",
       "      <td>3</td>\n",
       "      <td>978301968</td>\n",
       "    </tr>\n",
       "    <tr>\n",
       "      <th>3</th>\n",
       "      <td>1</td>\n",
       "      <td>3408</td>\n",
       "      <td>4</td>\n",
       "      <td>978300275</td>\n",
       "    </tr>\n",
       "    <tr>\n",
       "      <th>4</th>\n",
       "      <td>1</td>\n",
       "      <td>2355</td>\n",
       "      <td>5</td>\n",
       "      <td>978824291</td>\n",
       "    </tr>\n",
       "  </tbody>\n",
       "</table>\n",
       "</div>"
      ],
      "text/plain": [
       "   user_id  movie_id  ratings  timestamp\n",
       "0        1      1193        5  978300760\n",
       "1        1       661        3  978302109\n",
       "2        1       914        3  978301968\n",
       "3        1      3408        4  978300275\n",
       "4        1      2355        5  978824291"
      ]
     },
     "execution_count": 1,
     "metadata": {},
     "output_type": "execute_result"
    }
   ],
   "source": [
    "import pandas as pd\n",
    "import os\n",
    "rating_file_path=os.getenv('HOME') + '/aiffel/recommendata_iu/data/ml-1m/ratings.dat'\n",
    "ratings_cols = ['user_id', 'movie_id', 'ratings', 'timestamp']\n",
    "ratings = pd.read_csv(rating_file_path, sep='::', names=ratings_cols, engine='python', encoding = \"ISO-8859-1\")\n",
    "orginal_data_size = len(ratings)\n",
    "ratings.head()"
   ]
  },
  {
   "cell_type": "code",
   "execution_count": 2,
   "id": "75209bf6",
   "metadata": {},
   "outputs": [
    {
     "name": "stdout",
     "output_type": "stream",
     "text": [
      "orginal_data_size: 1000209, filtered_data_size: 836478\n",
      "Ratio of Remaining Data is 83.63%\n"
     ]
    }
   ],
   "source": [
    "# 3점 이상만 남깁니다.\n",
    "ratings = ratings[ratings['ratings']>=3]\n",
    "filtered_data_size = len(ratings)\n",
    "\n",
    "print(f'orginal_data_size: {orginal_data_size}, filtered_data_size: {filtered_data_size}')\n",
    "print(f'Ratio of Remaining Data is {filtered_data_size / orginal_data_size:.2%}')"
   ]
  },
  {
   "cell_type": "code",
   "execution_count": 3,
   "id": "0e44bdda",
   "metadata": {},
   "outputs": [],
   "source": [
    "# ratings 컬럼의 이름을 counts로 바꿉니다.\n",
    "ratings.rename(columns={'ratings':'counts'}, inplace=True)"
   ]
  },
  {
   "cell_type": "markdown",
   "id": "09da48e9",
   "metadata": {},
   "source": [
    "별점(ratings)을 시청횟수(counts)로 바꿈으로써 별점 데이터를 explicit 데이터에서 implicit 데이터로 간주한다.\n",
    "\n",
    "위에서 3점 이상만을 남겨두었기 때문에, 유저가 3번 이상 본 영화는 선호한다고 판단하고, 많이 본 영화에 대해 가중치를 주어 더 확실히 좋아한다고 판단하는 규칙을 적용한다."
   ]
  },
  {
   "cell_type": "code",
   "execution_count": 4,
   "id": "373b795b",
   "metadata": {
    "scrolled": true
   },
   "outputs": [
    {
     "data": {
      "text/html": [
       "<div>\n",
       "<style scoped>\n",
       "    .dataframe tbody tr th:only-of-type {\n",
       "        vertical-align: middle;\n",
       "    }\n",
       "\n",
       "    .dataframe tbody tr th {\n",
       "        vertical-align: top;\n",
       "    }\n",
       "\n",
       "    .dataframe thead th {\n",
       "        text-align: right;\n",
       "    }\n",
       "</style>\n",
       "<table border=\"1\" class=\"dataframe\">\n",
       "  <thead>\n",
       "    <tr style=\"text-align: right;\">\n",
       "      <th></th>\n",
       "      <th>movie_id</th>\n",
       "      <th>title</th>\n",
       "      <th>genre</th>\n",
       "    </tr>\n",
       "  </thead>\n",
       "  <tbody>\n",
       "    <tr>\n",
       "      <th>0</th>\n",
       "      <td>1</td>\n",
       "      <td>Toy Story (1995)</td>\n",
       "      <td>Animation|Children's|Comedy</td>\n",
       "    </tr>\n",
       "    <tr>\n",
       "      <th>1</th>\n",
       "      <td>2</td>\n",
       "      <td>Jumanji (1995)</td>\n",
       "      <td>Adventure|Children's|Fantasy</td>\n",
       "    </tr>\n",
       "    <tr>\n",
       "      <th>2</th>\n",
       "      <td>3</td>\n",
       "      <td>Grumpier Old Men (1995)</td>\n",
       "      <td>Comedy|Romance</td>\n",
       "    </tr>\n",
       "    <tr>\n",
       "      <th>3</th>\n",
       "      <td>4</td>\n",
       "      <td>Waiting to Exhale (1995)</td>\n",
       "      <td>Comedy|Drama</td>\n",
       "    </tr>\n",
       "    <tr>\n",
       "      <th>4</th>\n",
       "      <td>5</td>\n",
       "      <td>Father of the Bride Part II (1995)</td>\n",
       "      <td>Comedy</td>\n",
       "    </tr>\n",
       "  </tbody>\n",
       "</table>\n",
       "</div>"
      ],
      "text/plain": [
       "   movie_id                               title                         genre\n",
       "0         1                    Toy Story (1995)   Animation|Children's|Comedy\n",
       "1         2                      Jumanji (1995)  Adventure|Children's|Fantasy\n",
       "2         3             Grumpier Old Men (1995)                Comedy|Romance\n",
       "3         4            Waiting to Exhale (1995)                  Comedy|Drama\n",
       "4         5  Father of the Bride Part II (1995)                        Comedy"
      ]
     },
     "execution_count": 4,
     "metadata": {},
     "output_type": "execute_result"
    }
   ],
   "source": [
    "# 영화 제목을 보기 위해 메타 데이터를 읽어옵니다.\n",
    "movie_file_path=os.getenv('HOME') + '/aiffel/recommendata_iu/data/ml-1m/movies.dat'\n",
    "cols = ['movie_id', 'title', 'genre'] \n",
    "movies = pd.read_csv(movie_file_path, sep='::', names=cols, engine='python', encoding='ISO-8859-1')\n",
    "movies.head()"
   ]
  },
  {
   "cell_type": "code",
   "execution_count": 5,
   "id": "8a8a6096",
   "metadata": {
    "scrolled": false
   },
   "outputs": [
    {
     "data": {
      "text/html": [
       "<div>\n",
       "<style scoped>\n",
       "    .dataframe tbody tr th:only-of-type {\n",
       "        vertical-align: middle;\n",
       "    }\n",
       "\n",
       "    .dataframe tbody tr th {\n",
       "        vertical-align: top;\n",
       "    }\n",
       "\n",
       "    .dataframe thead th {\n",
       "        text-align: right;\n",
       "    }\n",
       "</style>\n",
       "<table border=\"1\" class=\"dataframe\">\n",
       "  <thead>\n",
       "    <tr style=\"text-align: right;\">\n",
       "      <th></th>\n",
       "      <th>user_id</th>\n",
       "      <th>movie_id</th>\n",
       "      <th>counts</th>\n",
       "      <th>timestamp</th>\n",
       "      <th>title</th>\n",
       "      <th>genre</th>\n",
       "    </tr>\n",
       "  </thead>\n",
       "  <tbody>\n",
       "    <tr>\n",
       "      <th>0</th>\n",
       "      <td>1</td>\n",
       "      <td>1193</td>\n",
       "      <td>5</td>\n",
       "      <td>978300760</td>\n",
       "      <td>One Flew Over the Cuckoo's Nest (1975)</td>\n",
       "      <td>Drama</td>\n",
       "    </tr>\n",
       "    <tr>\n",
       "      <th>1</th>\n",
       "      <td>1</td>\n",
       "      <td>661</td>\n",
       "      <td>3</td>\n",
       "      <td>978302109</td>\n",
       "      <td>James and the Giant Peach (1996)</td>\n",
       "      <td>Animation|Children's|Musical</td>\n",
       "    </tr>\n",
       "    <tr>\n",
       "      <th>2</th>\n",
       "      <td>1</td>\n",
       "      <td>914</td>\n",
       "      <td>3</td>\n",
       "      <td>978301968</td>\n",
       "      <td>My Fair Lady (1964)</td>\n",
       "      <td>Musical|Romance</td>\n",
       "    </tr>\n",
       "    <tr>\n",
       "      <th>3</th>\n",
       "      <td>1</td>\n",
       "      <td>3408</td>\n",
       "      <td>4</td>\n",
       "      <td>978300275</td>\n",
       "      <td>Erin Brockovich (2000)</td>\n",
       "      <td>Drama</td>\n",
       "    </tr>\n",
       "    <tr>\n",
       "      <th>4</th>\n",
       "      <td>1</td>\n",
       "      <td>2355</td>\n",
       "      <td>5</td>\n",
       "      <td>978824291</td>\n",
       "      <td>Bug's Life, A (1998)</td>\n",
       "      <td>Animation|Children's|Comedy</td>\n",
       "    </tr>\n",
       "  </tbody>\n",
       "</table>\n",
       "</div>"
      ],
      "text/plain": [
       "   user_id  movie_id  counts  timestamp  \\\n",
       "0        1      1193       5  978300760   \n",
       "1        1       661       3  978302109   \n",
       "2        1       914       3  978301968   \n",
       "3        1      3408       4  978300275   \n",
       "4        1      2355       5  978824291   \n",
       "\n",
       "                                    title                         genre  \n",
       "0  One Flew Over the Cuckoo's Nest (1975)                         Drama  \n",
       "1        James and the Giant Peach (1996)  Animation|Children's|Musical  \n",
       "2                     My Fair Lady (1964)               Musical|Romance  \n",
       "3                  Erin Brockovich (2000)                         Drama  \n",
       "4                    Bug's Life, A (1998)   Animation|Children's|Comedy  "
      ]
     },
     "execution_count": 5,
     "metadata": {},
     "output_type": "execute_result"
    }
   ],
   "source": [
    "ratings = pd.merge(left = ratings, right = movies, how = 'left', on = 'movie_id')\n",
    "ratings.head()"
   ]
  },
  {
   "cell_type": "markdown",
   "id": "15aa61b5",
   "metadata": {},
   "source": [
    "### 2) 데이터 분석"
   ]
  },
  {
   "cell_type": "code",
   "execution_count": 6,
   "id": "6dfba8a7",
   "metadata": {
    "scrolled": false
   },
   "outputs": [
    {
     "data": {
      "text/plain": [
       "3628"
      ]
     },
     "execution_count": 6,
     "metadata": {},
     "output_type": "execute_result"
    }
   ],
   "source": [
    "# ratings에 있는 유니크한 영화 개수\n",
    "ratings['movie_id'].nunique()"
   ]
  },
  {
   "cell_type": "code",
   "execution_count": 7,
   "id": "8500ab3a",
   "metadata": {},
   "outputs": [
    {
     "data": {
      "text/plain": [
       "6039"
      ]
     },
     "execution_count": 7,
     "metadata": {},
     "output_type": "execute_result"
    }
   ],
   "source": [
    "# ratings에 있는 유니크한 사용자 수\n",
    "ratings['user_id'].nunique()"
   ]
  },
  {
   "cell_type": "code",
   "execution_count": 8,
   "id": "46e1b8bd",
   "metadata": {},
   "outputs": [
    {
     "data": {
      "text/plain": [
       "title\n",
       "American Beauty (1999)                                   14449\n",
       "Star Wars: Episode IV - A New Hope (1977)                13178\n",
       "Star Wars: Episode V - The Empire Strikes Back (1980)    12648\n",
       "Saving Private Ryan (1998)                               11348\n",
       "Star Wars: Episode VI - Return of the Jedi (1983)        11303\n",
       "Raiders of the Lost Ark (1981)                           11179\n",
       "Silence of the Lambs, The (1991)                         11096\n",
       "Matrix, The (1999)                                       10903\n",
       "Sixth Sense, The (1999)                                  10703\n",
       "Terminator 2: Judgment Day (1991)                        10513\n",
       "Fargo (1996)                                             10465\n",
       "Schindler's List (1993)                                  10317\n",
       "Braveheart (1995)                                        10125\n",
       "Shawshank Redemption, The (1994)                         10085\n",
       "Back to the Future (1985)                                10081\n",
       "Godfather, The (1972)                                     9965\n",
       "Princess Bride, The (1987)                                9866\n",
       "Jurassic Park (1993)                                      9601\n",
       "L.A. Confidential (1997)                                  9515\n",
       "Shakespeare in Love (1998)                                9503\n",
       "Men in Black (1997)                                       9057\n",
       "Pulp Fiction (1994)                                       9053\n",
       "Being John Malkovich (1999)                               8964\n",
       "Groundhog Day (1993)                                      8727\n",
       "E.T. the Extra-Terrestrial (1982)                         8696\n",
       "Forrest Gump (1994)                                       8679\n",
       "Terminator, The (1984)                                    8571\n",
       "Toy Story (1995)                                          8475\n",
       "Ghostbusters (1984)                                       8282\n",
       "Alien (1979)                                              8244\n",
       "Name: counts, dtype: int64"
      ]
     },
     "execution_count": 8,
     "metadata": {},
     "output_type": "execute_result"
    }
   ],
   "source": [
    "# 시청 횟수를 모두 세어 가장 많은 것을 인기 있는 영화라고 가정하고 30개 선정\n",
    "movie_count = ratings.groupby('title')['counts'].sum()\n",
    "movie_count.sort_values(ascending=False).head(30)"
   ]
  },
  {
   "cell_type": "code",
   "execution_count": 9,
   "id": "49e8a953",
   "metadata": {},
   "outputs": [
    {
     "data": {
      "text/plain": [
       "count    6039.000000\n",
       "mean      138.512668\n",
       "std       156.241599\n",
       "min         1.000000\n",
       "25%        38.000000\n",
       "50%        81.000000\n",
       "75%       177.000000\n",
       "max      1968.000000\n",
       "Name: movie_id, dtype: float64"
      ]
     },
     "execution_count": 9,
     "metadata": {},
     "output_type": "execute_result"
    }
   ],
   "source": [
    "# 유저별 몇 개의 영화를 봤는지에 대한 통계\n",
    "user_count = ratings.groupby('user_id')['movie_id'].count()\n",
    "user_count.describe()"
   ]
  },
  {
   "cell_type": "markdown",
   "id": "4984f1ed",
   "metadata": {},
   "source": [
    "### 3) 내가 좋아하는 영화 추가 및 indexing"
   ]
  },
  {
   "cell_type": "code",
   "execution_count": 10,
   "id": "6482c438",
   "metadata": {},
   "outputs": [
    {
     "data": {
      "text/html": [
       "<div>\n",
       "<style scoped>\n",
       "    .dataframe tbody tr th:only-of-type {\n",
       "        vertical-align: middle;\n",
       "    }\n",
       "\n",
       "    .dataframe tbody tr th {\n",
       "        vertical-align: top;\n",
       "    }\n",
       "\n",
       "    .dataframe thead th {\n",
       "        text-align: right;\n",
       "    }\n",
       "</style>\n",
       "<table border=\"1\" class=\"dataframe\">\n",
       "  <thead>\n",
       "    <tr style=\"text-align: right;\">\n",
       "      <th></th>\n",
       "      <th>user_id</th>\n",
       "      <th>movie_id</th>\n",
       "      <th>counts</th>\n",
       "      <th>timestamp</th>\n",
       "      <th>title</th>\n",
       "      <th>genre</th>\n",
       "    </tr>\n",
       "  </thead>\n",
       "  <tbody>\n",
       "    <tr>\n",
       "      <th>836473</th>\n",
       "      <td>6040</td>\n",
       "      <td>1090.0</td>\n",
       "      <td>3</td>\n",
       "      <td>956715518.0</td>\n",
       "      <td>Platoon (1986)</td>\n",
       "      <td>Drama|War</td>\n",
       "    </tr>\n",
       "    <tr>\n",
       "      <th>836474</th>\n",
       "      <td>6040</td>\n",
       "      <td>1094.0</td>\n",
       "      <td>5</td>\n",
       "      <td>956704887.0</td>\n",
       "      <td>Crying Game, The (1992)</td>\n",
       "      <td>Drama|Romance|War</td>\n",
       "    </tr>\n",
       "    <tr>\n",
       "      <th>836475</th>\n",
       "      <td>6040</td>\n",
       "      <td>562.0</td>\n",
       "      <td>5</td>\n",
       "      <td>956704746.0</td>\n",
       "      <td>Welcome to the Dollhouse (1995)</td>\n",
       "      <td>Comedy|Drama</td>\n",
       "    </tr>\n",
       "    <tr>\n",
       "      <th>836476</th>\n",
       "      <td>6040</td>\n",
       "      <td>1096.0</td>\n",
       "      <td>4</td>\n",
       "      <td>956715648.0</td>\n",
       "      <td>Sophie's Choice (1982)</td>\n",
       "      <td>Drama</td>\n",
       "    </tr>\n",
       "    <tr>\n",
       "      <th>836477</th>\n",
       "      <td>6040</td>\n",
       "      <td>1097.0</td>\n",
       "      <td>4</td>\n",
       "      <td>956715569.0</td>\n",
       "      <td>E.T. the Extra-Terrestrial (1982)</td>\n",
       "      <td>Children's|Drama|Fantasy|Sci-Fi</td>\n",
       "    </tr>\n",
       "    <tr>\n",
       "      <th>0</th>\n",
       "      <td>jieun</td>\n",
       "      <td>NaN</td>\n",
       "      <td>5</td>\n",
       "      <td>NaN</td>\n",
       "      <td>Sound of Music, The (1965)</td>\n",
       "      <td>NaN</td>\n",
       "    </tr>\n",
       "    <tr>\n",
       "      <th>1</th>\n",
       "      <td>jieun</td>\n",
       "      <td>NaN</td>\n",
       "      <td>5</td>\n",
       "      <td>NaN</td>\n",
       "      <td>Titanic (1997)</td>\n",
       "      <td>NaN</td>\n",
       "    </tr>\n",
       "    <tr>\n",
       "      <th>2</th>\n",
       "      <td>jieun</td>\n",
       "      <td>NaN</td>\n",
       "      <td>5</td>\n",
       "      <td>NaN</td>\n",
       "      <td>Matrix, The (1999)</td>\n",
       "      <td>NaN</td>\n",
       "    </tr>\n",
       "    <tr>\n",
       "      <th>3</th>\n",
       "      <td>jieun</td>\n",
       "      <td>NaN</td>\n",
       "      <td>5</td>\n",
       "      <td>NaN</td>\n",
       "      <td>Shakespeare in Love (1998)</td>\n",
       "      <td>NaN</td>\n",
       "    </tr>\n",
       "    <tr>\n",
       "      <th>4</th>\n",
       "      <td>jieun</td>\n",
       "      <td>NaN</td>\n",
       "      <td>5</td>\n",
       "      <td>NaN</td>\n",
       "      <td>Phantom of the Opera, The (1943)</td>\n",
       "      <td>NaN</td>\n",
       "    </tr>\n",
       "  </tbody>\n",
       "</table>\n",
       "</div>"
      ],
      "text/plain": [
       "       user_id  movie_id  counts    timestamp  \\\n",
       "836473    6040    1090.0       3  956715518.0   \n",
       "836474    6040    1094.0       5  956704887.0   \n",
       "836475    6040     562.0       5  956704746.0   \n",
       "836476    6040    1096.0       4  956715648.0   \n",
       "836477    6040    1097.0       4  956715569.0   \n",
       "0        jieun       NaN       5          NaN   \n",
       "1        jieun       NaN       5          NaN   \n",
       "2        jieun       NaN       5          NaN   \n",
       "3        jieun       NaN       5          NaN   \n",
       "4        jieun       NaN       5          NaN   \n",
       "\n",
       "                                    title                            genre  \n",
       "836473                     Platoon (1986)                        Drama|War  \n",
       "836474            Crying Game, The (1992)                Drama|Romance|War  \n",
       "836475    Welcome to the Dollhouse (1995)                     Comedy|Drama  \n",
       "836476             Sophie's Choice (1982)                            Drama  \n",
       "836477  E.T. the Extra-Terrestrial (1982)  Children's|Drama|Fantasy|Sci-Fi  \n",
       "0              Sound of Music, The (1965)                              NaN  \n",
       "1                          Titanic (1997)                              NaN  \n",
       "2                      Matrix, The (1999)                              NaN  \n",
       "3              Shakespeare in Love (1998)                              NaN  \n",
       "4        Phantom of the Opera, The (1943)                              NaN  "
      ]
     },
     "execution_count": 10,
     "metadata": {},
     "output_type": "execute_result"
    }
   ],
   "source": [
    "my_favorite = ['Sound of Music, The (1965)', \n",
    "               'Titanic (1997)', \n",
    "               'Matrix, The (1999)', \n",
    "               'Shakespeare in Love (1998)', \n",
    "               'Phantom of the Opera, The (1943)']\n",
    "\n",
    "my_playlist = pd.DataFrame({'user_id': ['jieun']*5, 'counts': [5]*5, 'title': my_favorite})\n",
    "\n",
    "if not ratings.isin({'user_id':['jieun']})['user_id'].any():  \n",
    "    ratings = ratings.append(my_playlist)                       \n",
    "\n",
    "ratings.tail(10)"
   ]
  },
  {
   "cell_type": "markdown",
   "id": "f90f70eb",
   "metadata": {},
   "source": [
    "영화들 중 좋아하는 영화 다섯개를 추가한다. 'Sound of Music, The (1965)', 'Titanic (1997)', 'Matrix, The (1999)', 'Shakespeare in Love (1998)', 'Phantom of the Opera, The (1943)'"
   ]
  },
  {
   "cell_type": "code",
   "execution_count": 11,
   "id": "0997161d",
   "metadata": {},
   "outputs": [],
   "source": [
    "user = ratings['user_id'].unique()\n",
    "movie = ratings['title'].unique()\n",
    "\n",
    "user_to_idx = {v:k for k,v in enumerate(user)}\n",
    "movie_to_idx = {v:k for k,v in enumerate(movie)}"
   ]
  },
  {
   "cell_type": "code",
   "execution_count": 12,
   "id": "bd5bc23d",
   "metadata": {
    "scrolled": true
   },
   "outputs": [
    {
     "data": {
      "text/html": [
       "<div>\n",
       "<style scoped>\n",
       "    .dataframe tbody tr th:only-of-type {\n",
       "        vertical-align: middle;\n",
       "    }\n",
       "\n",
       "    .dataframe tbody tr th {\n",
       "        vertical-align: top;\n",
       "    }\n",
       "\n",
       "    .dataframe thead th {\n",
       "        text-align: right;\n",
       "    }\n",
       "</style>\n",
       "<table border=\"1\" class=\"dataframe\">\n",
       "  <thead>\n",
       "    <tr style=\"text-align: right;\">\n",
       "      <th></th>\n",
       "      <th>user_id</th>\n",
       "      <th>movie_id</th>\n",
       "      <th>counts</th>\n",
       "      <th>timestamp</th>\n",
       "      <th>title</th>\n",
       "      <th>genre</th>\n",
       "    </tr>\n",
       "  </thead>\n",
       "  <tbody>\n",
       "    <tr>\n",
       "      <th>0</th>\n",
       "      <td>0</td>\n",
       "      <td>0</td>\n",
       "      <td>5</td>\n",
       "      <td>978300760.0</td>\n",
       "      <td>One Flew Over the Cuckoo's Nest (1975)</td>\n",
       "      <td>Drama</td>\n",
       "    </tr>\n",
       "    <tr>\n",
       "      <th>1</th>\n",
       "      <td>0</td>\n",
       "      <td>1</td>\n",
       "      <td>3</td>\n",
       "      <td>978302109.0</td>\n",
       "      <td>James and the Giant Peach (1996)</td>\n",
       "      <td>Animation|Children's|Musical</td>\n",
       "    </tr>\n",
       "    <tr>\n",
       "      <th>2</th>\n",
       "      <td>0</td>\n",
       "      <td>2</td>\n",
       "      <td>3</td>\n",
       "      <td>978301968.0</td>\n",
       "      <td>My Fair Lady (1964)</td>\n",
       "      <td>Musical|Romance</td>\n",
       "    </tr>\n",
       "    <tr>\n",
       "      <th>3</th>\n",
       "      <td>0</td>\n",
       "      <td>3</td>\n",
       "      <td>4</td>\n",
       "      <td>978300275.0</td>\n",
       "      <td>Erin Brockovich (2000)</td>\n",
       "      <td>Drama</td>\n",
       "    </tr>\n",
       "    <tr>\n",
       "      <th>4</th>\n",
       "      <td>0</td>\n",
       "      <td>4</td>\n",
       "      <td>5</td>\n",
       "      <td>978824291.0</td>\n",
       "      <td>Bug's Life, A (1998)</td>\n",
       "      <td>Animation|Children's|Comedy</td>\n",
       "    </tr>\n",
       "    <tr>\n",
       "      <th>...</th>\n",
       "      <td>...</td>\n",
       "      <td>...</td>\n",
       "      <td>...</td>\n",
       "      <td>...</td>\n",
       "      <td>...</td>\n",
       "      <td>...</td>\n",
       "    </tr>\n",
       "    <tr>\n",
       "      <th>0</th>\n",
       "      <td>6039</td>\n",
       "      <td>14</td>\n",
       "      <td>5</td>\n",
       "      <td>NaN</td>\n",
       "      <td>Sound of Music, The (1965)</td>\n",
       "      <td>NaN</td>\n",
       "    </tr>\n",
       "    <tr>\n",
       "      <th>1</th>\n",
       "      <td>6039</td>\n",
       "      <td>27</td>\n",
       "      <td>5</td>\n",
       "      <td>NaN</td>\n",
       "      <td>Titanic (1997)</td>\n",
       "      <td>NaN</td>\n",
       "    </tr>\n",
       "    <tr>\n",
       "      <th>2</th>\n",
       "      <td>6039</td>\n",
       "      <td>124</td>\n",
       "      <td>5</td>\n",
       "      <td>NaN</td>\n",
       "      <td>Matrix, The (1999)</td>\n",
       "      <td>NaN</td>\n",
       "    </tr>\n",
       "    <tr>\n",
       "      <th>3</th>\n",
       "      <td>6039</td>\n",
       "      <td>126</td>\n",
       "      <td>5</td>\n",
       "      <td>NaN</td>\n",
       "      <td>Shakespeare in Love (1998)</td>\n",
       "      <td>NaN</td>\n",
       "    </tr>\n",
       "    <tr>\n",
       "      <th>4</th>\n",
       "      <td>6039</td>\n",
       "      <td>2106</td>\n",
       "      <td>5</td>\n",
       "      <td>NaN</td>\n",
       "      <td>Phantom of the Opera, The (1943)</td>\n",
       "      <td>NaN</td>\n",
       "    </tr>\n",
       "  </tbody>\n",
       "</table>\n",
       "<p>836483 rows × 6 columns</p>\n",
       "</div>"
      ],
      "text/plain": [
       "    user_id  movie_id  counts    timestamp  \\\n",
       "0         0         0       5  978300760.0   \n",
       "1         0         1       3  978302109.0   \n",
       "2         0         2       3  978301968.0   \n",
       "3         0         3       4  978300275.0   \n",
       "4         0         4       5  978824291.0   \n",
       "..      ...       ...     ...          ...   \n",
       "0      6039        14       5          NaN   \n",
       "1      6039        27       5          NaN   \n",
       "2      6039       124       5          NaN   \n",
       "3      6039       126       5          NaN   \n",
       "4      6039      2106       5          NaN   \n",
       "\n",
       "                                     title                         genre  \n",
       "0   One Flew Over the Cuckoo's Nest (1975)                         Drama  \n",
       "1         James and the Giant Peach (1996)  Animation|Children's|Musical  \n",
       "2                      My Fair Lady (1964)               Musical|Romance  \n",
       "3                   Erin Brockovich (2000)                         Drama  \n",
       "4                     Bug's Life, A (1998)   Animation|Children's|Comedy  \n",
       "..                                     ...                           ...  \n",
       "0               Sound of Music, The (1965)                           NaN  \n",
       "1                           Titanic (1997)                           NaN  \n",
       "2                       Matrix, The (1999)                           NaN  \n",
       "3               Shakespeare in Love (1998)                           NaN  \n",
       "4         Phantom of the Opera, The (1943)                           NaN  \n",
       "\n",
       "[836483 rows x 6 columns]"
      ]
     },
     "execution_count": 12,
     "metadata": {},
     "output_type": "execute_result"
    }
   ],
   "source": [
    "temp_user_data = ratings['user_id'].map(user_to_idx.get).dropna()\n",
    "ratings['user_id'] = temp_user_data\n",
    "\n",
    "\n",
    "temp_movie_data = ratings['title'].map(movie_to_idx.get).dropna()\n",
    "ratings['movie_id'] = temp_movie_data\n",
    "\n",
    "ratings"
   ]
  },
  {
   "cell_type": "markdown",
   "id": "84efe39f",
   "metadata": {},
   "source": [
    "## 2. 모델 구성\n",
    "### 1) CSR matrix"
   ]
  },
  {
   "cell_type": "code",
   "execution_count": 13,
   "id": "abfec309",
   "metadata": {},
   "outputs": [
    {
     "data": {
      "text/plain": [
       "<6040x3628 sparse matrix of type '<class 'numpy.int64'>'\n",
       "\twith 836483 stored elements in Compressed Sparse Row format>"
      ]
     },
     "execution_count": 13,
     "metadata": {},
     "output_type": "execute_result"
    }
   ],
   "source": [
    "from scipy.sparse import csr_matrix\n",
    "\n",
    "num_user = ratings['user_id'].nunique()\n",
    "num_artist = ratings['movie_id'].nunique()\n",
    "\n",
    "csr_data = csr_matrix((ratings.counts, (ratings.user_id, ratings.movie_id)), shape= (num_user, num_artist))\n",
    "csr_data"
   ]
  },
  {
   "cell_type": "markdown",
   "id": "1620c070",
   "metadata": {},
   "source": [
    "user의 수 × 영화의 수 CSR matrix는 한 유저가 하나의 행을 의미하고, 그 유저가 각 영화를 본 횟수(counts)를 각 영화의 열에 표기한 형태로 구성되어 있다. 유저들은 평균 약 138개, 최대 1968개의 영화를 보았으므로, 해당 행렬은 대부분이 비어있는 sparse 행렬이다."
   ]
  },
  {
   "cell_type": "markdown",
   "id": "9e44efe7",
   "metadata": {},
   "source": [
    "### 2) Alternating Least Squares 모델"
   ]
  },
  {
   "cell_type": "code",
   "execution_count": 14,
   "id": "6d53fb69",
   "metadata": {},
   "outputs": [],
   "source": [
    "from implicit.als import AlternatingLeastSquares\n",
    "import os\n",
    "import numpy as np\n",
    "\n",
    "os.environ['OPENBLAS_NUM_THREADS']='1'\n",
    "os.environ['KMP_DUPLICATE_LIB_OK']='True'\n",
    "os.environ['MKL_NUM_THREADS']='1'"
   ]
  },
  {
   "cell_type": "code",
   "execution_count": 15,
   "id": "3e028b11",
   "metadata": {},
   "outputs": [],
   "source": [
    "als_model = AlternatingLeastSquares(factors=200, regularization=0.01, use_gpu=False, iterations=20, dtype=np.float32)"
   ]
  },
  {
   "cell_type": "markdown",
   "id": "08f02e5b",
   "metadata": {},
   "source": [
    "AlternatingLeastSquares 클래스의 __init__ 파라미터\n",
    "\n",
    "- factors : 유저와 아이템 벡터의 차원 수\n",
    "- regularization : 과적합을 방지하기 위한 정규화 값\n",
    "- use_gpu : GPU를 사용할 것인지 여부\n",
    "- iterations : epochs"
   ]
  },
  {
   "cell_type": "code",
   "execution_count": 16,
   "id": "210013aa",
   "metadata": {},
   "outputs": [
    {
     "data": {
      "text/plain": [
       "<3628x6040 sparse matrix of type '<class 'numpy.int64'>'\n",
       "\twith 836483 stored elements in Compressed Sparse Column format>"
      ]
     },
     "execution_count": 16,
     "metadata": {},
     "output_type": "execute_result"
    }
   ],
   "source": [
    "csr_data_transpose = csr_data.T\n",
    "csr_data_transpose"
   ]
  },
  {
   "cell_type": "code",
   "execution_count": 17,
   "id": "e62fc4a5",
   "metadata": {},
   "outputs": [
    {
     "data": {
      "application/vnd.jupyter.widget-view+json": {
       "model_id": "a65ec6f7ef48487ca9f2d255c2c0585b",
       "version_major": 2,
       "version_minor": 0
      },
      "text/plain": [
       "  0%|          | 0/20 [00:00<?, ?it/s]"
      ]
     },
     "metadata": {},
     "output_type": "display_data"
    }
   ],
   "source": [
    "als_model.fit(csr_data_transpose)"
   ]
  },
  {
   "cell_type": "code",
   "execution_count": 18,
   "id": "d63b1950",
   "metadata": {},
   "outputs": [],
   "source": [
    "jieun = user_to_idx['jieun']\n",
    "sound_of_music = movie_to_idx['Sound of Music, The (1965)']\n",
    "\n",
    "jieun_vector = als_model.user_factors[jieun]\n",
    "sound_of_music_vector = als_model.item_factors[sound_of_music]"
   ]
  },
  {
   "cell_type": "code",
   "execution_count": 19,
   "id": "c735e7e4",
   "metadata": {},
   "outputs": [
    {
     "data": {
      "text/plain": [
       "array([ 0.14499576, -0.91826206, -0.28097576, -0.45957837,  0.00255883,\n",
       "       -0.07329886,  0.33347854, -0.22390737, -0.25311518,  0.05010381,\n",
       "        0.4175642 , -0.09067797, -0.29967704,  0.47943562,  0.26494226,\n",
       "       -0.54674983,  0.55077374, -0.0635194 , -0.11177675,  0.79039305,\n",
       "       -0.35232818,  0.2529134 ,  0.19460484, -0.54410505,  0.05086036,\n",
       "       -0.17281856, -0.348921  ,  0.6846784 ,  0.01078254,  0.3406949 ,\n",
       "        0.0516992 , -0.01220614,  0.18568923, -0.1704834 ,  0.06660678,\n",
       "        0.17654203,  0.25958395, -0.03840999,  0.06418176, -0.7673723 ,\n",
       "       -0.16608965,  0.7060228 , -0.00903401,  0.04564879, -0.26020712,\n",
       "        0.07478253,  0.17894416,  0.22261673,  0.48151392,  0.49177784,\n",
       "        0.35997203,  0.41383052, -0.05324512,  0.07695308,  0.46573502,\n",
       "       -0.04270403, -0.822548  ,  0.2201753 , -0.06530973, -0.20103864,\n",
       "       -0.10684951,  0.16288018,  0.15812074,  0.298798  ,  0.92053866,\n",
       "       -0.82691854, -0.26641688, -0.1263432 , -0.07320342, -0.1407159 ,\n",
       "       -0.05861294,  0.88357353, -0.1784755 , -0.1743817 , -0.24846639,\n",
       "       -0.39874482,  0.1814623 , -0.2799131 , -0.6267867 , -0.11310448,\n",
       "        0.9129397 ,  0.01009473, -0.27637646,  0.20793174, -0.07468647,\n",
       "        0.6773943 , -0.70763505, -0.39191344,  0.31916243, -0.36856732,\n",
       "       -0.26047903,  0.20043103,  0.6603144 , -0.27536324,  0.34114352,\n",
       "        0.17962813, -0.26455557, -0.28589436,  0.93646795,  0.3541129 ,\n",
       "       -0.084084  ,  0.11980975,  0.37901565, -0.4880126 ,  0.1358271 ,\n",
       "       -0.04698599, -0.3933584 , -0.4101682 , -0.33428043,  0.11584947,\n",
       "       -0.15737398, -0.5441251 ,  0.11709999, -0.5782086 , -0.46689817,\n",
       "        0.17334458,  0.4783814 , -0.07600741, -0.07000936,  0.25444162,\n",
       "        0.76375705,  0.03931573, -0.46791047, -0.37589484, -0.58686906,\n",
       "       -0.31382954,  0.62805825,  0.3999004 , -0.11774378, -0.06384225,\n",
       "        0.21760939, -0.32680354,  0.5061627 ,  0.06174847, -0.37210795,\n",
       "        0.33336475, -0.23466468,  0.34432292,  0.27662906, -0.22264   ,\n",
       "        0.564256  , -0.07792725,  0.31209877,  0.46706715,  0.21994987,\n",
       "       -0.09753995,  0.3863848 ,  0.13358834,  0.01887048,  0.42393005,\n",
       "        0.25050223,  0.47538707,  0.3844183 , -0.43026012,  0.62821805,\n",
       "       -0.10857975, -0.12157916, -0.24118657, -1.3387007 ,  0.41061944,\n",
       "       -0.4219905 ,  0.13865031, -0.43852782, -0.19242926, -0.31259096,\n",
       "        0.12485489,  0.44117963,  0.44669297,  0.44146383, -0.14171839,\n",
       "        0.5102881 , -0.3735063 , -0.20159861, -0.95908904, -1.0133265 ,\n",
       "        0.14558852,  0.42479253,  0.00394076, -0.28046706, -0.09541382,\n",
       "        0.02545596,  0.00448472, -0.24321188, -0.9413939 , -0.22727907,\n",
       "        0.49915004, -0.7091034 ,  0.7250012 , -0.01170538, -0.00990709,\n",
       "       -0.36543304, -0.5198953 ,  0.77741766, -0.24926859, -0.3176689 ,\n",
       "        0.13359746,  0.64909357,  0.33419764,  0.15497194, -0.4549047 ],\n",
       "      dtype=float32)"
      ]
     },
     "execution_count": 19,
     "metadata": {},
     "output_type": "execute_result"
    }
   ],
   "source": [
    "jieun_vector"
   ]
  },
  {
   "cell_type": "code",
   "execution_count": 20,
   "id": "c4116cc5",
   "metadata": {},
   "outputs": [
    {
     "data": {
      "text/plain": [
       "array([ 0.0297441 , -0.00162377,  0.02549857,  0.00256294,  0.00904942,\n",
       "        0.00876096,  0.00426919,  0.00542114,  0.00283762,  0.00097158,\n",
       "       -0.00641226, -0.00473189,  0.01617435,  0.02361163,  0.01559885,\n",
       "        0.00552973,  0.02888905,  0.00588196, -0.01078974,  0.00871321,\n",
       "        0.00581265,  0.00876994,  0.01674856, -0.03089322, -0.00727907,\n",
       "        0.0159946 ,  0.01801036,  0.0140858 ,  0.0332532 ,  0.01241449,\n",
       "       -0.01772506,  0.02806432,  0.00071675,  0.02166759,  0.00817804,\n",
       "        0.01704357, -0.0041297 ,  0.00778558, -0.01276015, -0.00875155,\n",
       "       -0.00717255, -0.00245281, -0.02323906, -0.01024333,  0.00746371,\n",
       "       -0.00982755,  0.02284358,  0.01831575,  0.01719859,  0.01231764,\n",
       "        0.01145321,  0.02629594, -0.0025436 ,  0.02630954,  0.02777888,\n",
       "        0.00396786,  0.00390015,  0.00393338, -0.00866775,  0.00070122,\n",
       "        0.02654677,  0.04152778,  0.0029701 ,  0.01862693,  0.00516296,\n",
       "       -0.00497352, -0.03033042, -0.0068901 ,  0.00208642,  0.01282952,\n",
       "        0.00079821,  0.02170294, -0.00474081, -0.00309305, -0.00325616,\n",
       "       -0.01235098,  0.02701329,  0.0057289 ,  0.00123439,  0.00198047,\n",
       "        0.03722815,  0.02098535, -0.00212115,  0.00398101,  0.01737086,\n",
       "        0.02146221,  0.00184137, -0.00246022,  0.02116485,  0.00262003,\n",
       "       -0.01439433,  0.00309026, -0.01309231, -0.01268853,  0.00632145,\n",
       "        0.02181063,  0.01694579, -0.00676888,  0.01232613,  0.0159325 ,\n",
       "        0.00116437,  0.01722147,  0.00804724,  0.00573249,  0.00116574,\n",
       "        0.00306251, -0.01380513,  0.01077209,  0.00682506, -0.001351  ,\n",
       "       -0.00250027,  0.00268658,  0.01036438, -0.03119549,  0.00840281,\n",
       "        0.02945447,  0.02164556,  0.00800583,  0.01102185,  0.01388791,\n",
       "        0.00381197, -0.00015822, -0.00313675, -0.01564447, -0.01242773,\n",
       "       -0.0037112 ,  0.00719791,  0.02569426, -0.01721987, -0.01309811,\n",
       "        0.00270681,  0.00460129,  0.01484021, -0.01407671, -0.00044227,\n",
       "        0.0217476 ,  0.00073937,  0.02184544,  0.00210248,  0.00396053,\n",
       "        0.01805985,  0.01790782,  0.00956374, -0.02136976,  0.01592399,\n",
       "        0.01848982, -0.01427877, -0.01237618,  0.00455609,  0.00652366,\n",
       "       -0.00060138,  0.01705683, -0.00420802, -0.01364273,  0.02593506,\n",
       "        0.01382312,  0.01115325,  0.00611202, -0.02199833,  0.02121685,\n",
       "       -0.00496506,  0.00415083, -0.01959948,  0.00406512,  0.02393065,\n",
       "        0.02130083,  0.0136061 ,  0.01918177,  0.01059007, -0.01087004,\n",
       "        0.00191781, -0.00841881,  0.02566436, -0.03669456, -0.01798821,\n",
       "        0.01463025,  0.00190561, -0.00829358,  0.0167612 ,  0.01139847,\n",
       "        0.03787183,  0.02869557, -0.00208214, -0.02803633, -0.01246119,\n",
       "        0.02552021, -0.01333489,  0.00836244,  0.01242405,  0.00930478,\n",
       "       -0.00927116, -0.02331167,  0.02517634, -0.0151493 ,  0.0087693 ,\n",
       "        0.0268235 ,  0.00937069,  0.00401595,  0.01503585,  0.0024366 ],\n",
       "      dtype=float32)"
      ]
     },
     "execution_count": 20,
     "metadata": {},
     "output_type": "execute_result"
    }
   ],
   "source": [
    "sound_of_music_vector"
   ]
  },
  {
   "cell_type": "code",
   "execution_count": 21,
   "id": "7406017f",
   "metadata": {},
   "outputs": [
    {
     "data": {
      "text/plain": [
       "0.56314456"
      ]
     },
     "execution_count": 21,
     "metadata": {},
     "output_type": "execute_result"
    }
   ],
   "source": [
    "np.dot(jieun_vector, sound_of_music_vector)"
   ]
  },
  {
   "cell_type": "markdown",
   "id": "c2343691",
   "metadata": {},
   "source": [
    "'jieun' 벡터와 'sound of music' 벡터를 내적한 결과 약 0.56 수준의 값이 도출되었다."
   ]
  },
  {
   "cell_type": "markdown",
   "id": "a8696148",
   "metadata": {},
   "source": [
    "## 3. 모델 평가\n",
    "### 1) 좋아하는 영화와 비슷한 영화"
   ]
  },
  {
   "cell_type": "code",
   "execution_count": 23,
   "id": "4da84017",
   "metadata": {},
   "outputs": [],
   "source": [
    "idx_to_movie = {v:k for k,v in movie_to_idx.items()}"
   ]
  },
  {
   "cell_type": "code",
   "execution_count": 24,
   "id": "8fbb267b",
   "metadata": {},
   "outputs": [],
   "source": [
    "def get_similar_movie(movie_code):\n",
    "    movie_id = movie_to_idx[movie_code]\n",
    "    similar_movie = als_model.similar_items(movie_id)\n",
    "    similar_movie = [idx_to_movie[i[0]] for i in similar_movie]\n",
    "    return similar_movie"
   ]
  },
  {
   "cell_type": "code",
   "execution_count": 25,
   "id": "28008f0b",
   "metadata": {
    "scrolled": true
   },
   "outputs": [
    {
     "data": {
      "text/plain": [
       "['Sound of Music, The (1965)',\n",
       " 'Oliver! (1968)',\n",
       " 'My Fair Lady (1964)',\n",
       " 'King and I, The (1956)',\n",
       " 'West Side Story (1961)',\n",
       " 'Gigi (1958)',\n",
       " 'Mary Poppins (1964)',\n",
       " 'White Christmas (1954)',\n",
       " 'James and the Giant Peach (1996)',\n",
       " 'Phantom of the Opera, The (1943)']"
      ]
     },
     "execution_count": 25,
     "metadata": {},
     "output_type": "execute_result"
    }
   ],
   "source": [
    "get_similar_movie('Sound of Music, The (1965)')"
   ]
  },
  {
   "cell_type": "markdown",
   "id": "75372b56",
   "metadata": {},
   "source": [
    "모델은 sound of music과 비슷한 영화로 My fair lady, West Side Story 등 뮤지컬 영화를 꼽고 있다. "
   ]
  },
  {
   "cell_type": "markdown",
   "id": "595013a6",
   "metadata": {},
   "source": [
    "### 2) 내가 좋아할 만한 영화"
   ]
  },
  {
   "cell_type": "code",
   "execution_count": 26,
   "id": "d38f0ce2",
   "metadata": {},
   "outputs": [
    {
     "data": {
      "text/plain": [
       "['Terminator 2: Judgment Day (1991)',\n",
       " 'Fantastic Voyage (1966)',\n",
       " 'Men in Black (1997)',\n",
       " 'Sixth Sense, The (1999)',\n",
       " 'Gone with the Wind (1939)',\n",
       " 'Saving Private Ryan (1998)',\n",
       " 'American Beauty (1999)',\n",
       " 'My Fair Lady (1964)',\n",
       " 'Full Monty, The (1997)',\n",
       " 'Voyage to the Bottom of the Sea (1961)',\n",
       " 'Edward Scissorhands (1990)',\n",
       " 'Creature From the Black Lagoon, The (1954)',\n",
       " 'Abbott and Costello Meet Frankenstein (1948)',\n",
       " '2001: A Space Odyssey (1968)',\n",
       " 'Dark City (1998)',\n",
       " 'West Side Story (1961)',\n",
       " 'King and I, The (1956)',\n",
       " 'Thomas Crown Affair, The (1999)',\n",
       " 'Speed (1994)',\n",
       " 'Oliver! (1968)']"
      ]
     },
     "execution_count": 26,
     "metadata": {},
     "output_type": "execute_result"
    }
   ],
   "source": [
    "user = user_to_idx['jieun']\n",
    "\n",
    "movie_recommended = als_model.recommend(user, csr_data, N=20, filter_already_liked_items=True)\n",
    "[idx_to_movie[i[0]] for i in movie_recommended]"
   ]
  },
  {
   "cell_type": "markdown",
   "id": "242bb3e3",
   "metadata": {},
   "source": [
    "모델은 'jieun'에게 'sound of music'과 비슷하다고 판단한 'King and I', 'Oliver!', 'My Fair Lady' 등과 함께 'Terminator 2', 'Saving Private Ryan' 등을 함께 추천했다."
   ]
  },
  {
   "cell_type": "code",
   "execution_count": 28,
   "id": "fea5d2e4",
   "metadata": {},
   "outputs": [
    {
     "data": {
      "text/plain": [
       "[('Matrix, The (1999)', 0.3209163737761338),\n",
       " ('Sound of Music, The (1965)', 0.04856718293598784),\n",
       " ('Titanic (1997)', 0.028594689401168376),\n",
       " ('Phantom of the Opera, The (1943)', 0.01982498146680561),\n",
       " ('Shakespeare in Love (1998)', 0.0013648508406580715)]"
      ]
     },
     "execution_count": 28,
     "metadata": {},
     "output_type": "execute_result"
    }
   ],
   "source": [
    "Terminator = movie_to_idx['Terminator 2: Judgment Day (1991)']\n",
    "explain = als_model.explain(user, csr_data, itemid=Terminator)\n",
    "[(idx_to_movie[i[0]], i[1]) for i in explain[1]]"
   ]
  },
  {
   "cell_type": "markdown",
   "id": "fbe710cd",
   "metadata": {},
   "source": [
    "'Terminator 2'의 추천에 기여한 정도를 보면 'Matrix'의 기여가 다른 항목에 비해 지나치게 높다는 인상이 든다."
   ]
  },
  {
   "cell_type": "code",
   "execution_count": 30,
   "id": "8d444d96",
   "metadata": {
    "scrolled": true
   },
   "outputs": [
    {
     "data": {
      "text/plain": [
       "0.4240936"
      ]
     },
     "execution_count": 30,
     "metadata": {},
     "output_type": "execute_result"
    }
   ],
   "source": [
    "ter_vector = als_model.item_factors[Terminator]\n",
    "np.dot(jieun_vector, ter_vector)"
   ]
  },
  {
   "cell_type": "markdown",
   "id": "b49960fe",
   "metadata": {},
   "source": [
    "'jieun' 벡터와 'Terminator 2' 벡터를 내적한 결과는 약 0.42 수준으로 역시 높은 편이다."
   ]
  },
  {
   "cell_type": "code",
   "execution_count": 31,
   "id": "e3f01832",
   "metadata": {},
   "outputs": [
    {
     "data": {
      "text/plain": [
       "['Matrix, The (1999)',\n",
       " 'Terminator 2: Judgment Day (1991)',\n",
       " 'Total Recall (1990)',\n",
       " 'Terminator, The (1984)',\n",
       " 'Fifth Element, The (1997)',\n",
       " 'Fugitive, The (1993)',\n",
       " 'Face/Off (1997)',\n",
       " 'Female Perversions (1996)',\n",
       " 'Twelve Monkeys (1995)',\n",
       " 'Mrs. Dalloway (1997)']"
      ]
     },
     "execution_count": 31,
     "metadata": {},
     "output_type": "execute_result"
    }
   ],
   "source": [
    "get_similar_movie('Matrix, The (1999)')"
   ]
  },
  {
   "cell_type": "markdown",
   "id": "c7958cd3",
   "metadata": {},
   "source": [
    "'Matrix'와 유사한 영화로 'Terminator 2'가 꼽히는 것은 맞지만, 모델이 'Matrix'와 유사한 영화에 치우쳐서 추천하지는 않은 것을 확인할 수 있다."
   ]
  },
  {
   "cell_type": "markdown",
   "id": "7ad977f5",
   "metadata": {},
   "source": [
    "## 회고\n",
    "\n",
    "- 너무 옛날 영화들이라... 거의 본 영화가 드물어서 좋아하는 영화를 찾기 곤란하다고 느낌과 동시에, 이와 같이 유저가 낯선 상품(아이템)들 속에서 자신의 취향을 별점 등으로 명확하게 표현하지 못할 경우가 있으므로 별점('ratings')과 같은 명시적 평가를 '재생횟수'라는 암묵적 평가로 바꾸는 것이 효과가 있을 것이라는 생각이 들었다.\n",
    "- 'terminator 2'를 추천할 때 'Matrix' 한편의 기여도가 지나치게 높다고 생각했지만, 좋아하는 영화 5편 모두의 기여도가 유사하게끔 한다면 오히려 아무런 작품도 추천하지 못할 것이다. ('Sound of music'과 'Matrix' 둘 다와 닮은 영화가...흔치는 않을테니..) 이런 면에서 다소 '한 사람이 가진 모든 취향에 맞출 수는 없다'는 점을 감안하고 설계되는 것이 추천시스템이 아닐까 싶다.\n",
    "- 사람이 남긴 흔적 데이터를 가지고 사람이나 사회 현상이 어떤 양상을 띄는지 해석하고 예측하는 것은 데이터를 이용해 가장 하고 싶은 일이니만큼 추천시스템은 기회가 된다면 좀 더 깊이있게 공부해보고 싶다."
   ]
  },
  {
   "cell_type": "code",
   "execution_count": null,
   "id": "da488530",
   "metadata": {},
   "outputs": [],
   "source": []
  }
 ],
 "metadata": {
  "kernelspec": {
   "display_name": "Python 3 (ipykernel)",
   "language": "python",
   "name": "python3"
  },
  "language_info": {
   "codemirror_mode": {
    "name": "ipython",
    "version": 3
   },
   "file_extension": ".py",
   "mimetype": "text/x-python",
   "name": "python",
   "nbconvert_exporter": "python",
   "pygments_lexer": "ipython3",
   "version": "3.9.7"
  }
 },
 "nbformat": 4,
 "nbformat_minor": 5
}
