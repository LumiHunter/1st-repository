{
 "cells": [
  {
   "cell_type": "markdown",
   "id": "25e802a4",
   "metadata": {},
   "source": [
    "## OCR 모델 비교하기\n",
    "\n",
    "### 학습 목표\n",
    "- OCR의 과정을 이해합니다.\n",
    "- 문자인식 결과의 표현방식을 이해합니다.\n",
    "- 파이썬을 통해 OCR을 사용할 수 있습니다.\n",
    "\n",
    "### 루브릭 \n",
    "-  CSR matrix가 정상적으로 만들어졌다. : **사용자와 아이템 개수를 바탕으로 정확한 사이즈로 만들었다.**\n",
    "- MF 모델이 정상적으로 훈련되어 그럴듯한 추천이 이루어졌다. : **사용자와 아이템 벡터 내적수치가 의미있게 형성되었다.**\n",
    "- 비슷한 영화 찾기와 유저에게 추천하기의 과정이 정상적으로 진행되었다. : **MF모델이 예측한 유저 선호도 및 아이템간 유사도, 기여도가 의미있게 측정되었다.**"
   ]
  },
  {
   "cell_type": "markdown",
   "id": "6ef96ed6",
   "metadata": {},
   "source": [
    "## 목차\n",
    "### 1. 데이터 준비와 전처리\n",
    "#### 1) 데이터 로드\n",
    "#### 2) 데이터 분석\n",
    "#### 3) 내가 좋아하는 영화 추가 및 indexing\n",
    "### 2. 모델 구성\n",
    "#### 1) CSR matrix\n",
    "#### 2) Alternating Least Squares 모델\n",
    "### 3. 모델 평가\n",
    "#### 1) 좋아하는 영화와 비슷한 영화\n",
    "#### 2) 내가 좋아할 만한 영화\n",
    "---"
   ]
  }
 ],
 "metadata": {
  "kernelspec": {
   "display_name": "Python 3 (ipykernel)",
   "language": "python",
   "name": "python3"
  },
  "language_info": {
   "codemirror_mode": {
    "name": "ipython",
    "version": 3
   },
   "file_extension": ".py",
   "mimetype": "text/x-python",
   "name": "python",
   "nbconvert_exporter": "python",
   "pygments_lexer": "ipython3",
   "version": "3.9.7"
  }
 },
 "nbformat": 4,
 "nbformat_minor": 5
}
